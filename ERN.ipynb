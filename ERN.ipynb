{
  "nbformat": 4,
  "nbformat_minor": 0,
  "metadata": {
    "colab": {
      "name": "ERN",
      "provenance": [],
      "collapsed_sections": [],
      "mount_file_id": "1HStgqNitUHcr5_OmnGlx_p_SFTl4DZH8",
      "authorship_tag": "ABX9TyO12gbXtOioimjEv6IjvWA8",
      "include_colab_link": true
    },
    "kernelspec": {
      "name": "python3",
      "display_name": "Python 3"
    },
    "language_info": {
      "name": "python"
    },
    "accelerator": "GPU"
  },
  "cells": [
    {
      "cell_type": "markdown",
      "metadata": {
        "id": "view-in-github",
        "colab_type": "text"
      },
      "source": [
        "<a href=\"https://colab.research.google.com/github/kurogo-nguyen/ern/blob/main/ERN.ipynb\" target=\"_parent\"><img src=\"https://colab.research.google.com/assets/colab-badge.svg\" alt=\"Open In Colab\"/></a>"
      ]
    },
    {
      "cell_type": "code",
      "execution_count": 104,
      "metadata": {
        "id": "wqenka6uQ7hW",
        "outputId": "2953f9c5-9a57-4dc4-c16b-10e05f007ac1",
        "colab": {
          "base_uri": "https://localhost:8080/"
        }
      },
      "outputs": [
        {
          "output_type": "stream",
          "name": "stdout",
          "text": [
            "Requirement already satisfied: mne in /usr/local/lib/python3.7/dist-packages (0.24.1)\n",
            "Requirement already satisfied: numpy>=1.15.4 in /usr/local/lib/python3.7/dist-packages (from mne) (1.21.5)\n",
            "Requirement already satisfied: scipy>=1.1.0 in /usr/local/lib/python3.7/dist-packages (from mne) (1.4.1)\n"
          ]
        }
      ],
      "source": [
        "!pip install mne"
      ]
    },
    {
      "cell_type": "markdown",
      "source": [
        "# Import"
      ],
      "metadata": {
        "id": "nLQd41R2wtSG"
      }
    },
    {
      "cell_type": "code",
      "source": [
        "import mne\n",
        "\n",
        "from keras.models import Model\n",
        "from keras.layers import Dense, Activation, Permute, Dropout\n",
        "from keras.layers import Conv2D, MaxPooling2D, AveragePooling2D\n",
        "from keras.layers import SeparableConv2D, DepthwiseConv2D\n",
        "from keras.layers import BatchNormalization\n",
        "from keras.layers import Input, Flatten\n",
        "from keras.constraints import max_norm\n",
        "from keras.callbacks import ModelCheckpoint\n",
        "from tensorflow.keras import utils as np_utils\n",
        "\n",
        "from sklearn.model_selection import train_test_split\n",
        "from sklearn.metrics import classification_report"
      ],
      "metadata": {
        "id": "xta4kphDu50S"
      },
      "execution_count": 105,
      "outputs": []
    },
    {
      "cell_type": "markdown",
      "source": [
        "# Def func"
      ],
      "metadata": {
        "id": "E-8b3o8Lyqy-"
      }
    },
    {
      "cell_type": "code",
      "source": [
        "data_path = '/content/drive/MyDrive/ERN-Data/' #@param {type:\"string\"}"
      ],
      "metadata": {
        "id": "7LpKG95Li_Yc"
      },
      "execution_count": 106,
      "outputs": []
    },
    {
      "cell_type": "code",
      "source": [
        "def loadData(id):\n",
        "    id=str(id).zfill(3)\n",
        "    raw = mne.io.read_raw(f'{data_path}/sub-{id}/eeg/sub-{id}_task-ERN_eeg.set')\n",
        "    \n",
        "    return raw"
      ],
      "metadata": {
        "id": "gceB8BFfyqgt"
      },
      "execution_count": 107,
      "outputs": []
    },
    {
      "cell_type": "markdown",
      "source": [
        "# Load data"
      ],
      "metadata": {
        "id": "Htovm2FLyuaO"
      }
    },
    {
      "cell_type": "code",
      "source": [
        "raw = mne.io.read_raw(\"/content/drive/MyDrive/ERN-Data/sub-006/eeg/sub-006_task-ERN_eeg.set\")"
      ],
      "metadata": {
        "colab": {
          "base_uri": "https://localhost:8080/"
        },
        "id": "ddoxh5mzw7ef",
        "outputId": "6de64c9b-59c7-4ca7-9208-ef66ed36ca35"
      },
      "execution_count": 109,
      "outputs": [
        {
          "output_type": "stream",
          "name": "stdout",
          "text": [
            "Reading /content/drive/MyDrive/ERN-Data/sub-006/eeg/sub-006_task-ERN_eeg.fdt\n"
          ]
        }
      ]
    },
    {
      "cell_type": "code",
      "source": [
        "raw.info"
      ],
      "metadata": {
        "colab": {
          "base_uri": "https://localhost:8080/",
          "height": 254
        },
        "id": "Om7JUJKmxKi4",
        "outputId": "6b9d4771-740e-420a-de8e-8deb39a98f9a"
      },
      "execution_count": 110,
      "outputs": [
        {
          "output_type": "execute_result",
          "data": {
            "text/html": [
              "\n",
              "<table class=\"table table-hover table-striped table-sm table-responsive small\">\n",
              "    <tr>\n",
              "        <th>Measurement date</th>\n",
              "<td>Unknown</td>\n",
              "    </tr>\n",
              "    <tr>\n",
              "        <th>Experimenter</th>\n",
              "<td>Unknown</td>\n",
              "    </tr>\n",
              "        <th>Participant</th>\n",
              "<td>Unknown</td>\n",
              "    </tr>\n",
              "    <tr>\n",
              "        <th>Digitized points</th>\n",
              "        <td>Not available</td>\n",
              "    </tr>\n",
              "    <tr>\n",
              "        <th>Good channels</th>\n",
              "        <td>33 EEG</td>\n",
              "    </tr>\n",
              "    <tr>\n",
              "        <th>Bad channels</th>\n",
              "        <td>None</td>\n",
              "    </tr>\n",
              "    <tr>\n",
              "        <th>EOG channels</th>\n",
              "        <td>Not available</td>\n",
              "    </tr>\n",
              "    <tr>\n",
              "        <th>ECG channels</th>\n",
              "        <td>Not available</td>\n",
              "    <tr>\n",
              "        <th>Sampling frequency</th>\n",
              "        <td>1024.00 Hz</td>\n",
              "    </tr>\n",
              "    <tr>\n",
              "        <th>Highpass</th>\n",
              "        <td>0.00 Hz</td>\n",
              "    </tr>\n",
              "    <tr>\n",
              "        <th>Lowpass</th>\n",
              "        <td>512.00 Hz</td>\n",
              "    </tr>\n",
              "</table>\n"
            ],
            "text/plain": [
              "<Info | 7 non-empty values\n",
              " bads: []\n",
              " ch_names: FP1, F3, F7, FC3, C3, C5, P3, P7, P9, PO7, PO3, O1, Oz, Pz, CPz, ...\n",
              " chs: 33 EEG\n",
              " custom_ref_applied: False\n",
              " highpass: 0.0 Hz\n",
              " lowpass: 512.0 Hz\n",
              " meas_date: unspecified\n",
              " nchan: 33\n",
              " projs: []\n",
              " sfreq: 1024.0 Hz\n",
              ">"
            ]
          },
          "metadata": {},
          "execution_count": 110
        }
      ]
    },
    {
      "cell_type": "code",
      "source": [
        "all_events, all_event_id = mne.events_from_annotations(raw)"
      ],
      "metadata": {
        "colab": {
          "base_uri": "https://localhost:8080/"
        },
        "id": "fseBQv2t0L0h",
        "outputId": "090df40b-ceaf-418e-beef-3a930e8a6011"
      },
      "execution_count": 111,
      "outputs": [
        {
          "output_type": "stream",
          "name": "stdout",
          "text": [
            "Used Annotations descriptions: ['11', '111', '112', '12', '121', '122', '21', '211', '212', '22', '221', '222']\n"
          ]
        }
      ]
    },
    {
      "cell_type": "code",
      "source": [
        "\"\"\" response - flanker - target\n",
        "    1: left/compatible\n",
        "    2: right/incompatible\n",
        "\"\"\"\n",
        "\n",
        "correct_response = ['111', '121',          # respones: left  - target: left\n",
        "                    '212', '222',]         # respones: right - target: right\n",
        "\n",
        "incorrect_response = ['112', '122',         # respones: left  - target: right\n",
        "                     '211', '221',]         # respones: right - target: left"
      ],
      "metadata": {
        "id": "CFBzTSoGvdFy"
      },
      "execution_count": 112,
      "outputs": []
    },
    {
      "cell_type": "markdown",
      "source": [
        "# Pre-Process"
      ],
      "metadata": {
        "id": "1mp0Y3T9yxrK"
      }
    },
    {
      "cell_type": "code",
      "source": [
        "def getData(raw, pick_channels=['Fz'], metadata_tmin=-1, metadata_tmax=1, \n",
        "            epochs_tmin=-0.4, epochs_tmax=0.6, baseline=(-0.4, -0.2)):\n",
        "    \n",
        "    metadata, events, event_id = mne.epochs.make_metadata(events=all_events, \n",
        "                                                          event_id=all_event_id,\n",
        "                                                          tmin=metadata_tmin, \n",
        "                                                          tmax=metadata_tmax, \n",
        "                                                          sfreq=raw.info['sfreq'],\n",
        "                                                          row_events=row_events,)\n",
        "    \n",
        "    metadata['response_correct']=False\n",
        "    metadata.loc[metadata['event_name'].isin(correct_response), 'response_correct'] = True\n",
        "    reject = {'eeg': 250e-6}\n",
        "    epochs = mne.Epochs(raw=raw, tmin=epochs_tmin, tmax=epochs_tmax,\n",
        "                        baseline=baseline, \n",
        "                        events=events, event_id=event_id, metadata=metadata,\n",
        "                        reject=reject,\n",
        "                        preload=True)\n",
        "    \n",
        "    epochs.pick_channels(pick_channels)\n",
        "    X = epochs.get_data()\n",
        "    y = (epochs.metadata.response_correct*1).to_numpy()\n",
        "\n",
        "    return X,y"
      ],
      "metadata": {
        "id": "E-22klJyfbTo"
      },
      "execution_count": 135,
      "outputs": []
    },
    {
      "cell_type": "code",
      "source": [
        ""
      ],
      "metadata": {
        "id": "1bNeSW0qirjf"
      },
      "execution_count": 113,
      "outputs": []
    },
    {
      "cell_type": "code",
      "source": [
        "metadata_tmin, metadata_tmax = -1, 1\n",
        "row_events = correct_response + incorrect_response\n",
        "\n",
        "metadata, events, event_id = mne.epochs.make_metadata(\n",
        "    events=all_events, event_id=all_event_id,\n",
        "    tmin=metadata_tmin, tmax=metadata_tmax, sfreq=raw.info['sfreq'],\n",
        "    row_events=row_events,\n",
        ")\n",
        "metadata"
      ],
      "metadata": {
        "id": "vD5D-skWxMJE",
        "colab": {
          "base_uri": "https://localhost:8080/",
          "height": 424
        },
        "outputId": "f46a4350-7335-4f22-b207-6f816301c981"
      },
      "execution_count": 114,
      "outputs": [
        {
          "output_type": "execute_result",
          "data": {
            "text/html": [
              "\n",
              "  <div id=\"df-3ee2a8a1-81ea-4e7b-a512-e029dceed7c4\">\n",
              "    <div class=\"colab-df-container\">\n",
              "      <div>\n",
              "<style scoped>\n",
              "    .dataframe tbody tr th:only-of-type {\n",
              "        vertical-align: middle;\n",
              "    }\n",
              "\n",
              "    .dataframe tbody tr th {\n",
              "        vertical-align: top;\n",
              "    }\n",
              "\n",
              "    .dataframe thead th {\n",
              "        text-align: right;\n",
              "    }\n",
              "</style>\n",
              "<table border=\"1\" class=\"dataframe\">\n",
              "  <thead>\n",
              "    <tr style=\"text-align: right;\">\n",
              "      <th></th>\n",
              "      <th>event_name</th>\n",
              "      <th>11</th>\n",
              "      <th>111</th>\n",
              "      <th>112</th>\n",
              "      <th>12</th>\n",
              "      <th>121</th>\n",
              "      <th>122</th>\n",
              "      <th>21</th>\n",
              "      <th>211</th>\n",
              "      <th>212</th>\n",
              "      <th>22</th>\n",
              "      <th>221</th>\n",
              "      <th>222</th>\n",
              "    </tr>\n",
              "  </thead>\n",
              "  <tbody>\n",
              "    <tr>\n",
              "      <th>0</th>\n",
              "      <td>121</td>\n",
              "      <td>NaN</td>\n",
              "      <td>NaN</td>\n",
              "      <td>NaN</td>\n",
              "      <td>NaN</td>\n",
              "      <td>0.0</td>\n",
              "      <td>NaN</td>\n",
              "      <td>NaN</td>\n",
              "      <td>NaN</td>\n",
              "      <td>NaN</td>\n",
              "      <td>NaN</td>\n",
              "      <td>NaN</td>\n",
              "      <td>NaN</td>\n",
              "    </tr>\n",
              "    <tr>\n",
              "      <th>2</th>\n",
              "      <td>122</td>\n",
              "      <td>NaN</td>\n",
              "      <td>NaN</td>\n",
              "      <td>NaN</td>\n",
              "      <td>NaN</td>\n",
              "      <td>NaN</td>\n",
              "      <td>0.0</td>\n",
              "      <td>NaN</td>\n",
              "      <td>NaN</td>\n",
              "      <td>NaN</td>\n",
              "      <td>-0.370117</td>\n",
              "      <td>NaN</td>\n",
              "      <td>NaN</td>\n",
              "    </tr>\n",
              "    <tr>\n",
              "      <th>4</th>\n",
              "      <td>122</td>\n",
              "      <td>NaN</td>\n",
              "      <td>NaN</td>\n",
              "      <td>NaN</td>\n",
              "      <td>NaN</td>\n",
              "      <td>NaN</td>\n",
              "      <td>0.0</td>\n",
              "      <td>NaN</td>\n",
              "      <td>NaN</td>\n",
              "      <td>NaN</td>\n",
              "      <td>-0.267578</td>\n",
              "      <td>NaN</td>\n",
              "      <td>NaN</td>\n",
              "    </tr>\n",
              "    <tr>\n",
              "      <th>6</th>\n",
              "      <td>111</td>\n",
              "      <td>-0.326172</td>\n",
              "      <td>0.0</td>\n",
              "      <td>NaN</td>\n",
              "      <td>NaN</td>\n",
              "      <td>NaN</td>\n",
              "      <td>NaN</td>\n",
              "      <td>NaN</td>\n",
              "      <td>NaN</td>\n",
              "      <td>NaN</td>\n",
              "      <td>NaN</td>\n",
              "      <td>NaN</td>\n",
              "      <td>NaN</td>\n",
              "    </tr>\n",
              "    <tr>\n",
              "      <th>8</th>\n",
              "      <td>222</td>\n",
              "      <td>NaN</td>\n",
              "      <td>NaN</td>\n",
              "      <td>NaN</td>\n",
              "      <td>NaN</td>\n",
              "      <td>NaN</td>\n",
              "      <td>NaN</td>\n",
              "      <td>NaN</td>\n",
              "      <td>NaN</td>\n",
              "      <td>NaN</td>\n",
              "      <td>-0.297852</td>\n",
              "      <td>NaN</td>\n",
              "      <td>0.0</td>\n",
              "    </tr>\n",
              "    <tr>\n",
              "      <th>...</th>\n",
              "      <td>...</td>\n",
              "      <td>...</td>\n",
              "      <td>...</td>\n",
              "      <td>...</td>\n",
              "      <td>...</td>\n",
              "      <td>...</td>\n",
              "      <td>...</td>\n",
              "      <td>...</td>\n",
              "      <td>...</td>\n",
              "      <td>...</td>\n",
              "      <td>...</td>\n",
              "      <td>...</td>\n",
              "      <td>...</td>\n",
              "    </tr>\n",
              "    <tr>\n",
              "      <th>775</th>\n",
              "      <td>212</td>\n",
              "      <td>NaN</td>\n",
              "      <td>NaN</td>\n",
              "      <td>NaN</td>\n",
              "      <td>-0.304688</td>\n",
              "      <td>NaN</td>\n",
              "      <td>NaN</td>\n",
              "      <td>NaN</td>\n",
              "      <td>NaN</td>\n",
              "      <td>0.0</td>\n",
              "      <td>NaN</td>\n",
              "      <td>NaN</td>\n",
              "      <td>NaN</td>\n",
              "    </tr>\n",
              "    <tr>\n",
              "      <th>777</th>\n",
              "      <td>111</td>\n",
              "      <td>-0.258789</td>\n",
              "      <td>0.0</td>\n",
              "      <td>NaN</td>\n",
              "      <td>NaN</td>\n",
              "      <td>NaN</td>\n",
              "      <td>NaN</td>\n",
              "      <td>NaN</td>\n",
              "      <td>NaN</td>\n",
              "      <td>NaN</td>\n",
              "      <td>NaN</td>\n",
              "      <td>NaN</td>\n",
              "      <td>NaN</td>\n",
              "    </tr>\n",
              "    <tr>\n",
              "      <th>779</th>\n",
              "      <td>111</td>\n",
              "      <td>-0.278320</td>\n",
              "      <td>0.0</td>\n",
              "      <td>NaN</td>\n",
              "      <td>NaN</td>\n",
              "      <td>NaN</td>\n",
              "      <td>NaN</td>\n",
              "      <td>NaN</td>\n",
              "      <td>NaN</td>\n",
              "      <td>NaN</td>\n",
              "      <td>NaN</td>\n",
              "      <td>NaN</td>\n",
              "      <td>NaN</td>\n",
              "    </tr>\n",
              "    <tr>\n",
              "      <th>781</th>\n",
              "      <td>121</td>\n",
              "      <td>NaN</td>\n",
              "      <td>NaN</td>\n",
              "      <td>NaN</td>\n",
              "      <td>NaN</td>\n",
              "      <td>0.0</td>\n",
              "      <td>NaN</td>\n",
              "      <td>-0.360352</td>\n",
              "      <td>NaN</td>\n",
              "      <td>NaN</td>\n",
              "      <td>NaN</td>\n",
              "      <td>NaN</td>\n",
              "      <td>NaN</td>\n",
              "    </tr>\n",
              "    <tr>\n",
              "      <th>783</th>\n",
              "      <td>212</td>\n",
              "      <td>NaN</td>\n",
              "      <td>NaN</td>\n",
              "      <td>NaN</td>\n",
              "      <td>-0.301758</td>\n",
              "      <td>NaN</td>\n",
              "      <td>NaN</td>\n",
              "      <td>NaN</td>\n",
              "      <td>NaN</td>\n",
              "      <td>0.0</td>\n",
              "      <td>NaN</td>\n",
              "      <td>NaN</td>\n",
              "      <td>NaN</td>\n",
              "    </tr>\n",
              "  </tbody>\n",
              "</table>\n",
              "<p>388 rows × 13 columns</p>\n",
              "</div>\n",
              "      <button class=\"colab-df-convert\" onclick=\"convertToInteractive('df-3ee2a8a1-81ea-4e7b-a512-e029dceed7c4')\"\n",
              "              title=\"Convert this dataframe to an interactive table.\"\n",
              "              style=\"display:none;\">\n",
              "        \n",
              "  <svg xmlns=\"http://www.w3.org/2000/svg\" height=\"24px\"viewBox=\"0 0 24 24\"\n",
              "       width=\"24px\">\n",
              "    <path d=\"M0 0h24v24H0V0z\" fill=\"none\"/>\n",
              "    <path d=\"M18.56 5.44l.94 2.06.94-2.06 2.06-.94-2.06-.94-.94-2.06-.94 2.06-2.06.94zm-11 1L8.5 8.5l.94-2.06 2.06-.94-2.06-.94L8.5 2.5l-.94 2.06-2.06.94zm10 10l.94 2.06.94-2.06 2.06-.94-2.06-.94-.94-2.06-.94 2.06-2.06.94z\"/><path d=\"M17.41 7.96l-1.37-1.37c-.4-.4-.92-.59-1.43-.59-.52 0-1.04.2-1.43.59L10.3 9.45l-7.72 7.72c-.78.78-.78 2.05 0 2.83L4 21.41c.39.39.9.59 1.41.59.51 0 1.02-.2 1.41-.59l7.78-7.78 2.81-2.81c.8-.78.8-2.07 0-2.86zM5.41 20L4 18.59l7.72-7.72 1.47 1.35L5.41 20z\"/>\n",
              "  </svg>\n",
              "      </button>\n",
              "      \n",
              "  <style>\n",
              "    .colab-df-container {\n",
              "      display:flex;\n",
              "      flex-wrap:wrap;\n",
              "      gap: 12px;\n",
              "    }\n",
              "\n",
              "    .colab-df-convert {\n",
              "      background-color: #E8F0FE;\n",
              "      border: none;\n",
              "      border-radius: 50%;\n",
              "      cursor: pointer;\n",
              "      display: none;\n",
              "      fill: #1967D2;\n",
              "      height: 32px;\n",
              "      padding: 0 0 0 0;\n",
              "      width: 32px;\n",
              "    }\n",
              "\n",
              "    .colab-df-convert:hover {\n",
              "      background-color: #E2EBFA;\n",
              "      box-shadow: 0px 1px 2px rgba(60, 64, 67, 0.3), 0px 1px 3px 1px rgba(60, 64, 67, 0.15);\n",
              "      fill: #174EA6;\n",
              "    }\n",
              "\n",
              "    [theme=dark] .colab-df-convert {\n",
              "      background-color: #3B4455;\n",
              "      fill: #D2E3FC;\n",
              "    }\n",
              "\n",
              "    [theme=dark] .colab-df-convert:hover {\n",
              "      background-color: #434B5C;\n",
              "      box-shadow: 0px 1px 3px 1px rgba(0, 0, 0, 0.15);\n",
              "      filter: drop-shadow(0px 1px 2px rgba(0, 0, 0, 0.3));\n",
              "      fill: #FFFFFF;\n",
              "    }\n",
              "  </style>\n",
              "\n",
              "      <script>\n",
              "        const buttonEl =\n",
              "          document.querySelector('#df-3ee2a8a1-81ea-4e7b-a512-e029dceed7c4 button.colab-df-convert');\n",
              "        buttonEl.style.display =\n",
              "          google.colab.kernel.accessAllowed ? 'block' : 'none';\n",
              "\n",
              "        async function convertToInteractive(key) {\n",
              "          const element = document.querySelector('#df-3ee2a8a1-81ea-4e7b-a512-e029dceed7c4');\n",
              "          const dataTable =\n",
              "            await google.colab.kernel.invokeFunction('convertToInteractive',\n",
              "                                                     [key], {});\n",
              "          if (!dataTable) return;\n",
              "\n",
              "          const docLinkHtml = 'Like what you see? Visit the ' +\n",
              "            '<a target=\"_blank\" href=https://colab.research.google.com/notebooks/data_table.ipynb>data table notebook</a>'\n",
              "            + ' to learn more about interactive tables.';\n",
              "          element.innerHTML = '';\n",
              "          dataTable['output_type'] = 'display_data';\n",
              "          await google.colab.output.renderOutput(dataTable, element);\n",
              "          const docLink = document.createElement('div');\n",
              "          docLink.innerHTML = docLinkHtml;\n",
              "          element.appendChild(docLink);\n",
              "        }\n",
              "      </script>\n",
              "    </div>\n",
              "  </div>\n",
              "  "
            ],
            "text/plain": [
              "    event_name        11  111  112        12  ...  211  212        22  221  222\n",
              "0          121       NaN  NaN  NaN       NaN  ...  NaN  NaN       NaN  NaN  NaN\n",
              "2          122       NaN  NaN  NaN       NaN  ...  NaN  NaN -0.370117  NaN  NaN\n",
              "4          122       NaN  NaN  NaN       NaN  ...  NaN  NaN -0.267578  NaN  NaN\n",
              "6          111 -0.326172  0.0  NaN       NaN  ...  NaN  NaN       NaN  NaN  NaN\n",
              "8          222       NaN  NaN  NaN       NaN  ...  NaN  NaN -0.297852  NaN  0.0\n",
              "..         ...       ...  ...  ...       ...  ...  ...  ...       ...  ...  ...\n",
              "775        212       NaN  NaN  NaN -0.304688  ...  NaN  0.0       NaN  NaN  NaN\n",
              "777        111 -0.258789  0.0  NaN       NaN  ...  NaN  NaN       NaN  NaN  NaN\n",
              "779        111 -0.278320  0.0  NaN       NaN  ...  NaN  NaN       NaN  NaN  NaN\n",
              "781        121       NaN  NaN  NaN       NaN  ...  NaN  NaN       NaN  NaN  NaN\n",
              "783        212       NaN  NaN  NaN -0.301758  ...  NaN  0.0       NaN  NaN  NaN\n",
              "\n",
              "[388 rows x 13 columns]"
            ]
          },
          "metadata": {},
          "execution_count": 114
        }
      ]
    },
    {
      "cell_type": "code",
      "source": [
        "metadata['response_correct']=False\n",
        "metadata.loc[metadata['event_name'].isin(correct_response), 'response_correct'] = True\n",
        "metadata"
      ],
      "metadata": {
        "colab": {
          "base_uri": "https://localhost:8080/",
          "height": 424
        },
        "id": "RowYwTmvWtJF",
        "outputId": "c1be02d7-78a5-4e1e-e17e-e6cc9fe64afb"
      },
      "execution_count": 115,
      "outputs": [
        {
          "output_type": "execute_result",
          "data": {
            "text/html": [
              "\n",
              "  <div id=\"df-29738626-42aa-4d55-9a1a-32db234a2335\">\n",
              "    <div class=\"colab-df-container\">\n",
              "      <div>\n",
              "<style scoped>\n",
              "    .dataframe tbody tr th:only-of-type {\n",
              "        vertical-align: middle;\n",
              "    }\n",
              "\n",
              "    .dataframe tbody tr th {\n",
              "        vertical-align: top;\n",
              "    }\n",
              "\n",
              "    .dataframe thead th {\n",
              "        text-align: right;\n",
              "    }\n",
              "</style>\n",
              "<table border=\"1\" class=\"dataframe\">\n",
              "  <thead>\n",
              "    <tr style=\"text-align: right;\">\n",
              "      <th></th>\n",
              "      <th>event_name</th>\n",
              "      <th>11</th>\n",
              "      <th>111</th>\n",
              "      <th>112</th>\n",
              "      <th>12</th>\n",
              "      <th>121</th>\n",
              "      <th>122</th>\n",
              "      <th>21</th>\n",
              "      <th>211</th>\n",
              "      <th>212</th>\n",
              "      <th>22</th>\n",
              "      <th>221</th>\n",
              "      <th>222</th>\n",
              "      <th>response_correct</th>\n",
              "    </tr>\n",
              "  </thead>\n",
              "  <tbody>\n",
              "    <tr>\n",
              "      <th>0</th>\n",
              "      <td>121</td>\n",
              "      <td>NaN</td>\n",
              "      <td>NaN</td>\n",
              "      <td>NaN</td>\n",
              "      <td>NaN</td>\n",
              "      <td>0.0</td>\n",
              "      <td>NaN</td>\n",
              "      <td>NaN</td>\n",
              "      <td>NaN</td>\n",
              "      <td>NaN</td>\n",
              "      <td>NaN</td>\n",
              "      <td>NaN</td>\n",
              "      <td>NaN</td>\n",
              "      <td>True</td>\n",
              "    </tr>\n",
              "    <tr>\n",
              "      <th>2</th>\n",
              "      <td>122</td>\n",
              "      <td>NaN</td>\n",
              "      <td>NaN</td>\n",
              "      <td>NaN</td>\n",
              "      <td>NaN</td>\n",
              "      <td>NaN</td>\n",
              "      <td>0.0</td>\n",
              "      <td>NaN</td>\n",
              "      <td>NaN</td>\n",
              "      <td>NaN</td>\n",
              "      <td>-0.370117</td>\n",
              "      <td>NaN</td>\n",
              "      <td>NaN</td>\n",
              "      <td>False</td>\n",
              "    </tr>\n",
              "    <tr>\n",
              "      <th>4</th>\n",
              "      <td>122</td>\n",
              "      <td>NaN</td>\n",
              "      <td>NaN</td>\n",
              "      <td>NaN</td>\n",
              "      <td>NaN</td>\n",
              "      <td>NaN</td>\n",
              "      <td>0.0</td>\n",
              "      <td>NaN</td>\n",
              "      <td>NaN</td>\n",
              "      <td>NaN</td>\n",
              "      <td>-0.267578</td>\n",
              "      <td>NaN</td>\n",
              "      <td>NaN</td>\n",
              "      <td>False</td>\n",
              "    </tr>\n",
              "    <tr>\n",
              "      <th>6</th>\n",
              "      <td>111</td>\n",
              "      <td>-0.326172</td>\n",
              "      <td>0.0</td>\n",
              "      <td>NaN</td>\n",
              "      <td>NaN</td>\n",
              "      <td>NaN</td>\n",
              "      <td>NaN</td>\n",
              "      <td>NaN</td>\n",
              "      <td>NaN</td>\n",
              "      <td>NaN</td>\n",
              "      <td>NaN</td>\n",
              "      <td>NaN</td>\n",
              "      <td>NaN</td>\n",
              "      <td>True</td>\n",
              "    </tr>\n",
              "    <tr>\n",
              "      <th>8</th>\n",
              "      <td>222</td>\n",
              "      <td>NaN</td>\n",
              "      <td>NaN</td>\n",
              "      <td>NaN</td>\n",
              "      <td>NaN</td>\n",
              "      <td>NaN</td>\n",
              "      <td>NaN</td>\n",
              "      <td>NaN</td>\n",
              "      <td>NaN</td>\n",
              "      <td>NaN</td>\n",
              "      <td>-0.297852</td>\n",
              "      <td>NaN</td>\n",
              "      <td>0.0</td>\n",
              "      <td>True</td>\n",
              "    </tr>\n",
              "    <tr>\n",
              "      <th>...</th>\n",
              "      <td>...</td>\n",
              "      <td>...</td>\n",
              "      <td>...</td>\n",
              "      <td>...</td>\n",
              "      <td>...</td>\n",
              "      <td>...</td>\n",
              "      <td>...</td>\n",
              "      <td>...</td>\n",
              "      <td>...</td>\n",
              "      <td>...</td>\n",
              "      <td>...</td>\n",
              "      <td>...</td>\n",
              "      <td>...</td>\n",
              "      <td>...</td>\n",
              "    </tr>\n",
              "    <tr>\n",
              "      <th>775</th>\n",
              "      <td>212</td>\n",
              "      <td>NaN</td>\n",
              "      <td>NaN</td>\n",
              "      <td>NaN</td>\n",
              "      <td>-0.304688</td>\n",
              "      <td>NaN</td>\n",
              "      <td>NaN</td>\n",
              "      <td>NaN</td>\n",
              "      <td>NaN</td>\n",
              "      <td>0.0</td>\n",
              "      <td>NaN</td>\n",
              "      <td>NaN</td>\n",
              "      <td>NaN</td>\n",
              "      <td>True</td>\n",
              "    </tr>\n",
              "    <tr>\n",
              "      <th>777</th>\n",
              "      <td>111</td>\n",
              "      <td>-0.258789</td>\n",
              "      <td>0.0</td>\n",
              "      <td>NaN</td>\n",
              "      <td>NaN</td>\n",
              "      <td>NaN</td>\n",
              "      <td>NaN</td>\n",
              "      <td>NaN</td>\n",
              "      <td>NaN</td>\n",
              "      <td>NaN</td>\n",
              "      <td>NaN</td>\n",
              "      <td>NaN</td>\n",
              "      <td>NaN</td>\n",
              "      <td>True</td>\n",
              "    </tr>\n",
              "    <tr>\n",
              "      <th>779</th>\n",
              "      <td>111</td>\n",
              "      <td>-0.278320</td>\n",
              "      <td>0.0</td>\n",
              "      <td>NaN</td>\n",
              "      <td>NaN</td>\n",
              "      <td>NaN</td>\n",
              "      <td>NaN</td>\n",
              "      <td>NaN</td>\n",
              "      <td>NaN</td>\n",
              "      <td>NaN</td>\n",
              "      <td>NaN</td>\n",
              "      <td>NaN</td>\n",
              "      <td>NaN</td>\n",
              "      <td>True</td>\n",
              "    </tr>\n",
              "    <tr>\n",
              "      <th>781</th>\n",
              "      <td>121</td>\n",
              "      <td>NaN</td>\n",
              "      <td>NaN</td>\n",
              "      <td>NaN</td>\n",
              "      <td>NaN</td>\n",
              "      <td>0.0</td>\n",
              "      <td>NaN</td>\n",
              "      <td>-0.360352</td>\n",
              "      <td>NaN</td>\n",
              "      <td>NaN</td>\n",
              "      <td>NaN</td>\n",
              "      <td>NaN</td>\n",
              "      <td>NaN</td>\n",
              "      <td>True</td>\n",
              "    </tr>\n",
              "    <tr>\n",
              "      <th>783</th>\n",
              "      <td>212</td>\n",
              "      <td>NaN</td>\n",
              "      <td>NaN</td>\n",
              "      <td>NaN</td>\n",
              "      <td>-0.301758</td>\n",
              "      <td>NaN</td>\n",
              "      <td>NaN</td>\n",
              "      <td>NaN</td>\n",
              "      <td>NaN</td>\n",
              "      <td>0.0</td>\n",
              "      <td>NaN</td>\n",
              "      <td>NaN</td>\n",
              "      <td>NaN</td>\n",
              "      <td>True</td>\n",
              "    </tr>\n",
              "  </tbody>\n",
              "</table>\n",
              "<p>388 rows × 14 columns</p>\n",
              "</div>\n",
              "      <button class=\"colab-df-convert\" onclick=\"convertToInteractive('df-29738626-42aa-4d55-9a1a-32db234a2335')\"\n",
              "              title=\"Convert this dataframe to an interactive table.\"\n",
              "              style=\"display:none;\">\n",
              "        \n",
              "  <svg xmlns=\"http://www.w3.org/2000/svg\" height=\"24px\"viewBox=\"0 0 24 24\"\n",
              "       width=\"24px\">\n",
              "    <path d=\"M0 0h24v24H0V0z\" fill=\"none\"/>\n",
              "    <path d=\"M18.56 5.44l.94 2.06.94-2.06 2.06-.94-2.06-.94-.94-2.06-.94 2.06-2.06.94zm-11 1L8.5 8.5l.94-2.06 2.06-.94-2.06-.94L8.5 2.5l-.94 2.06-2.06.94zm10 10l.94 2.06.94-2.06 2.06-.94-2.06-.94-.94-2.06-.94 2.06-2.06.94z\"/><path d=\"M17.41 7.96l-1.37-1.37c-.4-.4-.92-.59-1.43-.59-.52 0-1.04.2-1.43.59L10.3 9.45l-7.72 7.72c-.78.78-.78 2.05 0 2.83L4 21.41c.39.39.9.59 1.41.59.51 0 1.02-.2 1.41-.59l7.78-7.78 2.81-2.81c.8-.78.8-2.07 0-2.86zM5.41 20L4 18.59l7.72-7.72 1.47 1.35L5.41 20z\"/>\n",
              "  </svg>\n",
              "      </button>\n",
              "      \n",
              "  <style>\n",
              "    .colab-df-container {\n",
              "      display:flex;\n",
              "      flex-wrap:wrap;\n",
              "      gap: 12px;\n",
              "    }\n",
              "\n",
              "    .colab-df-convert {\n",
              "      background-color: #E8F0FE;\n",
              "      border: none;\n",
              "      border-radius: 50%;\n",
              "      cursor: pointer;\n",
              "      display: none;\n",
              "      fill: #1967D2;\n",
              "      height: 32px;\n",
              "      padding: 0 0 0 0;\n",
              "      width: 32px;\n",
              "    }\n",
              "\n",
              "    .colab-df-convert:hover {\n",
              "      background-color: #E2EBFA;\n",
              "      box-shadow: 0px 1px 2px rgba(60, 64, 67, 0.3), 0px 1px 3px 1px rgba(60, 64, 67, 0.15);\n",
              "      fill: #174EA6;\n",
              "    }\n",
              "\n",
              "    [theme=dark] .colab-df-convert {\n",
              "      background-color: #3B4455;\n",
              "      fill: #D2E3FC;\n",
              "    }\n",
              "\n",
              "    [theme=dark] .colab-df-convert:hover {\n",
              "      background-color: #434B5C;\n",
              "      box-shadow: 0px 1px 3px 1px rgba(0, 0, 0, 0.15);\n",
              "      filter: drop-shadow(0px 1px 2px rgba(0, 0, 0, 0.3));\n",
              "      fill: #FFFFFF;\n",
              "    }\n",
              "  </style>\n",
              "\n",
              "      <script>\n",
              "        const buttonEl =\n",
              "          document.querySelector('#df-29738626-42aa-4d55-9a1a-32db234a2335 button.colab-df-convert');\n",
              "        buttonEl.style.display =\n",
              "          google.colab.kernel.accessAllowed ? 'block' : 'none';\n",
              "\n",
              "        async function convertToInteractive(key) {\n",
              "          const element = document.querySelector('#df-29738626-42aa-4d55-9a1a-32db234a2335');\n",
              "          const dataTable =\n",
              "            await google.colab.kernel.invokeFunction('convertToInteractive',\n",
              "                                                     [key], {});\n",
              "          if (!dataTable) return;\n",
              "\n",
              "          const docLinkHtml = 'Like what you see? Visit the ' +\n",
              "            '<a target=\"_blank\" href=https://colab.research.google.com/notebooks/data_table.ipynb>data table notebook</a>'\n",
              "            + ' to learn more about interactive tables.';\n",
              "          element.innerHTML = '';\n",
              "          dataTable['output_type'] = 'display_data';\n",
              "          await google.colab.output.renderOutput(dataTable, element);\n",
              "          const docLink = document.createElement('div');\n",
              "          docLink.innerHTML = docLinkHtml;\n",
              "          element.appendChild(docLink);\n",
              "        }\n",
              "      </script>\n",
              "    </div>\n",
              "  </div>\n",
              "  "
            ],
            "text/plain": [
              "    event_name        11  111  112  ...        22  221  222  response_correct\n",
              "0          121       NaN  NaN  NaN  ...       NaN  NaN  NaN              True\n",
              "2          122       NaN  NaN  NaN  ... -0.370117  NaN  NaN             False\n",
              "4          122       NaN  NaN  NaN  ... -0.267578  NaN  NaN             False\n",
              "6          111 -0.326172  0.0  NaN  ...       NaN  NaN  NaN              True\n",
              "8          222       NaN  NaN  NaN  ... -0.297852  NaN  0.0              True\n",
              "..         ...       ...  ...  ...  ...       ...  ...  ...               ...\n",
              "775        212       NaN  NaN  NaN  ...       NaN  NaN  NaN              True\n",
              "777        111 -0.258789  0.0  NaN  ...       NaN  NaN  NaN              True\n",
              "779        111 -0.278320  0.0  NaN  ...       NaN  NaN  NaN              True\n",
              "781        121       NaN  NaN  NaN  ...       NaN  NaN  NaN              True\n",
              "783        212       NaN  NaN  NaN  ...       NaN  NaN  NaN              True\n",
              "\n",
              "[388 rows x 14 columns]"
            ]
          },
          "metadata": {},
          "execution_count": 115
        }
      ]
    },
    {
      "cell_type": "code",
      "source": [
        "epochs_tmin, epochs_tmax = -0.4, 0.6\n",
        "baseline = (-0.4, -0.2)\n",
        "# reject = {'eeg': 250e-6}\n",
        "epochs = mne.Epochs(raw=raw, tmin=epochs_tmin, tmax=epochs_tmax,\n",
        "                    baseline=baseline, \n",
        "                    # reject=reject,\n",
        "                    events=events, event_id=event_id, metadata=metadata,\n",
        "                    preload=True)"
      ],
      "metadata": {
        "colab": {
          "base_uri": "https://localhost:8080/"
        },
        "id": "K0YV9Zpu__Ri",
        "outputId": "026084a0-3732-4e26-bb1b-be067aa60627"
      },
      "execution_count": 116,
      "outputs": [
        {
          "output_type": "stream",
          "name": "stdout",
          "text": [
            "Adding metadata with 14 columns\n",
            "Replacing existing metadata with 14 columns\n",
            "388 matching events found\n",
            "Applying baseline correction (mode: mean)\n",
            "0 projection items activated\n",
            "Loading data for 388 events and 1025 original time points ...\n",
            "0 bad epochs dropped\n"
          ]
        }
      ]
    },
    {
      "cell_type": "code",
      "source": [
        "channels = ['FP1', 'F3', 'F7', 'FC3', 'C3', 'C5', 'P3', 'P7', 'P9', 'PO7',\n",
        "            'PO3', 'O1', 'Oz', 'Pz', 'CPz', 'FP2', 'Fz', 'F4', 'F8', 'FC4',\n",
        "            'FCz', 'Cz', 'C4', 'C6', 'P4', 'P8', 'P10', 'PO8', 'PO4', 'O2']"
      ],
      "metadata": {
        "id": "KbgD__FpAl-_"
      },
      "execution_count": 117,
      "outputs": []
    },
    {
      "cell_type": "code",
      "source": [
        "channels3 = ['F3', 'F7', 'C3', 'P3', 'P7', 'O1', 'Oz', 'Pz', 'Fz', 'F4', 'F8', \n",
        "             'Cz', 'C4', 'P4', 'P8', 'O2']"
      ],
      "metadata": {
        "id": "MJKZTFuVuOGI"
      },
      "execution_count": 118,
      "outputs": []
    },
    {
      "cell_type": "code",
      "source": [
        "epochs.pick_channels(channels3)\n",
        "X = epochs.get_data()"
      ],
      "metadata": {
        "id": "lXAqvoDwAjiV"
      },
      "execution_count": 119,
      "outputs": []
    },
    {
      "cell_type": "code",
      "source": [
        "y = (epochs.metadata.response_correct*1).to_numpy()\n",
        "y"
      ],
      "metadata": {
        "colab": {
          "base_uri": "https://localhost:8080/"
        },
        "id": "Zn72rasXAvIO",
        "outputId": "17698673-72fe-40e0-bdc0-191762e251a5"
      },
      "execution_count": 120,
      "outputs": [
        {
          "output_type": "execute_result",
          "data": {
            "text/plain": [
              "array([1, 0, 0, 1, 1, 1, 0, 1, 1, 1, 1, 0, 1, 0, 1, 0, 1, 1, 1, 1, 1, 1,\n",
              "       0, 1, 1, 1, 0, 1, 1, 0, 1, 0, 1, 1, 1, 1, 1, 0, 0, 0, 1, 1, 1, 1,\n",
              "       0, 1, 0, 1, 1, 1, 1, 1, 0, 1, 1, 1, 1, 1, 1, 1, 1, 0, 1, 0, 0, 1,\n",
              "       1, 1, 1, 0, 0, 1, 0, 1, 1, 0, 0, 0, 0, 1, 0, 1, 1, 0, 0, 1, 1, 0,\n",
              "       1, 1, 1, 1, 0, 1, 0, 1, 0, 0, 1, 0, 1, 1, 0, 0, 0, 0, 1, 0, 1, 1,\n",
              "       1, 1, 0, 1, 1, 1, 0, 1, 1, 1, 0, 0, 0, 0, 0, 1, 1, 1, 0, 0, 1, 1,\n",
              "       1, 0, 0, 1, 0, 1, 0, 0, 1, 0, 0, 1, 0, 1, 1, 1, 1, 1, 1, 1, 0, 0,\n",
              "       1, 0, 1, 0, 1, 1, 0, 1, 0, 0, 1, 0, 1, 0, 0, 1, 0, 0, 0, 1, 1, 1,\n",
              "       0, 1, 0, 0, 1, 1, 0, 1, 0, 1, 0, 0, 0, 0, 1, 0, 1, 0, 0, 1, 1, 0,\n",
              "       1, 1, 1, 1, 1, 1, 1, 0, 1, 1, 1, 0, 1, 0, 0, 0, 0, 1, 0, 1, 0, 0,\n",
              "       1, 1, 1, 0, 0, 1, 1, 0, 0, 1, 0, 0, 1, 1, 1, 1, 1, 1, 1, 1, 1, 1,\n",
              "       1, 0, 0, 0, 1, 1, 0, 0, 1, 0, 1, 1, 0, 1, 1, 1, 1, 0, 1, 1, 1, 0,\n",
              "       1, 1, 1, 1, 1, 1, 1, 1, 1, 0, 1, 0, 1, 1, 1, 0, 0, 1, 0, 0, 1, 0,\n",
              "       1, 1, 0, 0, 1, 0, 0, 1, 0, 1, 0, 0, 0, 0, 0, 1, 0, 1, 1, 0, 1, 1,\n",
              "       1, 0, 1, 0, 0, 1, 1, 1, 1, 1, 1, 1, 1, 0, 0, 1, 1, 1, 1, 1, 1, 0,\n",
              "       1, 1, 1, 0, 1, 1, 1, 1, 0, 1, 0, 1, 1, 1, 1, 1, 1, 1, 1, 1, 1, 1,\n",
              "       1, 1, 1, 1, 1, 1, 1, 1, 1, 1, 1, 1, 1, 1, 1, 1, 1, 0, 1, 1, 0, 1,\n",
              "       1, 1, 1, 1, 0, 1, 1, 1, 1, 1, 1, 1, 1, 1])"
            ]
          },
          "metadata": {},
          "execution_count": 120
        }
      ]
    },
    {
      "cell_type": "code",
      "source": [
        "X_train, X_test, y_train, y_test = train_test_split(X,y)\n",
        "X_train, X_val, y_train, y_val = train_test_split(X_train, y_train, test_size=0.2)"
      ],
      "metadata": {
        "id": "-q-zfqpEA6zZ"
      },
      "execution_count": 121,
      "outputs": []
    },
    {
      "cell_type": "code",
      "source": [
        "X_train.shape"
      ],
      "metadata": {
        "colab": {
          "base_uri": "https://localhost:8080/"
        },
        "id": "WBjIE6YJBQQL",
        "outputId": "1e479093-5f5b-421c-d494-7f83bc730b9e"
      },
      "execution_count": 122,
      "outputs": [
        {
          "output_type": "execute_result",
          "data": {
            "text/plain": [
              "(232, 16, 1025)"
            ]
          },
          "metadata": {},
          "execution_count": 122
        }
      ]
    },
    {
      "cell_type": "code",
      "source": [
        "kernels, chans, samples = 1, X_train.shape[1], X_train.shape[-1]"
      ],
      "metadata": {
        "id": "QAm53iq1BT0p"
      },
      "execution_count": 123,
      "outputs": []
    },
    {
      "cell_type": "code",
      "source": [
        "X_train      = X_train.reshape(X_train.shape[0], chans, samples, kernels)\n",
        "X_val        = X_val.reshape(X_val.shape[0], chans, samples, kernels)\n",
        "X_test       = X_test.reshape(X_test.shape[0], chans, samples, kernels)"
      ],
      "metadata": {
        "id": "YsJZQrSeBN9O"
      },
      "execution_count": 124,
      "outputs": []
    },
    {
      "cell_type": "code",
      "source": [
        "y_train      = np_utils.to_categorical(y_train)\n",
        "y_val        = np_utils.to_categorical(y_val)\n",
        "y_test       = np_utils.to_categorical(y_test)"
      ],
      "metadata": {
        "id": "dl_tExlpHVsu"
      },
      "execution_count": 125,
      "outputs": []
    },
    {
      "cell_type": "markdown",
      "source": [
        "# Model"
      ],
      "metadata": {
        "id": "HO-5Z7aWy0TD"
      }
    },
    {
      "cell_type": "code",
      "source": [
        "def EEGNet(nb_classes, Chans = 64, Samples = 128, \n",
        "             dropoutRate = 0.5, kernLength = 64, F1 = 8, \n",
        "             D = 2, F2 = 16, norm_rate = 0.25, dropoutType = Dropout):\n",
        "    \n",
        "    input1   = Input(shape = (Chans, Samples, 1))\n",
        "\n",
        "    ##################################################################\n",
        "    block1       = Conv2D(F1, (1, kernLength), padding = 'same',\n",
        "                                   input_shape = (Chans, Samples, 1),\n",
        "                                   use_bias = False)(input1)\n",
        "    block1       = BatchNormalization()(block1)\n",
        "    block1       = DepthwiseConv2D((Chans, 1), use_bias = False, \n",
        "                                   depth_multiplier = D,\n",
        "                                   depthwise_constraint = max_norm(1.))(block1)\n",
        "    block1       = BatchNormalization()(block1)\n",
        "    block1       = Activation('elu')(block1)\n",
        "    block1       = AveragePooling2D((1, 4))(block1)\n",
        "    block1       = dropoutType(dropoutRate)(block1)\n",
        "    \n",
        "    block2       = SeparableConv2D(F2, (1, 16),\n",
        "                                   use_bias = False, padding = 'same')(block1)\n",
        "    block2       = BatchNormalization()(block2)\n",
        "    block2       = Activation('elu')(block2)\n",
        "    block2       = AveragePooling2D((1, 8))(block2)\n",
        "    block2       = dropoutType(dropoutRate)(block2)\n",
        "        \n",
        "    flatten      = Flatten(name = 'flatten')(block2)\n",
        "    \n",
        "    dense        = Dense(nb_classes, name = 'dense', \n",
        "                         kernel_constraint = max_norm(norm_rate))(flatten)\n",
        "    softmax      = Activation('softmax', name = 'softmax')(dense)\n",
        "    \n",
        "    return Model(inputs=input1, outputs=softmax)"
      ],
      "metadata": {
        "id": "I0CJ6V3Xy2Nt"
      },
      "execution_count": 126,
      "outputs": []
    },
    {
      "cell_type": "markdown",
      "source": [
        "# Train"
      ],
      "metadata": {
        "id": "XPUbfj6ty2rM"
      }
    },
    {
      "cell_type": "code",
      "source": [
        "model = EEGNet(nb_classes=2, Chans = chans, Samples = samples,dropoutRate = 0.5, \n",
        "               kernLength = 32, F1 = 8, D = 2, F2 = 16)\n",
        "model.compile(loss='binary_crossentropy', \n",
        "              optimizer='adam', \n",
        "              metrics = ['accuracy'])\n",
        "\n",
        "checkpointer = ModelCheckpoint(filepath='./tmp/checkpoint.h5', verbose=1,\n",
        "                               save_best_only=True)\n",
        "\n",
        "class_weights = {0:1, 1:1}\n",
        "fittedModel = model.fit(X_train, y_train, \n",
        "#                         batch_size = 128, \n",
        "                        epochs = 200, \n",
        "                        verbose = 2,\n",
        "                        validation_data=(X_val, y_val),\n",
        "                        callbacks=[checkpointer],\n",
        "                        class_weight = class_weights)"
      ],
      "metadata": {
        "id": "BOFqF7qXy8nt",
        "colab": {
          "base_uri": "https://localhost:8080/"
        },
        "outputId": "107deeb8-776b-4f90-ade1-2e63732e629d"
      },
      "execution_count": 127,
      "outputs": [
        {
          "output_type": "stream",
          "name": "stdout",
          "text": [
            "Epoch 1/200\n",
            "\n",
            "Epoch 1: val_loss improved from inf to 0.69056, saving model to ./tmp/checkpoint.h5\n",
            "8/8 - 4s - loss: 0.6931 - accuracy: 0.5776 - val_loss: 0.6906 - val_accuracy: 0.7288 - 4s/epoch - 493ms/step\n",
            "Epoch 2/200\n",
            "\n",
            "Epoch 2: val_loss improved from 0.69056 to 0.68730, saving model to ./tmp/checkpoint.h5\n",
            "8/8 - 3s - loss: 0.6891 - accuracy: 0.6207 - val_loss: 0.6873 - val_accuracy: 0.7288 - 3s/epoch - 314ms/step\n",
            "Epoch 3/200\n",
            "\n",
            "Epoch 3: val_loss improved from 0.68730 to 0.68387, saving model to ./tmp/checkpoint.h5\n",
            "8/8 - 3s - loss: 0.6847 - accuracy: 0.6336 - val_loss: 0.6839 - val_accuracy: 0.7288 - 3s/epoch - 318ms/step\n",
            "Epoch 4/200\n",
            "\n",
            "Epoch 4: val_loss improved from 0.68387 to 0.67843, saving model to ./tmp/checkpoint.h5\n",
            "8/8 - 3s - loss: 0.6761 - accuracy: 0.6509 - val_loss: 0.6784 - val_accuracy: 0.7288 - 3s/epoch - 325ms/step\n",
            "Epoch 5/200\n",
            "\n",
            "Epoch 5: val_loss improved from 0.67843 to 0.67388, saving model to ./tmp/checkpoint.h5\n",
            "8/8 - 3s - loss: 0.6668 - accuracy: 0.6940 - val_loss: 0.6739 - val_accuracy: 0.7288 - 3s/epoch - 314ms/step\n",
            "Epoch 6/200\n",
            "\n",
            "Epoch 6: val_loss improved from 0.67388 to 0.67160, saving model to ./tmp/checkpoint.h5\n",
            "8/8 - 2s - loss: 0.6476 - accuracy: 0.7155 - val_loss: 0.6716 - val_accuracy: 0.7288 - 2s/epoch - 310ms/step\n",
            "Epoch 7/200\n",
            "\n",
            "Epoch 7: val_loss improved from 0.67160 to 0.66558, saving model to ./tmp/checkpoint.h5\n",
            "8/8 - 2s - loss: 0.6244 - accuracy: 0.7241 - val_loss: 0.6656 - val_accuracy: 0.7288 - 2s/epoch - 312ms/step\n",
            "Epoch 8/200\n",
            "\n",
            "Epoch 8: val_loss improved from 0.66558 to 0.65798, saving model to ./tmp/checkpoint.h5\n",
            "8/8 - 3s - loss: 0.6135 - accuracy: 0.7198 - val_loss: 0.6580 - val_accuracy: 0.7288 - 3s/epoch - 318ms/step\n",
            "Epoch 9/200\n",
            "\n",
            "Epoch 9: val_loss improved from 0.65798 to 0.65430, saving model to ./tmp/checkpoint.h5\n",
            "8/8 - 3s - loss: 0.5984 - accuracy: 0.7328 - val_loss: 0.6543 - val_accuracy: 0.7288 - 3s/epoch - 313ms/step\n",
            "Epoch 10/200\n",
            "\n",
            "Epoch 10: val_loss improved from 0.65430 to 0.65106, saving model to ./tmp/checkpoint.h5\n",
            "8/8 - 3s - loss: 0.5974 - accuracy: 0.7198 - val_loss: 0.6511 - val_accuracy: 0.7288 - 3s/epoch - 318ms/step\n",
            "Epoch 11/200\n",
            "\n",
            "Epoch 11: val_loss improved from 0.65106 to 0.65074, saving model to ./tmp/checkpoint.h5\n",
            "8/8 - 3s - loss: 0.5834 - accuracy: 0.7155 - val_loss: 0.6507 - val_accuracy: 0.7288 - 3s/epoch - 315ms/step\n",
            "Epoch 12/200\n",
            "\n",
            "Epoch 12: val_loss improved from 0.65074 to 0.64643, saving model to ./tmp/checkpoint.h5\n",
            "8/8 - 3s - loss: 0.5733 - accuracy: 0.6940 - val_loss: 0.6464 - val_accuracy: 0.7288 - 3s/epoch - 315ms/step\n",
            "Epoch 13/200\n",
            "\n",
            "Epoch 13: val_loss did not improve from 0.64643\n",
            "8/8 - 2s - loss: 0.5780 - accuracy: 0.7155 - val_loss: 0.6464 - val_accuracy: 0.7288 - 2s/epoch - 308ms/step\n",
            "Epoch 14/200\n",
            "\n",
            "Epoch 14: val_loss improved from 0.64643 to 0.64403, saving model to ./tmp/checkpoint.h5\n",
            "8/8 - 2s - loss: 0.5605 - accuracy: 0.7414 - val_loss: 0.6440 - val_accuracy: 0.7288 - 2s/epoch - 311ms/step\n",
            "Epoch 15/200\n",
            "\n",
            "Epoch 15: val_loss improved from 0.64403 to 0.63932, saving model to ./tmp/checkpoint.h5\n",
            "8/8 - 2s - loss: 0.5634 - accuracy: 0.7457 - val_loss: 0.6393 - val_accuracy: 0.7288 - 2s/epoch - 312ms/step\n",
            "Epoch 16/200\n",
            "\n",
            "Epoch 16: val_loss improved from 0.63932 to 0.63640, saving model to ./tmp/checkpoint.h5\n",
            "8/8 - 3s - loss: 0.5538 - accuracy: 0.7457 - val_loss: 0.6364 - val_accuracy: 0.7288 - 3s/epoch - 313ms/step\n",
            "Epoch 17/200\n",
            "\n",
            "Epoch 17: val_loss did not improve from 0.63640\n",
            "8/8 - 2s - loss: 0.5393 - accuracy: 0.7586 - val_loss: 0.6374 - val_accuracy: 0.7288 - 2s/epoch - 308ms/step\n",
            "Epoch 18/200\n",
            "\n",
            "Epoch 18: val_loss did not improve from 0.63640\n",
            "8/8 - 2s - loss: 0.5438 - accuracy: 0.7414 - val_loss: 0.6382 - val_accuracy: 0.7288 - 2s/epoch - 309ms/step\n",
            "Epoch 19/200\n",
            "\n",
            "Epoch 19: val_loss improved from 0.63640 to 0.63600, saving model to ./tmp/checkpoint.h5\n",
            "8/8 - 3s - loss: 0.5422 - accuracy: 0.7328 - val_loss: 0.6360 - val_accuracy: 0.7288 - 3s/epoch - 321ms/step\n",
            "Epoch 20/200\n",
            "\n",
            "Epoch 20: val_loss did not improve from 0.63600\n",
            "8/8 - 2s - loss: 0.5380 - accuracy: 0.7629 - val_loss: 0.6360 - val_accuracy: 0.7288 - 2s/epoch - 312ms/step\n",
            "Epoch 21/200\n",
            "\n",
            "Epoch 21: val_loss improved from 0.63600 to 0.63371, saving model to ./tmp/checkpoint.h5\n",
            "8/8 - 3s - loss: 0.5104 - accuracy: 0.7543 - val_loss: 0.6337 - val_accuracy: 0.7288 - 3s/epoch - 316ms/step\n",
            "Epoch 22/200\n",
            "\n",
            "Epoch 22: val_loss did not improve from 0.63371\n",
            "8/8 - 2s - loss: 0.5157 - accuracy: 0.7457 - val_loss: 0.6343 - val_accuracy: 0.7288 - 2s/epoch - 307ms/step\n",
            "Epoch 23/200\n",
            "\n",
            "Epoch 23: val_loss did not improve from 0.63371\n",
            "8/8 - 2s - loss: 0.5260 - accuracy: 0.7371 - val_loss: 0.6343 - val_accuracy: 0.7288 - 2s/epoch - 308ms/step\n",
            "Epoch 24/200\n",
            "\n",
            "Epoch 24: val_loss improved from 0.63371 to 0.63189, saving model to ./tmp/checkpoint.h5\n",
            "8/8 - 3s - loss: 0.5077 - accuracy: 0.7500 - val_loss: 0.6319 - val_accuracy: 0.7288 - 3s/epoch - 320ms/step\n",
            "Epoch 25/200\n",
            "\n",
            "Epoch 25: val_loss improved from 0.63189 to 0.62821, saving model to ./tmp/checkpoint.h5\n",
            "8/8 - 3s - loss: 0.5005 - accuracy: 0.7845 - val_loss: 0.6282 - val_accuracy: 0.7288 - 3s/epoch - 319ms/step\n",
            "Epoch 26/200\n",
            "\n",
            "Epoch 26: val_loss improved from 0.62821 to 0.62549, saving model to ./tmp/checkpoint.h5\n",
            "8/8 - 3s - loss: 0.5008 - accuracy: 0.7629 - val_loss: 0.6255 - val_accuracy: 0.7288 - 3s/epoch - 317ms/step\n",
            "Epoch 27/200\n",
            "\n",
            "Epoch 27: val_loss improved from 0.62549 to 0.61970, saving model to ./tmp/checkpoint.h5\n",
            "8/8 - 3s - loss: 0.4904 - accuracy: 0.7931 - val_loss: 0.6197 - val_accuracy: 0.7288 - 3s/epoch - 319ms/step\n",
            "Epoch 28/200\n",
            "\n",
            "Epoch 28: val_loss did not improve from 0.61970\n",
            "8/8 - 2s - loss: 0.4860 - accuracy: 0.8017 - val_loss: 0.6198 - val_accuracy: 0.7288 - 2s/epoch - 310ms/step\n",
            "Epoch 29/200\n",
            "\n",
            "Epoch 29: val_loss did not improve from 0.61970\n",
            "8/8 - 2s - loss: 0.4799 - accuracy: 0.7845 - val_loss: 0.6219 - val_accuracy: 0.7288 - 2s/epoch - 308ms/step\n",
            "Epoch 30/200\n",
            "\n",
            "Epoch 30: val_loss improved from 0.61970 to 0.61946, saving model to ./tmp/checkpoint.h5\n",
            "8/8 - 3s - loss: 0.4943 - accuracy: 0.7759 - val_loss: 0.6195 - val_accuracy: 0.7288 - 3s/epoch - 313ms/step\n",
            "Epoch 31/200\n",
            "\n",
            "Epoch 31: val_loss improved from 0.61946 to 0.61648, saving model to ./tmp/checkpoint.h5\n",
            "8/8 - 2s - loss: 0.4731 - accuracy: 0.8017 - val_loss: 0.6165 - val_accuracy: 0.7288 - 2s/epoch - 312ms/step\n",
            "Epoch 32/200\n",
            "\n",
            "Epoch 32: val_loss improved from 0.61648 to 0.61623, saving model to ./tmp/checkpoint.h5\n",
            "8/8 - 3s - loss: 0.4769 - accuracy: 0.7974 - val_loss: 0.6162 - val_accuracy: 0.7288 - 3s/epoch - 316ms/step\n",
            "Epoch 33/200\n",
            "\n",
            "Epoch 33: val_loss improved from 0.61623 to 0.61168, saving model to ./tmp/checkpoint.h5\n",
            "8/8 - 3s - loss: 0.4684 - accuracy: 0.8017 - val_loss: 0.6117 - val_accuracy: 0.7288 - 3s/epoch - 315ms/step\n",
            "Epoch 34/200\n",
            "\n",
            "Epoch 34: val_loss improved from 0.61168 to 0.60864, saving model to ./tmp/checkpoint.h5\n",
            "8/8 - 3s - loss: 0.4710 - accuracy: 0.8017 - val_loss: 0.6086 - val_accuracy: 0.7288 - 3s/epoch - 319ms/step\n",
            "Epoch 35/200\n",
            "\n",
            "Epoch 35: val_loss improved from 0.60864 to 0.60518, saving model to ./tmp/checkpoint.h5\n",
            "8/8 - 3s - loss: 0.4836 - accuracy: 0.7716 - val_loss: 0.6052 - val_accuracy: 0.7288 - 3s/epoch - 315ms/step\n",
            "Epoch 36/200\n",
            "\n",
            "Epoch 36: val_loss improved from 0.60518 to 0.59836, saving model to ./tmp/checkpoint.h5\n",
            "8/8 - 3s - loss: 0.4692 - accuracy: 0.8017 - val_loss: 0.5984 - val_accuracy: 0.7288 - 3s/epoch - 315ms/step\n",
            "Epoch 37/200\n",
            "\n",
            "Epoch 37: val_loss did not improve from 0.59836\n",
            "8/8 - 2s - loss: 0.4507 - accuracy: 0.8147 - val_loss: 0.6016 - val_accuracy: 0.7288 - 2s/epoch - 309ms/step\n",
            "Epoch 38/200\n",
            "\n",
            "Epoch 38: val_loss did not improve from 0.59836\n",
            "8/8 - 2s - loss: 0.4583 - accuracy: 0.7974 - val_loss: 0.6021 - val_accuracy: 0.7288 - 2s/epoch - 305ms/step\n",
            "Epoch 39/200\n",
            "\n",
            "Epoch 39: val_loss did not improve from 0.59836\n",
            "8/8 - 2s - loss: 0.4685 - accuracy: 0.7888 - val_loss: 0.6106 - val_accuracy: 0.7288 - 2s/epoch - 307ms/step\n",
            "Epoch 40/200\n",
            "\n",
            "Epoch 40: val_loss did not improve from 0.59836\n",
            "8/8 - 2s - loss: 0.4462 - accuracy: 0.8233 - val_loss: 0.6200 - val_accuracy: 0.7288 - 2s/epoch - 308ms/step\n",
            "Epoch 41/200\n",
            "\n",
            "Epoch 41: val_loss did not improve from 0.59836\n",
            "8/8 - 2s - loss: 0.4627 - accuracy: 0.8060 - val_loss: 0.6232 - val_accuracy: 0.7288 - 2s/epoch - 310ms/step\n",
            "Epoch 42/200\n",
            "\n",
            "Epoch 42: val_loss did not improve from 0.59836\n",
            "8/8 - 2s - loss: 0.4415 - accuracy: 0.8319 - val_loss: 0.6414 - val_accuracy: 0.7288 - 2s/epoch - 310ms/step\n",
            "Epoch 43/200\n",
            "\n",
            "Epoch 43: val_loss did not improve from 0.59836\n",
            "8/8 - 2s - loss: 0.4322 - accuracy: 0.8017 - val_loss: 0.6688 - val_accuracy: 0.7288 - 2s/epoch - 311ms/step\n",
            "Epoch 44/200\n",
            "\n",
            "Epoch 44: val_loss did not improve from 0.59836\n",
            "8/8 - 2s - loss: 0.4486 - accuracy: 0.8190 - val_loss: 0.7107 - val_accuracy: 0.2712 - 2s/epoch - 312ms/step\n",
            "Epoch 45/200\n",
            "\n",
            "Epoch 45: val_loss did not improve from 0.59836\n",
            "8/8 - 2s - loss: 0.4481 - accuracy: 0.8147 - val_loss: 0.7483 - val_accuracy: 0.2712 - 2s/epoch - 312ms/step\n",
            "Epoch 46/200\n",
            "\n",
            "Epoch 46: val_loss did not improve from 0.59836\n",
            "8/8 - 2s - loss: 0.4481 - accuracy: 0.8147 - val_loss: 0.7517 - val_accuracy: 0.2712 - 2s/epoch - 311ms/step\n",
            "Epoch 47/200\n",
            "\n",
            "Epoch 47: val_loss did not improve from 0.59836\n",
            "8/8 - 2s - loss: 0.4472 - accuracy: 0.8190 - val_loss: 0.7011 - val_accuracy: 0.2881 - 2s/epoch - 312ms/step\n",
            "Epoch 48/200\n",
            "\n",
            "Epoch 48: val_loss did not improve from 0.59836\n",
            "8/8 - 2s - loss: 0.4333 - accuracy: 0.8319 - val_loss: 0.6635 - val_accuracy: 0.7288 - 2s/epoch - 306ms/step\n",
            "Epoch 49/200\n",
            "\n",
            "Epoch 49: val_loss did not improve from 0.59836\n",
            "8/8 - 2s - loss: 0.4392 - accuracy: 0.8276 - val_loss: 0.6449 - val_accuracy: 0.7288 - 2s/epoch - 309ms/step\n",
            "Epoch 50/200\n",
            "\n",
            "Epoch 50: val_loss did not improve from 0.59836\n",
            "8/8 - 2s - loss: 0.4378 - accuracy: 0.8276 - val_loss: 0.6141 - val_accuracy: 0.7288 - 2s/epoch - 310ms/step\n",
            "Epoch 51/200\n",
            "\n",
            "Epoch 51: val_loss did not improve from 0.59836\n",
            "8/8 - 2s - loss: 0.4343 - accuracy: 0.8017 - val_loss: 0.6266 - val_accuracy: 0.7288 - 2s/epoch - 312ms/step\n",
            "Epoch 52/200\n",
            "\n",
            "Epoch 52: val_loss did not improve from 0.59836\n",
            "8/8 - 2s - loss: 0.4290 - accuracy: 0.8405 - val_loss: 0.6656 - val_accuracy: 0.8305 - 2s/epoch - 309ms/step\n",
            "Epoch 53/200\n",
            "\n",
            "Epoch 53: val_loss did not improve from 0.59836\n",
            "8/8 - 2s - loss: 0.4233 - accuracy: 0.8103 - val_loss: 0.7366 - val_accuracy: 0.2712 - 2s/epoch - 310ms/step\n",
            "Epoch 54/200\n",
            "\n",
            "Epoch 54: val_loss did not improve from 0.59836\n",
            "8/8 - 2s - loss: 0.4181 - accuracy: 0.8448 - val_loss: 0.7727 - val_accuracy: 0.2712 - 2s/epoch - 311ms/step\n",
            "Epoch 55/200\n",
            "\n",
            "Epoch 55: val_loss did not improve from 0.59836\n",
            "8/8 - 2s - loss: 0.4194 - accuracy: 0.8233 - val_loss: 0.8355 - val_accuracy: 0.2712 - 2s/epoch - 308ms/step\n",
            "Epoch 56/200\n",
            "\n",
            "Epoch 56: val_loss did not improve from 0.59836\n",
            "8/8 - 2s - loss: 0.4185 - accuracy: 0.8233 - val_loss: 0.8983 - val_accuracy: 0.2712 - 2s/epoch - 308ms/step\n",
            "Epoch 57/200\n",
            "\n",
            "Epoch 57: val_loss did not improve from 0.59836\n",
            "8/8 - 2s - loss: 0.4192 - accuracy: 0.8319 - val_loss: 0.9131 - val_accuracy: 0.2712 - 2s/epoch - 307ms/step\n",
            "Epoch 58/200\n",
            "\n",
            "Epoch 58: val_loss did not improve from 0.59836\n",
            "8/8 - 2s - loss: 0.4240 - accuracy: 0.8103 - val_loss: 0.8465 - val_accuracy: 0.2712 - 2s/epoch - 308ms/step\n",
            "Epoch 59/200\n",
            "\n",
            "Epoch 59: val_loss did not improve from 0.59836\n",
            "8/8 - 2s - loss: 0.4443 - accuracy: 0.7974 - val_loss: 0.7895 - val_accuracy: 0.2712 - 2s/epoch - 311ms/step\n",
            "Epoch 60/200\n",
            "\n",
            "Epoch 60: val_loss did not improve from 0.59836\n",
            "8/8 - 2s - loss: 0.4194 - accuracy: 0.8233 - val_loss: 0.6287 - val_accuracy: 0.8305 - 2s/epoch - 308ms/step\n",
            "Epoch 61/200\n",
            "\n",
            "Epoch 61: val_loss improved from 0.59836 to 0.57081, saving model to ./tmp/checkpoint.h5\n",
            "8/8 - 3s - loss: 0.4135 - accuracy: 0.8319 - val_loss: 0.5708 - val_accuracy: 0.7288 - 3s/epoch - 318ms/step\n",
            "Epoch 62/200\n",
            "\n",
            "Epoch 62: val_loss improved from 0.57081 to 0.55794, saving model to ./tmp/checkpoint.h5\n",
            "8/8 - 3s - loss: 0.4085 - accuracy: 0.8448 - val_loss: 0.5579 - val_accuracy: 0.7288 - 3s/epoch - 313ms/step\n",
            "Epoch 63/200\n",
            "\n",
            "Epoch 63: val_loss improved from 0.55794 to 0.55242, saving model to ./tmp/checkpoint.h5\n",
            "8/8 - 3s - loss: 0.4087 - accuracy: 0.8362 - val_loss: 0.5524 - val_accuracy: 0.7288 - 3s/epoch - 318ms/step\n",
            "Epoch 64/200\n",
            "\n",
            "Epoch 64: val_loss improved from 0.55242 to 0.54915, saving model to ./tmp/checkpoint.h5\n",
            "8/8 - 3s - loss: 0.4091 - accuracy: 0.8060 - val_loss: 0.5491 - val_accuracy: 0.7288 - 3s/epoch - 314ms/step\n",
            "Epoch 65/200\n",
            "\n",
            "Epoch 65: val_loss improved from 0.54915 to 0.54480, saving model to ./tmp/checkpoint.h5\n",
            "8/8 - 3s - loss: 0.4080 - accuracy: 0.8362 - val_loss: 0.5448 - val_accuracy: 0.7288 - 3s/epoch - 321ms/step\n",
            "Epoch 66/200\n",
            "\n",
            "Epoch 66: val_loss improved from 0.54480 to 0.53765, saving model to ./tmp/checkpoint.h5\n",
            "8/8 - 3s - loss: 0.4050 - accuracy: 0.8147 - val_loss: 0.5376 - val_accuracy: 0.7288 - 3s/epoch - 315ms/step\n",
            "Epoch 67/200\n",
            "\n",
            "Epoch 67: val_loss improved from 0.53765 to 0.53356, saving model to ./tmp/checkpoint.h5\n",
            "8/8 - 3s - loss: 0.3967 - accuracy: 0.8491 - val_loss: 0.5336 - val_accuracy: 0.7288 - 3s/epoch - 328ms/step\n",
            "Epoch 68/200\n",
            "\n",
            "Epoch 68: val_loss did not improve from 0.53356\n",
            "8/8 - 2s - loss: 0.3995 - accuracy: 0.8405 - val_loss: 0.5487 - val_accuracy: 0.7288 - 2s/epoch - 307ms/step\n",
            "Epoch 69/200\n",
            "\n",
            "Epoch 69: val_loss did not improve from 0.53356\n",
            "8/8 - 2s - loss: 0.4026 - accuracy: 0.8319 - val_loss: 0.5368 - val_accuracy: 0.7288 - 2s/epoch - 310ms/step\n",
            "Epoch 70/200\n",
            "\n",
            "Epoch 70: val_loss did not improve from 0.53356\n",
            "8/8 - 2s - loss: 0.4025 - accuracy: 0.8233 - val_loss: 0.5366 - val_accuracy: 0.7288 - 2s/epoch - 310ms/step\n",
            "Epoch 71/200\n",
            "\n",
            "Epoch 71: val_loss did not improve from 0.53356\n",
            "8/8 - 3s - loss: 0.4041 - accuracy: 0.8319 - val_loss: 0.5479 - val_accuracy: 0.7288 - 3s/epoch - 315ms/step\n",
            "Epoch 72/200\n",
            "\n",
            "Epoch 72: val_loss did not improve from 0.53356\n",
            "8/8 - 2s - loss: 0.4044 - accuracy: 0.8276 - val_loss: 0.5560 - val_accuracy: 0.7288 - 2s/epoch - 312ms/step\n",
            "Epoch 73/200\n",
            "\n",
            "Epoch 73: val_loss improved from 0.53356 to 0.51204, saving model to ./tmp/checkpoint.h5\n",
            "8/8 - 3s - loss: 0.4109 - accuracy: 0.8319 - val_loss: 0.5120 - val_accuracy: 0.7288 - 3s/epoch - 317ms/step\n",
            "Epoch 74/200\n",
            "\n",
            "Epoch 74: val_loss did not improve from 0.51204\n",
            "8/8 - 2s - loss: 0.3960 - accuracy: 0.8405 - val_loss: 0.5284 - val_accuracy: 0.7288 - 2s/epoch - 309ms/step\n",
            "Epoch 75/200\n",
            "\n",
            "Epoch 75: val_loss did not improve from 0.51204\n",
            "8/8 - 3s - loss: 0.4042 - accuracy: 0.8448 - val_loss: 0.5514 - val_accuracy: 0.7288 - 3s/epoch - 313ms/step\n",
            "Epoch 76/200\n",
            "\n",
            "Epoch 76: val_loss did not improve from 0.51204\n",
            "8/8 - 2s - loss: 0.4069 - accuracy: 0.8276 - val_loss: 0.5622 - val_accuracy: 0.7288 - 2s/epoch - 312ms/step\n",
            "Epoch 77/200\n",
            "\n",
            "Epoch 77: val_loss did not improve from 0.51204\n",
            "8/8 - 2s - loss: 0.4029 - accuracy: 0.8491 - val_loss: 0.5406 - val_accuracy: 0.7288 - 2s/epoch - 308ms/step\n",
            "Epoch 78/200\n",
            "\n",
            "Epoch 78: val_loss improved from 0.51204 to 0.51074, saving model to ./tmp/checkpoint.h5\n",
            "8/8 - 3s - loss: 0.4033 - accuracy: 0.8362 - val_loss: 0.5107 - val_accuracy: 0.7288 - 3s/epoch - 315ms/step\n",
            "Epoch 79/200\n",
            "\n",
            "Epoch 79: val_loss did not improve from 0.51074\n",
            "8/8 - 2s - loss: 0.4123 - accuracy: 0.8276 - val_loss: 0.5123 - val_accuracy: 0.7288 - 2s/epoch - 312ms/step\n",
            "Epoch 80/200\n",
            "\n",
            "Epoch 80: val_loss did not improve from 0.51074\n",
            "8/8 - 2s - loss: 0.3950 - accuracy: 0.8405 - val_loss: 0.5120 - val_accuracy: 0.7288 - 2s/epoch - 311ms/step\n",
            "Epoch 81/200\n",
            "\n",
            "Epoch 81: val_loss did not improve from 0.51074\n",
            "8/8 - 2s - loss: 0.3969 - accuracy: 0.8233 - val_loss: 0.5119 - val_accuracy: 0.7288 - 2s/epoch - 309ms/step\n",
            "Epoch 82/200\n",
            "\n",
            "Epoch 82: val_loss improved from 0.51074 to 0.50987, saving model to ./tmp/checkpoint.h5\n",
            "8/8 - 3s - loss: 0.3922 - accuracy: 0.8362 - val_loss: 0.5099 - val_accuracy: 0.7288 - 3s/epoch - 313ms/step\n",
            "Epoch 83/200\n",
            "\n",
            "Epoch 83: val_loss did not improve from 0.50987\n",
            "8/8 - 2s - loss: 0.3785 - accuracy: 0.8664 - val_loss: 0.5128 - val_accuracy: 0.7288 - 2s/epoch - 311ms/step\n",
            "Epoch 84/200\n",
            "\n",
            "Epoch 84: val_loss improved from 0.50987 to 0.49754, saving model to ./tmp/checkpoint.h5\n",
            "8/8 - 3s - loss: 0.3905 - accuracy: 0.8578 - val_loss: 0.4975 - val_accuracy: 0.7288 - 3s/epoch - 315ms/step\n",
            "Epoch 85/200\n",
            "\n",
            "Epoch 85: val_loss did not improve from 0.49754\n",
            "8/8 - 2s - loss: 0.3865 - accuracy: 0.8405 - val_loss: 0.5266 - val_accuracy: 0.7288 - 2s/epoch - 311ms/step\n",
            "Epoch 86/200\n",
            "\n",
            "Epoch 86: val_loss did not improve from 0.49754\n",
            "8/8 - 2s - loss: 0.3941 - accuracy: 0.8448 - val_loss: 0.5412 - val_accuracy: 0.7288 - 2s/epoch - 308ms/step\n",
            "Epoch 87/200\n",
            "\n",
            "Epoch 87: val_loss did not improve from 0.49754\n",
            "8/8 - 2s - loss: 0.3799 - accuracy: 0.8405 - val_loss: 0.5769 - val_accuracy: 0.7288 - 2s/epoch - 311ms/step\n",
            "Epoch 88/200\n",
            "\n",
            "Epoch 88: val_loss did not improve from 0.49754\n",
            "8/8 - 2s - loss: 0.3900 - accuracy: 0.8578 - val_loss: 0.5994 - val_accuracy: 0.7288 - 2s/epoch - 311ms/step\n",
            "Epoch 89/200\n",
            "\n",
            "Epoch 89: val_loss did not improve from 0.49754\n",
            "8/8 - 2s - loss: 0.3958 - accuracy: 0.8276 - val_loss: 0.5622 - val_accuracy: 0.7288 - 2s/epoch - 309ms/step\n",
            "Epoch 90/200\n",
            "\n",
            "Epoch 90: val_loss did not improve from 0.49754\n",
            "8/8 - 2s - loss: 0.3902 - accuracy: 0.8491 - val_loss: 0.6476 - val_accuracy: 0.7288 - 2s/epoch - 308ms/step\n",
            "Epoch 91/200\n",
            "\n",
            "Epoch 91: val_loss did not improve from 0.49754\n",
            "8/8 - 2s - loss: 0.4044 - accuracy: 0.8362 - val_loss: 0.5060 - val_accuracy: 0.7288 - 2s/epoch - 310ms/step\n",
            "Epoch 92/200\n",
            "\n",
            "Epoch 92: val_loss improved from 0.49754 to 0.43970, saving model to ./tmp/checkpoint.h5\n",
            "8/8 - 3s - loss: 0.3813 - accuracy: 0.8362 - val_loss: 0.4397 - val_accuracy: 0.7627 - 3s/epoch - 319ms/step\n",
            "Epoch 93/200\n",
            "\n",
            "Epoch 93: val_loss improved from 0.43970 to 0.43763, saving model to ./tmp/checkpoint.h5\n",
            "8/8 - 2s - loss: 0.3842 - accuracy: 0.8190 - val_loss: 0.4376 - val_accuracy: 0.7797 - 2s/epoch - 311ms/step\n",
            "Epoch 94/200\n",
            "\n",
            "Epoch 94: val_loss did not improve from 0.43763\n",
            "8/8 - 2s - loss: 0.3866 - accuracy: 0.8405 - val_loss: 0.4776 - val_accuracy: 0.7288 - 2s/epoch - 310ms/step\n",
            "Epoch 95/200\n",
            "\n",
            "Epoch 95: val_loss improved from 0.43763 to 0.42953, saving model to ./tmp/checkpoint.h5\n",
            "8/8 - 3s - loss: 0.3748 - accuracy: 0.8448 - val_loss: 0.4295 - val_accuracy: 0.7627 - 3s/epoch - 317ms/step\n",
            "Epoch 96/200\n",
            "\n",
            "Epoch 96: val_loss did not improve from 0.42953\n",
            "8/8 - 2s - loss: 0.3821 - accuracy: 0.8491 - val_loss: 0.4804 - val_accuracy: 0.7288 - 2s/epoch - 311ms/step\n",
            "Epoch 97/200\n",
            "\n",
            "Epoch 97: val_loss did not improve from 0.42953\n",
            "8/8 - 2s - loss: 0.3829 - accuracy: 0.8448 - val_loss: 0.6627 - val_accuracy: 0.7288 - 2s/epoch - 310ms/step\n",
            "Epoch 98/200\n",
            "\n",
            "Epoch 98: val_loss did not improve from 0.42953\n",
            "8/8 - 2s - loss: 0.3922 - accuracy: 0.8362 - val_loss: 0.7110 - val_accuracy: 0.7288 - 2s/epoch - 306ms/step\n",
            "Epoch 99/200\n",
            "\n",
            "Epoch 99: val_loss did not improve from 0.42953\n",
            "8/8 - 2s - loss: 0.3918 - accuracy: 0.8276 - val_loss: 0.9025 - val_accuracy: 0.7288 - 2s/epoch - 309ms/step\n",
            "Epoch 100/200\n",
            "\n",
            "Epoch 100: val_loss did not improve from 0.42953\n",
            "8/8 - 2s - loss: 0.3846 - accuracy: 0.8362 - val_loss: 0.7054 - val_accuracy: 0.7288 - 2s/epoch - 311ms/step\n",
            "Epoch 101/200\n",
            "\n",
            "Epoch 101: val_loss did not improve from 0.42953\n",
            "8/8 - 2s - loss: 0.3867 - accuracy: 0.8405 - val_loss: 0.5653 - val_accuracy: 0.7288 - 2s/epoch - 308ms/step\n",
            "Epoch 102/200\n",
            "\n",
            "Epoch 102: val_loss did not improve from 0.42953\n",
            "8/8 - 2s - loss: 0.3903 - accuracy: 0.8491 - val_loss: 0.4549 - val_accuracy: 0.7288 - 2s/epoch - 309ms/step\n",
            "Epoch 103/200\n",
            "\n",
            "Epoch 103: val_loss did not improve from 0.42953\n",
            "8/8 - 2s - loss: 0.3700 - accuracy: 0.8578 - val_loss: 0.4443 - val_accuracy: 0.7627 - 2s/epoch - 308ms/step\n",
            "Epoch 104/200\n",
            "\n",
            "Epoch 104: val_loss improved from 0.42953 to 0.42824, saving model to ./tmp/checkpoint.h5\n",
            "8/8 - 3s - loss: 0.4001 - accuracy: 0.8491 - val_loss: 0.4282 - val_accuracy: 0.7966 - 3s/epoch - 321ms/step\n",
            "Epoch 105/200\n",
            "\n",
            "Epoch 105: val_loss did not improve from 0.42824\n",
            "8/8 - 2s - loss: 0.3823 - accuracy: 0.8491 - val_loss: 0.4313 - val_accuracy: 0.8814 - 2s/epoch - 311ms/step\n",
            "Epoch 106/200\n",
            "\n",
            "Epoch 106: val_loss did not improve from 0.42824\n",
            "8/8 - 2s - loss: 0.3699 - accuracy: 0.8448 - val_loss: 0.4835 - val_accuracy: 0.7966 - 2s/epoch - 311ms/step\n",
            "Epoch 107/200\n",
            "\n",
            "Epoch 107: val_loss did not improve from 0.42824\n",
            "8/8 - 2s - loss: 0.3945 - accuracy: 0.8319 - val_loss: 0.5180 - val_accuracy: 0.7458 - 2s/epoch - 306ms/step\n",
            "Epoch 108/200\n",
            "\n",
            "Epoch 108: val_loss did not improve from 0.42824\n",
            "8/8 - 2s - loss: 0.3770 - accuracy: 0.8362 - val_loss: 0.4655 - val_accuracy: 0.7966 - 2s/epoch - 311ms/step\n",
            "Epoch 109/200\n",
            "\n",
            "Epoch 109: val_loss did not improve from 0.42824\n",
            "8/8 - 2s - loss: 0.3776 - accuracy: 0.8578 - val_loss: 0.4285 - val_accuracy: 0.8475 - 2s/epoch - 308ms/step\n",
            "Epoch 110/200\n",
            "\n",
            "Epoch 110: val_loss did not improve from 0.42824\n",
            "8/8 - 2s - loss: 0.3841 - accuracy: 0.8578 - val_loss: 0.4324 - val_accuracy: 0.7627 - 2s/epoch - 305ms/step\n",
            "Epoch 111/200\n",
            "\n",
            "Epoch 111: val_loss did not improve from 0.42824\n",
            "8/8 - 2s - loss: 0.3877 - accuracy: 0.8362 - val_loss: 0.4398 - val_accuracy: 0.8475 - 2s/epoch - 310ms/step\n",
            "Epoch 112/200\n",
            "\n",
            "Epoch 112: val_loss did not improve from 0.42824\n",
            "8/8 - 2s - loss: 0.3883 - accuracy: 0.8448 - val_loss: 0.5076 - val_accuracy: 0.7797 - 2s/epoch - 312ms/step\n",
            "Epoch 113/200\n",
            "\n",
            "Epoch 113: val_loss did not improve from 0.42824\n",
            "8/8 - 3s - loss: 0.3790 - accuracy: 0.8534 - val_loss: 0.4907 - val_accuracy: 0.7797 - 3s/epoch - 316ms/step\n",
            "Epoch 114/200\n",
            "\n",
            "Epoch 114: val_loss did not improve from 0.42824\n",
            "8/8 - 3s - loss: 0.3632 - accuracy: 0.8664 - val_loss: 0.5190 - val_accuracy: 0.7966 - 3s/epoch - 313ms/step\n",
            "Epoch 115/200\n",
            "\n",
            "Epoch 115: val_loss did not improve from 0.42824\n",
            "8/8 - 3s - loss: 0.3846 - accuracy: 0.8319 - val_loss: 0.5356 - val_accuracy: 0.8305 - 3s/epoch - 330ms/step\n",
            "Epoch 116/200\n",
            "\n",
            "Epoch 116: val_loss did not improve from 0.42824\n",
            "8/8 - 3s - loss: 0.3801 - accuracy: 0.8491 - val_loss: 0.6078 - val_accuracy: 0.6441 - 3s/epoch - 316ms/step\n",
            "Epoch 117/200\n",
            "\n",
            "Epoch 117: val_loss did not improve from 0.42824\n",
            "8/8 - 2s - loss: 0.3748 - accuracy: 0.8405 - val_loss: 0.5909 - val_accuracy: 0.6610 - 2s/epoch - 310ms/step\n",
            "Epoch 118/200\n",
            "\n",
            "Epoch 118: val_loss did not improve from 0.42824\n",
            "8/8 - 3s - loss: 0.3837 - accuracy: 0.8448 - val_loss: 0.5683 - val_accuracy: 0.7288 - 3s/epoch - 318ms/step\n",
            "Epoch 119/200\n",
            "\n",
            "Epoch 119: val_loss did not improve from 0.42824\n",
            "8/8 - 2s - loss: 0.3642 - accuracy: 0.8707 - val_loss: 0.5738 - val_accuracy: 0.7119 - 2s/epoch - 311ms/step\n",
            "Epoch 120/200\n",
            "\n",
            "Epoch 120: val_loss did not improve from 0.42824\n",
            "8/8 - 3s - loss: 0.3710 - accuracy: 0.8534 - val_loss: 0.5416 - val_accuracy: 0.7627 - 3s/epoch - 315ms/step\n",
            "Epoch 121/200\n",
            "\n",
            "Epoch 121: val_loss did not improve from 0.42824\n",
            "8/8 - 3s - loss: 0.3868 - accuracy: 0.8362 - val_loss: 0.5094 - val_accuracy: 0.8644 - 3s/epoch - 317ms/step\n",
            "Epoch 122/200\n",
            "\n",
            "Epoch 122: val_loss did not improve from 0.42824\n",
            "8/8 - 3s - loss: 0.3716 - accuracy: 0.8534 - val_loss: 0.4418 - val_accuracy: 0.8644 - 3s/epoch - 314ms/step\n",
            "Epoch 123/200\n",
            "\n",
            "Epoch 123: val_loss improved from 0.42824 to 0.42449, saving model to ./tmp/checkpoint.h5\n",
            "8/8 - 3s - loss: 0.3725 - accuracy: 0.8362 - val_loss: 0.4245 - val_accuracy: 0.8644 - 3s/epoch - 321ms/step\n",
            "Epoch 124/200\n",
            "\n",
            "Epoch 124: val_loss did not improve from 0.42449\n",
            "8/8 - 3s - loss: 0.3738 - accuracy: 0.8621 - val_loss: 0.4391 - val_accuracy: 0.8644 - 3s/epoch - 317ms/step\n",
            "Epoch 125/200\n",
            "\n",
            "Epoch 125: val_loss improved from 0.42449 to 0.41382, saving model to ./tmp/checkpoint.h5\n",
            "8/8 - 3s - loss: 0.3789 - accuracy: 0.8448 - val_loss: 0.4138 - val_accuracy: 0.8475 - 3s/epoch - 314ms/step\n",
            "Epoch 126/200\n",
            "\n",
            "Epoch 126: val_loss did not improve from 0.41382\n",
            "8/8 - 2s - loss: 0.3785 - accuracy: 0.8578 - val_loss: 0.4544 - val_accuracy: 0.8475 - 2s/epoch - 307ms/step\n",
            "Epoch 127/200\n",
            "\n",
            "Epoch 127: val_loss did not improve from 0.41382\n",
            "8/8 - 2s - loss: 0.3739 - accuracy: 0.8319 - val_loss: 0.4290 - val_accuracy: 0.8305 - 2s/epoch - 310ms/step\n",
            "Epoch 128/200\n",
            "\n",
            "Epoch 128: val_loss did not improve from 0.41382\n",
            "8/8 - 2s - loss: 0.3722 - accuracy: 0.8621 - val_loss: 0.4254 - val_accuracy: 0.7966 - 2s/epoch - 309ms/step\n",
            "Epoch 129/200\n",
            "\n",
            "Epoch 129: val_loss did not improve from 0.41382\n",
            "8/8 - 2s - loss: 0.3697 - accuracy: 0.8491 - val_loss: 0.4867 - val_accuracy: 0.7966 - 2s/epoch - 310ms/step\n",
            "Epoch 130/200\n",
            "\n",
            "Epoch 130: val_loss did not improve from 0.41382\n",
            "8/8 - 2s - loss: 0.3626 - accuracy: 0.8233 - val_loss: 0.5161 - val_accuracy: 0.7627 - 2s/epoch - 309ms/step\n",
            "Epoch 131/200\n",
            "\n",
            "Epoch 131: val_loss did not improve from 0.41382\n",
            "8/8 - 2s - loss: 0.3582 - accuracy: 0.8534 - val_loss: 0.5553 - val_accuracy: 0.6780 - 2s/epoch - 311ms/step\n",
            "Epoch 132/200\n",
            "\n",
            "Epoch 132: val_loss did not improve from 0.41382\n",
            "8/8 - 2s - loss: 0.3655 - accuracy: 0.8276 - val_loss: 0.5367 - val_accuracy: 0.7288 - 2s/epoch - 306ms/step\n",
            "Epoch 133/200\n",
            "\n",
            "Epoch 133: val_loss did not improve from 0.41382\n",
            "8/8 - 2s - loss: 0.3724 - accuracy: 0.8491 - val_loss: 0.5093 - val_accuracy: 0.7966 - 2s/epoch - 309ms/step\n",
            "Epoch 134/200\n",
            "\n",
            "Epoch 134: val_loss did not improve from 0.41382\n",
            "8/8 - 2s - loss: 0.3776 - accuracy: 0.8448 - val_loss: 0.5300 - val_accuracy: 0.7797 - 2s/epoch - 306ms/step\n",
            "Epoch 135/200\n",
            "\n",
            "Epoch 135: val_loss did not improve from 0.41382\n",
            "8/8 - 2s - loss: 0.3445 - accuracy: 0.8405 - val_loss: 0.5279 - val_accuracy: 0.7797 - 2s/epoch - 307ms/step\n",
            "Epoch 136/200\n",
            "\n",
            "Epoch 136: val_loss did not improve from 0.41382\n",
            "8/8 - 2s - loss: 0.3723 - accuracy: 0.8448 - val_loss: 0.4641 - val_accuracy: 0.8644 - 2s/epoch - 310ms/step\n",
            "Epoch 137/200\n",
            "\n",
            "Epoch 137: val_loss improved from 0.41382 to 0.39824, saving model to ./tmp/checkpoint.h5\n",
            "8/8 - 3s - loss: 0.3655 - accuracy: 0.8621 - val_loss: 0.3982 - val_accuracy: 0.8475 - 3s/epoch - 314ms/step\n",
            "Epoch 138/200\n",
            "\n",
            "Epoch 138: val_loss improved from 0.39824 to 0.39654, saving model to ./tmp/checkpoint.h5\n",
            "8/8 - 2s - loss: 0.3663 - accuracy: 0.8491 - val_loss: 0.3965 - val_accuracy: 0.7797 - 2s/epoch - 312ms/step\n",
            "Epoch 139/200\n",
            "\n",
            "Epoch 139: val_loss did not improve from 0.39654\n",
            "8/8 - 2s - loss: 0.3614 - accuracy: 0.8578 - val_loss: 0.5784 - val_accuracy: 0.7288 - 2s/epoch - 309ms/step\n",
            "Epoch 140/200\n",
            "\n",
            "Epoch 140: val_loss did not improve from 0.39654\n",
            "8/8 - 2s - loss: 0.3634 - accuracy: 0.8534 - val_loss: 0.4306 - val_accuracy: 0.7797 - 2s/epoch - 309ms/step\n",
            "Epoch 141/200\n",
            "\n",
            "Epoch 141: val_loss improved from 0.39654 to 0.38255, saving model to ./tmp/checkpoint.h5\n",
            "8/8 - 3s - loss: 0.3668 - accuracy: 0.8621 - val_loss: 0.3826 - val_accuracy: 0.8136 - 3s/epoch - 315ms/step\n",
            "Epoch 142/200\n",
            "\n",
            "Epoch 142: val_loss improved from 0.38255 to 0.37293, saving model to ./tmp/checkpoint.h5\n",
            "8/8 - 2s - loss: 0.3516 - accuracy: 0.8319 - val_loss: 0.3729 - val_accuracy: 0.8305 - 2s/epoch - 311ms/step\n",
            "Epoch 143/200\n",
            "\n",
            "Epoch 143: val_loss did not improve from 0.37293\n",
            "8/8 - 2s - loss: 0.3556 - accuracy: 0.8707 - val_loss: 0.4299 - val_accuracy: 0.7797 - 2s/epoch - 309ms/step\n",
            "Epoch 144/200\n",
            "\n",
            "Epoch 144: val_loss did not improve from 0.37293\n",
            "8/8 - 2s - loss: 0.3631 - accuracy: 0.8534 - val_loss: 0.3833 - val_accuracy: 0.8136 - 2s/epoch - 309ms/step\n",
            "Epoch 145/200\n",
            "\n",
            "Epoch 145: val_loss did not improve from 0.37293\n",
            "8/8 - 2s - loss: 0.3585 - accuracy: 0.8534 - val_loss: 0.3815 - val_accuracy: 0.8136 - 2s/epoch - 306ms/step\n",
            "Epoch 146/200\n",
            "\n",
            "Epoch 146: val_loss did not improve from 0.37293\n",
            "8/8 - 3s - loss: 0.3444 - accuracy: 0.8664 - val_loss: 0.4780 - val_accuracy: 0.7458 - 3s/epoch - 313ms/step\n",
            "Epoch 147/200\n",
            "\n",
            "Epoch 147: val_loss did not improve from 0.37293\n",
            "8/8 - 2s - loss: 0.3513 - accuracy: 0.8578 - val_loss: 0.5052 - val_accuracy: 0.7458 - 2s/epoch - 307ms/step\n",
            "Epoch 148/200\n",
            "\n",
            "Epoch 148: val_loss did not improve from 0.37293\n",
            "8/8 - 2s - loss: 0.3686 - accuracy: 0.8362 - val_loss: 0.5552 - val_accuracy: 0.7288 - 2s/epoch - 309ms/step\n",
            "Epoch 149/200\n",
            "\n",
            "Epoch 149: val_loss did not improve from 0.37293\n",
            "8/8 - 2s - loss: 0.3409 - accuracy: 0.8707 - val_loss: 0.4870 - val_accuracy: 0.7458 - 2s/epoch - 311ms/step\n",
            "Epoch 150/200\n",
            "\n",
            "Epoch 150: val_loss did not improve from 0.37293\n",
            "8/8 - 2s - loss: 0.3526 - accuracy: 0.8534 - val_loss: 0.4070 - val_accuracy: 0.7966 - 2s/epoch - 307ms/step\n",
            "Epoch 151/200\n",
            "\n",
            "Epoch 151: val_loss did not improve from 0.37293\n",
            "8/8 - 2s - loss: 0.3536 - accuracy: 0.8534 - val_loss: 0.5216 - val_accuracy: 0.7288 - 2s/epoch - 307ms/step\n",
            "Epoch 152/200\n",
            "\n",
            "Epoch 152: val_loss did not improve from 0.37293\n",
            "8/8 - 2s - loss: 0.3413 - accuracy: 0.8750 - val_loss: 0.6191 - val_accuracy: 0.7288 - 2s/epoch - 309ms/step\n",
            "Epoch 153/200\n",
            "\n",
            "Epoch 153: val_loss did not improve from 0.37293\n",
            "8/8 - 3s - loss: 0.3670 - accuracy: 0.8491 - val_loss: 0.6860 - val_accuracy: 0.7288 - 3s/epoch - 313ms/step\n",
            "Epoch 154/200\n",
            "\n",
            "Epoch 154: val_loss did not improve from 0.37293\n",
            "8/8 - 2s - loss: 0.3512 - accuracy: 0.8621 - val_loss: 0.4611 - val_accuracy: 0.7458 - 2s/epoch - 308ms/step\n",
            "Epoch 155/200\n",
            "\n",
            "Epoch 155: val_loss did not improve from 0.37293\n",
            "8/8 - 2s - loss: 0.3404 - accuracy: 0.8793 - val_loss: 0.4567 - val_accuracy: 0.7458 - 2s/epoch - 309ms/step\n",
            "Epoch 156/200\n",
            "\n",
            "Epoch 156: val_loss did not improve from 0.37293\n",
            "8/8 - 2s - loss: 0.3582 - accuracy: 0.8534 - val_loss: 0.6449 - val_accuracy: 0.7288 - 2s/epoch - 308ms/step\n",
            "Epoch 157/200\n",
            "\n",
            "Epoch 157: val_loss did not improve from 0.37293\n",
            "8/8 - 3s - loss: 0.3651 - accuracy: 0.8190 - val_loss: 0.4827 - val_accuracy: 0.7458 - 3s/epoch - 313ms/step\n",
            "Epoch 158/200\n",
            "\n",
            "Epoch 158: val_loss did not improve from 0.37293\n",
            "8/8 - 2s - loss: 0.3539 - accuracy: 0.8621 - val_loss: 0.4442 - val_accuracy: 0.7627 - 2s/epoch - 308ms/step\n",
            "Epoch 159/200\n",
            "\n",
            "Epoch 159: val_loss did not improve from 0.37293\n",
            "8/8 - 2s - loss: 0.3612 - accuracy: 0.8664 - val_loss: 0.4693 - val_accuracy: 0.7458 - 2s/epoch - 306ms/step\n",
            "Epoch 160/200\n",
            "\n",
            "Epoch 160: val_loss did not improve from 0.37293\n",
            "8/8 - 2s - loss: 0.3487 - accuracy: 0.8621 - val_loss: 0.4127 - val_accuracy: 0.7627 - 2s/epoch - 308ms/step\n",
            "Epoch 161/200\n",
            "\n",
            "Epoch 161: val_loss did not improve from 0.37293\n",
            "8/8 - 2s - loss: 0.3415 - accuracy: 0.8922 - val_loss: 0.4874 - val_accuracy: 0.7458 - 2s/epoch - 311ms/step\n",
            "Epoch 162/200\n",
            "\n",
            "Epoch 162: val_loss did not improve from 0.37293\n",
            "8/8 - 2s - loss: 0.3536 - accuracy: 0.8491 - val_loss: 0.4654 - val_accuracy: 0.7458 - 2s/epoch - 307ms/step\n",
            "Epoch 163/200\n",
            "\n",
            "Epoch 163: val_loss did not improve from 0.37293\n",
            "8/8 - 2s - loss: 0.3478 - accuracy: 0.8578 - val_loss: 0.4329 - val_accuracy: 0.7966 - 2s/epoch - 310ms/step\n",
            "Epoch 164/200\n",
            "\n",
            "Epoch 164: val_loss did not improve from 0.37293\n",
            "8/8 - 2s - loss: 0.3491 - accuracy: 0.8707 - val_loss: 0.4350 - val_accuracy: 0.8136 - 2s/epoch - 310ms/step\n",
            "Epoch 165/200\n",
            "\n",
            "Epoch 165: val_loss did not improve from 0.37293\n",
            "8/8 - 2s - loss: 0.3637 - accuracy: 0.8276 - val_loss: 0.4579 - val_accuracy: 0.8305 - 2s/epoch - 307ms/step\n",
            "Epoch 166/200\n",
            "\n",
            "Epoch 166: val_loss did not improve from 0.37293\n",
            "8/8 - 2s - loss: 0.3529 - accuracy: 0.8707 - val_loss: 0.4753 - val_accuracy: 0.8305 - 2s/epoch - 307ms/step\n",
            "Epoch 167/200\n",
            "\n",
            "Epoch 167: val_loss did not improve from 0.37293\n",
            "8/8 - 2s - loss: 0.3387 - accuracy: 0.8707 - val_loss: 0.4104 - val_accuracy: 0.8475 - 2s/epoch - 307ms/step\n",
            "Epoch 168/200\n",
            "\n",
            "Epoch 168: val_loss did not improve from 0.37293\n",
            "8/8 - 2s - loss: 0.3434 - accuracy: 0.8491 - val_loss: 0.3942 - val_accuracy: 0.8475 - 2s/epoch - 308ms/step\n",
            "Epoch 169/200\n",
            "\n",
            "Epoch 169: val_loss did not improve from 0.37293\n",
            "8/8 - 2s - loss: 0.3561 - accuracy: 0.8319 - val_loss: 0.3856 - val_accuracy: 0.8305 - 2s/epoch - 305ms/step\n",
            "Epoch 170/200\n",
            "\n",
            "Epoch 170: val_loss did not improve from 0.37293\n",
            "8/8 - 2s - loss: 0.3469 - accuracy: 0.8621 - val_loss: 0.4485 - val_accuracy: 0.7627 - 2s/epoch - 310ms/step\n",
            "Epoch 171/200\n",
            "\n",
            "Epoch 171: val_loss did not improve from 0.37293\n",
            "8/8 - 2s - loss: 0.3478 - accuracy: 0.8621 - val_loss: 0.4070 - val_accuracy: 0.8136 - 2s/epoch - 306ms/step\n",
            "Epoch 172/200\n",
            "\n",
            "Epoch 172: val_loss did not improve from 0.37293\n",
            "8/8 - 2s - loss: 0.3490 - accuracy: 0.8621 - val_loss: 0.3934 - val_accuracy: 0.8475 - 2s/epoch - 308ms/step\n",
            "Epoch 173/200\n",
            "\n",
            "Epoch 173: val_loss did not improve from 0.37293\n",
            "8/8 - 2s - loss: 0.3477 - accuracy: 0.8276 - val_loss: 0.3883 - val_accuracy: 0.8305 - 2s/epoch - 308ms/step\n",
            "Epoch 174/200\n",
            "\n",
            "Epoch 174: val_loss did not improve from 0.37293\n",
            "8/8 - 2s - loss: 0.3488 - accuracy: 0.8621 - val_loss: 0.4294 - val_accuracy: 0.8644 - 2s/epoch - 305ms/step\n",
            "Epoch 175/200\n",
            "\n",
            "Epoch 175: val_loss did not improve from 0.37293\n",
            "8/8 - 2s - loss: 0.3729 - accuracy: 0.8362 - val_loss: 0.4558 - val_accuracy: 0.8305 - 2s/epoch - 307ms/step\n",
            "Epoch 176/200\n",
            "\n",
            "Epoch 176: val_loss did not improve from 0.37293\n",
            "8/8 - 2s - loss: 0.3492 - accuracy: 0.8621 - val_loss: 0.4180 - val_accuracy: 0.8305 - 2s/epoch - 308ms/step\n",
            "Epoch 177/200\n",
            "\n",
            "Epoch 177: val_loss did not improve from 0.37293\n",
            "8/8 - 2s - loss: 0.3434 - accuracy: 0.8578 - val_loss: 0.4230 - val_accuracy: 0.8475 - 2s/epoch - 307ms/step\n",
            "Epoch 178/200\n",
            "\n",
            "Epoch 178: val_loss did not improve from 0.37293\n",
            "8/8 - 2s - loss: 0.3608 - accuracy: 0.8491 - val_loss: 0.4226 - val_accuracy: 0.7966 - 2s/epoch - 308ms/step\n",
            "Epoch 179/200\n",
            "\n",
            "Epoch 179: val_loss did not improve from 0.37293\n",
            "8/8 - 2s - loss: 0.3509 - accuracy: 0.8621 - val_loss: 0.4561 - val_accuracy: 0.8136 - 2s/epoch - 310ms/step\n",
            "Epoch 180/200\n",
            "\n",
            "Epoch 180: val_loss did not improve from 0.37293\n",
            "8/8 - 2s - loss: 0.3266 - accuracy: 0.8922 - val_loss: 0.3983 - val_accuracy: 0.8305 - 2s/epoch - 309ms/step\n",
            "Epoch 181/200\n",
            "\n",
            "Epoch 181: val_loss did not improve from 0.37293\n",
            "8/8 - 2s - loss: 0.3482 - accuracy: 0.8578 - val_loss: 0.4254 - val_accuracy: 0.8305 - 2s/epoch - 310ms/step\n",
            "Epoch 182/200\n",
            "\n",
            "Epoch 182: val_loss did not improve from 0.37293\n",
            "8/8 - 3s - loss: 0.3501 - accuracy: 0.8621 - val_loss: 0.4071 - val_accuracy: 0.8644 - 3s/epoch - 313ms/step\n",
            "Epoch 183/200\n",
            "\n",
            "Epoch 183: val_loss did not improve from 0.37293\n",
            "8/8 - 2s - loss: 0.3350 - accuracy: 0.8707 - val_loss: 0.4033 - val_accuracy: 0.8475 - 2s/epoch - 305ms/step\n",
            "Epoch 184/200\n",
            "\n",
            "Epoch 184: val_loss did not improve from 0.37293\n",
            "8/8 - 2s - loss: 0.3425 - accuracy: 0.8707 - val_loss: 0.4422 - val_accuracy: 0.8644 - 2s/epoch - 306ms/step\n",
            "Epoch 185/200\n",
            "\n",
            "Epoch 185: val_loss did not improve from 0.37293\n",
            "8/8 - 2s - loss: 0.3306 - accuracy: 0.8664 - val_loss: 0.5183 - val_accuracy: 0.7966 - 2s/epoch - 310ms/step\n",
            "Epoch 186/200\n",
            "\n",
            "Epoch 186: val_loss did not improve from 0.37293\n",
            "8/8 - 2s - loss: 0.3365 - accuracy: 0.8707 - val_loss: 0.5199 - val_accuracy: 0.7627 - 2s/epoch - 306ms/step\n",
            "Epoch 187/200\n",
            "\n",
            "Epoch 187: val_loss did not improve from 0.37293\n",
            "8/8 - 2s - loss: 0.3332 - accuracy: 0.8922 - val_loss: 0.4491 - val_accuracy: 0.8475 - 2s/epoch - 307ms/step\n",
            "Epoch 188/200\n",
            "\n",
            "Epoch 188: val_loss did not improve from 0.37293\n",
            "8/8 - 2s - loss: 0.3232 - accuracy: 0.8836 - val_loss: 0.4115 - val_accuracy: 0.8136 - 2s/epoch - 308ms/step\n",
            "Epoch 189/200\n",
            "\n",
            "Epoch 189: val_loss did not improve from 0.37293\n",
            "8/8 - 2s - loss: 0.3324 - accuracy: 0.8750 - val_loss: 0.3946 - val_accuracy: 0.8305 - 2s/epoch - 308ms/step\n",
            "Epoch 190/200\n",
            "\n",
            "Epoch 190: val_loss did not improve from 0.37293\n",
            "8/8 - 2s - loss: 0.3509 - accuracy: 0.8491 - val_loss: 0.4285 - val_accuracy: 0.8136 - 2s/epoch - 309ms/step\n",
            "Epoch 191/200\n",
            "\n",
            "Epoch 191: val_loss did not improve from 0.37293\n",
            "8/8 - 2s - loss: 0.3356 - accuracy: 0.8664 - val_loss: 0.4176 - val_accuracy: 0.8475 - 2s/epoch - 309ms/step\n",
            "Epoch 192/200\n",
            "\n",
            "Epoch 192: val_loss did not improve from 0.37293\n",
            "8/8 - 2s - loss: 0.3302 - accuracy: 0.8707 - val_loss: 0.3809 - val_accuracy: 0.8305 - 2s/epoch - 311ms/step\n",
            "Epoch 193/200\n",
            "\n",
            "Epoch 193: val_loss did not improve from 0.37293\n",
            "8/8 - 2s - loss: 0.3373 - accuracy: 0.8664 - val_loss: 0.3859 - val_accuracy: 0.8305 - 2s/epoch - 307ms/step\n",
            "Epoch 194/200\n",
            "\n",
            "Epoch 194: val_loss did not improve from 0.37293\n",
            "8/8 - 2s - loss: 0.3372 - accuracy: 0.8448 - val_loss: 0.3893 - val_accuracy: 0.8305 - 2s/epoch - 307ms/step\n",
            "Epoch 195/200\n",
            "\n",
            "Epoch 195: val_loss did not improve from 0.37293\n",
            "8/8 - 2s - loss: 0.3273 - accuracy: 0.8578 - val_loss: 0.4216 - val_accuracy: 0.8475 - 2s/epoch - 309ms/step\n",
            "Epoch 196/200\n",
            "\n",
            "Epoch 196: val_loss did not improve from 0.37293\n",
            "8/8 - 2s - loss: 0.3209 - accuracy: 0.8664 - val_loss: 0.4327 - val_accuracy: 0.8305 - 2s/epoch - 309ms/step\n",
            "Epoch 197/200\n",
            "\n",
            "Epoch 197: val_loss did not improve from 0.37293\n",
            "8/8 - 2s - loss: 0.3383 - accuracy: 0.8750 - val_loss: 0.4313 - val_accuracy: 0.8305 - 2s/epoch - 310ms/step\n",
            "Epoch 198/200\n",
            "\n",
            "Epoch 198: val_loss did not improve from 0.37293\n",
            "8/8 - 2s - loss: 0.3353 - accuracy: 0.8664 - val_loss: 0.4672 - val_accuracy: 0.7966 - 2s/epoch - 309ms/step\n",
            "Epoch 199/200\n",
            "\n",
            "Epoch 199: val_loss did not improve from 0.37293\n",
            "8/8 - 2s - loss: 0.3350 - accuracy: 0.8664 - val_loss: 0.4617 - val_accuracy: 0.8305 - 2s/epoch - 307ms/step\n",
            "Epoch 200/200\n",
            "\n",
            "Epoch 200: val_loss did not improve from 0.37293\n",
            "8/8 - 2s - loss: 0.3250 - accuracy: 0.8750 - val_loss: 0.4494 - val_accuracy: 0.8305 - 2s/epoch - 305ms/step\n"
          ]
        }
      ]
    },
    {
      "cell_type": "code",
      "source": [
        "import matplotlib.pyplot as plt"
      ],
      "metadata": {
        "id": "8Dhuy7ZPuVRs"
      },
      "execution_count": 146,
      "outputs": []
    },
    {
      "cell_type": "code",
      "source": [
        "# summarize history for accuracy\n",
        "plt.plot(history.history['accuracy'])\n",
        "plt.plot(history.history['val_accuracy'])\n",
        "plt.title('model accuracy')\n",
        "plt.ylabel('accuracy')\n",
        "plt.xlabel('epoch')\n",
        "plt.legend(['train', 'test'], loc='upper left')\n",
        "plt.show()\n",
        "# summarize history for loss\n",
        "plt.plot(history.history['loss'])\n",
        "plt.plot(history.history['val_loss'])\n",
        "plt.title('model loss')\n",
        "plt.ylabel('loss')\n",
        "plt.xlabel('epoch')\n",
        "plt.legend(['train', 'test'], loc='upper left')\n",
        "plt.show()"
      ],
      "metadata": {
        "colab": {
          "base_uri": "https://localhost:8080/",
          "height": 573
        },
        "id": "Mq6DTEhyuRfK",
        "outputId": "985684fc-9faa-47f7-bafc-27099ac08495"
      },
      "execution_count": 147,
      "outputs": [
        {
          "output_type": "display_data",
          "data": {
            "image/png": "[encoded data removed]",
            "text/plain": [
              "<Figure size 432x288 with 1 Axes>"
            ]
          },
          "metadata": {
            "needs_background": "light"
          }
        },
        {
          "output_type": "display_data",
          "data": {
            "image/png": "[encoded data removed]",
            "text/plain": [
              "<Figure size 432x288 with 1 Axes>"
            ]
          },
          "metadata": {
            "needs_background": "light"
          }
        }
      ]
    },
    {
      "cell_type": "markdown",
      "source": [
        "# Predict"
      ],
      "metadata": {
        "id": "R_qS9ik1y9S3"
      }
    },
    {
      "cell_type": "code",
      "source": [
        "model.load_weights('/content/tmp/checkpoint.h5')\n",
        "probs = model.predict(X1_test)"
      ],
      "metadata": {
        "id": "3zorV52Py_WU"
      },
      "execution_count": 140,
      "outputs": []
    },
    {
      "cell_type": "markdown",
      "source": [
        "# Result"
      ],
      "metadata": {
        "id": "Q8H8y_9xy_7G"
      }
    },
    {
      "cell_type": "code",
      "source": [
        "def report(thres):\n",
        "    y_pred =(probs>thres)\n",
        "    print(y_pred[:,-1].astype(int))\n",
        "    print(classification_report(y1_test, y_pred))\n",
        "    return classification_report(y1_test, y_pred)"
      ],
      "metadata": {
        "id": "Gjl-FPd4zCZJ"
      },
      "execution_count": 138,
      "outputs": []
    },
    {
      "cell_type": "code",
      "source": [
        "report(0.5)"
      ],
      "metadata": {
        "colab": {
          "base_uri": "https://localhost:8080/",
          "height": 348
        },
        "id": "It65Gx1lDFKG",
        "outputId": "24689a12-9afe-4dcf-a379-b216b7906d33"
      },
      "execution_count": 141,
      "outputs": [
        {
          "output_type": "stream",
          "name": "stdout",
          "text": [
            "[1 0 1 1 1 1 1 1 1 1 1 1 1 0 1 1 1 1 1 1 1 1 1 1 1 1 1 1 1 1 1 1 1 1 1 1 1\n",
            " 1 1 1 1 1 1 1 1 1 1 0 1 1 1 1 1 1 1 1 1 0 0 1 1 1 1 1 0 1 1 1 1 1 1 1 1 0\n",
            " 1 1 1 1 1 1 1 1 1 0 1 1 1 0 0 1 1 1 1 0 0 1 1 1 1 1 1 1 1 1 1 1 1 1 1 1 0\n",
            " 0 1 1 1 1 0 1 1 0 1 1 1 1 1 1 0 1 1 1 1 1 1 1 1 1 1 1 1 1 1 1 1 1 1 1 1 1\n",
            " 1 1 1 1 1 1 1 1 1 1 1 1 1 1 1 1 1 1 1 0 1 1 1 1 1 0 1 1 0 1 1 1 1 1 1 1 1\n",
            " 1 1 1 1 1 1 1 1 1 1 1 0 1 1 1 1 1 1 1 0 1 1 1 1 1 1 1 1 0 1 1 1 1 1 1 1 1\n",
            " 1 1 1 1 1 0 1 1 1 0 1 1 1 1 1 1 1 1 1 1 1 1 0 1 1 1 0]\n",
            "              precision    recall  f1-score   support\n",
            "\n",
            "           0       0.30      0.08      0.13        96\n",
            "           1       0.60      0.88      0.71       153\n",
            "\n",
            "   micro avg       0.57      0.57      0.57       249\n",
            "   macro avg       0.45      0.48      0.42       249\n",
            "weighted avg       0.49      0.57      0.49       249\n",
            " samples avg       0.57      0.57      0.57       249\n",
            "\n"
          ]
        },
        {
          "output_type": "execute_result",
          "data": {
            "application/vnd.google.colaboratory.intrinsic+json": {
              "type": "string"
            },
            "text/plain": [
              "'              precision    recall  f1-score   support\\n\\n           0       0.30      0.08      0.13        96\\n           1       0.60      0.88      0.71       153\\n\\n   micro avg       0.57      0.57      0.57       249\\n   macro avg       0.45      0.48      0.42       249\\nweighted avg       0.49      0.57      0.49       249\\n samples avg       0.57      0.57      0.57       249\\n'"
            ]
          },
          "metadata": {},
          "execution_count": 141
        }
      ]
    },
    {
      "cell_type": "code",
      "source": [
        "with open('readme.txt', 'a') as f:\n",
        "    f.write(' '.join(channels3))\n",
        "    f.write('\\n')\n",
        "    f.write(report(0.5))"
      ],
      "metadata": {
        "colab": {
          "base_uri": "https://localhost:8080/"
        },
        "id": "2SKiSVTpETlj",
        "outputId": "7853badd-7aa1-4e1b-91b1-a7d71026ba26"
      },
      "execution_count": null,
      "outputs": [
        {
          "output_type": "stream",
          "name": "stdout",
          "text": [
            "[1 0 1 1 1 0 1 1 0 1 1 0 1 0 0 1 1 1 1 1 1 1 1 1 1 1 0 1 1 1 1 1 1 1 1 1 1\n",
            " 1 1 1 0 1 1 0 0 1 1 1 0 0 0 1 1 0 1 1 0 0 1 1 1 0 1 1 1 0 1 1 0 1 1 1 1 0\n",
            " 1 1 1 0 0 1 1 1 1 1 1 1 1 1 1 1 1 1 1 1 1 1 1]\n",
            "              precision    recall  f1-score   support\n",
            "\n",
            "           0       0.91      0.50      0.65        40\n",
            "           1       0.73      0.96      0.83        57\n",
            "\n",
            "   micro avg       0.77      0.77      0.77        97\n",
            "   macro avg       0.82      0.73      0.74        97\n",
            "weighted avg       0.81      0.77      0.76        97\n",
            " samples avg       0.77      0.77      0.77        97\n",
            "\n"
          ]
        }
      ]
    },
    {
      "cell_type": "code",
      "source": [
        "from sklearn.discriminant_analysis import LinearDiscriminantAnalysis"
      ],
      "metadata": {
        "id": "qXrAL4wf-Q_L"
      },
      "execution_count": null,
      "outputs": []
    },
    {
      "cell_type": "code",
      "source": [
        "from sklearn import decomposition, datasets\n",
        "from sklearn.pipeline import Pipeline\n",
        "from sklearn import svm\n",
        "\n",
        "svc = svm.SVC()\n",
        "# pca = decomposition.PCA()\n",
        "\n",
        "# pipe = Pipeline(steps=[('pca', pca), ('svc', svc)])\n"
      ],
      "metadata": {
        "id": "2dDVPrJ8E98p"
      },
      "execution_count": 24,
      "outputs": []
    },
    {
      "cell_type": "code",
      "source": [
        "X1, y1= getData(loadData(1), pick_channels=channels3)"
      ],
      "metadata": {
        "colab": {
          "base_uri": "https://localhost:8080/"
        },
        "id": "XSEJkK57k0Xe",
        "outputId": "680715b1-98f3-4eab-e072-9f44ae33a811"
      },
      "execution_count": 136,
      "outputs": [
        {
          "output_type": "stream",
          "name": "stdout",
          "text": [
            "Reading /content/drive/MyDrive/ERN-Data/sub-001/eeg/sub-001_task-ERN_eeg.fdt\n",
            "Adding metadata with 14 columns\n",
            "Replacing existing metadata with 14 columns\n",
            "388 matching events found\n",
            "Applying baseline correction (mode: mean)\n",
            "0 projection items activated\n",
            "Loading data for 388 events and 1025 original time points ...\n",
            "    Rejecting  epoch based on EEG : ['FP1', 'FP2', 'F8', 'VEOG_lower']\n",
            "    Rejecting  epoch based on EEG : ['FP2', 'F4', 'F8', 'C6', 'HEOG_left', 'HEOG_right', 'VEOG_lower']\n",
            "    Rejecting  epoch based on EEG : ['F8']\n",
            "    Rejecting  epoch based on EEG : ['FP1', 'FP2', 'VEOG_lower']\n",
            "    Rejecting  epoch based on EEG : ['FP2', 'F8', 'VEOG_lower']\n",
            "    Rejecting  epoch based on EEG : ['FP1', 'F7', 'FP2', 'F8', 'VEOG_lower']\n",
            "    Rejecting  epoch based on EEG : ['F8']\n",
            "    Rejecting  epoch based on EEG : ['F8']\n",
            "    Rejecting  epoch based on EEG : ['F8']\n",
            "    Rejecting  epoch based on EEG : ['VEOG_lower']\n",
            "    Rejecting  epoch based on EEG : ['FP2', 'F8', 'VEOG_lower']\n",
            "    Rejecting  epoch based on EEG : ['FP2', 'F8', 'HEOG_right']\n",
            "    Rejecting  epoch based on EEG : ['FP1', 'FP2', 'VEOG_lower']\n",
            "    Rejecting  epoch based on EEG : ['F8']\n",
            "    Rejecting  epoch based on EEG : ['FP1', 'F7', 'P7', 'FP2', 'F4', 'F8', 'P8', 'PO8', 'VEOG_lower']\n",
            "    Rejecting  epoch based on EEG : ['F8', 'PO8']\n",
            "    Rejecting  epoch based on EEG : ['F8']\n",
            "    Rejecting  epoch based on EEG : ['F8']\n",
            "    Rejecting  epoch based on EEG : ['F8', 'HEOG_right', 'VEOG_lower']\n",
            "    Rejecting  epoch based on EEG : ['FP1', 'F7', 'FP2', 'F8', 'VEOG_lower']\n",
            "    Rejecting  epoch based on EEG : ['FP1', 'FP2', 'F4', 'F8', 'HEOG_right', 'VEOG_lower']\n",
            "    Rejecting  epoch based on EEG : ['FP1', 'F3', 'F7', 'O1', 'Oz', 'FP2', 'F4', 'F8', 'P8', 'VEOG_lower']\n",
            "    Rejecting  epoch based on EEG : ['FP1', 'F7', 'FP2', 'F4', 'F8', 'VEOG_lower']\n",
            "    Rejecting  epoch based on EEG : ['FP1', 'F7', 'P9', 'FP2', 'F4', 'F8', 'FC4', 'C4', 'C6', 'P4', 'HEOG_right', 'VEOG_lower']\n",
            "    Rejecting  epoch based on EEG : ['FP1', 'F7', 'F8', 'C6', 'HEOG_right', 'VEOG_lower']\n",
            "    Rejecting  epoch based on EEG : ['FP1', 'FP2', 'VEOG_lower']\n",
            "    Rejecting  epoch based on EEG : ['FP1', 'FP2', 'F8', 'VEOG_lower']\n",
            "    Rejecting  epoch based on EEG : ['FP1', 'FP2', 'F8', 'HEOG_right', 'VEOG_lower']\n",
            "    Rejecting  epoch based on EEG : ['FP1', 'F7', 'FP2', 'F4', 'F8', 'PO8', 'HEOG_left', 'HEOG_right', 'VEOG_lower']\n",
            "    Rejecting  epoch based on EEG : ['FP1', 'FP2', 'F4', 'F8', 'HEOG_left', 'HEOG_right', 'VEOG_lower']\n",
            "    Rejecting  epoch based on EEG : ['FP1', 'FP2', 'F4', 'F8', 'HEOG_left', 'HEOG_right', 'VEOG_lower']\n",
            "    Rejecting  epoch based on EEG : ['FP1', 'F7', 'FP2', 'F4', 'F8', 'HEOG_left', 'HEOG_right', 'VEOG_lower']\n",
            "    Rejecting  epoch based on EEG : ['F8']\n",
            "    Rejecting  epoch based on EEG : ['F8']\n",
            "    Rejecting  epoch based on EEG : ['FP2', 'F8']\n",
            "    Rejecting  epoch based on EEG : ['VEOG_lower']\n",
            "    Rejecting  epoch based on EEG : ['F8']\n",
            "    Rejecting  epoch based on EEG : ['F3', 'F7', 'FC3', 'C5', 'PO7', 'F8', 'PO8', 'HEOG_left', 'VEOG_lower']\n",
            "    Rejecting  epoch based on EEG : ['F7', 'F8']\n",
            "    Rejecting  epoch based on EEG : ['HEOG_right']\n",
            "    Rejecting  epoch based on EEG : ['FP1', 'FP2', 'F8']\n",
            "    Rejecting  epoch based on EEG : ['FP1', 'FP2', 'F4', 'F8', 'VEOG_lower']\n",
            "    Rejecting  epoch based on EEG : ['FP1', 'FP2', 'F4', 'F8', 'VEOG_lower']\n",
            "    Rejecting  epoch based on EEG : ['F7', 'FP2', 'F8']\n",
            "    Rejecting  epoch based on EEG : ['FP1', 'FP2', 'F8', 'HEOG_right', 'VEOG_lower']\n",
            "    Rejecting  epoch based on EEG : ['F8']\n",
            "    Rejecting  epoch based on EEG : ['F3', 'F7', 'FC3', 'C5', 'F4', 'F8', 'C6', 'HEOG_left']\n",
            "    Rejecting  epoch based on EEG : ['F7']\n",
            "    Rejecting  epoch based on EEG : ['F7']\n",
            "    Rejecting  epoch based on EEG : ['VEOG_lower']\n",
            "    Rejecting  epoch based on EEG : ['F7']\n",
            "    Rejecting  epoch based on EEG : ['F8']\n",
            "    Rejecting  epoch based on EEG : ['F8']\n",
            "    Rejecting  epoch based on EEG : ['FP1', 'FP2', 'VEOG_lower']\n",
            "    Rejecting  epoch based on EEG : ['FP1', 'FP2', 'F8', 'HEOG_right', 'VEOG_lower']\n",
            "    Rejecting  epoch based on EEG : ['FP1', 'F7', 'FP2', 'F4', 'F8', 'FC4', 'O2', 'HEOG_right', 'VEOG_lower']\n",
            "    Rejecting  epoch based on EEG : ['FP1', 'F7', 'P7', 'P9', 'PO7', 'O1', 'Oz', 'CPz', 'FP2', 'F8', 'C6', 'P4', 'P8', 'P10', 'PO8', 'PO4', 'O2', 'HEOG_left', 'HEOG_right']\n",
            "    Rejecting  epoch based on EEG : ['FP1', 'F3', 'F7', 'FC3', 'C3', 'C5', 'P7', 'P9', 'PO3', 'O1', 'Oz', 'Pz', 'CPz', 'FP2', 'Fz', 'F4', 'F8', 'FC4', 'FCz', 'Cz', 'C4', 'C6', 'P4', 'P8', 'P10', 'PO8', 'PO4', 'O2', 'HEOG_left', 'HEOG_right', 'VEOG_lower']\n",
            "    Rejecting  epoch based on EEG : ['FP1', 'P7', 'PO3', 'O1', 'Oz', 'FP2', 'F4', 'F8', 'FC4', 'P8', 'P10', 'PO4', 'O2', 'HEOG_left', 'VEOG_lower']\n",
            "    Rejecting  epoch based on EEG : ['FP1', 'Oz', 'FP2', 'F8', 'P8', 'P10', 'PO8', 'PO4', 'HEOG_right', 'VEOG_lower']\n",
            "    Rejecting  epoch based on EEG : ['Oz', 'FP2', 'F8', 'P8', 'PO8', 'PO4']\n",
            "    Rejecting  epoch based on EEG : ['F8']\n",
            "    Rejecting  epoch based on EEG : ['P8']\n",
            "    Rejecting  epoch based on EEG : ['C6', 'P8']\n",
            "    Rejecting  epoch based on EEG : ['F8']\n",
            "    Rejecting  epoch based on EEG : ['F8']\n",
            "    Rejecting  epoch based on EEG : ['F8']\n",
            "    Rejecting  epoch based on EEG : ['F8']\n",
            "    Rejecting  epoch based on EEG : ['F8']\n",
            "    Rejecting  epoch based on EEG : ['F8']\n",
            "    Rejecting  epoch based on EEG : ['F8']\n",
            "    Rejecting  epoch based on EEG : ['F8']\n",
            "    Rejecting  epoch based on EEG : ['FP2']\n",
            "    Rejecting  epoch based on EEG : ['F8']\n",
            "    Rejecting  epoch based on EEG : ['FP2', 'F8']\n",
            "    Rejecting  epoch based on EEG : ['F8']\n",
            "    Rejecting  epoch based on EEG : ['FP2', 'F8']\n",
            "    Rejecting  epoch based on EEG : ['FP2', 'F8', 'VEOG_lower']\n",
            "    Rejecting  epoch based on EEG : ['FP1', 'FP2', 'F8', 'VEOG_lower']\n",
            "    Rejecting  epoch based on EEG : ['F8']\n",
            "    Rejecting  epoch based on EEG : ['F8']\n",
            "    Rejecting  epoch based on EEG : ['F8']\n",
            "    Rejecting  epoch based on EEG : ['F8']\n",
            "    Rejecting  epoch based on EEG : ['P7', 'PO7', 'F8', 'P8', 'PO8', 'O2']\n",
            "    Rejecting  epoch based on EEG : ['P7', 'PO7', 'F8', 'PO8']\n",
            "    Rejecting  epoch based on EEG : ['F8']\n",
            "    Rejecting  epoch based on EEG : ['F8', 'PO8']\n",
            "    Rejecting  epoch based on EEG : ['F8', 'PO8']\n",
            "    Rejecting  epoch based on EEG : ['F8', 'PO8']\n",
            "    Rejecting  epoch based on EEG : ['F8', 'PO8']\n",
            "    Rejecting  epoch based on EEG : ['P7', 'PO7', 'FP2', 'F8', 'PO8', 'PO4', 'O2']\n",
            "    Rejecting  epoch based on EEG : ['F8', 'PO8']\n",
            "    Rejecting  epoch based on EEG : ['P7', 'PO7', 'F4', 'F8', 'PO8', 'O2']\n",
            "    Rejecting  epoch based on EEG : ['PO7', 'O1', 'F8', 'PO8', 'PO4', 'O2']\n",
            "    Rejecting  epoch based on EEG : ['PO7', 'F8', 'PO8', 'O2']\n",
            "    Rejecting  epoch based on EEG : ['F8', 'PO8', 'O2']\n",
            "    Rejecting  epoch based on EEG : ['F8', 'PO8']\n",
            "    Rejecting  epoch based on EEG : ['PO7', 'O1', 'F8', 'PO8', 'O2']\n",
            "    Rejecting  epoch based on EEG : ['F8', 'PO8']\n",
            "    Rejecting  epoch based on EEG : ['F8']\n",
            "    Rejecting  epoch based on EEG : ['F8']\n",
            "    Rejecting  epoch based on EEG : ['FP2', 'F8']\n",
            "    Rejecting  epoch based on EEG : ['P7', 'PO7', 'O1', 'F8', 'PO8', 'VEOG_lower']\n",
            "    Rejecting  epoch based on EEG : ['FP1', 'FP2', 'F8']\n",
            "    Rejecting  epoch based on EEG : ['FP2', 'F8', 'PO8', 'VEOG_lower']\n",
            "    Rejecting  epoch based on EEG : ['F8']\n",
            "    Rejecting  epoch based on EEG : ['FP2', 'F8', 'VEOG_lower']\n",
            "    Rejecting  epoch based on EEG : ['FP1', 'FP2', 'F8', 'HEOG_right', 'VEOG_lower']\n",
            "    Rejecting  epoch based on EEG : ['F8']\n",
            "    Rejecting  epoch based on EEG : ['F8']\n",
            "    Rejecting  epoch based on EEG : ['F8']\n",
            "    Rejecting  epoch based on EEG : ['F8']\n",
            "    Rejecting  epoch based on EEG : ['F8']\n",
            "    Rejecting  epoch based on EEG : ['F8']\n",
            "    Rejecting  epoch based on EEG : ['F8']\n",
            "    Rejecting  epoch based on EEG : ['FP1', 'F3', 'F7', 'FC3', 'C3', 'C5', 'FP2', 'F4', 'F8', 'FC4', 'C4', 'C6', 'HEOG_left', 'HEOG_right', 'VEOG_lower']\n",
            "    Rejecting  epoch based on EEG : ['FP1', 'F3', 'F7', 'FC3', 'C3', 'C5', 'FP2', 'Fz', 'F4', 'F8', 'FC4', 'C4', 'C6', 'HEOG_left', 'HEOG_right', 'VEOG_lower']\n",
            "    Rejecting  epoch based on EEG : ['F3', 'F7', 'FC3', 'C3', 'C5', 'FP2', 'F4', 'F8', 'FC4', 'C4', 'C6', 'HEOG_left', 'HEOG_right']\n",
            "    Rejecting  epoch based on EEG : ['F7', 'F4', 'F8', 'FC4', 'C6', 'HEOG_right']\n",
            "    Rejecting  epoch based on EEG : ['F7', 'F4', 'F8', 'FC4', 'C6', 'HEOG_right']\n",
            "    Rejecting  epoch based on EEG : ['F7', 'F4', 'F8', 'FC4', 'C6']\n",
            "    Rejecting  epoch based on EEG : ['F3', 'F7', 'F4', 'F8', 'FC4', 'C6', 'HEOG_right']\n",
            "    Rejecting  epoch based on EEG : ['F7', 'F4', 'F8', 'FC4', 'C6']\n",
            "    Rejecting  epoch based on EEG : ['F7', 'F8', 'FC4']\n",
            "    Rejecting  epoch based on EEG : ['F7', 'F8', 'FC4']\n",
            "    Rejecting  epoch based on EEG : ['F7', 'F4', 'F8', 'FC4', 'C6']\n",
            "    Rejecting  epoch based on EEG : ['F7', 'F4', 'F8', 'FC4', 'C6']\n",
            "    Rejecting  epoch based on EEG : ['F7', 'F8']\n",
            "    Rejecting  epoch based on EEG : ['F7', 'F8']\n",
            "    Rejecting  epoch based on EEG : ['F7', 'F8']\n",
            "    Rejecting  epoch based on EEG : ['F7', 'F4', 'F8', 'FC4']\n",
            "    Rejecting  epoch based on EEG : ['F7', 'F4', 'F8', 'FC4']\n",
            "    Rejecting  epoch based on EEG : ['F7', 'F8']\n",
            "    Rejecting  epoch based on EEG : ['F7', 'F8', 'C6']\n",
            "    Rejecting  epoch based on EEG : ['F7', 'F8', 'FC4']\n",
            "    Rejecting  epoch based on EEG : ['F7', 'F8']\n",
            "    Rejecting  epoch based on EEG : ['F7', 'F8']\n",
            "    Rejecting  epoch based on EEG : ['F7', 'F8', 'FC4']\n",
            "    Rejecting  epoch based on EEG : ['F7', 'F8', 'FC4']\n",
            "139 bad epochs dropped\n"
          ]
        }
      ]
    },
    {
      "cell_type": "code",
      "source": [
        "X1_test =  X1.reshape(X1.shape[0], chans, samples, kernels)\n",
        "y1_test = np_utils.to_categorical(y1)"
      ],
      "metadata": {
        "id": "QFxhSAoDs2aE"
      },
      "execution_count": 137,
      "outputs": []
    },
    {
      "cell_type": "code",
      "source": [
        "a= X.reshape((X.shape[0], X.shape[1]*X.shape[2]))"
      ],
      "metadata": {
        "id": "yyAOWjOgFh4G"
      },
      "execution_count": 91,
      "outputs": []
    },
    {
      "cell_type": "code",
      "source": [
        "a"
      ],
      "metadata": {
        "colab": {
          "base_uri": "https://localhost:8080/"
        },
        "id": "KjHz9f27b1md",
        "outputId": "f1d7c7e6-0933-4139-d319-a431f573acca"
      },
      "execution_count": 71,
      "outputs": [
        {
          "output_type": "execute_result",
          "data": {
            "text/plain": [
              "array([[ 5.85975610e-07,  1.67972561e-06,  7.10975610e-07, ...,\n",
              "        -1.55044207e-05, -1.61919207e-05, -1.64419207e-05],\n",
              "       [ 1.86605183e-05,  8.59801829e-06,  4.97301829e-06, ...,\n",
              "         1.34791159e-05,  1.65103659e-05,  1.62916159e-05],\n",
              "       [-3.18475610e-06, -1.52850610e-06, -1.59100610e-06, ...,\n",
              "        -1.77713415e-06, -2.08963415e-06, -1.71463415e-06],\n",
              "       ...,\n",
              "       [ 1.47131193e-05,  1.05256193e-05,  7.11936928e-06, ...,\n",
              "        -9.46295732e-06, -7.96295732e-06, -7.36920732e-06],\n",
              "       [ 1.38573742e-06,  2.04198742e-06,  2.41698742e-06, ...,\n",
              "        -7.99542683e-06, -9.43292683e-06, -1.07141768e-05],\n",
              "       [ 2.25872618e-05,  2.19935118e-05,  2.18685118e-05, ...,\n",
              "        -1.17179878e-05, -1.19992378e-05, -1.35929878e-05]])"
            ]
          },
          "metadata": {},
          "execution_count": 71
        }
      ]
    },
    {
      "cell_type": "code",
      "source": [
        "svc.fit(a,y)"
      ],
      "metadata": {
        "id": "vQwGbL2ZFje1",
        "colab": {
          "base_uri": "https://localhost:8080/"
        },
        "outputId": "9f612680-412a-431e-a1ec-5b4e62c2b081"
      },
      "execution_count": 92,
      "outputs": [
        {
          "output_type": "execute_result",
          "data": {
            "text/plain": [
              "SVC()"
            ]
          },
          "metadata": {},
          "execution_count": 92
        }
      ]
    },
    {
      "cell_type": "code",
      "source": [
        "a.shape"
      ],
      "metadata": {
        "colab": {
          "base_uri": "https://localhost:8080/"
        },
        "id": "-bmSfe6cFt4W",
        "outputId": "3ce26baf-876c-4dd3-c155-ed983caf7771"
      },
      "execution_count": 82,
      "outputs": [
        {
          "output_type": "execute_result",
          "data": {
            "text/plain": [
              "(388, 16400)"
            ]
          },
          "metadata": {},
          "execution_count": 82
        }
      ]
    },
    {
      "cell_type": "code",
      "source": [
        "import numpy as np"
      ],
      "metadata": {
        "id": "8JL7wVQYdo2f"
      },
      "execution_count": 35,
      "outputs": []
    },
    {
      "cell_type": "code",
      "source": [
        "X1.shape"
      ],
      "metadata": {
        "colab": {
          "base_uri": "https://localhost:8080/"
        },
        "id": "pT0zuoVklOcE",
        "outputId": "766dd682-df55-47e1-eb1f-03d62b19e301"
      },
      "execution_count": 73,
      "outputs": [
        {
          "output_type": "execute_result",
          "data": {
            "text/plain": [
              "(388, 16, 1025)"
            ]
          },
          "metadata": {},
          "execution_count": 73
        }
      ]
    },
    {
      "cell_type": "code",
      "source": [
        "X.shape"
      ],
      "metadata": {
        "colab": {
          "base_uri": "https://localhost:8080/"
        },
        "id": "YrXNNSiXla9V",
        "outputId": "917b6e7a-5e07-4ae8-966a-3f7a7033488f"
      },
      "execution_count": 68,
      "outputs": [
        {
          "output_type": "execute_result",
          "data": {
            "text/plain": [
              "(388, 16, 1025)"
            ]
          },
          "metadata": {},
          "execution_count": 68
        }
      ]
    },
    {
      "cell_type": "code",
      "source": [
        "probs = svc.predict(X1.reshape((X1.shape[0], X.shape[1]*X.shape[2])))\n",
        "# y_val = np.argmax(y_val, axis=1)"
      ],
      "metadata": {
        "id": "xi7nWJMNeHYn"
      },
      "execution_count": 101,
      "outputs": []
    },
    {
      "cell_type": "code",
      "source": [
        "probs"
      ],
      "metadata": {
        "colab": {
          "base_uri": "https://localhost:8080/"
        },
        "id": "kV9RCaM0pBsx",
        "outputId": "ecd6b7a4-6e36-4dda-c32e-d82aeeeb5a52"
      },
      "execution_count": 102,
      "outputs": [
        {
          "output_type": "execute_result",
          "data": {
            "text/plain": [
              "array([1, 1, 1, 1, 1, 1, 1, 1, 1, 1, 1, 1, 1, 1, 1, 1, 1, 1, 1, 1, 1, 1,\n",
              "       1, 1, 1, 1, 1, 1, 1, 1, 1, 1, 1, 1, 1, 1, 1, 1, 1, 1, 1, 1, 1, 1,\n",
              "       1, 1, 1, 1, 1, 1, 1, 1, 1, 1, 1, 1, 1, 1, 1, 1, 1, 1, 0, 1, 1, 1,\n",
              "       1, 1, 1, 1, 1, 1, 1, 1, 1, 1, 1, 1, 1, 1, 1, 1, 1, 1, 1, 1, 1, 1,\n",
              "       1, 1, 1, 1, 1, 1, 1, 1, 1, 1, 1, 1, 1, 1, 1, 1, 1, 1, 1, 1, 1, 1,\n",
              "       1, 1, 1, 1, 1, 1, 1, 1, 1, 1, 1, 1, 1, 1, 1, 1, 1, 1, 1, 1, 1, 1,\n",
              "       1, 1, 1, 1, 1, 1, 1, 1, 1, 1, 1, 1, 1, 1, 1, 1, 1, 1, 1, 1, 1, 1,\n",
              "       1, 1, 1, 1, 1, 1, 1, 1, 1, 1, 1, 1, 1, 1, 1, 1, 1, 1, 1, 1, 1, 1,\n",
              "       1, 1, 1, 1, 1, 1, 1, 1, 1, 1, 1, 1, 1, 1, 1, 1, 1, 1, 1, 1, 1, 1,\n",
              "       1, 1, 1, 1, 1, 1, 1, 1, 1, 1, 1, 1, 1, 1, 1, 1, 1, 1, 1, 1, 1, 1,\n",
              "       1, 1, 1, 1, 1, 1, 1, 1, 1, 1, 1, 1, 1, 1, 1, 0, 1, 1, 1, 1, 1, 1,\n",
              "       1, 1, 1, 1, 1, 1, 1, 1, 1, 1, 1, 1, 1, 1, 1, 1, 1, 1, 1, 1, 1, 1,\n",
              "       1, 1, 1, 1, 1, 1, 1, 1, 1, 1, 1, 1, 1, 1, 1, 1, 1, 1, 0, 1, 1, 1,\n",
              "       1, 1, 1, 1, 1, 1, 1, 1, 1, 1, 1, 1, 1, 1, 1, 1, 1, 1, 1, 1, 1, 1,\n",
              "       1, 1, 1, 1, 1, 1, 1, 1, 1, 1, 1, 1, 1, 1, 1, 1, 1, 1, 1, 1, 1, 1,\n",
              "       1, 1, 1, 1, 1, 1, 1, 1, 1, 1, 1, 1, 1, 1, 1, 1, 1, 1, 1, 1, 1, 1,\n",
              "       1, 1, 1, 1, 1, 1, 1, 1, 1, 1, 1, 1, 1, 1, 1, 1, 1, 1, 1, 1, 1, 1,\n",
              "       1, 1, 1, 1, 1, 1, 1, 1, 1, 1, 1, 1, 1, 1])"
            ]
          },
          "metadata": {},
          "execution_count": 102
        }
      ]
    },
    {
      "cell_type": "code",
      "source": [
        "y1"
      ],
      "metadata": {
        "colab": {
          "base_uri": "https://localhost:8080/"
        },
        "id": "Onje-YF0p4Y-",
        "outputId": "d12f7966-3264-4872-9609-4b7973a61c25"
      },
      "execution_count": 103,
      "outputs": [
        {
          "output_type": "execute_result",
          "data": {
            "text/plain": [
              "array([1, 0, 0, 1, 1, 1, 0, 1, 1, 1, 1, 0, 1, 0, 1, 0, 1, 1, 1, 1, 1, 1,\n",
              "       0, 1, 1, 1, 0, 1, 1, 0, 1, 0, 1, 1, 1, 1, 1, 0, 0, 0, 1, 1, 1, 1,\n",
              "       0, 1, 0, 1, 1, 1, 1, 1, 0, 1, 1, 1, 1, 1, 1, 1, 1, 0, 1, 0, 0, 1,\n",
              "       1, 1, 1, 0, 0, 1, 0, 1, 1, 0, 0, 0, 0, 1, 0, 1, 1, 0, 0, 1, 1, 0,\n",
              "       1, 1, 1, 1, 0, 1, 0, 1, 0, 0, 1, 0, 1, 1, 0, 0, 0, 0, 1, 0, 1, 1,\n",
              "       1, 1, 0, 1, 1, 1, 0, 1, 1, 1, 0, 0, 0, 0, 0, 1, 1, 1, 0, 0, 1, 1,\n",
              "       1, 0, 0, 1, 0, 1, 0, 0, 1, 0, 0, 1, 0, 1, 1, 1, 1, 1, 1, 1, 0, 0,\n",
              "       1, 0, 1, 0, 1, 1, 0, 1, 0, 0, 1, 0, 1, 0, 0, 1, 0, 0, 0, 1, 1, 1,\n",
              "       0, 1, 0, 0, 1, 1, 0, 1, 0, 1, 0, 0, 0, 0, 1, 0, 1, 0, 0, 1, 1, 0,\n",
              "       1, 1, 1, 1, 1, 1, 1, 0, 1, 1, 1, 0, 1, 0, 0, 0, 0, 1, 0, 1, 0, 0,\n",
              "       1, 1, 1, 0, 0, 1, 1, 0, 0, 1, 0, 0, 1, 1, 1, 1, 1, 1, 1, 1, 1, 1,\n",
              "       1, 0, 0, 0, 1, 1, 0, 0, 1, 0, 1, 1, 0, 1, 1, 1, 1, 0, 1, 1, 1, 0,\n",
              "       1, 1, 1, 1, 1, 1, 1, 1, 1, 0, 1, 0, 1, 1, 1, 0, 0, 1, 0, 0, 1, 0,\n",
              "       1, 1, 0, 0, 1, 0, 0, 1, 0, 1, 0, 0, 0, 0, 0, 1, 0, 1, 1, 0, 1, 1,\n",
              "       1, 0, 1, 0, 0, 1, 1, 1, 1, 1, 1, 1, 1, 0, 0, 1, 1, 1, 1, 1, 1, 0,\n",
              "       1, 1, 1, 0, 1, 1, 1, 1, 0, 1, 0, 1, 1, 1, 1, 1, 1, 1, 1, 1, 1, 1,\n",
              "       1, 1, 1, 1, 1, 1, 1, 1, 1, 1, 1, 1, 1, 1, 1, 1, 1, 0, 1, 1, 0, 1,\n",
              "       1, 1, 1, 1, 0, 1, 1, 1, 1, 1, 1, 1, 1, 1])"
            ]
          },
          "metadata": {},
          "execution_count": 103
        }
      ]
    },
    {
      "cell_type": "code",
      "source": [
        "print(classification_report(probs,y1))"
      ],
      "metadata": {
        "colab": {
          "base_uri": "https://localhost:8080/"
        },
        "id": "cKFCyorwcjUA",
        "outputId": "aeb2e9ad-8682-4ca5-9004-66e28fa9f44f"
      },
      "execution_count": 96,
      "outputs": [
        {
          "output_type": "stream",
          "name": "stdout",
          "text": [
            "              precision    recall  f1-score   support\n",
            "\n",
            "           0       0.01      0.40      0.03         5\n",
            "           1       0.99      0.64      0.78       383\n",
            "\n",
            "    accuracy                           0.64       388\n",
            "   macro avg       0.50      0.52      0.40       388\n",
            "weighted avg       0.98      0.64      0.77       388\n",
            "\n"
          ]
        }
      ]
    },
    {
      "cell_type": "code",
      "source": [
        "model.fit_transform(X,y)"
      ],
      "metadata": {
        "colab": {
          "base_uri": "https://localhost:8080/",
          "height": 328
        },
        "id": "RhK_G9R6IM79",
        "outputId": "880e1280-830f-4ab8-e637-9de3e926016e"
      },
      "execution_count": null,
      "outputs": [
        {
          "output_type": "error",
          "ename": "ValueError",
          "evalue": "ignored",
          "traceback": [
            "\u001b[0;31m---------------------------------------------------------------------------\u001b[0m",
            "\u001b[0;31mValueError\u001b[0m                                Traceback (most recent call last)",
            "\u001b[0;32m<ipython-input-173-0f8635be22ee>\u001b[0m in \u001b[0;36m<module>\u001b[0;34m()\u001b[0m\n\u001b[0;32m----> 1\u001b[0;31m \u001b[0mmodel\u001b[0m\u001b[0;34m.\u001b[0m\u001b[0mfit_transform\u001b[0m\u001b[0;34m(\u001b[0m\u001b[0mX\u001b[0m\u001b[0;34m,\u001b[0m\u001b[0my\u001b[0m\u001b[0;34m)\u001b[0m\u001b[0;34m\u001b[0m\u001b[0;34m\u001b[0m\u001b[0m\n\u001b[0m",
            "\u001b[0;32m/usr/local/lib/python3.7/dist-packages/sklearn/base.py\u001b[0m in \u001b[0;36mfit_transform\u001b[0;34m(self, X, y, **fit_params)\u001b[0m\n\u001b[1;32m    853\u001b[0m         \u001b[0;32melse\u001b[0m\u001b[0;34m:\u001b[0m\u001b[0;34m\u001b[0m\u001b[0;34m\u001b[0m\u001b[0m\n\u001b[1;32m    854\u001b[0m             \u001b[0;31m# fit method of arity 2 (supervised transformation)\u001b[0m\u001b[0;34m\u001b[0m\u001b[0;34m\u001b[0m\u001b[0;34m\u001b[0m\u001b[0m\n\u001b[0;32m--> 855\u001b[0;31m             \u001b[0;32mreturn\u001b[0m \u001b[0mself\u001b[0m\u001b[0;34m.\u001b[0m\u001b[0mfit\u001b[0m\u001b[0;34m(\u001b[0m\u001b[0mX\u001b[0m\u001b[0;34m,\u001b[0m \u001b[0my\u001b[0m\u001b[0;34m,\u001b[0m \u001b[0;34m**\u001b[0m\u001b[0mfit_params\u001b[0m\u001b[0;34m)\u001b[0m\u001b[0;34m.\u001b[0m\u001b[0mtransform\u001b[0m\u001b[0;34m(\u001b[0m\u001b[0mX\u001b[0m\u001b[0;34m)\u001b[0m\u001b[0;34m\u001b[0m\u001b[0;34m\u001b[0m\u001b[0m\n\u001b[0m\u001b[1;32m    856\u001b[0m \u001b[0;34m\u001b[0m\u001b[0m\n\u001b[1;32m    857\u001b[0m \u001b[0;34m\u001b[0m\u001b[0m\n",
            "\u001b[0;32m/usr/local/lib/python3.7/dist-packages/sklearn/discriminant_analysis.py\u001b[0m in \u001b[0;36mfit\u001b[0;34m(self, X, y)\u001b[0m\n\u001b[1;32m    543\u001b[0m         \"\"\"\n\u001b[1;32m    544\u001b[0m         X, y = self._validate_data(\n\u001b[0;32m--> 545\u001b[0;31m             \u001b[0mX\u001b[0m\u001b[0;34m,\u001b[0m \u001b[0my\u001b[0m\u001b[0;34m,\u001b[0m \u001b[0mensure_min_samples\u001b[0m\u001b[0;34m=\u001b[0m\u001b[0;36m2\u001b[0m\u001b[0;34m,\u001b[0m \u001b[0mestimator\u001b[0m\u001b[0;34m=\u001b[0m\u001b[0mself\u001b[0m\u001b[0;34m,\u001b[0m \u001b[0mdtype\u001b[0m\u001b[0;34m=\u001b[0m\u001b[0;34m[\u001b[0m\u001b[0mnp\u001b[0m\u001b[0;34m.\u001b[0m\u001b[0mfloat64\u001b[0m\u001b[0;34m,\u001b[0m \u001b[0mnp\u001b[0m\u001b[0;34m.\u001b[0m\u001b[0mfloat32\u001b[0m\u001b[0;34m]\u001b[0m\u001b[0;34m\u001b[0m\u001b[0;34m\u001b[0m\u001b[0m\n\u001b[0m\u001b[1;32m    546\u001b[0m         )\n\u001b[1;32m    547\u001b[0m         \u001b[0mself\u001b[0m\u001b[0;34m.\u001b[0m\u001b[0mclasses_\u001b[0m \u001b[0;34m=\u001b[0m \u001b[0munique_labels\u001b[0m\u001b[0;34m(\u001b[0m\u001b[0my\u001b[0m\u001b[0;34m)\u001b[0m\u001b[0;34m\u001b[0m\u001b[0;34m\u001b[0m\u001b[0m\n",
            "\u001b[0;32m/usr/local/lib/python3.7/dist-packages/sklearn/base.py\u001b[0m in \u001b[0;36m_validate_data\u001b[0;34m(self, X, y, reset, validate_separately, **check_params)\u001b[0m\n\u001b[1;32m    579\u001b[0m                 \u001b[0my\u001b[0m \u001b[0;34m=\u001b[0m \u001b[0mcheck_array\u001b[0m\u001b[0;34m(\u001b[0m\u001b[0my\u001b[0m\u001b[0;34m,\u001b[0m \u001b[0;34m**\u001b[0m\u001b[0mcheck_y_params\u001b[0m\u001b[0;34m)\u001b[0m\u001b[0;34m\u001b[0m\u001b[0;34m\u001b[0m\u001b[0m\n\u001b[1;32m    580\u001b[0m             \u001b[0;32melse\u001b[0m\u001b[0;34m:\u001b[0m\u001b[0;34m\u001b[0m\u001b[0;34m\u001b[0m\u001b[0m\n\u001b[0;32m--> 581\u001b[0;31m                 \u001b[0mX\u001b[0m\u001b[0;34m,\u001b[0m \u001b[0my\u001b[0m \u001b[0;34m=\u001b[0m \u001b[0mcheck_X_y\u001b[0m\u001b[0;34m(\u001b[0m\u001b[0mX\u001b[0m\u001b[0;34m,\u001b[0m \u001b[0my\u001b[0m\u001b[0;34m,\u001b[0m \u001b[0;34m**\u001b[0m\u001b[0mcheck_params\u001b[0m\u001b[0;34m)\u001b[0m\u001b[0;34m\u001b[0m\u001b[0;34m\u001b[0m\u001b[0m\n\u001b[0m\u001b[1;32m    582\u001b[0m             \u001b[0mout\u001b[0m \u001b[0;34m=\u001b[0m \u001b[0mX\u001b[0m\u001b[0;34m,\u001b[0m \u001b[0my\u001b[0m\u001b[0;34m\u001b[0m\u001b[0;34m\u001b[0m\u001b[0m\n\u001b[1;32m    583\u001b[0m \u001b[0;34m\u001b[0m\u001b[0m\n",
            "\u001b[0;32m/usr/local/lib/python3.7/dist-packages/sklearn/utils/validation.py\u001b[0m in \u001b[0;36mcheck_X_y\u001b[0;34m(X, y, accept_sparse, accept_large_sparse, dtype, order, copy, force_all_finite, ensure_2d, allow_nd, multi_output, ensure_min_samples, ensure_min_features, y_numeric, estimator)\u001b[0m\n\u001b[1;32m    974\u001b[0m         \u001b[0mensure_min_samples\u001b[0m\u001b[0;34m=\u001b[0m\u001b[0mensure_min_samples\u001b[0m\u001b[0;34m,\u001b[0m\u001b[0;34m\u001b[0m\u001b[0;34m\u001b[0m\u001b[0m\n\u001b[1;32m    975\u001b[0m         \u001b[0mensure_min_features\u001b[0m\u001b[0;34m=\u001b[0m\u001b[0mensure_min_features\u001b[0m\u001b[0;34m,\u001b[0m\u001b[0;34m\u001b[0m\u001b[0;34m\u001b[0m\u001b[0m\n\u001b[0;32m--> 976\u001b[0;31m         \u001b[0mestimator\u001b[0m\u001b[0;34m=\u001b[0m\u001b[0mestimator\u001b[0m\u001b[0;34m,\u001b[0m\u001b[0;34m\u001b[0m\u001b[0;34m\u001b[0m\u001b[0m\n\u001b[0m\u001b[1;32m    977\u001b[0m     )\n\u001b[1;32m    978\u001b[0m \u001b[0;34m\u001b[0m\u001b[0m\n",
            "\u001b[0;32m/usr/local/lib/python3.7/dist-packages/sklearn/utils/validation.py\u001b[0m in \u001b[0;36mcheck_array\u001b[0;34m(array, accept_sparse, accept_large_sparse, dtype, order, copy, force_all_finite, ensure_2d, allow_nd, ensure_min_samples, ensure_min_features, estimator)\u001b[0m\n\u001b[1;32m    794\u001b[0m             raise ValueError(\n\u001b[1;32m    795\u001b[0m                 \u001b[0;34m\"Found array with dim %d. %s expected <= 2.\"\u001b[0m\u001b[0;34m\u001b[0m\u001b[0;34m\u001b[0m\u001b[0m\n\u001b[0;32m--> 796\u001b[0;31m                 \u001b[0;34m%\u001b[0m \u001b[0;34m(\u001b[0m\u001b[0marray\u001b[0m\u001b[0;34m.\u001b[0m\u001b[0mndim\u001b[0m\u001b[0;34m,\u001b[0m \u001b[0mestimator_name\u001b[0m\u001b[0;34m)\u001b[0m\u001b[0;34m\u001b[0m\u001b[0;34m\u001b[0m\u001b[0m\n\u001b[0m\u001b[1;32m    797\u001b[0m             )\n\u001b[1;32m    798\u001b[0m \u001b[0;34m\u001b[0m\u001b[0m\n",
            "\u001b[0;31mValueError\u001b[0m: Found array with dim 4. LinearDiscriminantAnalysis expected <= 2."
          ]
        }
      ]
    },
    {
      "cell_type": "code",
      "source": [
        ""
      ],
      "metadata": {
        "id": "7Ljf7rOAwFiO"
      },
      "execution_count": null,
      "outputs": []
    }
  ]
}