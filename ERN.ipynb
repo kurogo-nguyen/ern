{
  "cells": [
    {
      "cell_type": "markdown",
      "metadata": {
        "id": "view-in-github",
        "colab_type": "text"
      },
      "source": [
        "<a href=\"https://colab.research.google.com/github/kurogo-nguyen/ern/blob/main/ERN.ipynb\" target=\"_parent\"><img src=\"https://colab.research.google.com/assets/colab-badge.svg\" alt=\"Open In Colab\"/></a>"
      ]
    },
    {
      "cell_type": "code",
      "execution_count": 29,
      "metadata": {
        "colab": {
          "base_uri": "https://localhost:8080/"
        },
        "id": "wqenka6uQ7hW",
        "outputId": "c1ac8106-17b0-485c-cf3a-fdc3126eeaa2"
      },
      "outputs": [
        {
          "output_type": "stream",
          "name": "stdout",
          "text": [
            "Requirement already satisfied: mne in /usr/local/lib/python3.7/dist-packages (0.24.1)\n",
            "Requirement already satisfied: numpy>=1.15.4 in /usr/local/lib/python3.7/dist-packages (from mne) (1.21.5)\n",
            "Requirement already satisfied: scipy>=1.1.0 in /usr/local/lib/python3.7/dist-packages (from mne) (1.4.1)\n"
          ]
        }
      ],
      "source": [
        "!pip install mne"
      ]
    },
    {
      "cell_type": "markdown",
      "metadata": {
        "id": "nLQd41R2wtSG"
      },
      "source": [
        "# Import"
      ]
    },
    {
      "cell_type": "code",
      "execution_count": 30,
      "metadata": {
        "id": "xta4kphDu50S"
      },
      "outputs": [],
      "source": [
        "import mne\n",
        "import numpy as np\n",
        "\n",
        "from keras.models import Model\n",
        "from keras.layers import Dense, Activation, Permute, Dropout\n",
        "from keras.layers import Conv2D, MaxPooling2D, AveragePooling2D\n",
        "from keras.layers import SeparableConv2D, DepthwiseConv2D\n",
        "from keras.layers import BatchNormalization\n",
        "from keras.layers import Input, Flatten\n",
        "from keras.constraints import max_norm\n",
        "from keras.callbacks import ModelCheckpoint, EarlyStopping, ReduceLROnPlateau\n",
        "from keras.utils import np_utils\n",
        "\n",
        "from sklearn.model_selection import train_test_split\n",
        "from sklearn.metrics import classification_report, accuracy_score\n",
        "from sklearn.metrics import ConfusionMatrixDisplay"
      ]
    },
    {
      "cell_type": "markdown",
      "metadata": {
        "id": "E-8b3o8Lyqy-"
      },
      "source": [
        "# Def func"
      ]
    },
    {
      "cell_type": "code",
      "execution_count": 31,
      "metadata": {
        "id": "7LpKG95Li_Yc"
      },
      "outputs": [],
      "source": [
        "data_path = '/content/drive/MyDrive/ERN-Data/' #@param {type:\"string\"}"
      ]
    },
    {
      "cell_type": "code",
      "execution_count": 32,
      "metadata": {
        "id": "E-22klJyfbTo"
      },
      "outputs": [],
      "source": [
        "def getData(id, pick_channels=['Fz'], metadata_tmin=-0.4, metadata_tmax=1, \n",
        "            epochs_tmin=-0.4, epochs_tmax=0.6, l_freq=0.1, h_freq=30,\n",
        "            baseline=(-0.4, -0.2)):\n",
        "    \n",
        "    id=str(id).zfill(3)\n",
        "    raw = mne.io.read_raw(f'{data_path}/sub-{id}/eeg/sub-{id}_task-ERN_eeg.set', preload=True)\n",
        "    raw.pick_channels(pick_channels)\n",
        "    raw.filter(l_freq,h_freq,verbose=0)\n",
        "    raw.resample(128)\n",
        "\n",
        "    all_events, all_event_id = mne.events_from_annotations(raw)\n",
        "\n",
        "    c_row_events = list(np.intersect1d([*all_event_id],row_events))\n",
        "\n",
        "    metadata, events, event_id = mne.epochs.make_metadata(events=all_events, \n",
        "                                                          event_id=all_event_id,\n",
        "                                                          tmin=metadata_tmin, \n",
        "                                                          tmax=metadata_tmax, \n",
        "                                                          sfreq=raw.info['sfreq'],\n",
        "                                                          row_events=c_row_events,\n",
        "                                                          )\n",
        "    \n",
        "    metadata['response_correct']=False\n",
        "    metadata.loc[metadata['event_name'].isin(correct_response), 'response_correct'] = True\n",
        "    reject = {'eeg': 250e-6}\n",
        "    epochs = mne.Epochs(raw=raw, tmin=epochs_tmin, tmax=epochs_tmax,\n",
        "                        baseline=baseline, \n",
        "                        events=events, event_id=event_id, metadata=metadata,\n",
        "                        reject=reject,\n",
        "                        preload=True,\n",
        "                        verbose=0)\n",
        "    \n",
        "    \n",
        "    X = epochs.get_data()[2:]\n",
        "    y = (epochs.metadata.response_correct*1).to_numpy()[2:]\n",
        "\n",
        "    return X,y"
      ]
    },
    {
      "cell_type": "markdown",
      "metadata": {
        "id": "mZL60wIt53WI"
      },
      "source": [
        "#Parameter"
      ]
    },
    {
      "cell_type": "code",
      "execution_count": 33,
      "metadata": {
        "id": "MJKZTFuVuOGI"
      },
      "outputs": [],
      "source": [
        "channels1 = ['Fz','Cz']\n",
        "channels2 = ['FP1', 'F3', 'F7', 'FC3', 'C3', 'C5', 'P3', 'P7', 'P9', 'PO7',\n",
        "            'PO3', 'O1', 'Oz', 'Pz', 'CPz', 'FP2', 'Fz', 'F4', 'F8', 'FC4',\n",
        "            'FCz', 'Cz', 'C4', 'C6', 'P4', 'P8', 'P10', 'PO8', 'PO4', 'O2']\n",
        "channels3 = ['F3', 'F7', 'C3', 'P3', 'P7', 'O1', 'Oz', 'Pz', 'Fz', 'F4', 'F8', \n",
        "             'Cz', 'C4', 'P4', 'P8', 'O2']\n",
        "channels4 = ['FP1', 'F3', 'F7', 'FC3', 'C3', 'C5','FP2', 'Fz', 'F4', 'F8', 'FC4',\n",
        "             'FCz', 'Cz', 'C4', 'C6',]"
      ]
    },
    {
      "cell_type": "code",
      "execution_count": 34,
      "metadata": {
        "id": "adQ-xoCZ58ZQ"
      },
      "outputs": [],
      "source": [
        "pick_channel = channels4"
      ]
    },
    {
      "cell_type": "code",
      "execution_count": 35,
      "metadata": {
        "id": "CFBzTSoGvdFy"
      },
      "outputs": [],
      "source": [
        "\"\"\" response - flanker - target\n",
        "    1: left/compatible\n",
        "    2: right/incompatible\n",
        "\"\"\"\n",
        "\n",
        "correct_response = ['111', '121',          # respones: left  - target: left\n",
        "                    '212', '222',]         # respones: right - target: right\n",
        "\n",
        "incorrect_response = ['112', '122',         # respones: left  - target: right\n",
        "                     '211', '221',]         # respones: right - target: left\n",
        "\n",
        "row_events = correct_response + incorrect_response"
      ]
    },
    {
      "cell_type": "markdown",
      "metadata": {
        "id": "Htovm2FLyuaO"
      },
      "source": [
        "# Load data"
      ]
    },
    {
      "cell_type": "code",
      "execution_count": null,
      "metadata": {
        "colab": {
          "base_uri": "https://localhost:8080/"
        },
        "id": "KJj3CoESsTMk",
        "outputId": "be66a48a-a009-48ea-d3d2-df70fbf3a3f3"
      },
      "outputs": [
        {
          "output_type": "stream",
          "name": "stdout",
          "text": [
            "Reading /content/drive/MyDrive/ERN-Data/sub-001/eeg/sub-001_task-ERN_eeg.fdt\n",
            "Reading 0 ... 935935  =      0.000 ...   913.999 secs...\n",
            "Used Annotations descriptions: ['11', '111', '112', '12', '121', '122', '21', '211', '212', '22', '221', '222']\n",
            "Reading /content/drive/MyDrive/ERN-Data/sub-002/eeg/sub-002_task-ERN_eeg.fdt\n",
            "Reading 0 ... 900095  =      0.000 ...   878.999 secs...\n",
            "Used Annotations descriptions: ['11', '111', '112', '12', '121', '122', '21', '212', '22', '221', '222']\n",
            "Reading /content/drive/MyDrive/ERN-Data/sub-003/eeg/sub-003_task-ERN_eeg.fdt\n",
            "Reading 0 ... 792575  =      0.000 ...   773.999 secs...\n",
            "Used Annotations descriptions: ['11', '111', '12', '121', '122', '21', '211', '212', '22', '221', '222']\n"
          ]
        },
        {
          "output_type": "stream",
          "name": "stderr",
          "text": [
            "/usr/local/lib/python3.7/dist-packages/ipykernel_launcher.py:23: SettingWithCopyWarning: \n",
            "A value is trying to be set on a copy of a slice from a DataFrame.\n",
            "Try using .loc[row_indexer,col_indexer] = value instead\n",
            "\n",
            "See the caveats in the documentation: https://pandas.pydata.org/pandas-docs/stable/user_guide/indexing.html#returning-a-view-versus-a-copy\n",
            "/usr/local/lib/python3.7/dist-packages/pandas/core/indexing.py:1817: SettingWithCopyWarning: \n",
            "A value is trying to be set on a copy of a slice from a DataFrame.\n",
            "Try using .loc[row_indexer,col_indexer] = value instead\n",
            "\n",
            "See the caveats in the documentation: https://pandas.pydata.org/pandas-docs/stable/user_guide/indexing.html#returning-a-view-versus-a-copy\n",
            "  self._setitem_single_column(loc, value, pi)\n"
          ]
        },
        {
          "output_type": "stream",
          "name": "stdout",
          "text": [
            "Reading /content/drive/MyDrive/ERN-Data/sub-004/eeg/sub-004_task-ERN_eeg.fdt\n",
            "Reading 0 ... 1023999  =      0.000 ...   999.999 secs...\n",
            "Used Annotations descriptions: ['11', '111', '112', '12', '121', '122', '21', '211', '212', '22', '221', '222']\n",
            "Reading /content/drive/MyDrive/ERN-Data/sub-005/eeg/sub-005_task-ERN_eeg.fdt\n",
            "Reading 0 ... 800767  =      0.000 ...   781.999 secs...\n",
            "Used Annotations descriptions: ['11', '111', '12', '121', '21', '212', '22', '221', '222']\n",
            "Reading /content/drive/MyDrive/ERN-Data/sub-006/eeg/sub-006_task-ERN_eeg.fdt\n",
            "Reading 0 ... 669695  =      0.000 ...   653.999 secs...\n",
            "Used Annotations descriptions: ['11', '111', '112', '12', '121', '122', '21', '211', '212', '22', '221', '222']\n",
            "Reading /content/drive/MyDrive/ERN-Data/sub-007/eeg/sub-007_task-ERN_eeg.fdt\n",
            "Reading 0 ... 746495  =      0.000 ...   728.999 secs...\n",
            "Used Annotations descriptions: ['11', '111', '112', '12', '121', '122', '21', '211', '212', '22', '221', '222']\n",
            "Reading /content/drive/MyDrive/ERN-Data/sub-008/eeg/sub-008_task-ERN_eeg.fdt\n",
            "Reading 0 ... 1074175  =      0.000 ...  1048.999 secs...\n",
            "Used Annotations descriptions: ['11', '111', '112', '12', '121', '122', '21', '212', '22', '221', '222']\n",
            "Reading /content/drive/MyDrive/ERN-Data/sub-009/eeg/sub-009_task-ERN_eeg.fdt\n",
            "Reading 0 ... 698367  =      0.000 ...   681.999 secs...\n",
            "Used Annotations descriptions: ['11', '111', '112', '12', '121', '122', '21', '211', '212', '22', '221', '222']\n",
            "Reading /content/drive/MyDrive/ERN-Data/sub-010/eeg/sub-010_task-ERN_eeg.fdt\n",
            "Reading 0 ... 770047  =      0.000 ...   751.999 secs...\n",
            "Used Annotations descriptions: ['11', '111', '112', '12', '121', '122', '21', '211', '212', '22', '221', '222']\n",
            "Reading /content/drive/MyDrive/ERN-Data/sub-011/eeg/sub-011_task-ERN_eeg.fdt\n",
            "Reading 0 ... 741375  =      0.000 ...   723.999 secs...\n",
            "Used Annotations descriptions: ['11', '111', '112', '12', '121', '122', '21', '211', '212', '22', '221', '222']\n",
            "Reading /content/drive/MyDrive/ERN-Data/sub-012/eeg/sub-012_task-ERN_eeg.fdt\n",
            "Reading 0 ... 693247  =      0.000 ...   676.999 secs...\n",
            "Used Annotations descriptions: ['11', '111', '112', '12', '121', '122', '21', '211', '212', '22', '221', '222']\n",
            "Reading /content/drive/MyDrive/ERN-Data/sub-013/eeg/sub-013_task-ERN_eeg.fdt\n",
            "Reading 0 ... 745471  =      0.000 ...   727.999 secs...\n",
            "Used Annotations descriptions: ['11', '111', '112', '12', '121', '122', '21', '211', '212', '22', '221', '222']\n",
            "Reading /content/drive/MyDrive/ERN-Data/sub-014/eeg/sub-014_task-ERN_eeg.fdt\n",
            "Reading 0 ... 696319  =      0.000 ...   679.999 secs...\n",
            "Used Annotations descriptions: ['11', '111', '112', '12', '121', '122', '21', '211', '212', '22', '221', '222']\n",
            "Reading /content/drive/MyDrive/ERN-Data/sub-015/eeg/sub-015_task-ERN_eeg.fdt\n",
            "Reading 0 ... 746495  =      0.000 ...   728.999 secs...\n",
            "Used Annotations descriptions: ['11', '111', '112', '12', '121', '122', '21', '211', '212', '22', '221', '222']\n",
            "Reading /content/drive/MyDrive/ERN-Data/sub-016/eeg/sub-016_task-ERN_eeg.fdt\n",
            "Reading 0 ... 796671  =      0.000 ...   777.999 secs...\n",
            "Used Annotations descriptions: ['11', '111', '12', '121', '122', '21', '211', '212', '22', '221', '222']\n"
          ]
        },
        {
          "output_type": "stream",
          "name": "stderr",
          "text": [
            "/usr/local/lib/python3.7/dist-packages/ipykernel_launcher.py:23: SettingWithCopyWarning: \n",
            "A value is trying to be set on a copy of a slice from a DataFrame.\n",
            "Try using .loc[row_indexer,col_indexer] = value instead\n",
            "\n",
            "See the caveats in the documentation: https://pandas.pydata.org/pandas-docs/stable/user_guide/indexing.html#returning-a-view-versus-a-copy\n",
            "/usr/local/lib/python3.7/dist-packages/pandas/core/indexing.py:1817: SettingWithCopyWarning: \n",
            "A value is trying to be set on a copy of a slice from a DataFrame.\n",
            "Try using .loc[row_indexer,col_indexer] = value instead\n",
            "\n",
            "See the caveats in the documentation: https://pandas.pydata.org/pandas-docs/stable/user_guide/indexing.html#returning-a-view-versus-a-copy\n",
            "  self._setitem_single_column(loc, value, pi)\n"
          ]
        },
        {
          "output_type": "stream",
          "name": "stdout",
          "text": [
            "Reading /content/drive/MyDrive/ERN-Data/sub-017/eeg/sub-017_task-ERN_eeg.fdt\n",
            "Reading 0 ... 782335  =      0.000 ...   763.999 secs...\n",
            "Used Annotations descriptions: ['11', '111', '12', '121', '122', '21', '211', '212', '22', '221', '222']\n",
            "Reading /content/drive/MyDrive/ERN-Data/sub-018/eeg/sub-018_task-ERN_eeg.fdt\n",
            "Reading 0 ... 749567  =      0.000 ...   731.999 secs...\n",
            "Used Annotations descriptions: ['11', '111', '112', '12', '121', '122', '21', '212', '22', '221', '222']\n",
            "Reading /content/drive/MyDrive/ERN-Data/sub-019/eeg/sub-019_task-ERN_eeg.fdt\n",
            "Reading 0 ... 747519  =      0.000 ...   729.999 secs...\n",
            "Used Annotations descriptions: ['11', '111', '12', '121', '122', '21', '212', '22', '221', '222']\n",
            "Reading /content/drive/MyDrive/ERN-Data/sub-020/eeg/sub-020_task-ERN_eeg.fdt\n",
            "Reading 0 ... 770047  =      0.000 ...   751.999 secs...\n",
            "Used Annotations descriptions: ['11', '111', '12', '121', '122', '21', '212', '22', '221', '222']\n",
            "Reading /content/drive/MyDrive/ERN-Data/sub-021/eeg/sub-021_task-ERN_eeg.fdt\n",
            "Reading 0 ... 800767  =      0.000 ...   781.999 secs...\n",
            "Used Annotations descriptions: ['11', '111', '112', '12', '121', '122', '21', '211', '212', '22', '221', '222']\n",
            "Reading /content/drive/MyDrive/ERN-Data/sub-022/eeg/sub-022_task-ERN_eeg.fdt\n",
            "Reading 0 ... 742399  =      0.000 ...   724.999 secs...\n",
            "Used Annotations descriptions: ['11', '111', '112', '12', '121', '122', '21', '211', '212', '22', '221', '222']\n",
            "Reading /content/drive/MyDrive/ERN-Data/sub-023/eeg/sub-023_task-ERN_eeg.fdt\n",
            "Reading 0 ... 707583  =      0.000 ...   690.999 secs...\n",
            "Used Annotations descriptions: ['11', '111', '12', '121', '122', '21', '211', '212', '22', '221', '222']\n",
            "Reading /content/drive/MyDrive/ERN-Data/sub-024/eeg/sub-024_task-ERN_eeg.fdt\n",
            "Reading 0 ... 737279  =      0.000 ...   719.999 secs...\n",
            "Used Annotations descriptions: ['11', '111', '12', '121', '122', '21', '211', '212', '22', '221', '222']\n",
            "Reading /content/drive/MyDrive/ERN-Data/sub-025/eeg/sub-025_task-ERN_eeg.fdt\n",
            "Reading 0 ... 767999  =      0.000 ...   749.999 secs...\n",
            "Used Annotations descriptions: ['11', '111', '112', '12', '121', '122', '21', '211', '212', '22', '221', '222']\n",
            "Reading /content/drive/MyDrive/ERN-Data/sub-026/eeg/sub-026_task-ERN_eeg.fdt\n",
            "Reading 0 ... 759807  =      0.000 ...   741.999 secs...\n",
            "Used Annotations descriptions: ['11', '111', '112', '12', '121', '122', '21', '211', '212', '22', '221', '222']\n",
            "Reading /content/drive/MyDrive/ERN-Data/sub-027/eeg/sub-027_task-ERN_eeg.fdt\n",
            "Reading 0 ... 743423  =      0.000 ...   725.999 secs...\n",
            "Used Annotations descriptions: ['11', '111', '112', '12', '121', '122', '21', '211', '212', '22', '221', '222']\n",
            "Reading /content/drive/MyDrive/ERN-Data/sub-028/eeg/sub-028_task-ERN_eeg.fdt\n",
            "Reading 0 ... 730111  =      0.000 ...   712.999 secs...\n",
            "Used Annotations descriptions: ['11', '111', '112', '12', '121', '122', '21', '212', '22', '221', '222']\n",
            "Reading /content/drive/MyDrive/ERN-Data/sub-029/eeg/sub-029_task-ERN_eeg.fdt\n",
            "Reading 0 ... 713727  =      0.000 ...   696.999 secs...\n",
            "Used Annotations descriptions: ['11', '111', '112', '12', '121', '122', '21', '211', '212', '22', '221', '222']\n",
            "Reading /content/drive/MyDrive/ERN-Data/sub-030/eeg/sub-030_task-ERN_eeg.fdt\n",
            "Reading 0 ... 765951  =      0.000 ...   747.999 secs...\n",
            "Used Annotations descriptions: ['11', '111', '112', '12', '121', '122', '21', '212', '22', '221', '222']\n",
            "Reading /content/drive/MyDrive/ERN-Data/sub-031/eeg/sub-031_task-ERN_eeg.fdt\n",
            "Reading 0 ... 823295  =      0.000 ...   803.999 secs...\n",
            "Used Annotations descriptions: ['11', '111', '12', '121', '122', '21', '211', '212', '22', '221', '222']\n",
            "Reading /content/drive/MyDrive/ERN-Data/sub-032/eeg/sub-032_task-ERN_eeg.fdt\n",
            "Reading 0 ... 799743  =      0.000 ...   780.999 secs...\n",
            "Used Annotations descriptions: ['11', '111', '112', '12', '121', '122', '21', '211', '212', '22', '221', '222']\n",
            "Reading /content/drive/MyDrive/ERN-Data/sub-033/eeg/sub-033_task-ERN_eeg.fdt\n",
            "Reading 0 ... 766975  =      0.000 ...   748.999 secs...\n",
            "Used Annotations descriptions: ['11', '111', '112', '12', '121', '122', '21', '211', '212', '22', '221', '222']\n",
            "Reading /content/drive/MyDrive/ERN-Data/sub-034/eeg/sub-034_task-ERN_eeg.fdt\n",
            "Reading 0 ... 777215  =      0.000 ...   758.999 secs...\n",
            "Used Annotations descriptions: ['11', '111', '12', '121', '122', '21', '211', '212', '22', '221', '222']\n"
          ]
        },
        {
          "output_type": "stream",
          "name": "stderr",
          "text": [
            "/usr/local/lib/python3.7/dist-packages/ipykernel_launcher.py:23: SettingWithCopyWarning: \n",
            "A value is trying to be set on a copy of a slice from a DataFrame.\n",
            "Try using .loc[row_indexer,col_indexer] = value instead\n",
            "\n",
            "See the caveats in the documentation: https://pandas.pydata.org/pandas-docs/stable/user_guide/indexing.html#returning-a-view-versus-a-copy\n"
          ]
        },
        {
          "output_type": "stream",
          "name": "stdout",
          "text": [
            "Reading /content/drive/MyDrive/ERN-Data/sub-035/eeg/sub-035_task-ERN_eeg.fdt\n",
            "Reading 0 ... 774143  =      0.000 ...   755.999 secs...\n",
            "Used Annotations descriptions: ['11', '111', '112', '12', '121', '122', '21', '211', '212', '22', '221', '222']\n",
            "Reading /content/drive/MyDrive/ERN-Data/sub-036/eeg/sub-036_task-ERN_eeg.fdt\n",
            "Reading 0 ... 790527  =      0.000 ...   771.999 secs...\n",
            "Used Annotations descriptions: ['11', '111', '112', '12', '121', '122', '21', '212', '22', '221', '222']\n",
            "Reading /content/drive/MyDrive/ERN-Data/sub-037/eeg/sub-037_task-ERN_eeg.fdt\n",
            "Reading 0 ... 746495  =      0.000 ...   728.999 secs...\n",
            "Used Annotations descriptions: ['11', '111', '112', '12', '121', '122', '21', '211', '212', '22', '221', '222']\n"
          ]
        },
        {
          "output_type": "stream",
          "name": "stderr",
          "text": [
            "/usr/local/lib/python3.7/dist-packages/ipykernel_launcher.py:23: SettingWithCopyWarning: \n",
            "A value is trying to be set on a copy of a slice from a DataFrame.\n",
            "Try using .loc[row_indexer,col_indexer] = value instead\n",
            "\n",
            "See the caveats in the documentation: https://pandas.pydata.org/pandas-docs/stable/user_guide/indexing.html#returning-a-view-versus-a-copy\n",
            "/usr/local/lib/python3.7/dist-packages/pandas/core/indexing.py:1817: SettingWithCopyWarning: \n",
            "A value is trying to be set on a copy of a slice from a DataFrame.\n",
            "Try using .loc[row_indexer,col_indexer] = value instead\n",
            "\n",
            "See the caveats in the documentation: https://pandas.pydata.org/pandas-docs/stable/user_guide/indexing.html#returning-a-view-versus-a-copy\n",
            "  self._setitem_single_column(loc, value, pi)\n"
          ]
        },
        {
          "output_type": "stream",
          "name": "stdout",
          "text": [
            "Reading /content/drive/MyDrive/ERN-Data/sub-038/eeg/sub-038_task-ERN_eeg.fdt\n",
            "Reading 0 ... 1069055  =      0.000 ...  1043.999 secs...\n"
          ]
        }
      ],
      "source": [
        "X=[]\n",
        "y=[]\n",
        "# np.array([], dtype=np.float64).reshape(0,n_channel,n_sample)\n",
        "for i in range(1,41):\n",
        "    Xi,yi=getData(id=i, pick_channels=pick_channel)\n",
        "    # print(Xi.shape)\n",
        "    if i==1:\n",
        "        X=Xi\n",
        "        y=yi\n",
        "    else:\n",
        "        X=np.append(X,Xi,axis=0)\n",
        "        y=np.append(y,yi,axis=0)\n"
      ]
    },
    {
      "cell_type": "code",
      "execution_count": null,
      "metadata": {
        "id": "kcMVwM63A2Jx"
      },
      "outputs": [],
      "source": [
        "X.shape"
      ]
    },
    {
      "cell_type": "code",
      "execution_count": null,
      "metadata": {
        "id": "NWBClJfB3m78"
      },
      "outputs": [],
      "source": [
        "y.sum()\n",
        "# incorrect:0 , correct:1"
      ]
    },
    {
      "cell_type": "code",
      "execution_count": null,
      "metadata": {
        "id": "QAm53iq1BT0p"
      },
      "outputs": [],
      "source": [
        "kernels, chans, samples = 1, X.shape[1], X.shape[-1]"
      ]
    },
    {
      "cell_type": "markdown",
      "metadata": {
        "id": "1mp0Y3T9yxrK"
      },
      "source": [
        "# Pre-Process"
      ]
    },
    {
      "cell_type": "markdown",
      "source": [
        "#Split train test"
      ],
      "metadata": {
        "id": "-Hq8eTrAOqb-"
      }
    },
    {
      "cell_type": "code",
      "source": [
        "from imblearn.under_sampling import RandomUnderSampler"
      ],
      "metadata": {
        "id": "z5TRJFQlbYNw"
      },
      "execution_count": null,
      "outputs": []
    },
    {
      "cell_type": "code",
      "source": [
        "cc = RandomUnderSampler(random_state=0)\n",
        "X_ = X.reshape(len(X),-1)\n",
        "X_resampled, y_resampled = cc.fit_resample(X_, y)"
      ],
      "metadata": {
        "id": "sIzp6vnGbu6g"
      },
      "execution_count": null,
      "outputs": []
    },
    {
      "cell_type": "code",
      "source": [
        "X_resampled.shape"
      ],
      "metadata": {
        "id": "XBaEWcbEljtL"
      },
      "execution_count": null,
      "outputs": []
    },
    {
      "cell_type": "code",
      "execution_count": null,
      "metadata": {
        "id": "-q-zfqpEA6zZ"
      },
      "outputs": [],
      "source": [
        "X_train, X_test, y_train, y_test = train_test_split(X_resampled,y_resampled,test_size=0.25, random_state=123)\n",
        "# X_train, X_val, y_train, y_val = train_test_split(X_train, y_train, test_size=0.2)"
      ]
    },
    {
      "cell_type": "code",
      "execution_count": null,
      "metadata": {
        "id": "WBjIE6YJBQQL"
      },
      "outputs": [],
      "source": [
        "X_train.shape"
      ]
    },
    {
      "cell_type": "code",
      "execution_count": null,
      "metadata": {
        "id": "YsJZQrSeBN9O"
      },
      "outputs": [],
      "source": [
        "X_train      = X_train.reshape(X_train.shape[0], chans, samples, kernels)\n",
        "# X_val        = X_val.reshape(X_val.shape[0], chans, samples, kernels)\n",
        "X_test       = X_test.reshape(X_test.shape[0], chans, samples, kernels)"
      ]
    },
    {
      "cell_type": "code",
      "execution_count": null,
      "metadata": {
        "id": "dl_tExlpHVsu"
      },
      "outputs": [],
      "source": [
        "y_train      = np_utils.to_categorical(y_train)\n",
        "# y_val        = np_utils.to_categorical(y_val)\n",
        "y_test       = np_utils.to_categorical(y_test)"
      ]
    },
    {
      "cell_type": "code",
      "source": [
        "len(X_resampled)"
      ],
      "metadata": {
        "id": "arnNZutVztaV"
      },
      "execution_count": null,
      "outputs": []
    },
    {
      "cell_type": "code",
      "source": [
        "y_resampled.sum()"
      ],
      "metadata": {
        "id": "8zloMKLczqdV"
      },
      "execution_count": null,
      "outputs": []
    },
    {
      "cell_type": "markdown",
      "metadata": {
        "id": "HO-5Z7aWy0TD"
      },
      "source": [
        "# Model"
      ]
    },
    {
      "cell_type": "code",
      "execution_count": null,
      "metadata": {
        "id": "I0CJ6V3Xy2Nt"
      },
      "outputs": [],
      "source": [
        "def EEGNet(nb_classes, Chans = 64, Samples = 128, \n",
        "             dropoutRate = 0.5, kernLength = 64, F1 = 8, \n",
        "             D = 2, F2 = 16, norm_rate = 0.25, dropoutType = Dropout):\n",
        "    \n",
        "    input1   = Input(shape = (Chans, Samples, 1))\n",
        "\n",
        "    ##################################################################\n",
        "    block1       = Conv2D(F1, (1, kernLength), padding = 'same',\n",
        "                                   input_shape = (Chans, Samples, 1),\n",
        "                                   use_bias = False)(input1)\n",
        "    block1       = BatchNormalization()(block1)\n",
        "    block1       = DepthwiseConv2D((Chans, 1), use_bias = False, \n",
        "                                   depth_multiplier = D,\n",
        "                                   depthwise_constraint = max_norm(1.))(block1)\n",
        "    block1       = BatchNormalization()(block1)\n",
        "    block1       = Activation('elu')(block1)\n",
        "    block1       = AveragePooling2D((1, 4))(block1)\n",
        "    block1       = dropoutType(dropoutRate)(block1)\n",
        "    \n",
        "    block2       = SeparableConv2D(F2, (1, 16),\n",
        "                                   use_bias = False, padding = 'same')(block1)\n",
        "    block2       = BatchNormalization()(block2)\n",
        "    block2       = Activation('elu')(block2)\n",
        "    block2       = AveragePooling2D((1, 8))(block2)\n",
        "    block2       = dropoutType(dropoutRate)(block2)\n",
        "        \n",
        "    flatten      = Flatten(name = 'flatten')(block2)\n",
        "    \n",
        "    dense        = Dense(nb_classes, name = 'dense', \n",
        "                         kernel_constraint = max_norm(norm_rate))(flatten)\n",
        "    softmax      = Activation('softmax', name = 'softmax')(dense)\n",
        "    \n",
        "    return Model(inputs=input1, outputs=softmax)"
      ]
    },
    {
      "cell_type": "markdown",
      "metadata": {
        "id": "XPUbfj6ty2rM"
      },
      "source": [
        "# Train"
      ]
    },
    {
      "cell_type": "code",
      "execution_count": null,
      "metadata": {
        "id": "BOFqF7qXy8nt"
      },
      "outputs": [],
      "source": [
        "model = EEGNet(nb_classes=2, Chans = chans, Samples = samples,dropoutRate = 0.5, \n",
        "               kernLength = 32, F1 = 8, D = 2, F2 = 16)\n",
        "model.compile(loss='binary_crossentropy', \n",
        "              optimizer='adam', \n",
        "              metrics = ['accuracy'])\n",
        "\n",
        "# checkpointer = ModelCheckpoint(filepath='./tmp/checkpoint.h5', verbose=1,\n",
        "#                                save_best_only=True)\n",
        "reduce_lr = ReduceLROnPlateau(monitor='val_loss', factor=0.5,\n",
        "                              patience=10, min_lr=0.0001)\n",
        "earlyStopping = EarlyStopping(monitor=\"val_loss\", patience=20,\n",
        "                              restore_best_weights=True,)\n",
        "\n",
        "class_weights = {0:1, 1:1}\n",
        "history = model.fit(X_train, y_train, validation_split=0.2,\n",
        "                    batch_size = 128, \n",
        "                    epochs = 200, \n",
        "                    verbose = 1,\n",
        "                    callbacks=[earlyStopping,reduce_lr],\n",
        "                    class_weight = class_weights)"
      ]
    },
    {
      "cell_type": "code",
      "execution_count": null,
      "metadata": {
        "id": "8Dhuy7ZPuVRs"
      },
      "outputs": [],
      "source": [
        "import matplotlib.pyplot as plt"
      ]
    },
    {
      "cell_type": "code",
      "execution_count": null,
      "metadata": {
        "id": "Mq6DTEhyuRfK"
      },
      "outputs": [],
      "source": [
        "# summarize history for accuracy\n",
        "plt.plot(history.history['accuracy'])\n",
        "plt.plot(history.history['val_accuracy'])\n",
        "plt.title('model accuracy')\n",
        "plt.ylabel('accuracy')\n",
        "plt.xlabel('epoch')\n",
        "plt.legend(['train', 'val'], loc='upper left')\n",
        "plt.show()\n",
        "# summarize history for loss\n",
        "plt.plot(history.history['loss'])\n",
        "plt.plot(history.history['val_loss'])\n",
        "plt.title('model loss')\n",
        "plt.ylabel('loss')\n",
        "plt.xlabel('epoch')\n",
        "plt.legend(['train', 'val'], loc='upper left')\n",
        "plt.show()"
      ]
    },
    {
      "cell_type": "markdown",
      "metadata": {
        "id": "R_qS9ik1y9S3"
      },
      "source": [
        "# Predict"
      ]
    },
    {
      "cell_type": "code",
      "execution_count": null,
      "metadata": {
        "id": "3zorV52Py_WU"
      },
      "outputs": [],
      "source": [
        "# model.load_weights('/content/tmp/checkpoint.h5')\n",
        "probs = model.predict(X_test)"
      ]
    },
    {
      "cell_type": "markdown",
      "metadata": {
        "id": "Q8H8y_9xy_7G"
      },
      "source": [
        "# Result"
      ]
    },
    {
      "cell_type": "code",
      "execution_count": null,
      "metadata": {
        "id": "Gjl-FPd4zCZJ"
      },
      "outputs": [],
      "source": [
        "def report(thres):\n",
        "    y_pred =(probs>thres)\n",
        "    print(y_pred[:,-1].astype(int))\n",
        "    print(classification_report(y_test, y_pred))\n",
        "    return classification_report(y_test, y_pred)"
      ]
    },
    {
      "cell_type": "code",
      "execution_count": null,
      "metadata": {
        "id": "It65Gx1lDFKG"
      },
      "outputs": [],
      "source": [
        "report(0.5)"
      ]
    },
    {
      "cell_type": "code",
      "source": [
        "ConfusionMatrixDisplay.from_predictions(y_true=y_test.argmax(axis=1),y_pred=probs.argmax(axis=1),\n",
        "                                        cmap='Blues')\n",
        "plt.show()"
      ],
      "metadata": {
        "id": "P1e2Z0M2Ua4S"
      },
      "execution_count": null,
      "outputs": []
    },
    {
      "cell_type": "code",
      "source": [
        "y_test.argmax(axis=1)"
      ],
      "metadata": {
        "colab": {
          "base_uri": "https://localhost:8080/"
        },
        "id": "qZV6kw6XPCSk",
        "outputId": "30b66cae-bb67-4582-c259-160bbf04a8cf"
      },
      "execution_count": null,
      "outputs": [
        {
          "output_type": "execute_result",
          "data": {
            "text/plain": [
              "array([0, 0, 1, 1, 0, 0, 1, 1, 0, 1, 1, 1, 1, 0, 0, 0, 0, 1, 1, 0, 1, 0,\n",
              "       0, 1, 1, 0, 1, 1, 1, 0, 1, 1, 0, 0, 1, 1, 1, 0, 1, 0, 0, 0, 0, 0,\n",
              "       1, 1, 1, 0, 0, 0, 0, 0, 1, 0, 0, 0, 0, 1, 0, 0, 0, 1, 0, 1, 1, 1,\n",
              "       1, 0, 0, 0, 0, 0, 1, 1, 0, 0, 1, 0, 1, 1, 1, 0, 1, 0, 0, 1, 1, 0,\n",
              "       1, 1, 1, 0, 1, 1, 1, 1, 1, 0, 0, 1, 1, 0, 0, 1, 0, 1, 1, 1, 1, 1,\n",
              "       0, 1, 1, 0, 1, 0, 1, 0, 1, 0, 1, 0, 0, 1, 1, 1, 0, 1, 0, 1, 0, 1,\n",
              "       1, 1, 1, 1, 0, 1, 1, 0, 0, 1, 1, 0, 0, 0, 0, 1, 0, 0, 1, 0, 0, 1,\n",
              "       0, 0, 0, 1, 0, 0, 1, 0, 0, 0, 0, 0, 1, 0, 0, 0, 0, 1, 1, 1, 0, 1,\n",
              "       0, 0, 0, 0, 0, 0, 0, 1, 1, 1, 1, 0, 1, 1, 1, 0, 1, 0, 0, 1, 0, 1,\n",
              "       1, 0, 0, 0, 1, 1, 0, 0, 0, 0, 1, 1, 0, 0, 1, 1, 1, 1, 0, 0, 1, 0,\n",
              "       0, 0, 1, 0, 0, 1, 0, 0, 0, 0, 1, 0, 0, 1, 0, 1, 0, 0, 1, 1, 1, 1,\n",
              "       0, 1, 1, 1, 1, 0, 1, 0, 1, 0, 0, 0, 1, 1, 1, 1, 0, 0, 1, 0, 1, 1,\n",
              "       0, 0, 1, 1, 0, 1, 0, 1, 0, 0, 0, 1, 1, 1, 1, 1, 0, 1, 0, 0, 1, 0,\n",
              "       0, 1, 0, 0, 1, 0, 1, 0, 1, 1, 1, 1, 0, 1, 1, 1, 0, 0, 1, 0, 1, 0,\n",
              "       1, 1, 1, 1, 0, 1, 1, 0, 0, 0, 0, 1, 1, 1, 0, 1, 0, 0, 1, 1, 1, 1,\n",
              "       1, 1, 1, 0, 1, 1, 1, 0, 1, 0, 0, 1, 1, 0, 1, 0, 1, 1, 1, 0, 1, 1,\n",
              "       0, 1, 1, 1, 0, 1, 0, 1, 1, 0, 1, 1, 1, 1, 0, 0, 1, 1, 0, 1, 1, 0,\n",
              "       0, 0, 1, 0, 1, 1, 0, 1, 0, 0, 0, 0, 0, 0, 1, 1, 1, 0, 0, 0, 0, 1,\n",
              "       0, 1, 1, 0, 1, 1, 0, 1, 0, 1, 1, 1, 1, 0, 1, 1, 1, 1, 0, 0, 0, 0,\n",
              "       1, 0, 0, 0, 0, 1, 0, 1, 0, 1, 0, 0, 1, 0, 0, 1, 0, 1, 0, 0, 1, 1,\n",
              "       0, 0, 0, 1, 0, 1, 1, 0, 1, 0, 0, 1, 0, 1, 0, 1, 0, 1, 1, 0, 0, 0,\n",
              "       0, 1, 0, 1, 1, 0, 1, 1, 1, 1, 1, 1, 0, 0, 1, 1, 0, 1, 0, 1, 1, 0,\n",
              "       0, 0, 0, 1, 0, 1, 0, 0, 0, 1, 1, 0, 0, 0, 0, 0, 0, 1, 1, 1, 1, 0,\n",
              "       1, 1, 1, 0, 1, 0, 0, 0, 0, 0, 0, 1, 0, 1, 1, 1, 0, 0, 0, 1, 1, 1,\n",
              "       0, 0, 0, 1, 0, 0, 0, 0, 1, 1, 1, 1, 1, 0, 1, 1, 0, 1, 0, 0, 1, 0,\n",
              "       0, 0, 1, 0, 0, 0, 1, 1, 0, 0, 1, 0, 1, 1, 1, 0, 0, 1, 0, 0, 1, 1,\n",
              "       1, 0, 0, 0, 0, 0, 1, 0, 1, 1, 1, 0, 0, 1, 1, 0, 1, 0, 1, 0, 1, 0,\n",
              "       1, 1, 1, 1, 1, 0, 0, 0, 0, 1, 1, 1, 1, 1, 0, 1, 0, 0, 1, 0, 0, 1,\n",
              "       0, 1, 0, 0, 1, 0, 1, 1, 0, 1, 1, 1, 1, 1, 0, 1, 1, 0, 0, 0, 1, 0,\n",
              "       0, 0, 1, 1, 1, 0, 0, 0, 0, 1, 0, 1, 1, 1, 1, 0, 0, 0, 0, 0, 1, 1,\n",
              "       0, 1, 0, 0, 1, 0, 0, 0, 1, 1, 0, 1, 0, 0, 0, 0, 1, 1, 0, 1, 0, 0,\n",
              "       1, 1, 1, 1, 1, 1, 0, 1, 1, 1, 0, 0, 0, 0, 1, 1, 0, 0, 0, 1, 0, 1,\n",
              "       0, 0, 1, 0, 1, 1, 1, 1, 1, 0, 1, 0, 0, 1, 0, 0, 0, 0, 0, 0, 0, 0,\n",
              "       1, 0, 1, 0, 0, 1, 0, 0, 1, 0, 0, 0, 0, 0, 0, 1, 1, 0, 0, 1, 1, 0,\n",
              "       0, 1, 1, 1, 0, 0, 1, 1, 1, 1, 1, 1, 1, 1, 0, 0, 0, 1, 0, 0, 1, 0,\n",
              "       0, 0, 0, 0, 1, 0, 0, 1, 0, 1, 1, 1, 0, 0, 0, 0, 1, 0, 1, 1, 1, 0,\n",
              "       0, 1, 1, 0, 0, 0, 0, 1, 0, 1, 0, 1, 1, 1, 1, 1, 1, 0, 1, 0, 0, 1,\n",
              "       0, 0, 1, 0, 0, 0, 0, 0, 1, 1, 1, 1, 0, 0, 0, 0, 1, 1, 1, 0, 1, 1,\n",
              "       1, 1, 0, 1, 1, 0, 0, 0, 1, 0, 1, 0, 0, 1, 0, 1, 0, 0, 0, 1, 0, 1,\n",
              "       0, 1, 1, 1, 1, 1, 0, 0, 0, 0, 1, 0, 1, 1, 0, 0, 0, 1, 0, 0, 0, 0,\n",
              "       0, 1, 0, 1, 0, 1, 0, 1])"
            ]
          },
          "metadata": {},
          "execution_count": 39
        }
      ]
    },
    {
      "cell_type": "code",
      "source": [
        "probs.argmax(1)"
      ],
      "metadata": {
        "colab": {
          "base_uri": "https://localhost:8080/"
        },
        "id": "XTpFyBzGK_YQ",
        "outputId": "c475925b-97dd-410a-b2ba-8dc58dec154b"
      },
      "execution_count": null,
      "outputs": [
        {
          "output_type": "execute_result",
          "data": {
            "text/plain": [
              "array([0, 0, 1, 1, 0, 0, 1, 1, 0, 0, 1, 1, 1, 0, 0, 0, 0, 1, 1, 0, 0, 1,\n",
              "       0, 0, 1, 0, 0, 1, 1, 0, 1, 1, 0, 0, 1, 1, 0, 0, 0, 0, 0, 0, 0, 1,\n",
              "       1, 0, 1, 0, 0, 0, 1, 0, 0, 1, 0, 0, 1, 1, 0, 0, 0, 0, 1, 1, 1, 1,\n",
              "       1, 0, 0, 0, 0, 0, 1, 1, 0, 0, 1, 0, 0, 1, 1, 1, 1, 0, 0, 1, 1, 0,\n",
              "       1, 0, 1, 0, 1, 1, 0, 1, 0, 0, 0, 1, 1, 0, 1, 1, 1, 1, 0, 1, 1, 1,\n",
              "       0, 1, 1, 1, 0, 0, 1, 0, 1, 0, 0, 0, 1, 1, 1, 0, 0, 0, 1, 1, 0, 0,\n",
              "       1, 1, 1, 1, 0, 1, 0, 0, 0, 0, 0, 0, 0, 0, 0, 0, 1, 0, 1, 0, 0, 0,\n",
              "       1, 0, 0, 1, 0, 0, 1, 0, 0, 0, 0, 0, 1, 0, 0, 0, 1, 1, 1, 1, 0, 1,\n",
              "       0, 1, 0, 0, 0, 0, 1, 1, 1, 1, 0, 0, 0, 1, 1, 0, 1, 0, 0, 1, 0, 1,\n",
              "       1, 0, 0, 0, 0, 0, 0, 0, 0, 0, 1, 1, 0, 1, 1, 1, 1, 1, 0, 0, 1, 0,\n",
              "       0, 0, 1, 0, 0, 1, 1, 0, 0, 1, 1, 1, 0, 1, 0, 1, 0, 0, 1, 0, 1, 1,\n",
              "       1, 1, 1, 1, 1, 1, 1, 0, 1, 0, 0, 1, 1, 1, 1, 1, 1, 0, 1, 1, 1, 1,\n",
              "       0, 0, 1, 1, 0, 1, 0, 1, 0, 1, 0, 0, 1, 1, 1, 1, 1, 1, 0, 1, 1, 0,\n",
              "       0, 1, 0, 1, 1, 0, 1, 1, 1, 1, 0, 1, 0, 1, 0, 1, 0, 0, 1, 1, 1, 0,\n",
              "       1, 1, 1, 1, 0, 1, 1, 0, 1, 1, 0, 0, 1, 1, 0, 1, 0, 0, 0, 1, 1, 1,\n",
              "       1, 0, 1, 0, 0, 1, 1, 0, 1, 0, 0, 1, 1, 0, 1, 0, 1, 0, 1, 0, 1, 1,\n",
              "       0, 1, 1, 1, 1, 1, 0, 1, 1, 1, 1, 1, 1, 1, 0, 0, 1, 1, 0, 1, 1, 0,\n",
              "       0, 1, 0, 0, 1, 1, 0, 1, 0, 0, 0, 1, 0, 0, 1, 0, 1, 0, 0, 0, 0, 1,\n",
              "       0, 1, 0, 0, 1, 1, 0, 1, 0, 1, 1, 1, 1, 0, 1, 0, 1, 1, 1, 0, 0, 0,\n",
              "       1, 0, 1, 0, 1, 1, 0, 1, 0, 1, 0, 0, 1, 0, 0, 0, 0, 1, 0, 0, 0, 1,\n",
              "       0, 0, 0, 1, 0, 1, 0, 0, 1, 0, 0, 1, 0, 1, 0, 1, 0, 1, 1, 0, 0, 1,\n",
              "       0, 1, 0, 1, 1, 0, 1, 1, 1, 0, 0, 1, 0, 0, 1, 0, 1, 1, 0, 1, 1, 0,\n",
              "       1, 1, 0, 1, 0, 0, 0, 0, 0, 0, 1, 0, 0, 0, 0, 0, 0, 1, 1, 1, 1, 0,\n",
              "       1, 0, 0, 0, 1, 0, 0, 0, 0, 0, 1, 1, 0, 0, 1, 1, 1, 0, 0, 1, 1, 0,\n",
              "       0, 0, 0, 1, 0, 1, 0, 1, 1, 1, 1, 1, 1, 0, 1, 1, 0, 1, 0, 0, 1, 0,\n",
              "       0, 0, 1, 1, 0, 0, 1, 1, 0, 0, 1, 1, 1, 1, 0, 0, 0, 1, 0, 0, 1, 1,\n",
              "       1, 0, 0, 0, 0, 1, 1, 0, 1, 1, 1, 0, 1, 1, 0, 0, 1, 0, 1, 0, 1, 0,\n",
              "       1, 1, 1, 1, 1, 0, 0, 1, 1, 1, 1, 1, 0, 1, 0, 1, 0, 0, 1, 0, 0, 0,\n",
              "       0, 1, 1, 0, 1, 0, 1, 1, 1, 0, 1, 1, 1, 1, 0, 1, 1, 0, 0, 1, 1, 0,\n",
              "       0, 0, 1, 1, 1, 0, 0, 0, 0, 1, 0, 1, 1, 1, 1, 0, 0, 0, 0, 0, 0, 0,\n",
              "       0, 1, 0, 0, 1, 1, 1, 0, 1, 0, 0, 0, 0, 0, 0, 0, 0, 0, 0, 1, 0, 0,\n",
              "       1, 1, 1, 0, 0, 1, 0, 1, 1, 0, 0, 0, 0, 0, 1, 1, 0, 0, 0, 0, 0, 1,\n",
              "       0, 1, 1, 0, 1, 1, 1, 1, 0, 1, 1, 0, 0, 0, 1, 0, 0, 1, 0, 0, 0, 0,\n",
              "       1, 0, 0, 0, 0, 1, 1, 0, 1, 0, 0, 0, 0, 0, 0, 0, 1, 0, 0, 0, 1, 0,\n",
              "       0, 1, 1, 1, 0, 0, 1, 1, 1, 1, 1, 1, 0, 1, 1, 0, 1, 0, 1, 0, 1, 0,\n",
              "       0, 0, 0, 0, 0, 0, 0, 1, 0, 1, 1, 1, 0, 0, 0, 1, 1, 1, 1, 1, 0, 0,\n",
              "       0, 1, 0, 0, 0, 0, 0, 1, 0, 1, 0, 1, 1, 0, 1, 1, 0, 0, 1, 0, 1, 1,\n",
              "       0, 1, 1, 0, 0, 0, 0, 0, 0, 1, 1, 1, 0, 0, 0, 0, 1, 0, 1, 0, 1, 1,\n",
              "       1, 1, 0, 0, 1, 0, 0, 0, 1, 0, 1, 1, 0, 1, 0, 0, 0, 0, 0, 1, 0, 0,\n",
              "       0, 0, 0, 1, 1, 1, 0, 0, 1, 0, 0, 0, 0, 0, 0, 0, 0, 1, 0, 0, 0, 0,\n",
              "       0, 1, 1, 0, 1, 0, 0, 1])"
            ]
          },
          "metadata": {},
          "execution_count": 40
        }
      ]
    },
    {
      "cell_type": "code",
      "source": [
        "X1, y1= getData(10, pick_channels=pick_channel)\n",
        "X1 = X1.reshape(len(X1),-1)\n",
        "X1 = X1.reshape(X1.shape[0], chans, samples, kernels)\n",
        "# y1 = np_utils.to_categorical(y1)\n",
        "probs = model.predict(X1)\n",
        "print(classification_report(probs>0.5,np_utils.to_categorical(y1)))\n",
        "ConfusionMatrixDisplay.from_predictions(y1,probs.argmax(axis=1),\n",
        "                                        cmap='Blues')"
      ],
      "metadata": {
        "id": "lVuO1zxKUEVg",
        "colab": {
          "base_uri": "https://localhost:8080/",
          "height": 522
        },
        "outputId": "cad18941-dbb8-453d-a86c-64b40886d66b"
      },
      "execution_count": null,
      "outputs": [
        {
          "output_type": "stream",
          "name": "stdout",
          "text": [
            "Reading /content/drive/MyDrive/ERN-Data/sub-010/eeg/sub-010_task-ERN_eeg.fdt\n",
            "Reading 0 ... 770047  =      0.000 ...   751.999 secs...\n",
            "Used Annotations descriptions: ['11', '111', '112', '12', '121', '122', '21', '211', '212', '22', '221', '222']\n",
            "              precision    recall  f1-score   support\n",
            "\n",
            "           0       0.80      0.37      0.50       167\n",
            "           1       0.67      0.93      0.78       230\n",
            "\n",
            "   micro avg       0.70      0.70      0.70       397\n",
            "   macro avg       0.74      0.65      0.64       397\n",
            "weighted avg       0.73      0.70      0.66       397\n",
            " samples avg       0.70      0.70      0.70       397\n",
            "\n"
          ]
        },
        {
          "output_type": "execute_result",
          "data": {
            "text/plain": [
              "<sklearn.metrics._plot.confusion_matrix.ConfusionMatrixDisplay at 0x7faefbaa8c50>"
            ]
          },
          "metadata": {},
          "execution_count": 41
        },
        {
          "output_type": "display_data",
          "data": {
            "text/plain": [
              "<Figure size 432x288 with 2 Axes>"
            ],
            "image/png": "[encoded data removed]"
          },
          "metadata": {
            "needs_background": "light"
          }
        }
      ]
    },
    {
      "cell_type": "code",
      "execution_count": null,
      "metadata": {
        "id": "2SKiSVTpETlj"
      },
      "outputs": [],
      "source": [
        "# with open('readme.txt', 'a') as f:\n",
        "#     f.write(' '.join(pick_channel))\n",
        "#     f.write('\\n')\n",
        "#     f.write(report(0.5))"
      ]
    },
    {
      "cell_type": "markdown",
      "metadata": {
        "id": "yJWscEaa6rW3"
      },
      "source": [
        "#SVM"
      ]
    },
    {
      "cell_type": "code",
      "execution_count": null,
      "metadata": {
        "id": "qXrAL4wf-Q_L"
      },
      "outputs": [],
      "source": [
        "from sklearn.discriminant_analysis import LinearDiscriminantAnalysis"
      ]
    },
    {
      "cell_type": "code",
      "execution_count": null,
      "metadata": {
        "id": "2dDVPrJ8E98p"
      },
      "outputs": [],
      "source": [
        "from sklearn import decomposition, datasets\n",
        "from sklearn.pipeline import Pipeline\n",
        "from sklearn import svm\n",
        "\n",
        "svc = svm.SVC()\n",
        "# pca = decomposition.PCA()\n",
        "\n",
        "# pipe = Pipeline(steps=[('pca', pca), ('svc', svc)])\n"
      ]
    },
    {
      "cell_type": "code",
      "execution_count": null,
      "metadata": {
        "id": "XSEJkK57k0Xe",
        "colab": {
          "base_uri": "https://localhost:8080/"
        },
        "outputId": "d01aa8c5-31c6-4662-b252-25fa021bf548"
      },
      "outputs": [
        {
          "output_type": "stream",
          "name": "stdout",
          "text": [
            "Reading /content/drive/MyDrive/ERN-Data/sub-006/eeg/sub-006_task-ERN_eeg.fdt\n",
            "Reading 0 ... 669695  =      0.000 ...   653.999 secs...\n",
            "Used Annotations descriptions: ['11', '111', '112', '12', '121', '122', '21', '211', '212', '22', '221', '222']\n"
          ]
        },
        {
          "output_type": "stream",
          "name": "stderr",
          "text": [
            "/usr/local/lib/python3.7/dist-packages/ipykernel_launcher.py:23: SettingWithCopyWarning: \n",
            "A value is trying to be set on a copy of a slice from a DataFrame.\n",
            "Try using .loc[row_indexer,col_indexer] = value instead\n",
            "\n",
            "See the caveats in the documentation: https://pandas.pydata.org/pandas-docs/stable/user_guide/indexing.html#returning-a-view-versus-a-copy\n",
            "/usr/local/lib/python3.7/dist-packages/pandas/core/indexing.py:1817: SettingWithCopyWarning: \n",
            "A value is trying to be set on a copy of a slice from a DataFrame.\n",
            "Try using .loc[row_indexer,col_indexer] = value instead\n",
            "\n",
            "See the caveats in the documentation: https://pandas.pydata.org/pandas-docs/stable/user_guide/indexing.html#returning-a-view-versus-a-copy\n",
            "  self._setitem_single_column(loc, value, pi)\n"
          ]
        }
      ],
      "source": [
        "X1, y1= getData(6, pick_channels=pick_channel)\n",
        "X1 = X1.reshape(len(X1),-1)\n",
        "# y1 = np_utils.to_categorical(y1)\n",
        "\n",
        "X1_train, X1_test, y1_train, y1_test = train_test_split(X1,y1, test_size=0.2, random_state=123)"
      ]
    },
    {
      "cell_type": "code",
      "execution_count": null,
      "metadata": {
        "id": "QFxhSAoDs2aE",
        "colab": {
          "base_uri": "https://localhost:8080/"
        },
        "outputId": "b0479b7b-6315-4952-d5c8-21f0bc125a54"
      },
      "outputs": [
        {
          "output_type": "stream",
          "name": "stdout",
          "text": [
            "Reading /content/drive/MyDrive/ERN-Data/sub-010/eeg/sub-010_task-ERN_eeg.fdt\n",
            "Reading 0 ... 770047  =      0.000 ...   751.999 secs...\n",
            "Used Annotations descriptions: ['11', '111', '112', '12', '121', '122', '21', '211', '212', '22', '221', '222']\n"
          ]
        }
      ],
      "source": [
        "X2, y2= getData(10, pick_channels=pick_channel)\n",
        "X2 = X2.reshape(len(X2),-1)\n",
        "# y2= np_utils.to_categorical(y2)"
      ]
    },
    {
      "cell_type": "code",
      "source": [
        "# kernels, chans, samples = 1, X1.shape[1], X1.shape[-1]"
      ],
      "metadata": {
        "id": "WsczZjomZ0zS"
      },
      "execution_count": null,
      "outputs": []
    },
    {
      "cell_type": "code",
      "execution_count": null,
      "metadata": {
        "id": "vQwGbL2ZFje1",
        "colab": {
          "base_uri": "https://localhost:8080/"
        },
        "outputId": "122e9b6a-5313-40ce-f77c-e49340356bb9"
      },
      "outputs": [
        {
          "output_type": "execute_result",
          "data": {
            "text/plain": [
              "SVC()"
            ]
          },
          "metadata": {},
          "execution_count": 48
        }
      ],
      "source": [
        "svc.fit(X1_train,y1_train)"
      ]
    },
    {
      "cell_type": "code",
      "execution_count": null,
      "metadata": {
        "id": "xi7nWJMNeHYn"
      },
      "outputs": [],
      "source": [
        "probs = svc.predict(X2)\n",
        "# y_val = np.argmax(y_val, axis=1)"
      ]
    },
    {
      "cell_type": "code",
      "execution_count": null,
      "metadata": {
        "id": "cKFCyorwcjUA",
        "colab": {
          "base_uri": "https://localhost:8080/"
        },
        "outputId": "d001d4c4-a5c1-4526-bab4-50b2d660cad7"
      },
      "outputs": [
        {
          "output_type": "stream",
          "name": "stdout",
          "text": [
            "              precision    recall  f1-score   support\n",
            "\n",
            "           0       0.38      0.47      0.42        62\n",
            "           1       0.90      0.86      0.88       335\n",
            "\n",
            "    accuracy                           0.80       397\n",
            "   macro avg       0.64      0.66      0.65       397\n",
            "weighted avg       0.82      0.80      0.81       397\n",
            "\n"
          ]
        }
      ],
      "source": [
        "print(classification_report(probs,y2))"
      ]
    },
    {
      "cell_type": "code",
      "source": [
        "ConfusionMatrixDisplay.from_predictions(y2,probs,\n",
        "                                        cmap='Blues')\n",
        "# plt.show()"
      ],
      "metadata": {
        "id": "gD0xZfc6a4Ey",
        "colab": {
          "base_uri": "https://localhost:8080/",
          "height": 296
        },
        "outputId": "534a58c0-fd8f-4544-c955-feb60152f18c"
      },
      "execution_count": null,
      "outputs": [
        {
          "output_type": "execute_result",
          "data": {
            "text/plain": [
              "<sklearn.metrics._plot.confusion_matrix.ConfusionMatrixDisplay at 0x7fae8618cf10>"
            ]
          },
          "metadata": {},
          "execution_count": 51
        },
        {
          "output_type": "display_data",
          "data": {
            "text/plain": [
              "<Figure size 432x288 with 2 Axes>"
            ],
            "image/png": "[encoded data removed]"
          },
          "metadata": {
            "needs_background": "light"
          }
        }
      ]
    },
    {
      "cell_type": "code",
      "execution_count": null,
      "metadata": {
        "id": "7Ljf7rOAwFiO",
        "colab": {
          "base_uri": "https://localhost:8080/",
          "height": 453
        },
        "outputId": "ef06c285-c27a-46a8-ca33-1bab882f6ffb"
      },
      "outputs": [
        {
          "output_type": "stream",
          "name": "stdout",
          "text": [
            "              precision    recall  f1-score   support\n",
            "\n",
            "           0       0.55      0.55      0.55        33\n",
            "           1       0.64      0.64      0.64        42\n",
            "\n",
            "    accuracy                           0.60        75\n",
            "   macro avg       0.59      0.59      0.59        75\n",
            "weighted avg       0.60      0.60      0.60        75\n",
            "\n"
          ]
        },
        {
          "output_type": "execute_result",
          "data": {
            "text/plain": [
              "<sklearn.metrics._plot.confusion_matrix.ConfusionMatrixDisplay at 0x7fae86116710>"
            ]
          },
          "metadata": {},
          "execution_count": 52
        },
        {
          "output_type": "display_data",
          "data": {
            "text/plain": [
              "<Figure size 432x288 with 2 Axes>"
            ],
            "image/png": "[encoded data removed]"
          },
          "metadata": {
            "needs_background": "light"
          }
        }
      ],
      "source": [
        "probs = svc.predict(X1_test)\n",
        "print(classification_report(probs,y1_test))\n",
        "ConfusionMatrixDisplay.from_predictions(y1_test,probs,\n",
        "                                        cmap='Blues')"
      ]
    },
    {
      "cell_type": "markdown",
      "metadata": {
        "id": "PUN9ESlD6tYr"
      },
      "source": [
        "#KNN"
      ]
    },
    {
      "cell_type": "code",
      "execution_count": null,
      "metadata": {
        "id": "QH4T4G-aOywJ"
      },
      "outputs": [],
      "source": [
        "from sklearn import neighbors"
      ]
    },
    {
      "cell_type": "code",
      "execution_count": null,
      "metadata": {
        "id": "JUaSbX-PM0ar"
      },
      "outputs": [],
      "source": [
        "knn=neighbors.KNeighborsClassifier(n_neighbors=5,)"
      ]
    },
    {
      "cell_type": "code",
      "source": [
        "X_ = X_train.reshape(len(X_train),-1)"
      ],
      "metadata": {
        "id": "XCqL1BBLs20-"
      },
      "execution_count": null,
      "outputs": []
    },
    {
      "cell_type": "code",
      "execution_count": null,
      "metadata": {
        "id": "0NXVY-uoOnUU",
        "colab": {
          "base_uri": "https://localhost:8080/"
        },
        "outputId": "5d368e96-b67c-4c3c-86ea-9f3c08d67358"
      },
      "outputs": [
        {
          "output_type": "execute_result",
          "data": {
            "text/plain": [
              "KNeighborsClassifier()"
            ]
          },
          "metadata": {},
          "execution_count": 56
        }
      ],
      "source": [
        "knn.fit(X_train.reshape(len(X_train),-1),y_train.argmax(axis=1))"
      ]
    },
    {
      "cell_type": "code",
      "execution_count": null,
      "metadata": {
        "id": "tOoqc57SOuIf"
      },
      "outputs": [],
      "source": [
        "y2_pred = knn.predict(X_test.reshape(len(X_test),-1))"
      ]
    },
    {
      "cell_type": "code",
      "execution_count": null,
      "metadata": {
        "id": "Gux9eFFrPlMO",
        "colab": {
          "base_uri": "https://localhost:8080/"
        },
        "outputId": "e3776504-43a2-483c-e4fe-11c93157e9a1"
      },
      "outputs": [
        {
          "output_type": "stream",
          "name": "stdout",
          "text": [
            "              precision    recall  f1-score   support\n",
            "\n",
            "           0       0.67      0.64      0.65       452\n",
            "           1       0.64      0.67      0.65       436\n",
            "\n",
            "    accuracy                           0.65       888\n",
            "   macro avg       0.65      0.65      0.65       888\n",
            "weighted avg       0.65      0.65      0.65       888\n",
            "\n"
          ]
        }
      ],
      "source": [
        "print(classification_report(y_test.argmax(axis=1), y2_pred))"
      ]
    },
    {
      "cell_type": "code",
      "execution_count": null,
      "metadata": {
        "id": "7eelidi-Pq5K",
        "colab": {
          "base_uri": "https://localhost:8080/"
        },
        "outputId": "da6ced1b-51f1-4f57-a303-12f3c2c65d79"
      },
      "outputs": [
        {
          "output_type": "execute_result",
          "data": {
            "text/plain": [
              "0.6531531531531531"
            ]
          },
          "metadata": {},
          "execution_count": 59
        }
      ],
      "source": [
        "accuracy_score(y_test.argmax(axis=1), y2_pred)"
      ]
    },
    {
      "cell_type": "code",
      "execution_count": null,
      "metadata": {
        "id": "SNyN_SJnSCZh",
        "colab": {
          "base_uri": "https://localhost:8080/",
          "height": 296
        },
        "outputId": "a9e8f469-07ff-4b9a-8dea-f16cc5195c9c"
      },
      "outputs": [
        {
          "output_type": "execute_result",
          "data": {
            "text/plain": [
              "<sklearn.metrics._plot.confusion_matrix.ConfusionMatrixDisplay at 0x7fae86088350>"
            ]
          },
          "metadata": {},
          "execution_count": 60
        },
        {
          "output_type": "display_data",
          "data": {
            "text/plain": [
              "<Figure size 432x288 with 2 Axes>"
            ],
            "image/png": "[encoded data removed]"
          },
          "metadata": {
            "needs_background": "light"
          }
        }
      ],
      "source": [
        "ConfusionMatrixDisplay.from_predictions(y_test.argmax(axis=1),y2_pred,\n",
        "                                        cmap='Blues')"
      ]
    },
    {
      "cell_type": "code",
      "source": [
        "probs = knn.predict(X1_test)\n",
        "print(classification_report(probs,y1_test))\n",
        "ConfusionMatrixDisplay.from_predictions(y1_test,probs,\n",
        "                                        cmap='Blues')"
      ],
      "metadata": {
        "id": "0tzr4lsDmZsr",
        "colab": {
          "base_uri": "https://localhost:8080/",
          "height": 453
        },
        "outputId": "fec455b0-249d-4d91-b516-e4658d51190e"
      },
      "execution_count": null,
      "outputs": [
        {
          "output_type": "stream",
          "name": "stdout",
          "text": [
            "              precision    recall  f1-score   support\n",
            "\n",
            "           0       0.94      0.60      0.73        52\n",
            "           1       0.50      0.91      0.65        23\n",
            "\n",
            "    accuracy                           0.69        75\n",
            "   macro avg       0.72      0.75      0.69        75\n",
            "weighted avg       0.80      0.69      0.70        75\n",
            "\n"
          ]
        },
        {
          "output_type": "execute_result",
          "data": {
            "text/plain": [
              "<sklearn.metrics._plot.confusion_matrix.ConfusionMatrixDisplay at 0x7fae86094850>"
            ]
          },
          "metadata": {},
          "execution_count": 61
        },
        {
          "output_type": "display_data",
          "data": {
            "text/plain": [
              "<Figure size 432x288 with 2 Axes>"
            ],
            "image/png": "[encoded data removed]"
          },
          "metadata": {
            "needs_background": "light"
          }
        }
      ]
    },
    {
      "cell_type": "markdown",
      "source": [
        "Pyriemann"
      ],
      "metadata": {
        "id": "TusRn6yGoVwH"
      }
    },
    {
      "cell_type": "code",
      "source": [
        "svc = svm.SVC()"
      ],
      "metadata": {
        "id": "__ME4WEQ3Gbc"
      },
      "execution_count": null,
      "outputs": []
    },
    {
      "cell_type": "code",
      "source": [
        "# X_train.reshape(len(X_train),-1).shape"
      ],
      "metadata": {
        "id": "81Xu-TcX3Vjk"
      },
      "execution_count": null,
      "outputs": []
    },
    {
      "cell_type": "code",
      "execution_count": null,
      "metadata": {
        "id": "9SPw271v3Gym",
        "colab": {
          "base_uri": "https://localhost:8080/"
        },
        "outputId": "640456be-9e6b-444e-c395-b47b88204ca1"
      },
      "outputs": [
        {
          "output_type": "execute_result",
          "data": {
            "text/plain": [
              "SVC()"
            ]
          },
          "metadata": {},
          "execution_count": 64
        }
      ],
      "source": [
        "svc.fit(X_train.reshape(len(X_train),-1),y_train.argmax(axis=1))"
      ]
    },
    {
      "cell_type": "code",
      "execution_count": null,
      "metadata": {
        "id": "5GveQVDz3Gym"
      },
      "outputs": [],
      "source": [
        "probs = svc.predict(X_test.reshape(len(X_test),-1))\n",
        "# y_val = np.argmax(y_val, axis=1)"
      ]
    },
    {
      "cell_type": "code",
      "execution_count": null,
      "metadata": {
        "id": "-UT6JW4a3Gyn",
        "colab": {
          "base_uri": "https://localhost:8080/"
        },
        "outputId": "68d62722-e844-4e2b-f687-537e42203c99"
      },
      "outputs": [
        {
          "output_type": "stream",
          "name": "stdout",
          "text": [
            "              precision    recall  f1-score   support\n",
            "\n",
            "           0       0.85      0.85      0.85       452\n",
            "           1       0.84      0.85      0.84       436\n",
            "\n",
            "    accuracy                           0.85       888\n",
            "   macro avg       0.85      0.85      0.85       888\n",
            "weighted avg       0.85      0.85      0.85       888\n",
            "\n"
          ]
        }
      ],
      "source": [
        "print(classification_report(y_test.argmax(axis=1),probs,))"
      ]
    },
    {
      "cell_type": "code",
      "source": [
        "ConfusionMatrixDisplay.from_predictions(y_test.argmax(axis=1),probs,\n",
        "                                        cmap='Blues')\n",
        "# plt.show()"
      ],
      "metadata": {
        "id": "dYRspxGQ3Gyn",
        "colab": {
          "base_uri": "https://localhost:8080/",
          "height": 296
        },
        "outputId": "4367d434-6351-49dd-e13f-9d897166a8bb"
      },
      "execution_count": null,
      "outputs": [
        {
          "output_type": "execute_result",
          "data": {
            "text/plain": [
              "<sklearn.metrics._plot.confusion_matrix.ConfusionMatrixDisplay at 0x7faefb9bde50>"
            ]
          },
          "metadata": {},
          "execution_count": 67
        },
        {
          "output_type": "display_data",
          "data": {
            "text/plain": [
              "<Figure size 432x288 with 2 Axes>"
            ],
            "image/png": "[encoded data removed]"
          },
          "metadata": {
            "needs_background": "light"
          }
        }
      ]
    },
    {
      "cell_type": "code",
      "source": [
        ""
      ],
      "metadata": {
        "id": "hOw8v0QJ4xop"
      },
      "execution_count": null,
      "outputs": []
    },
    {
      "cell_type": "code",
      "execution_count": null,
      "metadata": {
        "id": "bt_I7W0c4x3y",
        "colab": {
          "base_uri": "https://localhost:8080/"
        },
        "outputId": "a6f53f2f-50cb-4481-8396-b8b8016ebdad"
      },
      "outputs": [
        {
          "output_type": "execute_result",
          "data": {
            "text/plain": [
              "KNeighborsClassifier()"
            ]
          },
          "metadata": {},
          "execution_count": 68
        }
      ],
      "source": [
        "knn.fit(X_train.reshape(len(X_train),-1),y_train.argmax(axis=1))"
      ]
    },
    {
      "cell_type": "code",
      "execution_count": null,
      "metadata": {
        "id": "kS3ZA03R4x3y"
      },
      "outputs": [],
      "source": [
        "y2_pred = knn.predict(X_test.reshape(len(X_test),-1))"
      ]
    },
    {
      "cell_type": "code",
      "execution_count": null,
      "metadata": {
        "id": "m2kCpOeK4x3z",
        "colab": {
          "base_uri": "https://localhost:8080/"
        },
        "outputId": "e64ba327-174c-4fcf-fef6-7b7b592e90fa"
      },
      "outputs": [
        {
          "output_type": "stream",
          "name": "stdout",
          "text": [
            "              precision    recall  f1-score   support\n",
            "\n",
            "           0       0.67      0.64      0.65       452\n",
            "           1       0.64      0.67      0.65       436\n",
            "\n",
            "    accuracy                           0.65       888\n",
            "   macro avg       0.65      0.65      0.65       888\n",
            "weighted avg       0.65      0.65      0.65       888\n",
            "\n"
          ]
        }
      ],
      "source": [
        "print(classification_report(y_test.argmax(axis=1), y2_pred))"
      ]
    },
    {
      "cell_type": "code",
      "execution_count": null,
      "metadata": {
        "id": "X-gyCJ6u4x3z",
        "colab": {
          "base_uri": "https://localhost:8080/"
        },
        "outputId": "0f006584-c9c7-45e1-c5de-40ad41613507"
      },
      "outputs": [
        {
          "output_type": "execute_result",
          "data": {
            "text/plain": [
              "0.6531531531531531"
            ]
          },
          "metadata": {},
          "execution_count": 71
        }
      ],
      "source": [
        "accuracy_score(y_test.argmax(axis=1), y2_pred)"
      ]
    },
    {
      "cell_type": "code",
      "execution_count": null,
      "metadata": {
        "id": "IirefGpp4x3z",
        "colab": {
          "base_uri": "https://localhost:8080/",
          "height": 296
        },
        "outputId": "a892a4b7-5366-4a16-d7ac-c858032fce7e"
      },
      "outputs": [
        {
          "output_type": "execute_result",
          "data": {
            "text/plain": [
              "<sklearn.metrics._plot.confusion_matrix.ConfusionMatrixDisplay at 0x7faefbf454d0>"
            ]
          },
          "metadata": {},
          "execution_count": 72
        },
        {
          "output_type": "display_data",
          "data": {
            "text/plain": [
              "<Figure size 432x288 with 2 Axes>"
            ],
            "image/png": "[encoded data removed]"
          },
          "metadata": {
            "needs_background": "light"
          }
        }
      ],
      "source": [
        "ConfusionMatrixDisplay.from_predictions(y_test.argmax(axis=1),y2_pred,\n",
        "                                        cmap='Blues')"
      ]
    },
    {
      "cell_type": "code",
      "source": [
        "# !pip install pyriemann"
      ],
      "metadata": {
        "id": "KP0oaV3_nfaf"
      },
      "execution_count": null,
      "outputs": []
    },
    {
      "cell_type": "code",
      "source": [
        "# import pyriemann"
      ],
      "metadata": {
        "id": "jInzJoshoi2A"
      },
      "execution_count": null,
      "outputs": []
    },
    {
      "cell_type": "code",
      "source": [
        "# knn = pyriemann.classification.KNearestNeighbor()"
      ],
      "metadata": {
        "id": "-dHx0AI1obdF"
      },
      "execution_count": null,
      "outputs": []
    },
    {
      "cell_type": "code",
      "source": [
        "# X1, y1= getData(6, pick_channels=pick_channel)\n",
        "# X2, y2= getData(1, pick_channels=pick_channel)"
      ],
      "metadata": {
        "id": "_Lv2Iuibohnt"
      },
      "execution_count": null,
      "outputs": []
    },
    {
      "cell_type": "code",
      "source": [
        "# X1_train, X1_test, y1_train, y1_test = train_test_split(X1,y1, test_size=0.2, random_state=123)"
      ],
      "metadata": {
        "id": "OUfuVEhdo-fg"
      },
      "execution_count": null,
      "outputs": []
    },
    {
      "cell_type": "code",
      "source": [
        "# knn = knn.fit(X1_train,y1_train)"
      ],
      "metadata": {
        "id": "uJdl3r0eoqyv"
      },
      "execution_count": null,
      "outputs": []
    },
    {
      "cell_type": "code",
      "source": [
        "# probs = knn.predict(X1_test)\n",
        "# print(classification_report(probs,y1_test))\n",
        "# ConfusionMatrixDisplay.from_predictions(y1_test,probs,\n",
        "#                                         cmap='Blues')"
      ],
      "metadata": {
        "id": "bK9bEvH5otVh"
      },
      "execution_count": null,
      "outputs": []
    },
    {
      "cell_type": "code",
      "source": [
        "# X1_train.shape"
      ],
      "metadata": {
        "id": "dsrPhTy-poZQ"
      },
      "execution_count": null,
      "outputs": []
    },
    {
      "cell_type": "code",
      "source": [
        "# X1_test.shape"
      ],
      "metadata": {
        "id": "PqVyW2YHpCdX"
      },
      "execution_count": null,
      "outputs": []
    },
    {
      "cell_type": "code",
      "source": [
        "a = np.arange(10).reshape(2,5)"
      ],
      "metadata": {
        "id": "7tTAdvXQlbKM"
      },
      "execution_count": null,
      "outputs": []
    },
    {
      "cell_type": "code",
      "source": [
        "a"
      ],
      "metadata": {
        "colab": {
          "base_uri": "https://localhost:8080/"
        },
        "id": "9PAQQDjGlapX",
        "outputId": "30e40570-5cb2-4bf1-d5f3-255f2eaf6ae7"
      },
      "execution_count": null,
      "outputs": [
        {
          "output_type": "execute_result",
          "data": {
            "text/plain": [
              "array([[0, 1, 2, 3, 4],\n",
              "       [5, 6, 7, 8, 9]])"
            ]
          },
          "metadata": {},
          "execution_count": 83
        }
      ]
    },
    {
      "cell_type": "code",
      "source": [
        "a.reshape(5,2)"
      ],
      "metadata": {
        "id": "FnOyS3qGpubO",
        "colab": {
          "base_uri": "https://localhost:8080/"
        },
        "outputId": "c104f427-dcec-4c18-ee2c-9f53244d0b02"
      },
      "execution_count": null,
      "outputs": [
        {
          "output_type": "execute_result",
          "data": {
            "text/plain": [
              "array([[0, 1],\n",
              "       [2, 3],\n",
              "       [4, 5],\n",
              "       [6, 7],\n",
              "       [8, 9]])"
            ]
          },
          "metadata": {},
          "execution_count": 84
        }
      ]
    },
    {
      "cell_type": "code",
      "source": [
        "a"
      ],
      "metadata": {
        "colab": {
          "base_uri": "https://localhost:8080/"
        },
        "id": "jOXy6zUTlqqz",
        "outputId": "34cac200-8588-47ba-817f-fd3967f433f3"
      },
      "execution_count": null,
      "outputs": [
        {
          "output_type": "execute_result",
          "data": {
            "text/plain": [
              "array([[0, 1, 2, 3, 4],\n",
              "       [5, 6, 7, 8, 9]])"
            ]
          },
          "metadata": {},
          "execution_count": 85
        }
      ]
    },
    {
      "cell_type": "code",
      "source": [
        ""
      ],
      "metadata": {
        "id": "wKg6NNHHlrQI"
      },
      "execution_count": null,
      "outputs": []
    }
  ],
  "metadata": {
    "accelerator": "GPU",
    "colab": {
      "collapsed_sections": [],
      "name": "ERN",
      "provenance": [],
      "mount_file_id": "1HStgqNitUHcr5_OmnGlx_p_SFTl4DZH8",
      "authorship_tag": "ABX9TyOK6tcsWmW0lLz4/qxey888",
      "include_colab_link": true
    },
    "kernelspec": {
      "display_name": "Python 3",
      "name": "python3"
    },
    "language_info": {
      "name": "python"
    }
  },
  "nbformat": 4,
  "nbformat_minor": 0
}