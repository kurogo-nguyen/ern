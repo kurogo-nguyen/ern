{
 "cells": [
  {
   "cell_type": "code",
   "execution_count": 1,
   "id": "747251b3",
   "metadata": {
    "execution": {
     "iopub.execute_input": "2022-08-01T07:57:14.760913Z",
     "iopub.status.busy": "2022-08-01T07:57:14.759521Z",
     "iopub.status.idle": "2022-08-01T07:57:14.764492Z",
     "shell.execute_reply": "2022-08-01T07:57:14.763805Z",
     "shell.execute_reply.started": "2022-08-01T04:37:13.398176Z"
    },
    "papermill": {
     "duration": 0.050761,
     "end_time": "2022-08-01T07:57:14.764677",
     "exception": false,
     "start_time": "2022-08-01T07:57:14.713916",
     "status": "completed"
    },
    "tags": []
   },
   "outputs": [],
   "source": [
    "# !python"
   ]
  },
  {
   "cell_type": "raw",
   "id": "1aca8955",
   "metadata": {
    "execution": {
     "iopub.execute_input": "2022-07-22T11:32:59.777123Z",
     "iopub.status.busy": "2022-07-22T11:32:59.776846Z",
     "iopub.status.idle": "2022-07-22T11:33:07.021678Z",
     "shell.execute_reply": "2022-07-22T11:33:07.020779Z",
     "shell.execute_reply.started": "2022-07-22T11:32:59.777084Z"
    },
    "id": "wqenka6uQ7hW",
    "outputId": "36bde18e-cb3a-4e06-95a7-abba8d082c06",
    "papermill": {
     "duration": 0.048721,
     "end_time": "2022-08-01T07:57:14.857567",
     "exception": false,
     "start_time": "2022-08-01T07:57:14.808846",
     "status": "completed"
    },
    "tags": []
   },
   "source": [
    "!pip install mne\n",
    "# !pip install pymatreader"
   ]
  },
  {
   "cell_type": "markdown",
   "id": "62ce8fb1",
   "metadata": {
    "id": "nLQd41R2wtSG",
    "papermill": {
     "duration": 0.042917,
     "end_time": "2022-08-01T07:57:14.949869",
     "exception": false,
     "start_time": "2022-08-01T07:57:14.906952",
     "status": "completed"
    },
    "tags": []
   },
   "source": [
    "# Import"
   ]
  },
  {
   "cell_type": "code",
   "execution_count": 2,
   "id": "14555305",
   "metadata": {
    "execution": {
     "iopub.execute_input": "2022-08-01T07:57:15.048375Z",
     "iopub.status.busy": "2022-08-01T07:57:15.047373Z",
     "iopub.status.idle": "2022-08-01T07:57:24.038833Z",
     "shell.execute_reply": "2022-08-01T07:57:24.038248Z",
     "shell.execute_reply.started": "2022-08-01T04:37:13.435282Z"
    },
    "id": "xta4kphDu50S",
    "papermill": {
     "duration": 9.0454,
     "end_time": "2022-08-01T07:57:24.038979",
     "exception": false,
     "start_time": "2022-08-01T07:57:14.993579",
     "status": "completed"
    },
    "tags": []
   },
   "outputs": [],
   "source": [
    "import mne\n",
    "from mne.preprocessing import read_ica\n",
    "import numpy as np\n",
    "import matplotlib.pyplot as plt\n",
    "\n",
    "from keras.models import Model\n",
    "from keras.layers import Dense, Activation, Permute, Dropout, SpatialDropout2D\n",
    "from keras.layers import Conv2D, MaxPooling2D, AveragePooling2D\n",
    "from keras.layers import SeparableConv2D, DepthwiseConv2D\n",
    "from keras.layers import BatchNormalization\n",
    "from keras.layers import Input, Flatten\n",
    "from keras.constraints import max_norm\n",
    "from keras.callbacks import ModelCheckpoint, EarlyStopping, ReduceLROnPlateau\n",
    "from keras.utils import np_utils\n",
    "\n",
    "from sklearn.model_selection import train_test_split\n",
    "from sklearn.metrics import classification_report, accuracy_score\n",
    "from sklearn.metrics import ConfusionMatrixDisplay, f1_score\n",
    "from imblearn.combine import SMOTEENN\n",
    "from imblearn.over_sampling import SMOTE"
   ]
  },
  {
   "cell_type": "markdown",
   "id": "c733f8ec",
   "metadata": {
    "id": "E-8b3o8Lyqy-",
    "papermill": {
     "duration": 0.039426,
     "end_time": "2022-08-01T07:57:24.118816",
     "exception": false,
     "start_time": "2022-08-01T07:57:24.079390",
     "status": "completed"
    },
    "tags": []
   },
   "source": [
    "# Def func"
   ]
  },
  {
   "cell_type": "code",
   "execution_count": 3,
   "id": "fa0b8d00",
   "metadata": {
    "execution": {
     "iopub.execute_input": "2022-08-01T07:57:24.203580Z",
     "iopub.status.busy": "2022-08-01T07:57:24.202743Z",
     "iopub.status.idle": "2022-08-01T07:57:24.205303Z",
     "shell.execute_reply": "2022-08-01T07:57:24.204799Z",
     "shell.execute_reply.started": "2022-08-01T04:37:21.097659Z"
    },
    "id": "7LpKG95Li_Yc",
    "papermill": {
     "duration": 0.046596,
     "end_time": "2022-08-01T07:57:24.205450",
     "exception": false,
     "start_time": "2022-08-01T07:57:24.158854",
     "status": "completed"
    },
    "tags": []
   },
   "outputs": [],
   "source": [
    "data_path = '../input/ern-data/ERN Raw Data and Scripts Only/' #@param {type:\"string\"}\n",
    "# data_path = '../input/ern-raw-data-bidscompatible' #@param {type:\"string\"}"
   ]
  },
  {
   "cell_type": "code",
   "execution_count": 4,
   "id": "3c6cdfc5",
   "metadata": {
    "execution": {
     "iopub.execute_input": "2022-08-01T07:57:24.288247Z",
     "iopub.status.busy": "2022-08-01T07:57:24.287563Z",
     "iopub.status.idle": "2022-08-01T07:57:24.294003Z",
     "shell.execute_reply": "2022-08-01T07:57:24.294517Z",
     "shell.execute_reply.started": "2022-08-01T04:37:21.103750Z"
    },
    "id": "ocf3mufoqTec",
    "papermill": {
     "duration": 0.049505,
     "end_time": "2022-08-01T07:57:24.294708",
     "exception": false,
     "start_time": "2022-08-01T07:57:24.245203",
     "status": "completed"
    },
    "tags": []
   },
   "outputs": [],
   "source": [
    "def plot(history):\n",
    "    # summarize history for accuracy\n",
    "    plt.plot(history.history['accuracy'])\n",
    "    plt.plot(history.history['val_accuracy'])\n",
    "    plt.title('model accuracy')\n",
    "    plt.ylabel('accuracy')\n",
    "    plt.xlabel('epoch')\n",
    "    plt.legend(['train', 'val'], loc='upper left')\n",
    "    plt.show()\n",
    "    # summarize history for loss\n",
    "    plt.plot(history.history['loss'])\n",
    "    plt.plot(history.history['val_loss'])\n",
    "    plt.title('model loss')\n",
    "    plt.ylabel('loss')\n",
    "    plt.xlabel('epoch')\n",
    "    plt.legend(['train', 'val'], loc='upper left')\n",
    "    plt.show()"
   ]
  },
  {
   "cell_type": "code",
   "execution_count": 5,
   "id": "6bacf12c",
   "metadata": {
    "execution": {
     "iopub.execute_input": "2022-08-01T07:57:24.382752Z",
     "iopub.status.busy": "2022-08-01T07:57:24.381902Z",
     "iopub.status.idle": "2022-08-01T07:57:24.385125Z",
     "shell.execute_reply": "2022-08-01T07:57:24.384534Z",
     "shell.execute_reply.started": "2022-08-01T04:37:21.115977Z"
    },
    "papermill": {
     "duration": 0.050593,
     "end_time": "2022-08-01T07:57:24.385300",
     "exception": false,
     "start_time": "2022-08-01T07:57:24.334707",
     "status": "completed"
    },
    "tags": []
   },
   "outputs": [],
   "source": [
    "from keras import backend as K\n",
    "import tensorflow as tf\n",
    "def focal_loss(gamma=2., alpha=.25):\n",
    "    def focal_loss_fixed(y_true, y_pred):\n",
    "        pt_1 = tf.where(tf.equal(y_true, 1), y_pred, tf.ones_like(y_pred))\n",
    "        pt_0 = tf.where(tf.equal(y_true, 0), y_pred, tf.zeros_like(y_pred))\n",
    "        return -K.mean(alpha * K.pow(1. - pt_1, gamma) * K.log(pt_1+K.epsilon())) - K.mean((1 - alpha) * K.pow(pt_0, gamma) * K.log(1. - pt_0 + K.epsilon()))\n",
    "    return focal_loss_fixed"
   ]
  },
  {
   "cell_type": "code",
   "execution_count": 6,
   "id": "3d66e7eb",
   "metadata": {
    "execution": {
     "iopub.execute_input": "2022-08-01T07:57:24.477724Z",
     "iopub.status.busy": "2022-08-01T07:57:24.476856Z",
     "iopub.status.idle": "2022-08-01T07:57:24.479338Z",
     "shell.execute_reply": "2022-08-01T07:57:24.478665Z",
     "shell.execute_reply.started": "2022-08-01T04:37:21.126264Z"
    },
    "id": "E-22klJyfbTo",
    "papermill": {
     "duration": 0.053536,
     "end_time": "2022-08-01T07:57:24.479490",
     "exception": false,
     "start_time": "2022-08-01T07:57:24.425954",
     "status": "completed"
    },
    "tags": []
   },
   "outputs": [],
   "source": [
    "def getData(id, pick_channels=['Fz'], metadata_tmin=-0.2, metadata_tmax=0.6, \n",
    "            epochs_tmin=-0.2, epochs_tmax=0.6, l_freq=0.1, h_freq=30,\n",
    "            baseline=(-0.2, -0.1)):\n",
    "    \n",
    "#     id=str(id).zfill(3)\n",
    "\n",
    "#     raw = mne.io.read_raw(f'{data_path}/{id}/{id}_ERN_shifted_ds_reref_ucbip_hpfilt_ica_weighted.set', preload=True)\n",
    "#     raw = mne.io.read_raw(f'{data_path}/{id}/{id}_ERN.set', preload=True)\n",
    "\n",
    "#     raw = mne.io.read_raw(f'{data_path}/sub-{id}/eeg/sub-{id}_task-ERN_eeg.set', preload=True)\n",
    "    raw = mne.io.read_raw(f'../input/erp-core-ica/{id}_eeg_ica.fif', preload=True)\n",
    "#     raw = mne.io.read_raw(f'../input/fork-of-erp-core-ica/{id}_eeg_ica.fif', preload=True)\n",
    "\n",
    "\n",
    "\n",
    "    raw.pick_channels(pick_channels)\n",
    "    raw.filter(l_freq,h_freq,verbose=0)\n",
    "    \n",
    "    raw.resample(128)\n",
    "\n",
    "    all_events, all_event_id = mne.events_from_annotations(raw)\n",
    "\n",
    "    c_row_events = list(np.intersect1d([*all_event_id],row_events))\n",
    "\n",
    "    metadata, events, event_id = mne.epochs.make_metadata(events=all_events, \n",
    "                                                          event_id=all_event_id,\n",
    "                                                          tmin=metadata_tmin, \n",
    "                                                          tmax=metadata_tmax, \n",
    "                                                          sfreq=raw.info['sfreq'],\n",
    "                                                          row_events=c_row_events,\n",
    "                                                          )\n",
    "    \n",
    "    metadata['response_correct']=False\n",
    "    metadata.loc[metadata['event_name'].isin(correct_response), 'response_correct'] = True\n",
    "    reject = {'eeg': 250e-6}\n",
    "    epochs = mne.Epochs(raw=raw, tmin=epochs_tmin, tmax=epochs_tmax,\n",
    "                        baseline=baseline, \n",
    "                        events=events, event_id=event_id, metadata=metadata,\n",
    "                        reject=reject,\n",
    "                        preload=True,\n",
    "                        verbose=0)\n",
    "    \n",
    "    \n",
    "    X = epochs.get_data()[2:]\n",
    "    y = (epochs.metadata.response_correct*1).to_numpy()[2:]\n",
    "\n",
    "    return X,y"
   ]
  },
  {
   "cell_type": "markdown",
   "id": "e15a541a",
   "metadata": {
    "id": "mZL60wIt53WI",
    "papermill": {
     "duration": 0.039751,
     "end_time": "2022-08-01T07:57:24.560499",
     "exception": false,
     "start_time": "2022-08-01T07:57:24.520748",
     "status": "completed"
    },
    "tags": []
   },
   "source": [
    "# Parameter"
   ]
  },
  {
   "cell_type": "code",
   "execution_count": 7,
   "id": "0f9952c9",
   "metadata": {
    "execution": {
     "iopub.execute_input": "2022-08-01T07:57:24.648650Z",
     "iopub.status.busy": "2022-08-01T07:57:24.647859Z",
     "iopub.status.idle": "2022-08-01T07:57:24.650728Z",
     "shell.execute_reply": "2022-08-01T07:57:24.650080Z",
     "shell.execute_reply.started": "2022-08-01T04:37:21.147650Z"
    },
    "id": "MJKZTFuVuOGI",
    "papermill": {
     "duration": 0.050301,
     "end_time": "2022-08-01T07:57:24.650869",
     "exception": false,
     "start_time": "2022-08-01T07:57:24.600568",
     "status": "completed"
    },
    "tags": []
   },
   "outputs": [],
   "source": [
    "channels1 = ['Fz','Cz']\n",
    "channels2 = ['FP1', 'F3', 'F7', 'FC3', 'C3', 'C5', 'P3', 'P7', 'P9', 'PO7',\n",
    "            'PO3', 'O1', 'Oz', 'Pz', 'CPz', 'FP2', 'Fz', 'F4', 'F8', 'FC4',\n",
    "            'FCz', 'Cz', 'C4', 'C6', 'P4', 'P8', 'P10', 'PO8', 'PO4', 'O2']\n",
    "channels3 = ['F3', 'F7', 'C3', 'P3', 'P7', 'O1', 'Oz', 'Pz', 'Fz', 'F4', 'F8', \n",
    "             'Cz', 'C4', 'P4', 'P8', 'O2']\n",
    "channels4 = ['F3', 'F7', 'FC3', 'C3', 'C5', 'Fz', 'F4', 'F8', 'FC4',\n",
    "             'FCz', 'Cz', 'C4', 'C6',]\n",
    "channels5 = ['F3', 'F7', 'C3', 'O1', 'Oz', 'Pz', 'Fz', 'F4', 'F8', \n",
    "             'Cz', 'C4', 'O2']\n",
    "\n",
    "\n",
    "channels6 = ['Fz','FCz', 'Cz']\n",
    "\n",
    "channels7= ['Cz', 'Fz', 'F7', 'F3', 'C3', 'C4', 'F4', 'F8']\n"
   ]
  },
  {
   "cell_type": "code",
   "execution_count": 8,
   "id": "0da6791e",
   "metadata": {
    "execution": {
     "iopub.execute_input": "2022-08-01T07:57:24.736513Z",
     "iopub.status.busy": "2022-08-01T07:57:24.735587Z",
     "iopub.status.idle": "2022-08-01T07:57:24.737962Z",
     "shell.execute_reply": "2022-08-01T07:57:24.738486Z",
     "shell.execute_reply.started": "2022-08-01T04:37:21.152613Z"
    },
    "id": "adQ-xoCZ58ZQ",
    "papermill": {
     "duration": 0.047112,
     "end_time": "2022-08-01T07:57:24.738662",
     "exception": false,
     "start_time": "2022-08-01T07:57:24.691550",
     "status": "completed"
    },
    "tags": []
   },
   "outputs": [],
   "source": [
    "pick_channel = channels4"
   ]
  },
  {
   "cell_type": "code",
   "execution_count": 9,
   "id": "ddda55bf",
   "metadata": {
    "execution": {
     "iopub.execute_input": "2022-08-01T07:57:24.825513Z",
     "iopub.status.busy": "2022-08-01T07:57:24.823089Z",
     "iopub.status.idle": "2022-08-01T07:57:24.828570Z",
     "shell.execute_reply": "2022-08-01T07:57:24.828001Z",
     "shell.execute_reply.started": "2022-08-01T04:37:21.154516Z"
    },
    "id": "CFBzTSoGvdFy",
    "papermill": {
     "duration": 0.049837,
     "end_time": "2022-08-01T07:57:24.828723",
     "exception": false,
     "start_time": "2022-08-01T07:57:24.778886",
     "status": "completed"
    },
    "tags": []
   },
   "outputs": [],
   "source": [
    "\"\"\" response - flanker - target\n",
    "    1: left/compatible\n",
    "    2: right/incompatible\n",
    "\"\"\"\n",
    "\n",
    "correct_response = ['111', '121',          # respones: left  - target: left\n",
    "                    '212', '222',]         # respones: right - target: right\n",
    "\n",
    "incorrect_response = ['112', '122',         # respones: left  - target: right\n",
    "                     '211', '221',]         # respones: right - target: left\n",
    "\n",
    "row_events = correct_response + incorrect_response"
   ]
  },
  {
   "cell_type": "markdown",
   "id": "34828908",
   "metadata": {
    "id": "Htovm2FLyuaO",
    "papermill": {
     "duration": 0.039437,
     "end_time": "2022-08-01T07:57:24.908143",
     "exception": false,
     "start_time": "2022-08-01T07:57:24.868706",
     "status": "completed"
    },
    "tags": []
   },
   "source": [
    "# Load data"
   ]
  },
  {
   "cell_type": "code",
   "execution_count": 10,
   "id": "3b71deb2",
   "metadata": {
    "execution": {
     "iopub.execute_input": "2022-08-01T07:57:24.994399Z",
     "iopub.status.busy": "2022-08-01T07:57:24.993662Z",
     "iopub.status.idle": "2022-08-01T07:57:24.996558Z",
     "shell.execute_reply": "2022-08-01T07:57:24.995925Z",
     "shell.execute_reply.started": "2022-08-01T04:37:21.156350Z"
    },
    "papermill": {
     "duration": 0.047307,
     "end_time": "2022-08-01T07:57:24.996702",
     "exception": false,
     "start_time": "2022-08-01T07:57:24.949395",
     "status": "completed"
    },
    "tags": []
   },
   "outputs": [],
   "source": [
    "# len(X)"
   ]
  },
  {
   "cell_type": "code",
   "execution_count": 11,
   "id": "06bad2d6",
   "metadata": {
    "_kg_hide-input": true,
    "_kg_hide-output": true,
    "execution": {
     "iopub.execute_input": "2022-08-01T07:57:25.085558Z",
     "iopub.status.busy": "2022-08-01T07:57:25.084868Z",
     "iopub.status.idle": "2022-08-01T08:00:24.466278Z",
     "shell.execute_reply": "2022-08-01T08:00:24.466842Z",
     "shell.execute_reply.started": "2022-08-01T04:37:21.158681Z"
    },
    "id": "KJj3CoESsTMk",
    "outputId": "9373bc3c-8ca2-405a-e581-4d71835d51cc",
    "papermill": {
     "duration": 179.430008,
     "end_time": "2022-08-01T08:00:24.467059",
     "exception": false,
     "start_time": "2022-08-01T07:57:25.037051",
     "status": "completed"
    },
    "scrolled": true,
    "tags": []
   },
   "outputs": [
    {
     "name": "stdout",
     "output_type": "stream",
     "text": [
      "Opening raw data file ../input/erp-core-ica/1_eeg_ica.fif...\n"
     ]
    },
    {
     "name": "stderr",
     "output_type": "stream",
     "text": [
      "/tmp/ipykernel_19/1045735790.py:11: RuntimeWarning: This filename (../input/erp-core-ica/1_eeg_ica.fif) does not conform to MNE naming conventions. All raw files should end with raw.fif, raw_sss.fif, raw_tsss.fif, _meg.fif, _eeg.fif, _ieeg.fif, raw.fif.gz, raw_sss.fif.gz, raw_tsss.fif.gz, _meg.fif.gz, _eeg.fif.gz or _ieeg.fif.gz\n",
      "  raw = mne.io.read_raw(f'../input/erp-core-ica/{id}_eeg_ica.fif', preload=True)\n"
     ]
    },
    {
     "name": "stdout",
     "output_type": "stream",
     "text": [
      "    Range : 0 ... 935935 =      0.000 ...   913.999 secs\n",
      "Ready.\n",
      "Reading 0 ... 935935  =      0.000 ...   913.999 secs...\n",
      "Filtering raw data in 1 contiguous segment\n",
      "Setting up band-pass filter from 0.1 - 30 Hz\n",
      "\n",
      "FIR filter parameters\n",
      "---------------------\n",
      "Designing a one-pass, zero-phase, non-causal bandpass filter:\n",
      "- Windowed time-domain design (firwin) method\n",
      "- Hamming window with 0.0194 passband ripple and 53 dB stopband attenuation\n",
      "- Lower passband edge: 0.10\n",
      "- Lower transition bandwidth: 0.10 Hz (-6 dB cutoff frequency: 0.05 Hz)\n",
      "- Upper passband edge: 30.00 Hz\n",
      "- Upper transition bandwidth: 7.50 Hz (-6 dB cutoff frequency: 33.75 Hz)\n",
      "- Filter length: 33793 samples (33.001 sec)\n",
      "\n",
      "Used Annotations descriptions: ['11', '111', '112', '12', '121', '122', '21', '211', '212', '22', '221', '222']\n",
      "Adding metadata with 14 columns\n",
      "Replacing existing metadata with 14 columns\n",
      "402 matching events found\n",
      "Applying baseline correction (mode: mean)\n",
      "0 projection items activated\n",
      "Loading data for 402 events and 104 original time points ...\n",
      "    Rejecting  epoch based on EEG : ['F7']\n",
      "    Rejecting  epoch based on EEG : ['F3', 'F7', 'FC3', 'C3', 'F4', 'F8', 'FC4', 'C4']\n",
      "13 bad epochs dropped\n",
      "Opening raw data file ../input/erp-core-ica/2_eeg_ica.fif...\n"
     ]
    },
    {
     "name": "stderr",
     "output_type": "stream",
     "text": [
      "/tmp/ipykernel_19/1045735790.py:11: RuntimeWarning: This filename (../input/erp-core-ica/2_eeg_ica.fif) does not conform to MNE naming conventions. All raw files should end with raw.fif, raw_sss.fif, raw_tsss.fif, _meg.fif, _eeg.fif, _ieeg.fif, raw.fif.gz, raw_sss.fif.gz, raw_tsss.fif.gz, _meg.fif.gz, _eeg.fif.gz or _ieeg.fif.gz\n",
      "  raw = mne.io.read_raw(f'../input/erp-core-ica/{id}_eeg_ica.fif', preload=True)\n"
     ]
    },
    {
     "name": "stdout",
     "output_type": "stream",
     "text": [
      "    Range : 0 ... 900095 =      0.000 ...   878.999 secs\n",
      "Ready.\n",
      "Reading 0 ... 900095  =      0.000 ...   878.999 secs...\n",
      "Filtering raw data in 1 contiguous segment\n",
      "Setting up band-pass filter from 0.1 - 30 Hz\n",
      "\n",
      "FIR filter parameters\n",
      "---------------------\n",
      "Designing a one-pass, zero-phase, non-causal bandpass filter:\n",
      "- Windowed time-domain design (firwin) method\n",
      "- Hamming window with 0.0194 passband ripple and 53 dB stopband attenuation\n",
      "- Lower passband edge: 0.10\n",
      "- Lower transition bandwidth: 0.10 Hz (-6 dB cutoff frequency: 0.05 Hz)\n",
      "- Upper passband edge: 30.00 Hz\n",
      "- Upper transition bandwidth: 7.50 Hz (-6 dB cutoff frequency: 33.75 Hz)\n",
      "- Filter length: 33793 samples (33.001 sec)\n",
      "\n",
      "Used Annotations descriptions: ['11', '111', '112', '12', '121', '122', '21', '212', '22', '221', '222']\n",
      "Adding metadata with 13 columns\n",
      "Replacing existing metadata with 13 columns\n",
      "402 matching events found\n",
      "Applying baseline correction (mode: mean)\n",
      "0 projection items activated\n",
      "Loading data for 402 events and 104 original time points ...\n",
      "11 bad epochs dropped\n",
      "Opening raw data file ../input/erp-core-ica/3_eeg_ica.fif...\n"
     ]
    },
    {
     "name": "stderr",
     "output_type": "stream",
     "text": [
      "/tmp/ipykernel_19/1045735790.py:11: RuntimeWarning: This filename (../input/erp-core-ica/3_eeg_ica.fif) does not conform to MNE naming conventions. All raw files should end with raw.fif, raw_sss.fif, raw_tsss.fif, _meg.fif, _eeg.fif, _ieeg.fif, raw.fif.gz, raw_sss.fif.gz, raw_tsss.fif.gz, _meg.fif.gz, _eeg.fif.gz or _ieeg.fif.gz\n",
      "  raw = mne.io.read_raw(f'../input/erp-core-ica/{id}_eeg_ica.fif', preload=True)\n"
     ]
    },
    {
     "name": "stdout",
     "output_type": "stream",
     "text": [
      "    Range : 0 ... 792575 =      0.000 ...   773.999 secs\n",
      "Ready.\n",
      "Reading 0 ... 792575  =      0.000 ...   773.999 secs...\n",
      "Filtering raw data in 1 contiguous segment\n",
      "Setting up band-pass filter from 0.1 - 30 Hz\n",
      "\n",
      "FIR filter parameters\n",
      "---------------------\n",
      "Designing a one-pass, zero-phase, non-causal bandpass filter:\n",
      "- Windowed time-domain design (firwin) method\n",
      "- Hamming window with 0.0194 passband ripple and 53 dB stopband attenuation\n",
      "- Lower passband edge: 0.10\n",
      "- Lower transition bandwidth: 0.10 Hz (-6 dB cutoff frequency: 0.05 Hz)\n",
      "- Upper passband edge: 30.00 Hz\n",
      "- Upper transition bandwidth: 7.50 Hz (-6 dB cutoff frequency: 33.75 Hz)\n",
      "- Filter length: 33793 samples (33.001 sec)\n",
      "\n",
      "Used Annotations descriptions: ['11', '111', '12', '121', '122', '21', '211', '212', '22', '221', '222']\n",
      "Adding metadata with 13 columns\n",
      "Replacing existing metadata with 13 columns\n",
      "399 matching events found\n",
      "Applying baseline correction (mode: mean)\n",
      "0 projection items activated\n",
      "Loading data for 399 events and 104 original time points ...\n",
      "11 bad epochs dropped\n",
      "Opening raw data file ../input/erp-core-ica/4_eeg_ica.fif...\n"
     ]
    },
    {
     "name": "stderr",
     "output_type": "stream",
     "text": [
      "/tmp/ipykernel_19/1045735790.py:11: RuntimeWarning: This filename (../input/erp-core-ica/4_eeg_ica.fif) does not conform to MNE naming conventions. All raw files should end with raw.fif, raw_sss.fif, raw_tsss.fif, _meg.fif, _eeg.fif, _ieeg.fif, raw.fif.gz, raw_sss.fif.gz, raw_tsss.fif.gz, _meg.fif.gz, _eeg.fif.gz or _ieeg.fif.gz\n",
      "  raw = mne.io.read_raw(f'../input/erp-core-ica/{id}_eeg_ica.fif', preload=True)\n"
     ]
    },
    {
     "name": "stdout",
     "output_type": "stream",
     "text": [
      "    Range : 0 ... 1023999 =      0.000 ...   999.999 secs\n",
      "Ready.\n",
      "Reading 0 ... 1023999  =      0.000 ...   999.999 secs...\n",
      "Filtering raw data in 1 contiguous segment\n",
      "Setting up band-pass filter from 0.1 - 30 Hz\n",
      "\n",
      "FIR filter parameters\n",
      "---------------------\n",
      "Designing a one-pass, zero-phase, non-causal bandpass filter:\n",
      "- Windowed time-domain design (firwin) method\n",
      "- Hamming window with 0.0194 passband ripple and 53 dB stopband attenuation\n",
      "- Lower passband edge: 0.10\n",
      "- Lower transition bandwidth: 0.10 Hz (-6 dB cutoff frequency: 0.05 Hz)\n",
      "- Upper passband edge: 30.00 Hz\n",
      "- Upper transition bandwidth: 7.50 Hz (-6 dB cutoff frequency: 33.75 Hz)\n",
      "- Filter length: 33793 samples (33.001 sec)\n",
      "\n",
      "Used Annotations descriptions: ['11', '111', '112', '12', '121', '122', '21', '211', '212', '22', '221', '222']\n",
      "Adding metadata with 14 columns\n",
      "Replacing existing metadata with 14 columns\n",
      "402 matching events found\n",
      "Applying baseline correction (mode: mean)\n",
      "0 projection items activated\n",
      "Loading data for 402 events and 104 original time points ...\n",
      "    Rejecting  epoch based on EEG : ['F3', 'F7', 'FC3', 'C3', 'C5', 'Fz', 'F4', 'F8', 'FC4', 'FCz', 'Cz', 'C4', 'C6']\n",
      "    Rejecting  epoch based on EEG : ['F7']\n",
      "14 bad epochs dropped\n",
      "Opening raw data file ../input/erp-core-ica/5_eeg_ica.fif...\n"
     ]
    },
    {
     "name": "stderr",
     "output_type": "stream",
     "text": [
      "/tmp/ipykernel_19/1045735790.py:11: RuntimeWarning: This filename (../input/erp-core-ica/5_eeg_ica.fif) does not conform to MNE naming conventions. All raw files should end with raw.fif, raw_sss.fif, raw_tsss.fif, _meg.fif, _eeg.fif, _ieeg.fif, raw.fif.gz, raw_sss.fif.gz, raw_tsss.fif.gz, _meg.fif.gz, _eeg.fif.gz or _ieeg.fif.gz\n",
      "  raw = mne.io.read_raw(f'../input/erp-core-ica/{id}_eeg_ica.fif', preload=True)\n"
     ]
    },
    {
     "name": "stdout",
     "output_type": "stream",
     "text": [
      "    Range : 0 ... 800767 =      0.000 ...   781.999 secs\n",
      "Ready.\n",
      "Reading 0 ... 800767  =      0.000 ...   781.999 secs...\n",
      "Filtering raw data in 1 contiguous segment\n",
      "Setting up band-pass filter from 0.1 - 30 Hz\n",
      "\n",
      "FIR filter parameters\n",
      "---------------------\n",
      "Designing a one-pass, zero-phase, non-causal bandpass filter:\n",
      "- Windowed time-domain design (firwin) method\n",
      "- Hamming window with 0.0194 passband ripple and 53 dB stopband attenuation\n",
      "- Lower passband edge: 0.10\n",
      "- Lower transition bandwidth: 0.10 Hz (-6 dB cutoff frequency: 0.05 Hz)\n",
      "- Upper passband edge: 30.00 Hz\n",
      "- Upper transition bandwidth: 7.50 Hz (-6 dB cutoff frequency: 33.75 Hz)\n",
      "- Filter length: 33793 samples (33.001 sec)\n",
      "\n",
      "Used Annotations descriptions: ['11', '111', '12', '121', '21', '212', '22', '221', '222']\n",
      "Adding metadata with 11 columns\n",
      "Replacing existing metadata with 11 columns\n",
      "400 matching events found\n",
      "Applying baseline correction (mode: mean)\n",
      "0 projection items activated\n",
      "Loading data for 400 events and 104 original time points ...\n",
      "9 bad epochs dropped\n",
      "Opening raw data file ../input/erp-core-ica/6_eeg_ica.fif...\n"
     ]
    },
    {
     "name": "stderr",
     "output_type": "stream",
     "text": [
      "/tmp/ipykernel_19/1045735790.py:11: RuntimeWarning: This filename (../input/erp-core-ica/6_eeg_ica.fif) does not conform to MNE naming conventions. All raw files should end with raw.fif, raw_sss.fif, raw_tsss.fif, _meg.fif, _eeg.fif, _ieeg.fif, raw.fif.gz, raw_sss.fif.gz, raw_tsss.fif.gz, _meg.fif.gz, _eeg.fif.gz or _ieeg.fif.gz\n",
      "  raw = mne.io.read_raw(f'../input/erp-core-ica/{id}_eeg_ica.fif', preload=True)\n"
     ]
    },
    {
     "name": "stdout",
     "output_type": "stream",
     "text": [
      "    Range : 0 ... 669695 =      0.000 ...   653.999 secs\n",
      "Ready.\n",
      "Reading 0 ... 669695  =      0.000 ...   653.999 secs...\n",
      "Filtering raw data in 1 contiguous segment\n",
      "Setting up band-pass filter from 0.1 - 30 Hz\n",
      "\n",
      "FIR filter parameters\n",
      "---------------------\n",
      "Designing a one-pass, zero-phase, non-causal bandpass filter:\n",
      "- Windowed time-domain design (firwin) method\n",
      "- Hamming window with 0.0194 passband ripple and 53 dB stopband attenuation\n",
      "- Lower passband edge: 0.10\n",
      "- Lower transition bandwidth: 0.10 Hz (-6 dB cutoff frequency: 0.05 Hz)\n",
      "- Upper passband edge: 30.00 Hz\n",
      "- Upper transition bandwidth: 7.50 Hz (-6 dB cutoff frequency: 33.75 Hz)\n",
      "- Filter length: 33793 samples (33.001 sec)\n",
      "\n",
      "Used Annotations descriptions: ['11', '111', '112', '12', '121', '122', '21', '211', '212', '22', '221', '222']\n",
      "Adding metadata with 14 columns\n",
      "Replacing existing metadata with 14 columns\n",
      "388 matching events found\n",
      "Applying baseline correction (mode: mean)\n",
      "0 projection items activated\n",
      "Loading data for 388 events and 104 original time points ...\n",
      "    Rejecting  epoch based on EEG : ['F4']\n",
      "    Rejecting  epoch based on EEG : ['C5', 'F4']\n",
      "    Rejecting  epoch based on EEG : ['F4']\n",
      "    Rejecting  epoch based on EEG : ['F4']\n",
      "    Rejecting  epoch based on EEG : ['F7', 'F4']\n",
      "    Rejecting  epoch based on EEG : ['F4']\n",
      "20 bad epochs dropped\n",
      "Opening raw data file ../input/erp-core-ica/7_eeg_ica.fif...\n"
     ]
    },
    {
     "name": "stderr",
     "output_type": "stream",
     "text": [
      "/tmp/ipykernel_19/1045735790.py:11: RuntimeWarning: This filename (../input/erp-core-ica/7_eeg_ica.fif) does not conform to MNE naming conventions. All raw files should end with raw.fif, raw_sss.fif, raw_tsss.fif, _meg.fif, _eeg.fif, _ieeg.fif, raw.fif.gz, raw_sss.fif.gz, raw_tsss.fif.gz, _meg.fif.gz, _eeg.fif.gz or _ieeg.fif.gz\n",
      "  raw = mne.io.read_raw(f'../input/erp-core-ica/{id}_eeg_ica.fif', preload=True)\n"
     ]
    },
    {
     "name": "stdout",
     "output_type": "stream",
     "text": [
      "    Range : 0 ... 746495 =      0.000 ...   728.999 secs\n",
      "Ready.\n",
      "Reading 0 ... 746495  =      0.000 ...   728.999 secs...\n",
      "Filtering raw data in 1 contiguous segment\n",
      "Setting up band-pass filter from 0.1 - 30 Hz\n",
      "\n",
      "FIR filter parameters\n",
      "---------------------\n",
      "Designing a one-pass, zero-phase, non-causal bandpass filter:\n",
      "- Windowed time-domain design (firwin) method\n",
      "- Hamming window with 0.0194 passband ripple and 53 dB stopband attenuation\n",
      "- Lower passband edge: 0.10\n",
      "- Lower transition bandwidth: 0.10 Hz (-6 dB cutoff frequency: 0.05 Hz)\n",
      "- Upper passband edge: 30.00 Hz\n",
      "- Upper transition bandwidth: 7.50 Hz (-6 dB cutoff frequency: 33.75 Hz)\n",
      "- Filter length: 33793 samples (33.001 sec)\n",
      "\n",
      "Used Annotations descriptions: ['11', '111', '112', '12', '121', '122', '21', '211', '212', '22', '221', '222']\n",
      "Adding metadata with 14 columns\n",
      "Replacing existing metadata with 14 columns\n",
      "402 matching events found\n",
      "Applying baseline correction (mode: mean)\n",
      "0 projection items activated\n",
      "Loading data for 402 events and 104 original time points ...\n",
      "11 bad epochs dropped\n",
      "Opening raw data file ../input/erp-core-ica/8_eeg_ica.fif...\n"
     ]
    },
    {
     "name": "stderr",
     "output_type": "stream",
     "text": [
      "/tmp/ipykernel_19/1045735790.py:11: RuntimeWarning: This filename (../input/erp-core-ica/8_eeg_ica.fif) does not conform to MNE naming conventions. All raw files should end with raw.fif, raw_sss.fif, raw_tsss.fif, _meg.fif, _eeg.fif, _ieeg.fif, raw.fif.gz, raw_sss.fif.gz, raw_tsss.fif.gz, _meg.fif.gz, _eeg.fif.gz or _ieeg.fif.gz\n",
      "  raw = mne.io.read_raw(f'../input/erp-core-ica/{id}_eeg_ica.fif', preload=True)\n"
     ]
    },
    {
     "name": "stdout",
     "output_type": "stream",
     "text": [
      "    Range : 0 ... 1074175 =      0.000 ...  1048.999 secs\n",
      "Ready.\n",
      "Reading 0 ... 1074175  =      0.000 ...  1048.999 secs...\n",
      "Filtering raw data in 1 contiguous segment\n",
      "Setting up band-pass filter from 0.1 - 30 Hz\n",
      "\n",
      "FIR filter parameters\n",
      "---------------------\n",
      "Designing a one-pass, zero-phase, non-causal bandpass filter:\n",
      "- Windowed time-domain design (firwin) method\n",
      "- Hamming window with 0.0194 passband ripple and 53 dB stopband attenuation\n",
      "- Lower passband edge: 0.10\n",
      "- Lower transition bandwidth: 0.10 Hz (-6 dB cutoff frequency: 0.05 Hz)\n",
      "- Upper passband edge: 30.00 Hz\n",
      "- Upper transition bandwidth: 7.50 Hz (-6 dB cutoff frequency: 33.75 Hz)\n",
      "- Filter length: 33793 samples (33.001 sec)\n",
      "\n",
      "Used Annotations descriptions: ['11', '111', '112', '12', '121', '122', '21', '212', '22', '221', '222']\n",
      "Adding metadata with 13 columns\n",
      "Replacing existing metadata with 13 columns\n",
      "403 matching events found\n",
      "Applying baseline correction (mode: mean)\n",
      "0 projection items activated\n",
      "Loading data for 403 events and 104 original time points ...\n",
      "13 bad epochs dropped\n",
      "Opening raw data file ../input/erp-core-ica/9_eeg_ica.fif...\n"
     ]
    },
    {
     "name": "stderr",
     "output_type": "stream",
     "text": [
      "/tmp/ipykernel_19/1045735790.py:11: RuntimeWarning: This filename (../input/erp-core-ica/9_eeg_ica.fif) does not conform to MNE naming conventions. All raw files should end with raw.fif, raw_sss.fif, raw_tsss.fif, _meg.fif, _eeg.fif, _ieeg.fif, raw.fif.gz, raw_sss.fif.gz, raw_tsss.fif.gz, _meg.fif.gz, _eeg.fif.gz or _ieeg.fif.gz\n",
      "  raw = mne.io.read_raw(f'../input/erp-core-ica/{id}_eeg_ica.fif', preload=True)\n"
     ]
    },
    {
     "name": "stdout",
     "output_type": "stream",
     "text": [
      "    Range : 0 ... 698367 =      0.000 ...   681.999 secs\n",
      "Ready.\n",
      "Reading 0 ... 698367  =      0.000 ...   681.999 secs...\n",
      "Filtering raw data in 1 contiguous segment\n",
      "Setting up band-pass filter from 0.1 - 30 Hz\n",
      "\n",
      "FIR filter parameters\n",
      "---------------------\n",
      "Designing a one-pass, zero-phase, non-causal bandpass filter:\n",
      "- Windowed time-domain design (firwin) method\n",
      "- Hamming window with 0.0194 passband ripple and 53 dB stopband attenuation\n",
      "- Lower passband edge: 0.10\n",
      "- Lower transition bandwidth: 0.10 Hz (-6 dB cutoff frequency: 0.05 Hz)\n",
      "- Upper passband edge: 30.00 Hz\n",
      "- Upper transition bandwidth: 7.50 Hz (-6 dB cutoff frequency: 33.75 Hz)\n",
      "- Filter length: 33793 samples (33.001 sec)\n",
      "\n",
      "Used Annotations descriptions: ['11', '111', '112', '12', '121', '122', '21', '211', '212', '22', '221', '222']\n",
      "Adding metadata with 14 columns\n",
      "Replacing existing metadata with 14 columns\n",
      "403 matching events found\n",
      "Applying baseline correction (mode: mean)\n",
      "0 projection items activated\n",
      "Loading data for 403 events and 104 original time points ...\n",
      "13 bad epochs dropped\n",
      "Opening raw data file ../input/erp-core-ica/10_eeg_ica.fif...\n"
     ]
    },
    {
     "name": "stderr",
     "output_type": "stream",
     "text": [
      "/tmp/ipykernel_19/1045735790.py:11: RuntimeWarning: This filename (../input/erp-core-ica/10_eeg_ica.fif) does not conform to MNE naming conventions. All raw files should end with raw.fif, raw_sss.fif, raw_tsss.fif, _meg.fif, _eeg.fif, _ieeg.fif, raw.fif.gz, raw_sss.fif.gz, raw_tsss.fif.gz, _meg.fif.gz, _eeg.fif.gz or _ieeg.fif.gz\n",
      "  raw = mne.io.read_raw(f'../input/erp-core-ica/{id}_eeg_ica.fif', preload=True)\n"
     ]
    },
    {
     "name": "stdout",
     "output_type": "stream",
     "text": [
      "    Range : 0 ... 770047 =      0.000 ...   751.999 secs\n",
      "Ready.\n",
      "Reading 0 ... 770047  =      0.000 ...   751.999 secs...\n",
      "Filtering raw data in 1 contiguous segment\n",
      "Setting up band-pass filter from 0.1 - 30 Hz\n",
      "\n",
      "FIR filter parameters\n",
      "---------------------\n",
      "Designing a one-pass, zero-phase, non-causal bandpass filter:\n",
      "- Windowed time-domain design (firwin) method\n",
      "- Hamming window with 0.0194 passband ripple and 53 dB stopband attenuation\n",
      "- Lower passband edge: 0.10\n",
      "- Lower transition bandwidth: 0.10 Hz (-6 dB cutoff frequency: 0.05 Hz)\n",
      "- Upper passband edge: 30.00 Hz\n",
      "- Upper transition bandwidth: 7.50 Hz (-6 dB cutoff frequency: 33.75 Hz)\n",
      "- Filter length: 33793 samples (33.001 sec)\n",
      "\n",
      "Used Annotations descriptions: ['11', '111', '112', '12', '121', '122', '21', '211', '212', '22', '221', '222']\n",
      "Adding metadata with 14 columns\n",
      "Replacing existing metadata with 14 columns\n",
      "401 matching events found\n",
      "Applying baseline correction (mode: mean)\n",
      "0 projection items activated\n",
      "Loading data for 401 events and 104 original time points ...\n",
      "12 bad epochs dropped\n",
      "Opening raw data file ../input/erp-core-ica/11_eeg_ica.fif...\n"
     ]
    },
    {
     "name": "stderr",
     "output_type": "stream",
     "text": [
      "/tmp/ipykernel_19/1045735790.py:11: RuntimeWarning: This filename (../input/erp-core-ica/11_eeg_ica.fif) does not conform to MNE naming conventions. All raw files should end with raw.fif, raw_sss.fif, raw_tsss.fif, _meg.fif, _eeg.fif, _ieeg.fif, raw.fif.gz, raw_sss.fif.gz, raw_tsss.fif.gz, _meg.fif.gz, _eeg.fif.gz or _ieeg.fif.gz\n",
      "  raw = mne.io.read_raw(f'../input/erp-core-ica/{id}_eeg_ica.fif', preload=True)\n"
     ]
    },
    {
     "name": "stdout",
     "output_type": "stream",
     "text": [
      "    Range : 0 ... 741375 =      0.000 ...   723.999 secs\n",
      "Ready.\n",
      "Reading 0 ... 741375  =      0.000 ...   723.999 secs...\n",
      "Filtering raw data in 1 contiguous segment\n",
      "Setting up band-pass filter from 0.1 - 30 Hz\n",
      "\n",
      "FIR filter parameters\n",
      "---------------------\n",
      "Designing a one-pass, zero-phase, non-causal bandpass filter:\n",
      "- Windowed time-domain design (firwin) method\n",
      "- Hamming window with 0.0194 passband ripple and 53 dB stopband attenuation\n",
      "- Lower passband edge: 0.10\n",
      "- Lower transition bandwidth: 0.10 Hz (-6 dB cutoff frequency: 0.05 Hz)\n",
      "- Upper passband edge: 30.00 Hz\n",
      "- Upper transition bandwidth: 7.50 Hz (-6 dB cutoff frequency: 33.75 Hz)\n",
      "- Filter length: 33793 samples (33.001 sec)\n",
      "\n",
      "Used Annotations descriptions: ['11', '111', '112', '12', '121', '122', '21', '211', '212', '22', '221', '222']\n",
      "Adding metadata with 14 columns\n",
      "Replacing existing metadata with 14 columns\n",
      "402 matching events found\n",
      "Applying baseline correction (mode: mean)\n",
      "0 projection items activated\n",
      "Loading data for 402 events and 104 original time points ...\n",
      "11 bad epochs dropped\n",
      "Opening raw data file ../input/erp-core-ica/12_eeg_ica.fif...\n"
     ]
    },
    {
     "name": "stderr",
     "output_type": "stream",
     "text": [
      "/tmp/ipykernel_19/1045735790.py:11: RuntimeWarning: This filename (../input/erp-core-ica/12_eeg_ica.fif) does not conform to MNE naming conventions. All raw files should end with raw.fif, raw_sss.fif, raw_tsss.fif, _meg.fif, _eeg.fif, _ieeg.fif, raw.fif.gz, raw_sss.fif.gz, raw_tsss.fif.gz, _meg.fif.gz, _eeg.fif.gz or _ieeg.fif.gz\n",
      "  raw = mne.io.read_raw(f'../input/erp-core-ica/{id}_eeg_ica.fif', preload=True)\n"
     ]
    },
    {
     "name": "stdout",
     "output_type": "stream",
     "text": [
      "    Range : 0 ... 693247 =      0.000 ...   676.999 secs\n",
      "Ready.\n",
      "Reading 0 ... 693247  =      0.000 ...   676.999 secs...\n",
      "Filtering raw data in 1 contiguous segment\n",
      "Setting up band-pass filter from 0.1 - 30 Hz\n",
      "\n",
      "FIR filter parameters\n",
      "---------------------\n",
      "Designing a one-pass, zero-phase, non-causal bandpass filter:\n",
      "- Windowed time-domain design (firwin) method\n",
      "- Hamming window with 0.0194 passband ripple and 53 dB stopband attenuation\n",
      "- Lower passband edge: 0.10\n",
      "- Lower transition bandwidth: 0.10 Hz (-6 dB cutoff frequency: 0.05 Hz)\n",
      "- Upper passband edge: 30.00 Hz\n",
      "- Upper transition bandwidth: 7.50 Hz (-6 dB cutoff frequency: 33.75 Hz)\n",
      "- Filter length: 33793 samples (33.001 sec)\n",
      "\n",
      "Used Annotations descriptions: ['11', '111', '112', '12', '121', '122', '21', '211', '212', '22', '221', '222']\n",
      "Adding metadata with 14 columns\n",
      "Replacing existing metadata with 14 columns\n",
      "403 matching events found\n",
      "Applying baseline correction (mode: mean)\n",
      "0 projection items activated\n",
      "Loading data for 403 events and 104 original time points ...\n",
      "    Rejecting  epoch based on EEG : ['F7']\n",
      "    Rejecting  epoch based on EEG : ['F7']\n",
      "15 bad epochs dropped\n",
      "Opening raw data file ../input/erp-core-ica/13_eeg_ica.fif...\n"
     ]
    },
    {
     "name": "stderr",
     "output_type": "stream",
     "text": [
      "/tmp/ipykernel_19/1045735790.py:11: RuntimeWarning: This filename (../input/erp-core-ica/13_eeg_ica.fif) does not conform to MNE naming conventions. All raw files should end with raw.fif, raw_sss.fif, raw_tsss.fif, _meg.fif, _eeg.fif, _ieeg.fif, raw.fif.gz, raw_sss.fif.gz, raw_tsss.fif.gz, _meg.fif.gz, _eeg.fif.gz or _ieeg.fif.gz\n",
      "  raw = mne.io.read_raw(f'../input/erp-core-ica/{id}_eeg_ica.fif', preload=True)\n"
     ]
    },
    {
     "name": "stdout",
     "output_type": "stream",
     "text": [
      "    Range : 0 ... 745471 =      0.000 ...   727.999 secs\n",
      "Ready.\n",
      "Reading 0 ... 745471  =      0.000 ...   727.999 secs...\n",
      "Filtering raw data in 1 contiguous segment\n",
      "Setting up band-pass filter from 0.1 - 30 Hz\n",
      "\n",
      "FIR filter parameters\n",
      "---------------------\n",
      "Designing a one-pass, zero-phase, non-causal bandpass filter:\n",
      "- Windowed time-domain design (firwin) method\n",
      "- Hamming window with 0.0194 passband ripple and 53 dB stopband attenuation\n",
      "- Lower passband edge: 0.10\n",
      "- Lower transition bandwidth: 0.10 Hz (-6 dB cutoff frequency: 0.05 Hz)\n",
      "- Upper passband edge: 30.00 Hz\n",
      "- Upper transition bandwidth: 7.50 Hz (-6 dB cutoff frequency: 33.75 Hz)\n",
      "- Filter length: 33793 samples (33.001 sec)\n",
      "\n",
      "Used Annotations descriptions: ['11', '111', '112', '12', '121', '122', '21', '211', '212', '22', '221', '222']\n",
      "Adding metadata with 14 columns\n",
      "Replacing existing metadata with 14 columns\n",
      "401 matching events found\n",
      "Applying baseline correction (mode: mean)\n",
      "0 projection items activated\n",
      "Loading data for 401 events and 104 original time points ...\n",
      "11 bad epochs dropped\n",
      "Opening raw data file ../input/erp-core-ica/14_eeg_ica.fif...\n"
     ]
    },
    {
     "name": "stderr",
     "output_type": "stream",
     "text": [
      "/tmp/ipykernel_19/1045735790.py:11: RuntimeWarning: This filename (../input/erp-core-ica/14_eeg_ica.fif) does not conform to MNE naming conventions. All raw files should end with raw.fif, raw_sss.fif, raw_tsss.fif, _meg.fif, _eeg.fif, _ieeg.fif, raw.fif.gz, raw_sss.fif.gz, raw_tsss.fif.gz, _meg.fif.gz, _eeg.fif.gz or _ieeg.fif.gz\n",
      "  raw = mne.io.read_raw(f'../input/erp-core-ica/{id}_eeg_ica.fif', preload=True)\n"
     ]
    },
    {
     "name": "stdout",
     "output_type": "stream",
     "text": [
      "    Range : 0 ... 696319 =      0.000 ...   679.999 secs\n",
      "Ready.\n",
      "Reading 0 ... 696319  =      0.000 ...   679.999 secs...\n",
      "Filtering raw data in 1 contiguous segment\n",
      "Setting up band-pass filter from 0.1 - 30 Hz\n",
      "\n",
      "FIR filter parameters\n",
      "---------------------\n",
      "Designing a one-pass, zero-phase, non-causal bandpass filter:\n",
      "- Windowed time-domain design (firwin) method\n",
      "- Hamming window with 0.0194 passband ripple and 53 dB stopband attenuation\n",
      "- Lower passband edge: 0.10\n",
      "- Lower transition bandwidth: 0.10 Hz (-6 dB cutoff frequency: 0.05 Hz)\n",
      "- Upper passband edge: 30.00 Hz\n",
      "- Upper transition bandwidth: 7.50 Hz (-6 dB cutoff frequency: 33.75 Hz)\n",
      "- Filter length: 33793 samples (33.001 sec)\n",
      "\n",
      "Used Annotations descriptions: ['11', '111', '112', '12', '121', '122', '21', '211', '212', '22', '221', '222']\n",
      "Adding metadata with 14 columns\n",
      "Replacing existing metadata with 14 columns\n",
      "401 matching events found\n",
      "Applying baseline correction (mode: mean)\n",
      "0 projection items activated\n",
      "Loading data for 401 events and 104 original time points ...\n",
      "10 bad epochs dropped\n",
      "Opening raw data file ../input/erp-core-ica/15_eeg_ica.fif...\n"
     ]
    },
    {
     "name": "stderr",
     "output_type": "stream",
     "text": [
      "/tmp/ipykernel_19/1045735790.py:11: RuntimeWarning: This filename (../input/erp-core-ica/15_eeg_ica.fif) does not conform to MNE naming conventions. All raw files should end with raw.fif, raw_sss.fif, raw_tsss.fif, _meg.fif, _eeg.fif, _ieeg.fif, raw.fif.gz, raw_sss.fif.gz, raw_tsss.fif.gz, _meg.fif.gz, _eeg.fif.gz or _ieeg.fif.gz\n",
      "  raw = mne.io.read_raw(f'../input/erp-core-ica/{id}_eeg_ica.fif', preload=True)\n"
     ]
    },
    {
     "name": "stdout",
     "output_type": "stream",
     "text": [
      "    Range : 0 ... 746495 =      0.000 ...   728.999 secs\n",
      "Ready.\n",
      "Reading 0 ... 746495  =      0.000 ...   728.999 secs...\n",
      "Filtering raw data in 1 contiguous segment\n",
      "Setting up band-pass filter from 0.1 - 30 Hz\n",
      "\n",
      "FIR filter parameters\n",
      "---------------------\n",
      "Designing a one-pass, zero-phase, non-causal bandpass filter:\n",
      "- Windowed time-domain design (firwin) method\n",
      "- Hamming window with 0.0194 passband ripple and 53 dB stopband attenuation\n",
      "- Lower passband edge: 0.10\n",
      "- Lower transition bandwidth: 0.10 Hz (-6 dB cutoff frequency: 0.05 Hz)\n",
      "- Upper passband edge: 30.00 Hz\n",
      "- Upper transition bandwidth: 7.50 Hz (-6 dB cutoff frequency: 33.75 Hz)\n",
      "- Filter length: 33793 samples (33.001 sec)\n",
      "\n",
      "Used Annotations descriptions: ['11', '111', '112', '12', '121', '122', '21', '211', '212', '22', '221', '222']\n",
      "Adding metadata with 14 columns\n",
      "Replacing existing metadata with 14 columns\n",
      "402 matching events found\n",
      "Applying baseline correction (mode: mean)\n",
      "0 projection items activated\n",
      "Loading data for 402 events and 104 original time points ...\n",
      "11 bad epochs dropped\n",
      "Opening raw data file ../input/erp-core-ica/16_eeg_ica.fif...\n"
     ]
    },
    {
     "name": "stderr",
     "output_type": "stream",
     "text": [
      "/tmp/ipykernel_19/1045735790.py:11: RuntimeWarning: This filename (../input/erp-core-ica/16_eeg_ica.fif) does not conform to MNE naming conventions. All raw files should end with raw.fif, raw_sss.fif, raw_tsss.fif, _meg.fif, _eeg.fif, _ieeg.fif, raw.fif.gz, raw_sss.fif.gz, raw_tsss.fif.gz, _meg.fif.gz, _eeg.fif.gz or _ieeg.fif.gz\n",
      "  raw = mne.io.read_raw(f'../input/erp-core-ica/{id}_eeg_ica.fif', preload=True)\n"
     ]
    },
    {
     "name": "stdout",
     "output_type": "stream",
     "text": [
      "    Range : 0 ... 796671 =      0.000 ...   777.999 secs\n",
      "Ready.\n",
      "Reading 0 ... 796671  =      0.000 ...   777.999 secs...\n",
      "Filtering raw data in 1 contiguous segment\n",
      "Setting up band-pass filter from 0.1 - 30 Hz\n",
      "\n",
      "FIR filter parameters\n",
      "---------------------\n",
      "Designing a one-pass, zero-phase, non-causal bandpass filter:\n",
      "- Windowed time-domain design (firwin) method\n",
      "- Hamming window with 0.0194 passband ripple and 53 dB stopband attenuation\n",
      "- Lower passband edge: 0.10\n",
      "- Lower transition bandwidth: 0.10 Hz (-6 dB cutoff frequency: 0.05 Hz)\n",
      "- Upper passband edge: 30.00 Hz\n",
      "- Upper transition bandwidth: 7.50 Hz (-6 dB cutoff frequency: 33.75 Hz)\n",
      "- Filter length: 33793 samples (33.001 sec)\n",
      "\n",
      "Used Annotations descriptions: ['11', '111', '12', '121', '122', '21', '211', '212', '22', '221', '222']\n",
      "Adding metadata with 13 columns\n",
      "Replacing existing metadata with 13 columns\n",
      "403 matching events found\n",
      "Applying baseline correction (mode: mean)\n",
      "0 projection items activated\n",
      "Loading data for 403 events and 104 original time points ...\n",
      "    Rejecting  epoch based on EEG : ['FC3']\n",
      "14 bad epochs dropped\n",
      "Opening raw data file ../input/erp-core-ica/17_eeg_ica.fif...\n"
     ]
    },
    {
     "name": "stderr",
     "output_type": "stream",
     "text": [
      "/tmp/ipykernel_19/1045735790.py:11: RuntimeWarning: This filename (../input/erp-core-ica/17_eeg_ica.fif) does not conform to MNE naming conventions. All raw files should end with raw.fif, raw_sss.fif, raw_tsss.fif, _meg.fif, _eeg.fif, _ieeg.fif, raw.fif.gz, raw_sss.fif.gz, raw_tsss.fif.gz, _meg.fif.gz, _eeg.fif.gz or _ieeg.fif.gz\n",
      "  raw = mne.io.read_raw(f'../input/erp-core-ica/{id}_eeg_ica.fif', preload=True)\n"
     ]
    },
    {
     "name": "stdout",
     "output_type": "stream",
     "text": [
      "    Range : 0 ... 782335 =      0.000 ...   763.999 secs\n",
      "Ready.\n",
      "Reading 0 ... 782335  =      0.000 ...   763.999 secs...\n",
      "Filtering raw data in 1 contiguous segment\n",
      "Setting up band-pass filter from 0.1 - 30 Hz\n",
      "\n",
      "FIR filter parameters\n",
      "---------------------\n",
      "Designing a one-pass, zero-phase, non-causal bandpass filter:\n",
      "- Windowed time-domain design (firwin) method\n",
      "- Hamming window with 0.0194 passband ripple and 53 dB stopband attenuation\n",
      "- Lower passband edge: 0.10\n",
      "- Lower transition bandwidth: 0.10 Hz (-6 dB cutoff frequency: 0.05 Hz)\n",
      "- Upper passband edge: 30.00 Hz\n",
      "- Upper transition bandwidth: 7.50 Hz (-6 dB cutoff frequency: 33.75 Hz)\n",
      "- Filter length: 33793 samples (33.001 sec)\n",
      "\n",
      "Used Annotations descriptions: ['11', '111', '12', '121', '122', '21', '211', '212', '22', '221', '222']\n",
      "Adding metadata with 13 columns\n",
      "Replacing existing metadata with 13 columns\n",
      "402 matching events found\n",
      "Applying baseline correction (mode: mean)\n",
      "0 projection items activated\n",
      "Loading data for 402 events and 104 original time points ...\n",
      "11 bad epochs dropped\n",
      "Opening raw data file ../input/erp-core-ica/18_eeg_ica.fif...\n"
     ]
    },
    {
     "name": "stderr",
     "output_type": "stream",
     "text": [
      "/tmp/ipykernel_19/1045735790.py:11: RuntimeWarning: This filename (../input/erp-core-ica/18_eeg_ica.fif) does not conform to MNE naming conventions. All raw files should end with raw.fif, raw_sss.fif, raw_tsss.fif, _meg.fif, _eeg.fif, _ieeg.fif, raw.fif.gz, raw_sss.fif.gz, raw_tsss.fif.gz, _meg.fif.gz, _eeg.fif.gz or _ieeg.fif.gz\n",
      "  raw = mne.io.read_raw(f'../input/erp-core-ica/{id}_eeg_ica.fif', preload=True)\n"
     ]
    },
    {
     "name": "stdout",
     "output_type": "stream",
     "text": [
      "    Range : 0 ... 749567 =      0.000 ...   731.999 secs\n",
      "Ready.\n",
      "Reading 0 ... 749567  =      0.000 ...   731.999 secs...\n",
      "Filtering raw data in 1 contiguous segment\n",
      "Setting up band-pass filter from 0.1 - 30 Hz\n",
      "\n",
      "FIR filter parameters\n",
      "---------------------\n",
      "Designing a one-pass, zero-phase, non-causal bandpass filter:\n",
      "- Windowed time-domain design (firwin) method\n",
      "- Hamming window with 0.0194 passband ripple and 53 dB stopband attenuation\n",
      "- Lower passband edge: 0.10\n",
      "- Lower transition bandwidth: 0.10 Hz (-6 dB cutoff frequency: 0.05 Hz)\n",
      "- Upper passband edge: 30.00 Hz\n",
      "- Upper transition bandwidth: 7.50 Hz (-6 dB cutoff frequency: 33.75 Hz)\n",
      "- Filter length: 33793 samples (33.001 sec)\n",
      "\n",
      "Used Annotations descriptions: ['11', '111', '112', '12', '121', '122', '21', '212', '22', '221', '222']\n",
      "Adding metadata with 13 columns\n",
      "Replacing existing metadata with 13 columns\n",
      "403 matching events found\n",
      "Applying baseline correction (mode: mean)\n",
      "0 projection items activated\n",
      "Loading data for 403 events and 104 original time points ...\n",
      "13 bad epochs dropped\n",
      "Opening raw data file ../input/erp-core-ica/19_eeg_ica.fif...\n"
     ]
    },
    {
     "name": "stderr",
     "output_type": "stream",
     "text": [
      "/tmp/ipykernel_19/1045735790.py:11: RuntimeWarning: This filename (../input/erp-core-ica/19_eeg_ica.fif) does not conform to MNE naming conventions. All raw files should end with raw.fif, raw_sss.fif, raw_tsss.fif, _meg.fif, _eeg.fif, _ieeg.fif, raw.fif.gz, raw_sss.fif.gz, raw_tsss.fif.gz, _meg.fif.gz, _eeg.fif.gz or _ieeg.fif.gz\n",
      "  raw = mne.io.read_raw(f'../input/erp-core-ica/{id}_eeg_ica.fif', preload=True)\n"
     ]
    },
    {
     "name": "stdout",
     "output_type": "stream",
     "text": [
      "    Range : 0 ... 747519 =      0.000 ...   729.999 secs\n",
      "Ready.\n",
      "Reading 0 ... 747519  =      0.000 ...   729.999 secs...\n",
      "Filtering raw data in 1 contiguous segment\n",
      "Setting up band-pass filter from 0.1 - 30 Hz\n",
      "\n",
      "FIR filter parameters\n",
      "---------------------\n",
      "Designing a one-pass, zero-phase, non-causal bandpass filter:\n",
      "- Windowed time-domain design (firwin) method\n",
      "- Hamming window with 0.0194 passband ripple and 53 dB stopband attenuation\n",
      "- Lower passband edge: 0.10\n",
      "- Lower transition bandwidth: 0.10 Hz (-6 dB cutoff frequency: 0.05 Hz)\n",
      "- Upper passband edge: 30.00 Hz\n",
      "- Upper transition bandwidth: 7.50 Hz (-6 dB cutoff frequency: 33.75 Hz)\n",
      "- Filter length: 33793 samples (33.001 sec)\n",
      "\n",
      "Used Annotations descriptions: ['11', '111', '12', '121', '122', '21', '212', '22', '221', '222']\n",
      "Adding metadata with 12 columns\n",
      "Replacing existing metadata with 12 columns\n",
      "402 matching events found\n",
      "Applying baseline correction (mode: mean)\n",
      "0 projection items activated\n",
      "Loading data for 402 events and 104 original time points ...\n",
      "11 bad epochs dropped\n",
      "Opening raw data file ../input/erp-core-ica/20_eeg_ica.fif...\n"
     ]
    },
    {
     "name": "stderr",
     "output_type": "stream",
     "text": [
      "/tmp/ipykernel_19/1045735790.py:11: RuntimeWarning: This filename (../input/erp-core-ica/20_eeg_ica.fif) does not conform to MNE naming conventions. All raw files should end with raw.fif, raw_sss.fif, raw_tsss.fif, _meg.fif, _eeg.fif, _ieeg.fif, raw.fif.gz, raw_sss.fif.gz, raw_tsss.fif.gz, _meg.fif.gz, _eeg.fif.gz or _ieeg.fif.gz\n",
      "  raw = mne.io.read_raw(f'../input/erp-core-ica/{id}_eeg_ica.fif', preload=True)\n"
     ]
    },
    {
     "name": "stdout",
     "output_type": "stream",
     "text": [
      "    Range : 0 ... 770047 =      0.000 ...   751.999 secs\n",
      "Ready.\n",
      "Reading 0 ... 770047  =      0.000 ...   751.999 secs...\n",
      "Filtering raw data in 1 contiguous segment\n",
      "Setting up band-pass filter from 0.1 - 30 Hz\n",
      "\n",
      "FIR filter parameters\n",
      "---------------------\n",
      "Designing a one-pass, zero-phase, non-causal bandpass filter:\n",
      "- Windowed time-domain design (firwin) method\n",
      "- Hamming window with 0.0194 passband ripple and 53 dB stopband attenuation\n",
      "- Lower passband edge: 0.10\n",
      "- Lower transition bandwidth: 0.10 Hz (-6 dB cutoff frequency: 0.05 Hz)\n",
      "- Upper passband edge: 30.00 Hz\n",
      "- Upper transition bandwidth: 7.50 Hz (-6 dB cutoff frequency: 33.75 Hz)\n",
      "- Filter length: 33793 samples (33.001 sec)\n",
      "\n",
      "Used Annotations descriptions: ['11', '111', '12', '121', '122', '21', '212', '22', '221', '222']\n",
      "Adding metadata with 12 columns\n",
      "Replacing existing metadata with 12 columns\n",
      "402 matching events found\n",
      "Applying baseline correction (mode: mean)\n",
      "0 projection items activated\n",
      "Loading data for 402 events and 104 original time points ...\n",
      "    Rejecting  epoch based on EEG : ['F3', 'F7', 'FC3', 'C3', 'C5', 'Fz', 'F4', 'F8', 'FC4', 'FCz', 'Cz', 'C4', 'C6']\n",
      "12 bad epochs dropped\n",
      "Opening raw data file ../input/erp-core-ica/21_eeg_ica.fif...\n"
     ]
    },
    {
     "name": "stderr",
     "output_type": "stream",
     "text": [
      "/tmp/ipykernel_19/1045735790.py:11: RuntimeWarning: This filename (../input/erp-core-ica/21_eeg_ica.fif) does not conform to MNE naming conventions. All raw files should end with raw.fif, raw_sss.fif, raw_tsss.fif, _meg.fif, _eeg.fif, _ieeg.fif, raw.fif.gz, raw_sss.fif.gz, raw_tsss.fif.gz, _meg.fif.gz, _eeg.fif.gz or _ieeg.fif.gz\n",
      "  raw = mne.io.read_raw(f'../input/erp-core-ica/{id}_eeg_ica.fif', preload=True)\n"
     ]
    },
    {
     "name": "stdout",
     "output_type": "stream",
     "text": [
      "    Range : 0 ... 800767 =      0.000 ...   781.999 secs\n",
      "Ready.\n",
      "Reading 0 ... 800767  =      0.000 ...   781.999 secs...\n",
      "Filtering raw data in 1 contiguous segment\n",
      "Setting up band-pass filter from 0.1 - 30 Hz\n",
      "\n",
      "FIR filter parameters\n",
      "---------------------\n",
      "Designing a one-pass, zero-phase, non-causal bandpass filter:\n",
      "- Windowed time-domain design (firwin) method\n",
      "- Hamming window with 0.0194 passband ripple and 53 dB stopband attenuation\n",
      "- Lower passband edge: 0.10\n",
      "- Lower transition bandwidth: 0.10 Hz (-6 dB cutoff frequency: 0.05 Hz)\n",
      "- Upper passband edge: 30.00 Hz\n",
      "- Upper transition bandwidth: 7.50 Hz (-6 dB cutoff frequency: 33.75 Hz)\n",
      "- Filter length: 33793 samples (33.001 sec)\n",
      "\n",
      "Used Annotations descriptions: ['11', '111', '112', '12', '121', '122', '21', '211', '212', '22', '221', '222']\n",
      "Adding metadata with 14 columns\n",
      "Replacing existing metadata with 14 columns\n",
      "402 matching events found\n",
      "Applying baseline correction (mode: mean)\n",
      "0 projection items activated\n",
      "Loading data for 402 events and 104 original time points ...\n",
      "11 bad epochs dropped\n",
      "Opening raw data file ../input/erp-core-ica/22_eeg_ica.fif...\n"
     ]
    },
    {
     "name": "stderr",
     "output_type": "stream",
     "text": [
      "/tmp/ipykernel_19/1045735790.py:11: RuntimeWarning: This filename (../input/erp-core-ica/22_eeg_ica.fif) does not conform to MNE naming conventions. All raw files should end with raw.fif, raw_sss.fif, raw_tsss.fif, _meg.fif, _eeg.fif, _ieeg.fif, raw.fif.gz, raw_sss.fif.gz, raw_tsss.fif.gz, _meg.fif.gz, _eeg.fif.gz or _ieeg.fif.gz\n",
      "  raw = mne.io.read_raw(f'../input/erp-core-ica/{id}_eeg_ica.fif', preload=True)\n"
     ]
    },
    {
     "name": "stdout",
     "output_type": "stream",
     "text": [
      "    Range : 0 ... 742399 =      0.000 ...   724.999 secs\n",
      "Ready.\n",
      "Reading 0 ... 742399  =      0.000 ...   724.999 secs...\n",
      "Filtering raw data in 1 contiguous segment\n",
      "Setting up band-pass filter from 0.1 - 30 Hz\n",
      "\n",
      "FIR filter parameters\n",
      "---------------------\n",
      "Designing a one-pass, zero-phase, non-causal bandpass filter:\n",
      "- Windowed time-domain design (firwin) method\n",
      "- Hamming window with 0.0194 passband ripple and 53 dB stopband attenuation\n",
      "- Lower passband edge: 0.10\n",
      "- Lower transition bandwidth: 0.10 Hz (-6 dB cutoff frequency: 0.05 Hz)\n",
      "- Upper passband edge: 30.00 Hz\n",
      "- Upper transition bandwidth: 7.50 Hz (-6 dB cutoff frequency: 33.75 Hz)\n",
      "- Filter length: 33793 samples (33.001 sec)\n",
      "\n",
      "Used Annotations descriptions: ['11', '111', '112', '12', '121', '122', '21', '211', '212', '22', '221', '222']\n",
      "Adding metadata with 14 columns\n",
      "Replacing existing metadata with 14 columns\n",
      "403 matching events found\n",
      "Applying baseline correction (mode: mean)\n",
      "0 projection items activated\n",
      "Loading data for 403 events and 104 original time points ...\n",
      "13 bad epochs dropped\n",
      "Opening raw data file ../input/erp-core-ica/23_eeg_ica.fif...\n"
     ]
    },
    {
     "name": "stderr",
     "output_type": "stream",
     "text": [
      "/tmp/ipykernel_19/1045735790.py:11: RuntimeWarning: This filename (../input/erp-core-ica/23_eeg_ica.fif) does not conform to MNE naming conventions. All raw files should end with raw.fif, raw_sss.fif, raw_tsss.fif, _meg.fif, _eeg.fif, _ieeg.fif, raw.fif.gz, raw_sss.fif.gz, raw_tsss.fif.gz, _meg.fif.gz, _eeg.fif.gz or _ieeg.fif.gz\n",
      "  raw = mne.io.read_raw(f'../input/erp-core-ica/{id}_eeg_ica.fif', preload=True)\n"
     ]
    },
    {
     "name": "stdout",
     "output_type": "stream",
     "text": [
      "    Range : 0 ... 707583 =      0.000 ...   690.999 secs\n",
      "Ready.\n",
      "Reading 0 ... 707583  =      0.000 ...   690.999 secs...\n",
      "Filtering raw data in 1 contiguous segment\n",
      "Setting up band-pass filter from 0.1 - 30 Hz\n",
      "\n",
      "FIR filter parameters\n",
      "---------------------\n",
      "Designing a one-pass, zero-phase, non-causal bandpass filter:\n",
      "- Windowed time-domain design (firwin) method\n",
      "- Hamming window with 0.0194 passband ripple and 53 dB stopband attenuation\n",
      "- Lower passband edge: 0.10\n",
      "- Lower transition bandwidth: 0.10 Hz (-6 dB cutoff frequency: 0.05 Hz)\n",
      "- Upper passband edge: 30.00 Hz\n",
      "- Upper transition bandwidth: 7.50 Hz (-6 dB cutoff frequency: 33.75 Hz)\n",
      "- Filter length: 33793 samples (33.001 sec)\n",
      "\n",
      "Used Annotations descriptions: ['11', '111', '12', '121', '122', '21', '211', '212', '22', '221', '222']\n",
      "Adding metadata with 13 columns\n",
      "Replacing existing metadata with 13 columns\n",
      "401 matching events found\n",
      "Applying baseline correction (mode: mean)\n",
      "0 projection items activated\n",
      "Loading data for 401 events and 104 original time points ...\n",
      "12 bad epochs dropped\n",
      "Opening raw data file ../input/erp-core-ica/24_eeg_ica.fif...\n"
     ]
    },
    {
     "name": "stderr",
     "output_type": "stream",
     "text": [
      "/tmp/ipykernel_19/1045735790.py:11: RuntimeWarning: This filename (../input/erp-core-ica/24_eeg_ica.fif) does not conform to MNE naming conventions. All raw files should end with raw.fif, raw_sss.fif, raw_tsss.fif, _meg.fif, _eeg.fif, _ieeg.fif, raw.fif.gz, raw_sss.fif.gz, raw_tsss.fif.gz, _meg.fif.gz, _eeg.fif.gz or _ieeg.fif.gz\n",
      "  raw = mne.io.read_raw(f'../input/erp-core-ica/{id}_eeg_ica.fif', preload=True)\n"
     ]
    },
    {
     "name": "stdout",
     "output_type": "stream",
     "text": [
      "    Range : 0 ... 737279 =      0.000 ...   719.999 secs\n",
      "Ready.\n",
      "Reading 0 ... 737279  =      0.000 ...   719.999 secs...\n",
      "Filtering raw data in 1 contiguous segment\n",
      "Setting up band-pass filter from 0.1 - 30 Hz\n",
      "\n",
      "FIR filter parameters\n",
      "---------------------\n",
      "Designing a one-pass, zero-phase, non-causal bandpass filter:\n",
      "- Windowed time-domain design (firwin) method\n",
      "- Hamming window with 0.0194 passband ripple and 53 dB stopband attenuation\n",
      "- Lower passband edge: 0.10\n",
      "- Lower transition bandwidth: 0.10 Hz (-6 dB cutoff frequency: 0.05 Hz)\n",
      "- Upper passband edge: 30.00 Hz\n",
      "- Upper transition bandwidth: 7.50 Hz (-6 dB cutoff frequency: 33.75 Hz)\n",
      "- Filter length: 33793 samples (33.001 sec)\n",
      "\n",
      "Used Annotations descriptions: ['11', '111', '12', '121', '122', '21', '211', '212', '22', '221', '222']\n",
      "Adding metadata with 13 columns\n",
      "Replacing existing metadata with 13 columns\n",
      "402 matching events found\n",
      "Applying baseline correction (mode: mean)\n",
      "0 projection items activated\n",
      "Loading data for 402 events and 104 original time points ...\n",
      "11 bad epochs dropped\n",
      "Opening raw data file ../input/erp-core-ica/25_eeg_ica.fif...\n"
     ]
    },
    {
     "name": "stderr",
     "output_type": "stream",
     "text": [
      "/tmp/ipykernel_19/1045735790.py:11: RuntimeWarning: This filename (../input/erp-core-ica/25_eeg_ica.fif) does not conform to MNE naming conventions. All raw files should end with raw.fif, raw_sss.fif, raw_tsss.fif, _meg.fif, _eeg.fif, _ieeg.fif, raw.fif.gz, raw_sss.fif.gz, raw_tsss.fif.gz, _meg.fif.gz, _eeg.fif.gz or _ieeg.fif.gz\n",
      "  raw = mne.io.read_raw(f'../input/erp-core-ica/{id}_eeg_ica.fif', preload=True)\n"
     ]
    },
    {
     "name": "stdout",
     "output_type": "stream",
     "text": [
      "    Range : 0 ... 767999 =      0.000 ...   749.999 secs\n",
      "Ready.\n",
      "Reading 0 ... 767999  =      0.000 ...   749.999 secs...\n",
      "Filtering raw data in 1 contiguous segment\n",
      "Setting up band-pass filter from 0.1 - 30 Hz\n",
      "\n",
      "FIR filter parameters\n",
      "---------------------\n",
      "Designing a one-pass, zero-phase, non-causal bandpass filter:\n",
      "- Windowed time-domain design (firwin) method\n",
      "- Hamming window with 0.0194 passband ripple and 53 dB stopband attenuation\n",
      "- Lower passband edge: 0.10\n",
      "- Lower transition bandwidth: 0.10 Hz (-6 dB cutoff frequency: 0.05 Hz)\n",
      "- Upper passband edge: 30.00 Hz\n",
      "- Upper transition bandwidth: 7.50 Hz (-6 dB cutoff frequency: 33.75 Hz)\n",
      "- Filter length: 33793 samples (33.001 sec)\n",
      "\n",
      "Used Annotations descriptions: ['11', '111', '112', '12', '121', '122', '21', '211', '212', '22', '221', '222']\n",
      "Adding metadata with 14 columns\n",
      "Replacing existing metadata with 14 columns\n",
      "402 matching events found\n",
      "Applying baseline correction (mode: mean)\n",
      "0 projection items activated\n",
      "Loading data for 402 events and 104 original time points ...\n",
      "11 bad epochs dropped\n",
      "Opening raw data file ../input/erp-core-ica/26_eeg_ica.fif...\n"
     ]
    },
    {
     "name": "stderr",
     "output_type": "stream",
     "text": [
      "/tmp/ipykernel_19/1045735790.py:11: RuntimeWarning: This filename (../input/erp-core-ica/26_eeg_ica.fif) does not conform to MNE naming conventions. All raw files should end with raw.fif, raw_sss.fif, raw_tsss.fif, _meg.fif, _eeg.fif, _ieeg.fif, raw.fif.gz, raw_sss.fif.gz, raw_tsss.fif.gz, _meg.fif.gz, _eeg.fif.gz or _ieeg.fif.gz\n",
      "  raw = mne.io.read_raw(f'../input/erp-core-ica/{id}_eeg_ica.fif', preload=True)\n"
     ]
    },
    {
     "name": "stdout",
     "output_type": "stream",
     "text": [
      "    Range : 0 ... 759807 =      0.000 ...   741.999 secs\n",
      "Ready.\n",
      "Reading 0 ... 759807  =      0.000 ...   741.999 secs...\n",
      "Filtering raw data in 1 contiguous segment\n",
      "Setting up band-pass filter from 0.1 - 30 Hz\n",
      "\n",
      "FIR filter parameters\n",
      "---------------------\n",
      "Designing a one-pass, zero-phase, non-causal bandpass filter:\n",
      "- Windowed time-domain design (firwin) method\n",
      "- Hamming window with 0.0194 passband ripple and 53 dB stopband attenuation\n",
      "- Lower passband edge: 0.10\n",
      "- Lower transition bandwidth: 0.10 Hz (-6 dB cutoff frequency: 0.05 Hz)\n",
      "- Upper passband edge: 30.00 Hz\n",
      "- Upper transition bandwidth: 7.50 Hz (-6 dB cutoff frequency: 33.75 Hz)\n",
      "- Filter length: 33793 samples (33.001 sec)\n",
      "\n",
      "Used Annotations descriptions: ['11', '111', '112', '12', '121', '122', '21', '211', '212', '22', '221', '222']\n",
      "Adding metadata with 14 columns\n",
      "Replacing existing metadata with 14 columns\n",
      "402 matching events found\n",
      "Applying baseline correction (mode: mean)\n",
      "0 projection items activated\n",
      "Loading data for 402 events and 104 original time points ...\n",
      "11 bad epochs dropped\n",
      "Opening raw data file ../input/erp-core-ica/27_eeg_ica.fif...\n"
     ]
    },
    {
     "name": "stderr",
     "output_type": "stream",
     "text": [
      "/tmp/ipykernel_19/1045735790.py:11: RuntimeWarning: This filename (../input/erp-core-ica/27_eeg_ica.fif) does not conform to MNE naming conventions. All raw files should end with raw.fif, raw_sss.fif, raw_tsss.fif, _meg.fif, _eeg.fif, _ieeg.fif, raw.fif.gz, raw_sss.fif.gz, raw_tsss.fif.gz, _meg.fif.gz, _eeg.fif.gz or _ieeg.fif.gz\n",
      "  raw = mne.io.read_raw(f'../input/erp-core-ica/{id}_eeg_ica.fif', preload=True)\n"
     ]
    },
    {
     "name": "stdout",
     "output_type": "stream",
     "text": [
      "    Range : 0 ... 743423 =      0.000 ...   725.999 secs\n",
      "Ready.\n",
      "Reading 0 ... 743423  =      0.000 ...   725.999 secs...\n",
      "Filtering raw data in 1 contiguous segment\n",
      "Setting up band-pass filter from 0.1 - 30 Hz\n",
      "\n",
      "FIR filter parameters\n",
      "---------------------\n",
      "Designing a one-pass, zero-phase, non-causal bandpass filter:\n",
      "- Windowed time-domain design (firwin) method\n",
      "- Hamming window with 0.0194 passband ripple and 53 dB stopband attenuation\n",
      "- Lower passband edge: 0.10\n",
      "- Lower transition bandwidth: 0.10 Hz (-6 dB cutoff frequency: 0.05 Hz)\n",
      "- Upper passband edge: 30.00 Hz\n",
      "- Upper transition bandwidth: 7.50 Hz (-6 dB cutoff frequency: 33.75 Hz)\n",
      "- Filter length: 33793 samples (33.001 sec)\n",
      "\n",
      "Used Annotations descriptions: ['11', '111', '112', '12', '121', '122', '21', '211', '212', '22', '221', '222']\n",
      "Adding metadata with 14 columns\n",
      "Replacing existing metadata with 14 columns\n",
      "402 matching events found\n",
      "Applying baseline correction (mode: mean)\n",
      "0 projection items activated\n",
      "Loading data for 402 events and 104 original time points ...\n",
      "11 bad epochs dropped\n",
      "Opening raw data file ../input/erp-core-ica/28_eeg_ica.fif...\n"
     ]
    },
    {
     "name": "stderr",
     "output_type": "stream",
     "text": [
      "/tmp/ipykernel_19/1045735790.py:11: RuntimeWarning: This filename (../input/erp-core-ica/28_eeg_ica.fif) does not conform to MNE naming conventions. All raw files should end with raw.fif, raw_sss.fif, raw_tsss.fif, _meg.fif, _eeg.fif, _ieeg.fif, raw.fif.gz, raw_sss.fif.gz, raw_tsss.fif.gz, _meg.fif.gz, _eeg.fif.gz or _ieeg.fif.gz\n",
      "  raw = mne.io.read_raw(f'../input/erp-core-ica/{id}_eeg_ica.fif', preload=True)\n"
     ]
    },
    {
     "name": "stdout",
     "output_type": "stream",
     "text": [
      "    Range : 0 ... 730111 =      0.000 ...   712.999 secs\n",
      "Ready.\n",
      "Reading 0 ... 730111  =      0.000 ...   712.999 secs...\n",
      "Filtering raw data in 1 contiguous segment\n",
      "Setting up band-pass filter from 0.1 - 30 Hz\n",
      "\n",
      "FIR filter parameters\n",
      "---------------------\n",
      "Designing a one-pass, zero-phase, non-causal bandpass filter:\n",
      "- Windowed time-domain design (firwin) method\n",
      "- Hamming window with 0.0194 passband ripple and 53 dB stopband attenuation\n",
      "- Lower passband edge: 0.10\n",
      "- Lower transition bandwidth: 0.10 Hz (-6 dB cutoff frequency: 0.05 Hz)\n",
      "- Upper passband edge: 30.00 Hz\n",
      "- Upper transition bandwidth: 7.50 Hz (-6 dB cutoff frequency: 33.75 Hz)\n",
      "- Filter length: 33793 samples (33.001 sec)\n",
      "\n",
      "Used Annotations descriptions: ['11', '111', '112', '12', '121', '122', '21', '212', '22', '221', '222']\n",
      "Adding metadata with 13 columns\n",
      "Replacing existing metadata with 13 columns\n",
      "401 matching events found\n",
      "Applying baseline correction (mode: mean)\n",
      "0 projection items activated\n",
      "Loading data for 401 events and 104 original time points ...\n",
      "12 bad epochs dropped\n",
      "Opening raw data file ../input/erp-core-ica/29_eeg_ica.fif...\n"
     ]
    },
    {
     "name": "stderr",
     "output_type": "stream",
     "text": [
      "/tmp/ipykernel_19/1045735790.py:11: RuntimeWarning: This filename (../input/erp-core-ica/29_eeg_ica.fif) does not conform to MNE naming conventions. All raw files should end with raw.fif, raw_sss.fif, raw_tsss.fif, _meg.fif, _eeg.fif, _ieeg.fif, raw.fif.gz, raw_sss.fif.gz, raw_tsss.fif.gz, _meg.fif.gz, _eeg.fif.gz or _ieeg.fif.gz\n",
      "  raw = mne.io.read_raw(f'../input/erp-core-ica/{id}_eeg_ica.fif', preload=True)\n"
     ]
    },
    {
     "name": "stdout",
     "output_type": "stream",
     "text": [
      "    Range : 0 ... 713727 =      0.000 ...   696.999 secs\n",
      "Ready.\n",
      "Reading 0 ... 713727  =      0.000 ...   696.999 secs...\n",
      "Filtering raw data in 1 contiguous segment\n",
      "Setting up band-pass filter from 0.1 - 30 Hz\n",
      "\n",
      "FIR filter parameters\n",
      "---------------------\n",
      "Designing a one-pass, zero-phase, non-causal bandpass filter:\n",
      "- Windowed time-domain design (firwin) method\n",
      "- Hamming window with 0.0194 passband ripple and 53 dB stopband attenuation\n",
      "- Lower passband edge: 0.10\n",
      "- Lower transition bandwidth: 0.10 Hz (-6 dB cutoff frequency: 0.05 Hz)\n",
      "- Upper passband edge: 30.00 Hz\n",
      "- Upper transition bandwidth: 7.50 Hz (-6 dB cutoff frequency: 33.75 Hz)\n",
      "- Filter length: 33793 samples (33.001 sec)\n",
      "\n",
      "Used Annotations descriptions: ['11', '111', '112', '12', '121', '122', '21', '211', '212', '22', '221', '222']\n",
      "Adding metadata with 14 columns\n",
      "Replacing existing metadata with 14 columns\n",
      "401 matching events found\n",
      "Applying baseline correction (mode: mean)\n",
      "0 projection items activated\n",
      "Loading data for 401 events and 104 original time points ...\n",
      "    Rejecting  epoch based on EEG : ['FC4', 'C6']\n",
      "13 bad epochs dropped\n",
      "Opening raw data file ../input/erp-core-ica/30_eeg_ica.fif...\n"
     ]
    },
    {
     "name": "stderr",
     "output_type": "stream",
     "text": [
      "/tmp/ipykernel_19/1045735790.py:11: RuntimeWarning: This filename (../input/erp-core-ica/30_eeg_ica.fif) does not conform to MNE naming conventions. All raw files should end with raw.fif, raw_sss.fif, raw_tsss.fif, _meg.fif, _eeg.fif, _ieeg.fif, raw.fif.gz, raw_sss.fif.gz, raw_tsss.fif.gz, _meg.fif.gz, _eeg.fif.gz or _ieeg.fif.gz\n",
      "  raw = mne.io.read_raw(f'../input/erp-core-ica/{id}_eeg_ica.fif', preload=True)\n"
     ]
    },
    {
     "name": "stdout",
     "output_type": "stream",
     "text": [
      "    Range : 0 ... 765951 =      0.000 ...   747.999 secs\n",
      "Ready.\n",
      "Reading 0 ... 765951  =      0.000 ...   747.999 secs...\n",
      "Filtering raw data in 1 contiguous segment\n",
      "Setting up band-pass filter from 0.1 - 30 Hz\n",
      "\n",
      "FIR filter parameters\n",
      "---------------------\n",
      "Designing a one-pass, zero-phase, non-causal bandpass filter:\n",
      "- Windowed time-domain design (firwin) method\n",
      "- Hamming window with 0.0194 passband ripple and 53 dB stopband attenuation\n",
      "- Lower passband edge: 0.10\n",
      "- Lower transition bandwidth: 0.10 Hz (-6 dB cutoff frequency: 0.05 Hz)\n",
      "- Upper passband edge: 30.00 Hz\n",
      "- Upper transition bandwidth: 7.50 Hz (-6 dB cutoff frequency: 33.75 Hz)\n",
      "- Filter length: 33793 samples (33.001 sec)\n",
      "\n",
      "Used Annotations descriptions: ['11', '111', '112', '12', '121', '122', '21', '212', '22', '221', '222']\n",
      "Adding metadata with 13 columns\n",
      "Replacing existing metadata with 13 columns\n",
      "402 matching events found\n",
      "Applying baseline correction (mode: mean)\n",
      "0 projection items activated\n",
      "Loading data for 402 events and 104 original time points ...\n",
      "    Rejecting  epoch based on EEG : ['F3', 'F7', 'FC3', 'C3', 'C5', 'Fz', 'F4', 'F8', 'FC4', 'FCz', 'Cz', 'C4', 'C6']\n",
      "    Rejecting  epoch based on EEG : ['F8']\n",
      "    Rejecting  epoch based on EEG : ['F4']\n",
      "    Rejecting  epoch based on EEG : ['FC3', 'C4', 'C6']\n",
      "    Rejecting  epoch based on EEG : ['F7', 'FC3', 'F4', 'F8', 'C4', 'C6']\n",
      "    Rejecting  epoch based on EEG : ['F7', 'FC3', 'F4', 'F8', 'C4', 'C6']\n",
      "    Rejecting  epoch based on EEG : ['F4', 'F8', 'C4']\n",
      "    Rejecting  epoch based on EEG : ['FCz']\n",
      "    Rejecting  epoch based on EEG : ['F3', 'C3', 'C5', 'Fz', 'FC4', 'FCz', 'Cz']\n",
      "    Rejecting  epoch based on EEG : ['F3', 'C3', 'C5', 'Fz', 'FC4', 'FCz', 'Cz']\n",
      "    Rejecting  epoch based on EEG : ['F7', 'FC3', 'C3', 'C5', 'F4', 'F8', 'FC4', 'C4', 'C6']\n",
      "    Rejecting  epoch based on EEG : ['C5', 'F4', 'C4', 'C6']\n",
      "    Rejecting  epoch based on EEG : ['F3', 'Fz', 'FCz', 'Cz']\n",
      "    Rejecting  epoch based on EEG : ['F3', 'C3', 'C5', 'Fz', 'FC4', 'FCz', 'Cz']\n",
      "    Rejecting  epoch based on EEG : ['F8']\n",
      "    Rejecting  epoch based on EEG : ['F8']\n",
      "    Rejecting  epoch based on EEG : ['F8']\n",
      "28 bad epochs dropped\n",
      "Opening raw data file ../input/erp-core-ica/31_eeg_ica.fif...\n"
     ]
    },
    {
     "name": "stderr",
     "output_type": "stream",
     "text": [
      "/tmp/ipykernel_19/1045735790.py:11: RuntimeWarning: This filename (../input/erp-core-ica/31_eeg_ica.fif) does not conform to MNE naming conventions. All raw files should end with raw.fif, raw_sss.fif, raw_tsss.fif, _meg.fif, _eeg.fif, _ieeg.fif, raw.fif.gz, raw_sss.fif.gz, raw_tsss.fif.gz, _meg.fif.gz, _eeg.fif.gz or _ieeg.fif.gz\n",
      "  raw = mne.io.read_raw(f'../input/erp-core-ica/{id}_eeg_ica.fif', preload=True)\n"
     ]
    },
    {
     "name": "stdout",
     "output_type": "stream",
     "text": [
      "    Range : 0 ... 823295 =      0.000 ...   803.999 secs\n",
      "Ready.\n",
      "Reading 0 ... 823295  =      0.000 ...   803.999 secs...\n",
      "Filtering raw data in 1 contiguous segment\n",
      "Setting up band-pass filter from 0.1 - 30 Hz\n",
      "\n",
      "FIR filter parameters\n",
      "---------------------\n",
      "Designing a one-pass, zero-phase, non-causal bandpass filter:\n",
      "- Windowed time-domain design (firwin) method\n",
      "- Hamming window with 0.0194 passband ripple and 53 dB stopband attenuation\n",
      "- Lower passband edge: 0.10\n",
      "- Lower transition bandwidth: 0.10 Hz (-6 dB cutoff frequency: 0.05 Hz)\n",
      "- Upper passband edge: 30.00 Hz\n",
      "- Upper transition bandwidth: 7.50 Hz (-6 dB cutoff frequency: 33.75 Hz)\n",
      "- Filter length: 33793 samples (33.001 sec)\n",
      "\n",
      "Used Annotations descriptions: ['11', '111', '12', '121', '122', '21', '211', '212', '22', '221', '222']\n",
      "Adding metadata with 13 columns\n",
      "Replacing existing metadata with 13 columns\n",
      "402 matching events found\n",
      "Applying baseline correction (mode: mean)\n",
      "0 projection items activated\n",
      "Loading data for 402 events and 104 original time points ...\n",
      "11 bad epochs dropped\n",
      "Opening raw data file ../input/erp-core-ica/32_eeg_ica.fif...\n"
     ]
    },
    {
     "name": "stderr",
     "output_type": "stream",
     "text": [
      "/tmp/ipykernel_19/1045735790.py:11: RuntimeWarning: This filename (../input/erp-core-ica/32_eeg_ica.fif) does not conform to MNE naming conventions. All raw files should end with raw.fif, raw_sss.fif, raw_tsss.fif, _meg.fif, _eeg.fif, _ieeg.fif, raw.fif.gz, raw_sss.fif.gz, raw_tsss.fif.gz, _meg.fif.gz, _eeg.fif.gz or _ieeg.fif.gz\n",
      "  raw = mne.io.read_raw(f'../input/erp-core-ica/{id}_eeg_ica.fif', preload=True)\n"
     ]
    },
    {
     "name": "stdout",
     "output_type": "stream",
     "text": [
      "    Range : 0 ... 799743 =      0.000 ...   780.999 secs\n",
      "Ready.\n",
      "Reading 0 ... 799743  =      0.000 ...   780.999 secs...\n",
      "Filtering raw data in 1 contiguous segment\n",
      "Setting up band-pass filter from 0.1 - 30 Hz\n",
      "\n",
      "FIR filter parameters\n",
      "---------------------\n",
      "Designing a one-pass, zero-phase, non-causal bandpass filter:\n",
      "- Windowed time-domain design (firwin) method\n",
      "- Hamming window with 0.0194 passband ripple and 53 dB stopband attenuation\n",
      "- Lower passband edge: 0.10\n",
      "- Lower transition bandwidth: 0.10 Hz (-6 dB cutoff frequency: 0.05 Hz)\n",
      "- Upper passband edge: 30.00 Hz\n",
      "- Upper transition bandwidth: 7.50 Hz (-6 dB cutoff frequency: 33.75 Hz)\n",
      "- Filter length: 33793 samples (33.001 sec)\n",
      "\n",
      "Used Annotations descriptions: ['11', '111', '112', '12', '121', '122', '21', '211', '212', '22', '221', '222']\n",
      "Adding metadata with 14 columns\n",
      "Replacing existing metadata with 14 columns\n",
      "402 matching events found\n",
      "Applying baseline correction (mode: mean)\n",
      "0 projection items activated\n",
      "Loading data for 402 events and 104 original time points ...\n",
      "11 bad epochs dropped\n",
      "Opening raw data file ../input/erp-core-ica/33_eeg_ica.fif...\n"
     ]
    },
    {
     "name": "stderr",
     "output_type": "stream",
     "text": [
      "/tmp/ipykernel_19/1045735790.py:11: RuntimeWarning: This filename (../input/erp-core-ica/33_eeg_ica.fif) does not conform to MNE naming conventions. All raw files should end with raw.fif, raw_sss.fif, raw_tsss.fif, _meg.fif, _eeg.fif, _ieeg.fif, raw.fif.gz, raw_sss.fif.gz, raw_tsss.fif.gz, _meg.fif.gz, _eeg.fif.gz or _ieeg.fif.gz\n",
      "  raw = mne.io.read_raw(f'../input/erp-core-ica/{id}_eeg_ica.fif', preload=True)\n"
     ]
    },
    {
     "name": "stdout",
     "output_type": "stream",
     "text": [
      "    Range : 0 ... 766975 =      0.000 ...   748.999 secs\n",
      "Ready.\n",
      "Reading 0 ... 766975  =      0.000 ...   748.999 secs...\n",
      "Filtering raw data in 1 contiguous segment\n",
      "Setting up band-pass filter from 0.1 - 30 Hz\n",
      "\n",
      "FIR filter parameters\n",
      "---------------------\n",
      "Designing a one-pass, zero-phase, non-causal bandpass filter:\n",
      "- Windowed time-domain design (firwin) method\n",
      "- Hamming window with 0.0194 passband ripple and 53 dB stopband attenuation\n",
      "- Lower passband edge: 0.10\n",
      "- Lower transition bandwidth: 0.10 Hz (-6 dB cutoff frequency: 0.05 Hz)\n",
      "- Upper passband edge: 30.00 Hz\n",
      "- Upper transition bandwidth: 7.50 Hz (-6 dB cutoff frequency: 33.75 Hz)\n",
      "- Filter length: 33793 samples (33.001 sec)\n",
      "\n",
      "Used Annotations descriptions: ['11', '111', '112', '12', '121', '122', '21', '211', '212', '22', '221', '222']\n",
      "Adding metadata with 14 columns\n",
      "Replacing existing metadata with 14 columns\n",
      "401 matching events found\n",
      "Applying baseline correction (mode: mean)\n",
      "0 projection items activated\n",
      "Loading data for 401 events and 104 original time points ...\n",
      "12 bad epochs dropped\n",
      "Opening raw data file ../input/erp-core-ica/34_eeg_ica.fif...\n"
     ]
    },
    {
     "name": "stderr",
     "output_type": "stream",
     "text": [
      "/tmp/ipykernel_19/1045735790.py:11: RuntimeWarning: This filename (../input/erp-core-ica/34_eeg_ica.fif) does not conform to MNE naming conventions. All raw files should end with raw.fif, raw_sss.fif, raw_tsss.fif, _meg.fif, _eeg.fif, _ieeg.fif, raw.fif.gz, raw_sss.fif.gz, raw_tsss.fif.gz, _meg.fif.gz, _eeg.fif.gz or _ieeg.fif.gz\n",
      "  raw = mne.io.read_raw(f'../input/erp-core-ica/{id}_eeg_ica.fif', preload=True)\n"
     ]
    },
    {
     "name": "stdout",
     "output_type": "stream",
     "text": [
      "    Range : 0 ... 777215 =      0.000 ...   758.999 secs\n",
      "Ready.\n",
      "Reading 0 ... 777215  =      0.000 ...   758.999 secs...\n",
      "Filtering raw data in 1 contiguous segment\n",
      "Setting up band-pass filter from 0.1 - 30 Hz\n",
      "\n",
      "FIR filter parameters\n",
      "---------------------\n",
      "Designing a one-pass, zero-phase, non-causal bandpass filter:\n",
      "- Windowed time-domain design (firwin) method\n",
      "- Hamming window with 0.0194 passband ripple and 53 dB stopband attenuation\n",
      "- Lower passband edge: 0.10\n",
      "- Lower transition bandwidth: 0.10 Hz (-6 dB cutoff frequency: 0.05 Hz)\n",
      "- Upper passband edge: 30.00 Hz\n",
      "- Upper transition bandwidth: 7.50 Hz (-6 dB cutoff frequency: 33.75 Hz)\n",
      "- Filter length: 33793 samples (33.001 sec)\n",
      "\n",
      "Used Annotations descriptions: ['11', '111', '12', '121', '122', '21', '211', '212', '22', '221', '222']\n",
      "Adding metadata with 13 columns\n",
      "Replacing existing metadata with 13 columns\n",
      "400 matching events found\n",
      "Applying baseline correction (mode: mean)\n",
      "0 projection items activated\n",
      "Loading data for 400 events and 104 original time points ...\n",
      "    Rejecting  epoch based on EEG : ['F7', 'FC3', 'C3', 'C5', 'F4', 'F8', 'FC4', 'C4', 'C6']\n",
      "    Rejecting  epoch based on EEG : ['F3', 'FC3', 'C3', 'C5', 'Fz', 'F4', 'FC4', 'FCz', 'Cz', 'C4', 'C6']\n",
      "11 bad epochs dropped\n",
      "Opening raw data file ../input/erp-core-ica/35_eeg_ica.fif...\n"
     ]
    },
    {
     "name": "stderr",
     "output_type": "stream",
     "text": [
      "/tmp/ipykernel_19/1045735790.py:11: RuntimeWarning: This filename (../input/erp-core-ica/35_eeg_ica.fif) does not conform to MNE naming conventions. All raw files should end with raw.fif, raw_sss.fif, raw_tsss.fif, _meg.fif, _eeg.fif, _ieeg.fif, raw.fif.gz, raw_sss.fif.gz, raw_tsss.fif.gz, _meg.fif.gz, _eeg.fif.gz or _ieeg.fif.gz\n",
      "  raw = mne.io.read_raw(f'../input/erp-core-ica/{id}_eeg_ica.fif', preload=True)\n"
     ]
    },
    {
     "name": "stdout",
     "output_type": "stream",
     "text": [
      "    Range : 0 ... 774143 =      0.000 ...   755.999 secs\n",
      "Ready.\n",
      "Reading 0 ... 774143  =      0.000 ...   755.999 secs...\n",
      "Filtering raw data in 1 contiguous segment\n",
      "Setting up band-pass filter from 0.1 - 30 Hz\n",
      "\n",
      "FIR filter parameters\n",
      "---------------------\n",
      "Designing a one-pass, zero-phase, non-causal bandpass filter:\n",
      "- Windowed time-domain design (firwin) method\n",
      "- Hamming window with 0.0194 passband ripple and 53 dB stopband attenuation\n",
      "- Lower passband edge: 0.10\n",
      "- Lower transition bandwidth: 0.10 Hz (-6 dB cutoff frequency: 0.05 Hz)\n",
      "- Upper passband edge: 30.00 Hz\n",
      "- Upper transition bandwidth: 7.50 Hz (-6 dB cutoff frequency: 33.75 Hz)\n",
      "- Filter length: 33793 samples (33.001 sec)\n",
      "\n",
      "Used Annotations descriptions: ['11', '111', '112', '12', '121', '122', '21', '211', '212', '22', '221', '222']\n",
      "Adding metadata with 14 columns\n",
      "Replacing existing metadata with 14 columns\n",
      "401 matching events found\n",
      "Applying baseline correction (mode: mean)\n",
      "0 projection items activated\n",
      "Loading data for 401 events and 104 original time points ...\n",
      "    Rejecting  epoch based on EEG : ['C5', 'C6']\n",
      "    Rejecting  epoch based on EEG : ['C3', 'C5', 'FCz', 'Cz', 'C4']\n",
      "    Rejecting  epoch based on EEG : ['C5']\n",
      "    Rejecting  epoch based on EEG : ['C5', 'Cz']\n",
      "15 bad epochs dropped\n",
      "Opening raw data file ../input/erp-core-ica/36_eeg_ica.fif...\n"
     ]
    },
    {
     "name": "stderr",
     "output_type": "stream",
     "text": [
      "/tmp/ipykernel_19/1045735790.py:11: RuntimeWarning: This filename (../input/erp-core-ica/36_eeg_ica.fif) does not conform to MNE naming conventions. All raw files should end with raw.fif, raw_sss.fif, raw_tsss.fif, _meg.fif, _eeg.fif, _ieeg.fif, raw.fif.gz, raw_sss.fif.gz, raw_tsss.fif.gz, _meg.fif.gz, _eeg.fif.gz or _ieeg.fif.gz\n",
      "  raw = mne.io.read_raw(f'../input/erp-core-ica/{id}_eeg_ica.fif', preload=True)\n"
     ]
    },
    {
     "name": "stdout",
     "output_type": "stream",
     "text": [
      "    Range : 0 ... 790527 =      0.000 ...   771.999 secs\n",
      "Ready.\n",
      "Reading 0 ... 790527  =      0.000 ...   771.999 secs...\n",
      "Filtering raw data in 1 contiguous segment\n",
      "Setting up band-pass filter from 0.1 - 30 Hz\n",
      "\n",
      "FIR filter parameters\n",
      "---------------------\n",
      "Designing a one-pass, zero-phase, non-causal bandpass filter:\n",
      "- Windowed time-domain design (firwin) method\n",
      "- Hamming window with 0.0194 passband ripple and 53 dB stopband attenuation\n",
      "- Lower passband edge: 0.10\n",
      "- Lower transition bandwidth: 0.10 Hz (-6 dB cutoff frequency: 0.05 Hz)\n",
      "- Upper passband edge: 30.00 Hz\n",
      "- Upper transition bandwidth: 7.50 Hz (-6 dB cutoff frequency: 33.75 Hz)\n",
      "- Filter length: 33793 samples (33.001 sec)\n",
      "\n",
      "Used Annotations descriptions: ['11', '111', '112', '12', '121', '122', '21', '212', '22', '221', '222']\n",
      "Adding metadata with 13 columns\n",
      "Replacing existing metadata with 13 columns\n",
      "400 matching events found\n",
      "Applying baseline correction (mode: mean)\n",
      "0 projection items activated\n",
      "Loading data for 400 events and 104 original time points ...\n",
      "9 bad epochs dropped\n",
      "Opening raw data file ../input/erp-core-ica/37_eeg_ica.fif...\n"
     ]
    },
    {
     "name": "stderr",
     "output_type": "stream",
     "text": [
      "/tmp/ipykernel_19/1045735790.py:11: RuntimeWarning: This filename (../input/erp-core-ica/37_eeg_ica.fif) does not conform to MNE naming conventions. All raw files should end with raw.fif, raw_sss.fif, raw_tsss.fif, _meg.fif, _eeg.fif, _ieeg.fif, raw.fif.gz, raw_sss.fif.gz, raw_tsss.fif.gz, _meg.fif.gz, _eeg.fif.gz or _ieeg.fif.gz\n",
      "  raw = mne.io.read_raw(f'../input/erp-core-ica/{id}_eeg_ica.fif', preload=True)\n"
     ]
    },
    {
     "name": "stdout",
     "output_type": "stream",
     "text": [
      "    Range : 0 ... 746495 =      0.000 ...   728.999 secs\n",
      "Ready.\n",
      "Reading 0 ... 746495  =      0.000 ...   728.999 secs...\n",
      "Filtering raw data in 1 contiguous segment\n",
      "Setting up band-pass filter from 0.1 - 30 Hz\n",
      "\n",
      "FIR filter parameters\n",
      "---------------------\n",
      "Designing a one-pass, zero-phase, non-causal bandpass filter:\n",
      "- Windowed time-domain design (firwin) method\n",
      "- Hamming window with 0.0194 passband ripple and 53 dB stopband attenuation\n",
      "- Lower passband edge: 0.10\n",
      "- Lower transition bandwidth: 0.10 Hz (-6 dB cutoff frequency: 0.05 Hz)\n",
      "- Upper passband edge: 30.00 Hz\n",
      "- Upper transition bandwidth: 7.50 Hz (-6 dB cutoff frequency: 33.75 Hz)\n",
      "- Filter length: 33793 samples (33.001 sec)\n",
      "\n",
      "Used Annotations descriptions: ['11', '111', '112', '12', '121', '122', '21', '211', '212', '22', '221', '222']\n",
      "Adding metadata with 14 columns\n",
      "Replacing existing metadata with 14 columns\n",
      "402 matching events found\n",
      "Applying baseline correction (mode: mean)\n",
      "0 projection items activated\n",
      "Loading data for 402 events and 104 original time points ...\n",
      "    Rejecting  epoch based on EEG : ['Fz']\n",
      "12 bad epochs dropped\n",
      "Opening raw data file ../input/erp-core-ica/38_eeg_ica.fif...\n"
     ]
    },
    {
     "name": "stderr",
     "output_type": "stream",
     "text": [
      "/tmp/ipykernel_19/1045735790.py:11: RuntimeWarning: This filename (../input/erp-core-ica/38_eeg_ica.fif) does not conform to MNE naming conventions. All raw files should end with raw.fif, raw_sss.fif, raw_tsss.fif, _meg.fif, _eeg.fif, _ieeg.fif, raw.fif.gz, raw_sss.fif.gz, raw_tsss.fif.gz, _meg.fif.gz, _eeg.fif.gz or _ieeg.fif.gz\n",
      "  raw = mne.io.read_raw(f'../input/erp-core-ica/{id}_eeg_ica.fif', preload=True)\n"
     ]
    },
    {
     "name": "stdout",
     "output_type": "stream",
     "text": [
      "    Range : 0 ... 1069055 =      0.000 ...  1043.999 secs\n",
      "Ready.\n",
      "Reading 0 ... 1069055  =      0.000 ...  1043.999 secs...\n",
      "Filtering raw data in 1 contiguous segment\n",
      "Setting up band-pass filter from 0.1 - 30 Hz\n",
      "\n",
      "FIR filter parameters\n",
      "---------------------\n",
      "Designing a one-pass, zero-phase, non-causal bandpass filter:\n",
      "- Windowed time-domain design (firwin) method\n",
      "- Hamming window with 0.0194 passband ripple and 53 dB stopband attenuation\n",
      "- Lower passband edge: 0.10\n",
      "- Lower transition bandwidth: 0.10 Hz (-6 dB cutoff frequency: 0.05 Hz)\n",
      "- Upper passband edge: 30.00 Hz\n",
      "- Upper transition bandwidth: 7.50 Hz (-6 dB cutoff frequency: 33.75 Hz)\n",
      "- Filter length: 33793 samples (33.001 sec)\n",
      "\n",
      "Used Annotations descriptions: ['11', '111', '112', '12', '121', '122', '21', '211', '212', '22', '221', '222']\n",
      "Adding metadata with 14 columns\n",
      "Replacing existing metadata with 14 columns\n",
      "402 matching events found\n",
      "Applying baseline correction (mode: mean)\n",
      "0 projection items activated\n",
      "Loading data for 402 events and 104 original time points ...\n",
      "11 bad epochs dropped\n",
      "Opening raw data file ../input/erp-core-ica/39_eeg_ica.fif...\n"
     ]
    },
    {
     "name": "stderr",
     "output_type": "stream",
     "text": [
      "/tmp/ipykernel_19/1045735790.py:11: RuntimeWarning: This filename (../input/erp-core-ica/39_eeg_ica.fif) does not conform to MNE naming conventions. All raw files should end with raw.fif, raw_sss.fif, raw_tsss.fif, _meg.fif, _eeg.fif, _ieeg.fif, raw.fif.gz, raw_sss.fif.gz, raw_tsss.fif.gz, _meg.fif.gz, _eeg.fif.gz or _ieeg.fif.gz\n",
      "  raw = mne.io.read_raw(f'../input/erp-core-ica/{id}_eeg_ica.fif', preload=True)\n"
     ]
    },
    {
     "name": "stdout",
     "output_type": "stream",
     "text": [
      "    Range : 0 ... 829439 =      0.000 ...   809.999 secs\n",
      "Ready.\n",
      "Reading 0 ... 829439  =      0.000 ...   809.999 secs...\n",
      "Filtering raw data in 1 contiguous segment\n",
      "Setting up band-pass filter from 0.1 - 30 Hz\n",
      "\n",
      "FIR filter parameters\n",
      "---------------------\n",
      "Designing a one-pass, zero-phase, non-causal bandpass filter:\n",
      "- Windowed time-domain design (firwin) method\n",
      "- Hamming window with 0.0194 passband ripple and 53 dB stopband attenuation\n",
      "- Lower passband edge: 0.10\n",
      "- Lower transition bandwidth: 0.10 Hz (-6 dB cutoff frequency: 0.05 Hz)\n",
      "- Upper passband edge: 30.00 Hz\n",
      "- Upper transition bandwidth: 7.50 Hz (-6 dB cutoff frequency: 33.75 Hz)\n",
      "- Filter length: 33793 samples (33.001 sec)\n",
      "\n",
      "Used Annotations descriptions: ['11', '111', '112', '12', '121', '122', '21', '211', '212', '22', '221', '222']\n",
      "Adding metadata with 14 columns\n",
      "Replacing existing metadata with 14 columns\n",
      "401 matching events found\n",
      "Applying baseline correction (mode: mean)\n",
      "0 projection items activated\n",
      "Loading data for 401 events and 104 original time points ...\n",
      "11 bad epochs dropped\n",
      "Opening raw data file ../input/erp-core-ica/40_eeg_ica.fif...\n"
     ]
    },
    {
     "name": "stderr",
     "output_type": "stream",
     "text": [
      "/tmp/ipykernel_19/1045735790.py:11: RuntimeWarning: This filename (../input/erp-core-ica/40_eeg_ica.fif) does not conform to MNE naming conventions. All raw files should end with raw.fif, raw_sss.fif, raw_tsss.fif, _meg.fif, _eeg.fif, _ieeg.fif, raw.fif.gz, raw_sss.fif.gz, raw_tsss.fif.gz, _meg.fif.gz, _eeg.fif.gz or _ieeg.fif.gz\n",
      "  raw = mne.io.read_raw(f'../input/erp-core-ica/{id}_eeg_ica.fif', preload=True)\n"
     ]
    },
    {
     "name": "stdout",
     "output_type": "stream",
     "text": [
      "    Range : 0 ... 899071 =      0.000 ...   877.999 secs\n",
      "Ready.\n",
      "Reading 0 ... 899071  =      0.000 ...   877.999 secs...\n",
      "Filtering raw data in 1 contiguous segment\n",
      "Setting up band-pass filter from 0.1 - 30 Hz\n",
      "\n",
      "FIR filter parameters\n",
      "---------------------\n",
      "Designing a one-pass, zero-phase, non-causal bandpass filter:\n",
      "- Windowed time-domain design (firwin) method\n",
      "- Hamming window with 0.0194 passband ripple and 53 dB stopband attenuation\n",
      "- Lower passband edge: 0.10\n",
      "- Lower transition bandwidth: 0.10 Hz (-6 dB cutoff frequency: 0.05 Hz)\n",
      "- Upper passband edge: 30.00 Hz\n",
      "- Upper transition bandwidth: 7.50 Hz (-6 dB cutoff frequency: 33.75 Hz)\n",
      "- Filter length: 33793 samples (33.001 sec)\n",
      "\n",
      "Used Annotations descriptions: ['11', '111', '112', '12', '121', '122', '21', '211', '212', '22', '221', '222']\n",
      "Adding metadata with 14 columns\n",
      "Replacing existing metadata with 14 columns\n",
      "398 matching events found\n",
      "Applying baseline correction (mode: mean)\n",
      "0 projection items activated\n",
      "Loading data for 398 events and 104 original time points ...\n",
      "    Rejecting  epoch based on EEG : ['Fz']\n",
      "    Rejecting  epoch based on EEG : ['FCz', 'Cz']\n",
      "    Rejecting  epoch based on EEG : ['F7', 'FC3', 'C3', 'C5', 'FCz', 'Cz', 'C4']\n",
      "    Rejecting  epoch based on EEG : ['FC3', 'C3', 'FCz', 'Cz']\n",
      "    Rejecting  epoch based on EEG : ['F3', 'F7', 'FC3', 'C3', 'C5', 'Fz', 'F4', 'F8', 'FC4', 'FCz', 'Cz', 'C4', 'C6']\n",
      "    Rejecting  epoch based on EEG : ['F3', 'FC3', 'C3', 'Fz', 'F8', 'FCz', 'Cz', 'C4', 'C6']\n",
      "    Rejecting  epoch based on EEG : ['FC3', 'C3', 'Fz', 'FC4', 'FCz', 'Cz', 'C4', 'C6']\n",
      "    Rejecting  epoch based on EEG : ['FC3', 'C3', 'Fz', 'F4', 'FC4', 'FCz', 'Cz', 'C4', 'C6']\n",
      "    Rejecting  epoch based on EEG : ['F3', 'FC3', 'C3', 'C5', 'Fz', 'F4', 'FC4', 'FCz', 'Cz', 'C4', 'C6']\n",
      "    Rejecting  epoch based on EEG : ['FC3', 'C3', 'Cz', 'C4']\n",
      "    Rejecting  epoch based on EEG : ['F3', 'F7', 'FC3', 'C3', 'C5', 'Fz', 'F4', 'F8', 'FC4', 'FCz', 'Cz', 'C4', 'C6']\n",
      "    Rejecting  epoch based on EEG : ['Cz']\n",
      "    Rejecting  epoch based on EEG : ['FC3', 'FCz', 'Cz']\n",
      "24 bad epochs dropped\n"
     ]
    }
   ],
   "source": [
    "X=[]\n",
    "y=[]\n",
    "id_40 = [1, 3, 4, 6, 8, 10, 12, 13, 15, 16, 18, 21, 22, 27, 28, 29, 30, 32, 35, 37, 38, 39]\n",
    "\n",
    "for i in range(1,41):\n",
    "# for i in id_40:\n",
    "    Xi,yi=getData(id=i, pick_channels=pick_channel, \n",
    "#                   l_freq=4, h_freq=8\n",
    "                 )\n",
    "    # print(Xi.shape)\n",
    "    if i==1:\n",
    "        X=Xi\n",
    "        y=yi\n",
    "    else:\n",
    "        X=np.append(X,Xi,axis=0)\n",
    "        y=np.append(y,yi,axis=0)\n"
   ]
  },
  {
   "cell_type": "code",
   "execution_count": 12,
   "id": "4d6e8574",
   "metadata": {
    "execution": {
     "iopub.execute_input": "2022-08-01T08:00:25.335487Z",
     "iopub.status.busy": "2022-08-01T08:00:25.334505Z",
     "iopub.status.idle": "2022-08-01T08:00:25.337032Z",
     "shell.execute_reply": "2022-08-01T08:00:25.337541Z",
     "shell.execute_reply.started": "2022-08-01T04:37:21.161331Z"
    },
    "id": "QAm53iq1BT0p",
    "papermill": {
     "duration": 0.43736,
     "end_time": "2022-08-01T08:00:25.337745",
     "exception": false,
     "start_time": "2022-08-01T08:00:24.900385",
     "status": "completed"
    },
    "tags": []
   },
   "outputs": [],
   "source": [
    "kernels, chans, samples = 1, X.shape[1], X.shape[-1]"
   ]
  },
  {
   "cell_type": "markdown",
   "id": "4af163c0",
   "metadata": {
    "id": "1mp0Y3T9yxrK",
    "papermill": {
     "duration": 0.43469,
     "end_time": "2022-08-01T08:00:26.201570",
     "exception": false,
     "start_time": "2022-08-01T08:00:25.766880",
     "status": "completed"
    },
    "tags": []
   },
   "source": [
    "# Pre-Process"
   ]
  },
  {
   "cell_type": "markdown",
   "id": "1539047c",
   "metadata": {
    "id": "-Hq8eTrAOqb-",
    "papermill": {
     "duration": 0.430809,
     "end_time": "2022-08-01T08:00:27.058989",
     "exception": false,
     "start_time": "2022-08-01T08:00:26.628180",
     "status": "completed"
    },
    "tags": []
   },
   "source": [
    "# Split train test"
   ]
  },
  {
   "cell_type": "code",
   "execution_count": 13,
   "id": "9e2d6854",
   "metadata": {
    "execution": {
     "iopub.execute_input": "2022-08-01T08:00:27.924761Z",
     "iopub.status.busy": "2022-08-01T08:00:27.924021Z",
     "iopub.status.idle": "2022-08-01T08:00:27.926342Z",
     "shell.execute_reply": "2022-08-01T08:00:27.926797Z",
     "shell.execute_reply.started": "2022-08-01T04:37:21.163018Z"
    },
    "id": "z5TRJFQlbYNw",
    "papermill": {
     "duration": 0.435734,
     "end_time": "2022-08-01T08:00:27.926976",
     "exception": false,
     "start_time": "2022-08-01T08:00:27.491242",
     "status": "completed"
    },
    "tags": []
   },
   "outputs": [],
   "source": [
    "from imblearn.under_sampling import RandomUnderSampler, EditedNearestNeighbours"
   ]
  },
  {
   "cell_type": "code",
   "execution_count": 14,
   "id": "f47d8412",
   "metadata": {
    "execution": {
     "iopub.execute_input": "2022-08-01T08:00:28.783270Z",
     "iopub.status.busy": "2022-08-01T08:00:28.782156Z",
     "iopub.status.idle": "2022-08-01T08:00:28.785927Z",
     "shell.execute_reply": "2022-08-01T08:00:28.785180Z",
     "shell.execute_reply.started": "2022-08-01T04:37:21.164743Z"
    },
    "id": "sIzp6vnGbu6g",
    "papermill": {
     "duration": 0.433898,
     "end_time": "2022-08-01T08:00:28.786095",
     "exception": false,
     "start_time": "2022-08-01T08:00:28.352197",
     "status": "completed"
    },
    "tags": []
   },
   "outputs": [],
   "source": [
    "# cc = RandomUnderSampler(\n",
    "# #     random_state=0\n",
    "# #                         sampling_strategy=0.5\n",
    "#                        )\n",
    "# X_ = X.reshape(len(X),-1)\n",
    "# X_resampled, y_resampled = cc.fit_resample(X_, y)"
   ]
  },
  {
   "cell_type": "code",
   "execution_count": 15,
   "id": "10723eea",
   "metadata": {
    "execution": {
     "iopub.execute_input": "2022-08-01T08:00:29.659139Z",
     "iopub.status.busy": "2022-08-01T08:00:29.658123Z",
     "iopub.status.idle": "2022-08-01T08:00:29.661272Z",
     "shell.execute_reply": "2022-08-01T08:00:29.660583Z",
     "shell.execute_reply.started": "2022-08-01T04:37:21.166521Z"
    },
    "id": "XBaEWcbEljtL",
    "outputId": "0f59a447-7255-4907-856e-7dea725f8b44",
    "papermill": {
     "duration": 0.439112,
     "end_time": "2022-08-01T08:00:29.661433",
     "exception": false,
     "start_time": "2022-08-01T08:00:29.222321",
     "status": "completed"
    },
    "tags": []
   },
   "outputs": [],
   "source": [
    "# X_resampled.shape"
   ]
  },
  {
   "cell_type": "code",
   "execution_count": 16,
   "id": "4c7929cb",
   "metadata": {
    "execution": {
     "iopub.execute_input": "2022-08-01T08:00:30.535129Z",
     "iopub.status.busy": "2022-08-01T08:00:30.534122Z",
     "iopub.status.idle": "2022-08-01T08:00:30.537041Z",
     "shell.execute_reply": "2022-08-01T08:00:30.536500Z",
     "shell.execute_reply.started": "2022-08-01T04:37:21.168371Z"
    },
    "id": "bVP8b_C_thVE",
    "outputId": "95d661cd-23ab-4709-cf8f-7b8f1737ef51",
    "papermill": {
     "duration": 0.43826,
     "end_time": "2022-08-01T08:00:30.537187",
     "exception": false,
     "start_time": "2022-08-01T08:00:30.098927",
     "status": "completed"
    },
    "tags": []
   },
   "outputs": [],
   "source": [
    "# y_resampled.sum()"
   ]
  },
  {
   "cell_type": "code",
   "execution_count": 17,
   "id": "f6f75e53",
   "metadata": {
    "execution": {
     "iopub.execute_input": "2022-08-01T08:00:31.414060Z",
     "iopub.status.busy": "2022-08-01T08:00:31.412861Z",
     "iopub.status.idle": "2022-08-01T08:00:31.415953Z",
     "shell.execute_reply": "2022-08-01T08:00:31.415249Z",
     "shell.execute_reply.started": "2022-08-01T04:37:21.170055Z"
    },
    "id": "-q-zfqpEA6zZ",
    "papermill": {
     "duration": 0.442953,
     "end_time": "2022-08-01T08:00:31.416119",
     "exception": false,
     "start_time": "2022-08-01T08:00:30.973166",
     "status": "completed"
    },
    "tags": []
   },
   "outputs": [],
   "source": [
    "def split_data(X_train, X_test, y_train, y_test, type=None):\n",
    "\n",
    "    if type =='smote':\n",
    "        smt = SMOTE()\n",
    "        X_train_ = X_train.reshape(len(X_train),-1,)\n",
    "        X_train, y_train = smt.fit_resample(X_train_, y_train)\n",
    "    elif type=='under':\n",
    "        smt = RandomUnderSampler(\n",
    "            random_state=123, sampling_strategy=0.5\n",
    "        )\n",
    "        X_train_ = X_train.reshape(len(X_train),-1,)\n",
    "        X_train, y_train = smt.fit_resample(X_train_, y_train)\n",
    "    \n",
    "    \n",
    "    X_train      = X_train.reshape(X_train.shape[0], chans, samples, kernels)\n",
    "    X_test       = X_test.reshape(X_test.shape[0], chans, samples, kernels)\n",
    "    \n",
    "    y_train      = np_utils.to_categorical(y_train)\n",
    "    y_test       = np_utils.to_categorical(y_test)\n",
    "    return X_train, X_test, y_train, y_test"
   ]
  },
  {
   "cell_type": "markdown",
   "id": "57908ebd",
   "metadata": {
    "id": "HO-5Z7aWy0TD",
    "papermill": {
     "duration": 0.430219,
     "end_time": "2022-08-01T08:00:32.278964",
     "exception": false,
     "start_time": "2022-08-01T08:00:31.848745",
     "status": "completed"
    },
    "tags": []
   },
   "source": [
    "# Model"
   ]
  },
  {
   "cell_type": "code",
   "execution_count": 18,
   "id": "cceebee1",
   "metadata": {
    "execution": {
     "iopub.execute_input": "2022-08-01T08:00:33.170848Z",
     "iopub.status.busy": "2022-08-01T08:00:33.170014Z",
     "iopub.status.idle": "2022-08-01T08:00:33.176127Z",
     "shell.execute_reply": "2022-08-01T08:00:33.175450Z",
     "shell.execute_reply.started": "2022-08-01T04:37:21.171925Z"
    },
    "id": "I0CJ6V3Xy2Nt",
    "papermill": {
     "duration": 0.468679,
     "end_time": "2022-08-01T08:00:33.176306",
     "exception": false,
     "start_time": "2022-08-01T08:00:32.707627",
     "status": "completed"
    },
    "tags": []
   },
   "outputs": [],
   "source": [
    "def EEGNet(nb_classes, Chans = 64, Samples = 128, \n",
    "             dropoutRate = 0.5, kernLength = 64, F1 = 8, \n",
    "             D = 2, F2 = 16, norm_rate = 0.25, dropoutType = Dropout):\n",
    "    \n",
    "    input1   = Input(shape = (Chans, Samples, 1))\n",
    "\n",
    "    ##################################################################\n",
    "    block1       = Conv2D(F1, (1, kernLength), padding = 'same',\n",
    "                                   input_shape = (Chans, Samples, 1),\n",
    "                                   use_bias = False)(input1)\n",
    "    block1       = BatchNormalization()(block1)\n",
    "    block1       = DepthwiseConv2D((Chans, 1), use_bias = False, \n",
    "                                   depth_multiplier = D,\n",
    "                                   depthwise_constraint = max_norm(1.))(block1)\n",
    "    block1       = BatchNormalization()(block1)\n",
    "    block1       = Activation('elu')(block1)\n",
    "    block1       = AveragePooling2D((1, 4))(block1)\n",
    "    block1       = dropoutType(dropoutRate)(block1)\n",
    "    \n",
    "    block2       = SeparableConv2D(F2, (1, 16),\n",
    "                                   use_bias = False, padding = 'same')(block1)\n",
    "    block2       = BatchNormalization()(block2)\n",
    "    block2       = Activation('elu')(block2)\n",
    "    block2       = AveragePooling2D((1, 8))(block2)\n",
    "    block2       = dropoutType(dropoutRate)(block2)\n",
    "        \n",
    "    flatten      = Flatten(name = 'flatten')(block2)\n",
    "    \n",
    "    dense        = Dense(nb_classes, name = 'dense', \n",
    "                         kernel_constraint = max_norm(norm_rate))(flatten)\n",
    "    softmax      = Activation('softmax', name = 'softmax')(dense)\n",
    "    \n",
    "    return Model(inputs=input1, outputs=softmax)"
   ]
  },
  {
   "cell_type": "code",
   "execution_count": 19,
   "id": "31e96a91",
   "metadata": {
    "execution": {
     "iopub.execute_input": "2022-08-01T08:00:34.042470Z",
     "iopub.status.busy": "2022-08-01T08:00:34.041517Z",
     "iopub.status.idle": "2022-08-01T08:00:34.044523Z",
     "shell.execute_reply": "2022-08-01T08:00:34.043950Z",
     "shell.execute_reply.started": "2022-08-01T04:37:21.173714Z"
    },
    "papermill": {
     "duration": 0.437955,
     "end_time": "2022-08-01T08:00:34.044691",
     "exception": false,
     "start_time": "2022-08-01T08:00:33.606736",
     "status": "completed"
    },
    "tags": []
   },
   "outputs": [],
   "source": [
    "# def square(x):\n",
    "#     return K.square(x)\n",
    "\n",
    "# def log(x):\n",
    "#     return K.log(K.clip(x, min_value = 1e-7, max_value = 10000))   \n",
    "\n",
    "\n",
    "# def ShallowConvNet(nb_classes, Chans = 64, Samples = 128, dropoutRate = 0.5)\n",
    "\n",
    "#     input_main   = Input((Chans, Samples, 1))\n",
    "#     block1       = Conv2D(40, (1, 13), \n",
    "#                                  input_shape=(Chans, Samples, 1),\n",
    "#                                  kernel_constraint = max_norm(2., axis=(0,1,2)))(input_main)\n",
    "#     block1       = Conv2D(40, (Chans, 1), use_bias=False, \n",
    "#                           kernel_constraint = max_norm(2., axis=(0,1,2)))(block1)\n",
    "#     block1       = BatchNormalization(epsilon=1e-05, momentum=0.9)(block1)\n",
    "#     block1       = Activation(square)(block1)\n",
    "#     block1       = AveragePooling2D(pool_size=(1, 35), strides=(1, 7))(block1)\n",
    "#     block1       = Activation(log)(block1)\n",
    "#     block1       = Dropout(dropoutRate)(block1)\n",
    "#     flatten      = Flatten()(block1)\n",
    "#     dense        = Dense(nb_classes, kernel_constraint = max_norm(0.5))(flatten)\n",
    "#     softmax      = Activation('softmax')(dense)\n",
    "    \n",
    "#     return Model(inputs=input_main, outputs=softmax)"
   ]
  },
  {
   "cell_type": "markdown",
   "id": "b90c1181",
   "metadata": {
    "id": "XPUbfj6ty2rM",
    "papermill": {
     "duration": 0.426753,
     "end_time": "2022-08-01T08:00:34.898503",
     "exception": false,
     "start_time": "2022-08-01T08:00:34.471750",
     "status": "completed"
    },
    "tags": []
   },
   "source": [
    "# Train"
   ]
  },
  {
   "cell_type": "code",
   "execution_count": 20,
   "id": "1f9d7b22",
   "metadata": {
    "execution": {
     "iopub.execute_input": "2022-08-01T08:00:35.760827Z",
     "iopub.status.busy": "2022-08-01T08:00:35.760085Z",
     "iopub.status.idle": "2022-08-01T08:00:35.767384Z",
     "shell.execute_reply": "2022-08-01T08:00:35.766782Z",
     "shell.execute_reply.started": "2022-08-01T04:37:21.177259Z"
    },
    "papermill": {
     "duration": 0.439358,
     "end_time": "2022-08-01T08:00:35.767556",
     "exception": false,
     "start_time": "2022-08-01T08:00:35.328198",
     "status": "completed"
    },
    "tags": []
   },
   "outputs": [],
   "source": [
    "import keras.backend as K\n",
    "def get_f1(y_true, y_pred): #taken from old keras source code\n",
    "    true_positives = K.sum(K.round(K.clip(y_true * y_pred, 0, 1)))\n",
    "    possible_positives = K.sum(K.round(K.clip(y_true, 0, 1)))\n",
    "    predicted_positives = K.sum(K.round(K.clip(y_pred, 0, 1)))\n",
    "    precision = true_positives / (predicted_positives + K.epsilon())\n",
    "    recall = true_positives / (possible_positives + K.epsilon())\n",
    "    f1_val = 2*(precision*recall)/(precision+recall+K.epsilon())\n",
    "    return f1_val"
   ]
  },
  {
   "cell_type": "code",
   "execution_count": 21,
   "id": "22bdc7e5",
   "metadata": {
    "execution": {
     "iopub.execute_input": "2022-08-01T08:00:36.653736Z",
     "iopub.status.busy": "2022-08-01T08:00:36.652818Z",
     "iopub.status.idle": "2022-08-01T08:00:36.657424Z",
     "shell.execute_reply": "2022-08-01T08:00:36.658026Z",
     "shell.execute_reply.started": "2022-08-01T04:37:21.178928Z"
    },
    "papermill": {
     "duration": 0.457559,
     "end_time": "2022-08-01T08:00:36.658249",
     "exception": false,
     "start_time": "2022-08-01T08:00:36.200690",
     "status": "completed"
    },
    "tags": []
   },
   "outputs": [],
   "source": [
    "class_weights = {0:1, 1:1}"
   ]
  },
  {
   "cell_type": "code",
   "execution_count": 22,
   "id": "23bba736",
   "metadata": {
    "execution": {
     "iopub.execute_input": "2022-08-01T08:00:37.581845Z",
     "iopub.status.busy": "2022-08-01T08:00:37.580751Z",
     "iopub.status.idle": "2022-08-01T08:00:37.583455Z",
     "shell.execute_reply": "2022-08-01T08:00:37.583968Z",
     "shell.execute_reply.started": "2022-08-01T04:37:21.180674Z"
    },
    "id": "BOFqF7qXy8nt",
    "papermill": {
     "duration": 0.490649,
     "end_time": "2022-08-01T08:00:37.584141",
     "exception": false,
     "start_time": "2022-08-01T08:00:37.093492",
     "status": "completed"
    },
    "tags": []
   },
   "outputs": [],
   "source": [
    "def train_predict_eegnet(i):\n",
    "    model = EEGNet(nb_classes=2, Chans = chans, Samples = samples,dropoutRate = 0.5, \n",
    "                kernLength = 64, F1 = 8, D = 2, F2 = 16)\n",
    "    model.compile(\n",
    "        loss='binary_crossentropy', \n",
    "#                   loss=focal_loss(),\n",
    "                optimizer='adam', \n",
    "                metrics = [get_f1]  )\n",
    "\n",
    "    checkpointer = ModelCheckpoint(filepath=f'./tmp/model{i}.h5', verbose=1,\n",
    "                                   save_best_only=True)\n",
    "    reduce_lr = ReduceLROnPlateau(monitor='val_loss', factor=0.5,\n",
    "                                patience=15, min_lr=0.0001)\n",
    "    earlyStopping = EarlyStopping(monitor=\"val_loss\", patience=20,\n",
    "                                restore_best_weights=True,)\n",
    "\n",
    "\n",
    "    history = model.fit(X_train, y_train, validation_split=0.2,\n",
    "                        batch_size = 128, \n",
    "                        epochs = 200, \n",
    "                        verbose = 0,\n",
    "                        callbacks=[earlyStopping,reduce_lr,checkpointer],\n",
    "                        class_weight = class_weights)\n",
    "    return model.predict(X_test)"
   ]
  },
  {
   "cell_type": "code",
   "execution_count": 23,
   "id": "5d8514a8",
   "metadata": {
    "execution": {
     "iopub.execute_input": "2022-08-01T08:00:38.488026Z",
     "iopub.status.busy": "2022-08-01T08:00:38.486932Z",
     "iopub.status.idle": "2022-08-01T08:00:38.489629Z",
     "shell.execute_reply": "2022-08-01T08:00:38.488980Z",
     "shell.execute_reply.started": "2022-08-01T04:37:21.182400Z"
    },
    "papermill": {
     "duration": 0.447838,
     "end_time": "2022-08-01T08:00:38.489777",
     "exception": false,
     "start_time": "2022-08-01T08:00:38.041939",
     "status": "completed"
    },
    "tags": []
   },
   "outputs": [],
   "source": [
    "# def train_predict_shallownet():\n",
    "#     model = ShallowConvNet(nb_classes=2, Chans = chans, Samples = samples,dropoutRate = 0.5)\n",
    "    \n",
    "#     model.compile(loss='binary_crossentropy', \n",
    "#                 optimizer='adam', \n",
    "#                 metrics = ['accuracy', 'MeanSquaredError',\n",
    "#         'AUC',])\n",
    "\n",
    "#     checkpointer = ModelCheckpoint(filepath='./tmp/model.h5', verbose=1,\n",
    "#                                    save_best_only=True)\n",
    "#     reduce_lr = ReduceLROnPlateau(monitor='val_loss', factor=0.5,\n",
    "#                                 patience=15, min_lr=0.0001)\n",
    "#     earlyStopping = EarlyStopping(monitor=\"val_loss\", patience=30,\n",
    "#                                 restore_best_weights=True,)\n",
    "\n",
    "#     class_weights = {0:1, 1:1}\n",
    "#     history = model.fit(X_train, y_train, validation_split=0.2,\n",
    "#                         batch_size = 256, \n",
    "#                         epochs = 300, \n",
    "#                         verbose = 0,\n",
    "#                         callbacks=[earlyStopping,reduce_lr,checkpointer],\n",
    "#                         class_weight = class_weights)\n",
    "#     return model.predict(X_test)"
   ]
  },
  {
   "cell_type": "code",
   "execution_count": 24,
   "id": "220eba5b",
   "metadata": {
    "execution": {
     "iopub.execute_input": "2022-08-01T08:00:39.445255Z",
     "iopub.status.busy": "2022-08-01T08:00:39.444034Z",
     "iopub.status.idle": "2022-08-01T08:00:39.451236Z",
     "shell.execute_reply": "2022-08-01T08:00:39.451840Z",
     "shell.execute_reply.started": "2022-08-01T04:37:21.184100Z"
    },
    "id": "2SKiSVTpETlj",
    "papermill": {
     "duration": 0.455233,
     "end_time": "2022-08-01T08:00:39.452018",
     "exception": false,
     "start_time": "2022-08-01T08:00:38.996785",
     "status": "completed"
    },
    "tags": []
   },
   "outputs": [],
   "source": [
    "def write_report(i):\n",
    "    with open('readme.txt', 'a') as f:\n",
    "        \n",
    "        f.write(f'Lần {i}: ')\n",
    "        f.write(' '.join(pick_channel))\n",
    "        f.write('\\n EEGNet\\n')\n",
    "        f.write(classification_report(y_true=y_test, y_pred=(pred_eegnet>0.5)))\n",
    "        \n",
    "#         f.write('\\n ShallowConvNet \\n')\n",
    "#         f.write(classification_report(y_true=y_test, y_pred=(pred_shallow>0.5)))\n",
    "        \n",
    "        f.write('\\n SVM\\n')\n",
    "        f.write(classification_report(y_pred=pred_svm,y_true=y_test.argmax(axis=1)))\n",
    "\n",
    "        f.write('\\nKNN\\n')\n",
    "        f.write(classification_report(y_pred=pred_knn,y_true=y_test.argmax(axis=1)))\n",
    "        f.close()"
   ]
  },
  {
   "cell_type": "code",
   "execution_count": 25,
   "id": "8a8e8c42",
   "metadata": {
    "execution": {
     "iopub.execute_input": "2022-08-01T08:00:40.337629Z",
     "iopub.status.busy": "2022-08-01T08:00:40.336854Z",
     "iopub.status.idle": "2022-08-01T08:00:40.340307Z",
     "shell.execute_reply": "2022-08-01T08:00:40.341232Z",
     "shell.execute_reply.started": "2022-08-01T04:37:21.185957Z"
    },
    "papermill": {
     "duration": 0.452599,
     "end_time": "2022-08-01T08:00:40.341427",
     "exception": false,
     "start_time": "2022-08-01T08:00:39.888828",
     "status": "completed"
    },
    "tags": []
   },
   "outputs": [],
   "source": [
    "import pandas as pd"
   ]
  },
  {
   "cell_type": "code",
   "execution_count": 26,
   "id": "6ff93aa9",
   "metadata": {
    "execution": {
     "iopub.execute_input": "2022-08-01T08:00:41.227035Z",
     "iopub.status.busy": "2022-08-01T08:00:41.226010Z",
     "iopub.status.idle": "2022-08-01T08:00:41.233629Z",
     "shell.execute_reply": "2022-08-01T08:00:41.234145Z",
     "shell.execute_reply.started": "2022-08-01T04:37:21.187693Z"
    },
    "papermill": {
     "duration": 0.455332,
     "end_time": "2022-08-01T08:00:41.234358",
     "exception": false,
     "start_time": "2022-08-01T08:00:40.779026",
     "status": "completed"
    },
    "tags": []
   },
   "outputs": [],
   "source": [
    "d = pd.DataFrame(columns=['EEGNET','SVM', 'KNN','ACC'])\n",
    "\n",
    "# acc = accuracy_score(y_true=y_test.argmax(axis=1),y_pred=probs.argmax(axis=1))\n",
    "# f1 = f1_score(y_true=y_test.argmax(axis=1),y_pred=probs.argmax(axis=1),average=None)\n",
    "# d = d.append({'name':'eegnet', 'f1_0':f1[0], 'f1_1':f1[1], 'acc':acc}, ignore_index=True)\n",
    "# d"
   ]
  },
  {
   "cell_type": "markdown",
   "id": "6d7ae217",
   "metadata": {
    "id": "yJWscEaa6rW3",
    "papermill": {
     "duration": 0.434607,
     "end_time": "2022-08-01T08:00:42.103099",
     "exception": false,
     "start_time": "2022-08-01T08:00:41.668492",
     "status": "completed"
    },
    "tags": []
   },
   "source": [
    "#SVM"
   ]
  },
  {
   "cell_type": "code",
   "execution_count": 27,
   "id": "86f8f555",
   "metadata": {
    "execution": {
     "iopub.execute_input": "2022-08-01T08:00:42.993738Z",
     "iopub.status.busy": "2022-08-01T08:00:42.992937Z",
     "iopub.status.idle": "2022-08-01T08:00:43.012443Z",
     "shell.execute_reply": "2022-08-01T08:00:43.011649Z",
     "shell.execute_reply.started": "2022-08-01T04:37:21.189432Z"
    },
    "id": "qXrAL4wf-Q_L",
    "papermill": {
     "duration": 0.473947,
     "end_time": "2022-08-01T08:00:43.012631",
     "exception": false,
     "start_time": "2022-08-01T08:00:42.538684",
     "status": "completed"
    },
    "tags": []
   },
   "outputs": [],
   "source": [
    "from sklearn.discriminant_analysis import LinearDiscriminantAnalysis"
   ]
  },
  {
   "cell_type": "code",
   "execution_count": 28,
   "id": "be836f3a",
   "metadata": {
    "execution": {
     "iopub.execute_input": "2022-08-01T08:00:43.924107Z",
     "iopub.status.busy": "2022-08-01T08:00:43.922371Z",
     "iopub.status.idle": "2022-08-01T08:00:44.002785Z",
     "shell.execute_reply": "2022-08-01T08:00:44.002145Z",
     "shell.execute_reply.started": "2022-08-01T04:37:21.191362Z"
    },
    "id": "2dDVPrJ8E98p",
    "papermill": {
     "duration": 0.5467,
     "end_time": "2022-08-01T08:00:44.002956",
     "exception": false,
     "start_time": "2022-08-01T08:00:43.456256",
     "status": "completed"
    },
    "tags": []
   },
   "outputs": [],
   "source": [
    "from sklearn import decomposition, datasets\n",
    "from sklearn.pipeline import Pipeline\n",
    "from sklearn import svm\n",
    "import joblib\n",
    "\n",
    "\n",
    "# pca = decomposition.PCA()\n",
    "\n",
    "# pipe = Pipeline(steps=[('pca', pca), ('svc', svc)])\n"
   ]
  },
  {
   "cell_type": "code",
   "execution_count": 29,
   "id": "a52d562a",
   "metadata": {
    "execution": {
     "iopub.execute_input": "2022-08-01T08:00:44.871822Z",
     "iopub.status.busy": "2022-08-01T08:00:44.871080Z",
     "iopub.status.idle": "2022-08-01T08:00:44.874198Z",
     "shell.execute_reply": "2022-08-01T08:00:44.873523Z",
     "shell.execute_reply.started": "2022-08-01T04:37:21.193028Z"
    },
    "id": "Ki-wOoMRruP_",
    "papermill": {
     "duration": 0.439271,
     "end_time": "2022-08-01T08:00:44.874408",
     "exception": false,
     "start_time": "2022-08-01T08:00:44.435137",
     "status": "completed"
    },
    "tags": []
   },
   "outputs": [],
   "source": [
    "def train_predict_svm(i):\n",
    "    svc = svm.SVC(class_weight=class_weights)\n",
    "    svc.fit(X_train.reshape(len(X_train),-1),y_train.argmax(axis=1))\n",
    "    y2_pred = svc.predict(X_test.reshape(len(X_test),-1))\n",
    "#     joblib.dump(svm, f'svm{i}.pkl') \n",
    "    # accuracy_score(y_test.argmax(axis=1), y2_pred)\n",
    "    # ConfusionMatrixDisplay.from_predictions(y1_test,probs,\n",
    "    #                                     cmap='Blues')\n",
    "    return y2_pred"
   ]
  },
  {
   "cell_type": "markdown",
   "id": "becdcd6a",
   "metadata": {
    "id": "PUN9ESlD6tYr",
    "papermill": {
     "duration": 0.428359,
     "end_time": "2022-08-01T08:00:45.734291",
     "exception": false,
     "start_time": "2022-08-01T08:00:45.305932",
     "status": "completed"
    },
    "tags": []
   },
   "source": [
    "#KNN"
   ]
  },
  {
   "cell_type": "code",
   "execution_count": 30,
   "id": "d478ce98",
   "metadata": {
    "execution": {
     "iopub.execute_input": "2022-08-01T08:00:46.612419Z",
     "iopub.status.busy": "2022-08-01T08:00:46.611706Z",
     "iopub.status.idle": "2022-08-01T08:00:46.613466Z",
     "shell.execute_reply": "2022-08-01T08:00:46.613967Z",
     "shell.execute_reply.started": "2022-08-01T04:37:21.194744Z"
    },
    "id": "QH4T4G-aOywJ",
    "papermill": {
     "duration": 0.438429,
     "end_time": "2022-08-01T08:00:46.614141",
     "exception": false,
     "start_time": "2022-08-01T08:00:46.175712",
     "status": "completed"
    },
    "tags": []
   },
   "outputs": [],
   "source": [
    "from sklearn import neighbors"
   ]
  },
  {
   "cell_type": "code",
   "execution_count": 31,
   "id": "56339810",
   "metadata": {
    "execution": {
     "iopub.execute_input": "2022-08-01T08:00:47.490563Z",
     "iopub.status.busy": "2022-08-01T08:00:47.489427Z",
     "iopub.status.idle": "2022-08-01T08:00:47.494715Z",
     "shell.execute_reply": "2022-08-01T08:00:47.495381Z",
     "shell.execute_reply.started": "2022-08-01T04:37:21.196479Z"
    },
    "id": "JUaSbX-PM0ar",
    "papermill": {
     "duration": 0.445141,
     "end_time": "2022-08-01T08:00:47.495585",
     "exception": false,
     "start_time": "2022-08-01T08:00:47.050444",
     "status": "completed"
    },
    "tags": []
   },
   "outputs": [],
   "source": [
    "def train_predict_knn(i):\n",
    "    knn=neighbors.KNeighborsClassifier(n_neighbors=5, \n",
    "#                                        weights='distance'\n",
    "                                      )\n",
    "    knn.fit(X_train.reshape(len(X_train),-1),y_train.argmax(axis=1))\n",
    "    y2_pred = knn.predict(X_test.reshape(len(X_test),-1))\n",
    "#     joblib.dump(knn, f'KNN{i}.pkl') \n",
    "    # print(classification_report(y_test.argmax(axis=1), y2_pred))\n",
    "    # accuracy_score(y_test.argmax(axis=1), y2_pred)\n",
    "    return y2_pred"
   ]
  },
  {
   "cell_type": "code",
   "execution_count": 32,
   "id": "4ec14803",
   "metadata": {
    "execution": {
     "iopub.execute_input": "2022-08-01T08:00:48.370057Z",
     "iopub.status.busy": "2022-08-01T08:00:48.368952Z",
     "iopub.status.idle": "2022-08-01T08:00:48.372476Z",
     "shell.execute_reply": "2022-08-01T08:00:48.373022Z",
     "shell.execute_reply.started": "2022-08-01T04:37:21.198457Z"
    },
    "papermill": {
     "duration": 0.441669,
     "end_time": "2022-08-01T08:00:48.373242",
     "exception": false,
     "start_time": "2022-08-01T08:00:47.931573",
     "status": "completed"
    },
    "tags": []
   },
   "outputs": [],
   "source": [
    "from sklearn.model_selection import StratifiedKFold"
   ]
  },
  {
   "cell_type": "code",
   "execution_count": 33,
   "id": "cba6833c",
   "metadata": {
    "_kg_hide-output": true,
    "execution": {
     "iopub.execute_input": "2022-08-01T08:00:49.254326Z",
     "iopub.status.busy": "2022-08-01T08:00:49.246810Z",
     "iopub.status.idle": "2022-08-01T08:19:05.999886Z",
     "shell.execute_reply": "2022-08-01T08:19:05.999189Z",
     "shell.execute_reply.started": "2022-08-01T04:37:21.200358Z"
    },
    "id": "wKg6NNHHlrQI",
    "outputId": "da54a255-9167-4698-8d53-77ccc4c77de6",
    "papermill": {
     "duration": 1097.191412,
     "end_time": "2022-08-01T08:19:06.000080",
     "exception": false,
     "start_time": "2022-08-01T08:00:48.808668",
     "status": "completed"
    },
    "tags": []
   },
   "outputs": [
    {
     "name": "stdout",
     "output_type": "stream",
     "text": [
      "1\n",
      "4173\n"
     ]
    },
    {
     "name": "stderr",
     "output_type": "stream",
     "text": [
      "2022-08-01 08:00:49.378530: I tensorflow/core/common_runtime/process_util.cc:146] Creating new thread pool with default inter op setting: 2. Tune using inter_op_parallelism_threads for best performance.\n",
      "2022-08-01 08:00:49.634620: I tensorflow/compiler/mlir/mlir_graph_optimization_pass.cc:185] None of the MLIR Optimization Passes are enabled (registered 2)\n"
     ]
    },
    {
     "name": "stdout",
     "output_type": "stream",
     "text": [
      "\n",
      "Epoch 00001: val_loss improved from inf to 0.67583, saving model to ./tmp/model1.h5\n",
      "\n",
      "Epoch 00002: val_loss improved from 0.67583 to 0.66212, saving model to ./tmp/model1.h5\n",
      "\n",
      "Epoch 00003: val_loss improved from 0.66212 to 0.65396, saving model to ./tmp/model1.h5\n",
      "\n",
      "Epoch 00004: val_loss improved from 0.65396 to 0.64637, saving model to ./tmp/model1.h5\n",
      "\n",
      "Epoch 00005: val_loss improved from 0.64637 to 0.63896, saving model to ./tmp/model1.h5\n",
      "\n",
      "Epoch 00006: val_loss improved from 0.63896 to 0.63067, saving model to ./tmp/model1.h5\n",
      "\n",
      "Epoch 00007: val_loss improved from 0.63067 to 0.61979, saving model to ./tmp/model1.h5\n",
      "\n",
      "Epoch 00008: val_loss improved from 0.61979 to 0.61322, saving model to ./tmp/model1.h5\n",
      "\n",
      "Epoch 00009: val_loss improved from 0.61322 to 0.61277, saving model to ./tmp/model1.h5\n",
      "\n",
      "Epoch 00010: val_loss improved from 0.61277 to 0.60910, saving model to ./tmp/model1.h5\n",
      "\n",
      "Epoch 00011: val_loss improved from 0.60910 to 0.60353, saving model to ./tmp/model1.h5\n",
      "\n",
      "Epoch 00012: val_loss did not improve from 0.60353\n",
      "\n",
      "Epoch 00013: val_loss did not improve from 0.60353\n",
      "\n",
      "Epoch 00014: val_loss did not improve from 0.60353\n",
      "\n",
      "Epoch 00015: val_loss improved from 0.60353 to 0.59220, saving model to ./tmp/model1.h5\n",
      "\n",
      "Epoch 00016: val_loss improved from 0.59220 to 0.56171, saving model to ./tmp/model1.h5\n",
      "\n",
      "Epoch 00017: val_loss improved from 0.56171 to 0.48196, saving model to ./tmp/model1.h5\n",
      "\n",
      "Epoch 00018: val_loss did not improve from 0.48196\n",
      "\n",
      "Epoch 00019: val_loss did not improve from 0.48196\n",
      "\n",
      "Epoch 00020: val_loss did not improve from 0.48196\n",
      "\n",
      "Epoch 00021: val_loss did not improve from 0.48196\n",
      "\n",
      "Epoch 00022: val_loss did not improve from 0.48196\n",
      "\n",
      "Epoch 00023: val_loss improved from 0.48196 to 0.45008, saving model to ./tmp/model1.h5\n",
      "\n",
      "Epoch 00024: val_loss did not improve from 0.45008\n",
      "\n",
      "Epoch 00025: val_loss did not improve from 0.45008\n",
      "\n",
      "Epoch 00026: val_loss did not improve from 0.45008\n",
      "\n",
      "Epoch 00027: val_loss did not improve from 0.45008\n",
      "\n",
      "Epoch 00028: val_loss did not improve from 0.45008\n",
      "\n",
      "Epoch 00029: val_loss did not improve from 0.45008\n",
      "\n",
      "Epoch 00030: val_loss improved from 0.45008 to 0.34834, saving model to ./tmp/model1.h5\n",
      "\n",
      "Epoch 00031: val_loss improved from 0.34834 to 0.32664, saving model to ./tmp/model1.h5\n",
      "\n",
      "Epoch 00032: val_loss improved from 0.32664 to 0.30321, saving model to ./tmp/model1.h5\n",
      "\n",
      "Epoch 00033: val_loss did not improve from 0.30321\n",
      "\n",
      "Epoch 00034: val_loss did not improve from 0.30321\n",
      "\n",
      "Epoch 00035: val_loss did not improve from 0.30321\n",
      "\n",
      "Epoch 00036: val_loss did not improve from 0.30321\n",
      "\n",
      "Epoch 00037: val_loss did not improve from 0.30321\n",
      "\n",
      "Epoch 00038: val_loss did not improve from 0.30321\n",
      "\n",
      "Epoch 00039: val_loss did not improve from 0.30321\n",
      "\n",
      "Epoch 00040: val_loss did not improve from 0.30321\n",
      "\n",
      "Epoch 00041: val_loss improved from 0.30321 to 0.24843, saving model to ./tmp/model1.h5\n",
      "\n",
      "Epoch 00042: val_loss improved from 0.24843 to 0.17082, saving model to ./tmp/model1.h5\n",
      "\n",
      "Epoch 00043: val_loss improved from 0.17082 to 0.13377, saving model to ./tmp/model1.h5\n",
      "\n",
      "Epoch 00044: val_loss did not improve from 0.13377\n",
      "\n",
      "Epoch 00045: val_loss did not improve from 0.13377\n",
      "\n",
      "Epoch 00046: val_loss did not improve from 0.13377\n",
      "\n",
      "Epoch 00047: val_loss did not improve from 0.13377\n",
      "\n",
      "Epoch 00048: val_loss did not improve from 0.13377\n",
      "\n",
      "Epoch 00049: val_loss did not improve from 0.13377\n",
      "\n",
      "Epoch 00050: val_loss did not improve from 0.13377\n",
      "\n",
      "Epoch 00051: val_loss did not improve from 0.13377\n",
      "\n",
      "Epoch 00052: val_loss did not improve from 0.13377\n",
      "\n",
      "Epoch 00053: val_loss did not improve from 0.13377\n",
      "\n",
      "Epoch 00054: val_loss did not improve from 0.13377\n",
      "\n",
      "Epoch 00055: val_loss did not improve from 0.13377\n",
      "\n",
      "Epoch 00056: val_loss did not improve from 0.13377\n",
      "\n",
      "Epoch 00057: val_loss did not improve from 0.13377\n",
      "\n",
      "Epoch 00058: val_loss did not improve from 0.13377\n",
      "\n",
      "Epoch 00059: val_loss did not improve from 0.13377\n",
      "\n",
      "Epoch 00060: val_loss did not improve from 0.13377\n",
      "\n",
      "Epoch 00061: val_loss did not improve from 0.13377\n",
      "\n",
      "Epoch 00062: val_loss did not improve from 0.13377\n",
      "\n",
      "Epoch 00063: val_loss did not improve from 0.13377\n",
      "2\n",
      "4170\n",
      "\n",
      "Epoch 00001: val_loss improved from inf to 0.67607, saving model to ./tmp/model2.h5\n",
      "\n",
      "Epoch 00002: val_loss improved from 0.67607 to 0.66193, saving model to ./tmp/model2.h5\n",
      "\n",
      "Epoch 00003: val_loss improved from 0.66193 to 0.65238, saving model to ./tmp/model2.h5\n",
      "\n",
      "Epoch 00004: val_loss improved from 0.65238 to 0.64653, saving model to ./tmp/model2.h5\n",
      "\n",
      "Epoch 00005: val_loss improved from 0.64653 to 0.64020, saving model to ./tmp/model2.h5\n",
      "\n",
      "Epoch 00006: val_loss improved from 0.64020 to 0.63321, saving model to ./tmp/model2.h5\n",
      "\n",
      "Epoch 00007: val_loss improved from 0.63321 to 0.62877, saving model to ./tmp/model2.h5\n",
      "\n",
      "Epoch 00008: val_loss improved from 0.62877 to 0.61835, saving model to ./tmp/model2.h5\n",
      "\n",
      "Epoch 00009: val_loss did not improve from 0.61835\n",
      "\n",
      "Epoch 00010: val_loss did not improve from 0.61835\n",
      "\n",
      "Epoch 00011: val_loss did not improve from 0.61835\n",
      "\n",
      "Epoch 00012: val_loss did not improve from 0.61835\n",
      "\n",
      "Epoch 00013: val_loss did not improve from 0.61835\n",
      "\n",
      "Epoch 00014: val_loss improved from 0.61835 to 0.60145, saving model to ./tmp/model2.h5\n",
      "\n",
      "Epoch 00015: val_loss improved from 0.60145 to 0.57590, saving model to ./tmp/model2.h5\n",
      "\n",
      "Epoch 00016: val_loss did not improve from 0.57590\n",
      "\n",
      "Epoch 00017: val_loss improved from 0.57590 to 0.57116, saving model to ./tmp/model2.h5\n",
      "\n",
      "Epoch 00018: val_loss improved from 0.57116 to 0.54541, saving model to ./tmp/model2.h5\n",
      "\n",
      "Epoch 00019: val_loss improved from 0.54541 to 0.53557, saving model to ./tmp/model2.h5\n",
      "\n",
      "Epoch 00020: val_loss improved from 0.53557 to 0.49603, saving model to ./tmp/model2.h5\n",
      "\n",
      "Epoch 00021: val_loss improved from 0.49603 to 0.39905, saving model to ./tmp/model2.h5\n",
      "\n",
      "Epoch 00022: val_loss did not improve from 0.39905\n",
      "\n",
      "Epoch 00023: val_loss did not improve from 0.39905\n",
      "\n",
      "Epoch 00024: val_loss improved from 0.39905 to 0.37853, saving model to ./tmp/model2.h5\n",
      "\n",
      "Epoch 00025: val_loss did not improve from 0.37853\n",
      "\n",
      "Epoch 00026: val_loss did not improve from 0.37853\n",
      "\n",
      "Epoch 00027: val_loss did not improve from 0.37853\n",
      "\n",
      "Epoch 00028: val_loss did not improve from 0.37853\n",
      "\n",
      "Epoch 00029: val_loss improved from 0.37853 to 0.33445, saving model to ./tmp/model2.h5\n",
      "\n",
      "Epoch 00030: val_loss did not improve from 0.33445\n",
      "\n",
      "Epoch 00031: val_loss did not improve from 0.33445\n",
      "\n",
      "Epoch 00032: val_loss did not improve from 0.33445\n",
      "\n",
      "Epoch 00033: val_loss did not improve from 0.33445\n",
      "\n",
      "Epoch 00034: val_loss did not improve from 0.33445\n",
      "\n",
      "Epoch 00035: val_loss did not improve from 0.33445\n",
      "\n",
      "Epoch 00036: val_loss did not improve from 0.33445\n",
      "\n",
      "Epoch 00037: val_loss did not improve from 0.33445\n",
      "\n",
      "Epoch 00038: val_loss did not improve from 0.33445\n",
      "\n",
      "Epoch 00039: val_loss did not improve from 0.33445\n",
      "\n",
      "Epoch 00040: val_loss did not improve from 0.33445\n",
      "\n",
      "Epoch 00041: val_loss did not improve from 0.33445\n",
      "\n",
      "Epoch 00042: val_loss did not improve from 0.33445\n",
      "\n",
      "Epoch 00043: val_loss did not improve from 0.33445\n",
      "\n",
      "Epoch 00044: val_loss did not improve from 0.33445\n",
      "\n",
      "Epoch 00045: val_loss did not improve from 0.33445\n",
      "\n",
      "Epoch 00046: val_loss did not improve from 0.33445\n",
      "\n",
      "Epoch 00047: val_loss did not improve from 0.33445\n",
      "\n",
      "Epoch 00048: val_loss did not improve from 0.33445\n",
      "\n",
      "Epoch 00049: val_loss did not improve from 0.33445\n",
      "3\n",
      "4170\n",
      "\n",
      "Epoch 00001: val_loss improved from inf to 0.67357, saving model to ./tmp/model3.h5\n",
      "\n",
      "Epoch 00002: val_loss improved from 0.67357 to 0.66020, saving model to ./tmp/model3.h5\n",
      "\n",
      "Epoch 00003: val_loss improved from 0.66020 to 0.65365, saving model to ./tmp/model3.h5\n",
      "\n",
      "Epoch 00004: val_loss improved from 0.65365 to 0.64769, saving model to ./tmp/model3.h5\n",
      "\n",
      "Epoch 00005: val_loss improved from 0.64769 to 0.64151, saving model to ./tmp/model3.h5\n",
      "\n",
      "Epoch 00006: val_loss improved from 0.64151 to 0.63527, saving model to ./tmp/model3.h5\n",
      "\n",
      "Epoch 00007: val_loss improved from 0.63527 to 0.62375, saving model to ./tmp/model3.h5\n",
      "\n",
      "Epoch 00008: val_loss improved from 0.62375 to 0.62127, saving model to ./tmp/model3.h5\n",
      "\n",
      "Epoch 00009: val_loss improved from 0.62127 to 0.61665, saving model to ./tmp/model3.h5\n",
      "\n",
      "Epoch 00010: val_loss improved from 0.61665 to 0.61585, saving model to ./tmp/model3.h5\n",
      "\n",
      "Epoch 00011: val_loss improved from 0.61585 to 0.61169, saving model to ./tmp/model3.h5\n",
      "\n",
      "Epoch 00012: val_loss improved from 0.61169 to 0.59854, saving model to ./tmp/model3.h5\n",
      "\n",
      "Epoch 00013: val_loss did not improve from 0.59854\n",
      "\n",
      "Epoch 00014: val_loss did not improve from 0.59854\n",
      "\n",
      "Epoch 00015: val_loss did not improve from 0.59854\n",
      "\n",
      "Epoch 00016: val_loss did not improve from 0.59854\n",
      "\n",
      "Epoch 00017: val_loss did not improve from 0.59854\n",
      "\n",
      "Epoch 00018: val_loss did not improve from 0.59854\n",
      "\n",
      "Epoch 00019: val_loss did not improve from 0.59854\n",
      "\n",
      "Epoch 00020: val_loss did not improve from 0.59854\n",
      "\n",
      "Epoch 00021: val_loss did not improve from 0.59854\n",
      "\n",
      "Epoch 00022: val_loss did not improve from 0.59854\n",
      "\n",
      "Epoch 00023: val_loss did not improve from 0.59854\n",
      "\n",
      "Epoch 00024: val_loss improved from 0.59854 to 0.51494, saving model to ./tmp/model3.h5\n",
      "\n",
      "Epoch 00025: val_loss improved from 0.51494 to 0.48943, saving model to ./tmp/model3.h5\n",
      "\n",
      "Epoch 00026: val_loss improved from 0.48943 to 0.46350, saving model to ./tmp/model3.h5\n",
      "\n",
      "Epoch 00027: val_loss improved from 0.46350 to 0.36692, saving model to ./tmp/model3.h5\n",
      "\n",
      "Epoch 00028: val_loss did not improve from 0.36692\n",
      "\n",
      "Epoch 00029: val_loss did not improve from 0.36692\n",
      "\n",
      "Epoch 00030: val_loss did not improve from 0.36692\n",
      "\n",
      "Epoch 00031: val_loss did not improve from 0.36692\n",
      "\n",
      "Epoch 00032: val_loss improved from 0.36692 to 0.26270, saving model to ./tmp/model3.h5\n",
      "\n",
      "Epoch 00033: val_loss improved from 0.26270 to 0.25423, saving model to ./tmp/model3.h5\n",
      "\n",
      "Epoch 00034: val_loss did not improve from 0.25423\n",
      "\n",
      "Epoch 00035: val_loss did not improve from 0.25423\n",
      "\n",
      "Epoch 00036: val_loss improved from 0.25423 to 0.21745, saving model to ./tmp/model3.h5\n",
      "\n",
      "Epoch 00037: val_loss did not improve from 0.21745\n",
      "\n",
      "Epoch 00038: val_loss did not improve from 0.21745\n",
      "\n",
      "Epoch 00039: val_loss did not improve from 0.21745\n",
      "\n",
      "Epoch 00040: val_loss did not improve from 0.21745\n",
      "\n",
      "Epoch 00041: val_loss did not improve from 0.21745\n",
      "\n",
      "Epoch 00042: val_loss did not improve from 0.21745\n",
      "\n",
      "Epoch 00043: val_loss did not improve from 0.21745\n",
      "\n",
      "Epoch 00044: val_loss did not improve from 0.21745\n",
      "\n",
      "Epoch 00045: val_loss did not improve from 0.21745\n",
      "\n",
      "Epoch 00046: val_loss did not improve from 0.21745\n",
      "\n",
      "Epoch 00047: val_loss did not improve from 0.21745\n",
      "\n",
      "Epoch 00048: val_loss did not improve from 0.21745\n",
      "\n",
      "Epoch 00049: val_loss did not improve from 0.21745\n",
      "\n",
      "Epoch 00050: val_loss did not improve from 0.21745\n",
      "\n",
      "Epoch 00051: val_loss did not improve from 0.21745\n",
      "\n",
      "Epoch 00052: val_loss did not improve from 0.21745\n",
      "\n",
      "Epoch 00053: val_loss did not improve from 0.21745\n",
      "\n",
      "Epoch 00054: val_loss did not improve from 0.21745\n",
      "\n",
      "Epoch 00055: val_loss did not improve from 0.21745\n",
      "\n",
      "Epoch 00056: val_loss did not improve from 0.21745\n",
      "4\n",
      "4170\n",
      "\n",
      "Epoch 00001: val_loss improved from inf to 0.67513, saving model to ./tmp/model4.h5\n",
      "\n",
      "Epoch 00002: val_loss improved from 0.67513 to 0.66094, saving model to ./tmp/model4.h5\n",
      "\n",
      "Epoch 00003: val_loss improved from 0.66094 to 0.65285, saving model to ./tmp/model4.h5\n",
      "\n",
      "Epoch 00004: val_loss improved from 0.65285 to 0.64946, saving model to ./tmp/model4.h5\n",
      "\n",
      "Epoch 00005: val_loss improved from 0.64946 to 0.64257, saving model to ./tmp/model4.h5\n",
      "\n",
      "Epoch 00006: val_loss improved from 0.64257 to 0.63495, saving model to ./tmp/model4.h5\n",
      "\n",
      "Epoch 00007: val_loss improved from 0.63495 to 0.63157, saving model to ./tmp/model4.h5\n",
      "\n",
      "Epoch 00008: val_loss improved from 0.63157 to 0.62594, saving model to ./tmp/model4.h5\n",
      "\n",
      "Epoch 00009: val_loss improved from 0.62594 to 0.62348, saving model to ./tmp/model4.h5\n",
      "\n",
      "Epoch 00010: val_loss improved from 0.62348 to 0.61737, saving model to ./tmp/model4.h5\n",
      "\n",
      "Epoch 00011: val_loss improved from 0.61737 to 0.61118, saving model to ./tmp/model4.h5\n",
      "\n",
      "Epoch 00012: val_loss improved from 0.61118 to 0.61030, saving model to ./tmp/model4.h5\n",
      "\n",
      "Epoch 00013: val_loss improved from 0.61030 to 0.60058, saving model to ./tmp/model4.h5\n",
      "\n",
      "Epoch 00014: val_loss improved from 0.60058 to 0.57492, saving model to ./tmp/model4.h5\n",
      "\n",
      "Epoch 00015: val_loss improved from 0.57492 to 0.56135, saving model to ./tmp/model4.h5\n",
      "\n",
      "Epoch 00016: val_loss improved from 0.56135 to 0.53970, saving model to ./tmp/model4.h5\n",
      "\n",
      "Epoch 00017: val_loss did not improve from 0.53970\n",
      "\n",
      "Epoch 00018: val_loss did not improve from 0.53970\n",
      "\n",
      "Epoch 00019: val_loss did not improve from 0.53970\n",
      "\n",
      "Epoch 00020: val_loss improved from 0.53970 to 0.48954, saving model to ./tmp/model4.h5\n",
      "\n",
      "Epoch 00021: val_loss improved from 0.48954 to 0.40104, saving model to ./tmp/model4.h5\n",
      "\n",
      "Epoch 00022: val_loss did not improve from 0.40104\n",
      "\n",
      "Epoch 00023: val_loss did not improve from 0.40104\n",
      "\n",
      "Epoch 00024: val_loss improved from 0.40104 to 0.34286, saving model to ./tmp/model4.h5\n",
      "\n",
      "Epoch 00025: val_loss did not improve from 0.34286\n",
      "\n",
      "Epoch 00026: val_loss did not improve from 0.34286\n",
      "\n",
      "Epoch 00027: val_loss improved from 0.34286 to 0.30720, saving model to ./tmp/model4.h5\n",
      "\n",
      "Epoch 00028: val_loss improved from 0.30720 to 0.26033, saving model to ./tmp/model4.h5\n",
      "\n",
      "Epoch 00029: val_loss did not improve from 0.26033\n",
      "\n",
      "Epoch 00030: val_loss did not improve from 0.26033\n",
      "\n",
      "Epoch 00031: val_loss did not improve from 0.26033\n",
      "\n",
      "Epoch 00032: val_loss did not improve from 0.26033\n",
      "\n",
      "Epoch 00033: val_loss did not improve from 0.26033\n",
      "\n",
      "Epoch 00034: val_loss did not improve from 0.26033\n",
      "\n",
      "Epoch 00035: val_loss did not improve from 0.26033\n",
      "\n",
      "Epoch 00036: val_loss did not improve from 0.26033\n",
      "\n",
      "Epoch 00037: val_loss did not improve from 0.26033\n",
      "\n",
      "Epoch 00038: val_loss improved from 0.26033 to 0.20588, saving model to ./tmp/model4.h5\n",
      "\n",
      "Epoch 00039: val_loss did not improve from 0.20588\n",
      "\n",
      "Epoch 00040: val_loss did not improve from 0.20588\n",
      "\n",
      "Epoch 00041: val_loss did not improve from 0.20588\n",
      "\n",
      "Epoch 00042: val_loss did not improve from 0.20588\n",
      "\n",
      "Epoch 00043: val_loss did not improve from 0.20588\n",
      "\n",
      "Epoch 00044: val_loss did not improve from 0.20588\n",
      "\n",
      "Epoch 00045: val_loss did not improve from 0.20588\n",
      "\n",
      "Epoch 00046: val_loss did not improve from 0.20588\n",
      "\n",
      "Epoch 00047: val_loss did not improve from 0.20588\n",
      "\n",
      "Epoch 00048: val_loss did not improve from 0.20588\n",
      "\n",
      "Epoch 00049: val_loss did not improve from 0.20588\n",
      "\n",
      "Epoch 00050: val_loss did not improve from 0.20588\n",
      "\n",
      "Epoch 00051: val_loss did not improve from 0.20588\n",
      "\n",
      "Epoch 00052: val_loss did not improve from 0.20588\n",
      "\n",
      "Epoch 00053: val_loss did not improve from 0.20588\n",
      "\n",
      "Epoch 00054: val_loss did not improve from 0.20588\n",
      "\n",
      "Epoch 00055: val_loss did not improve from 0.20588\n",
      "\n",
      "Epoch 00056: val_loss did not improve from 0.20588\n",
      "\n",
      "Epoch 00057: val_loss did not improve from 0.20588\n",
      "\n",
      "Epoch 00058: val_loss did not improve from 0.20588\n",
      "5\n",
      "4173\n",
      "\n",
      "Epoch 00001: val_loss improved from inf to 0.67754, saving model to ./tmp/model5.h5\n",
      "\n",
      "Epoch 00002: val_loss improved from 0.67754 to 0.66184, saving model to ./tmp/model5.h5\n",
      "\n",
      "Epoch 00003: val_loss improved from 0.66184 to 0.65390, saving model to ./tmp/model5.h5\n",
      "\n",
      "Epoch 00004: val_loss improved from 0.65390 to 0.64734, saving model to ./tmp/model5.h5\n",
      "\n",
      "Epoch 00005: val_loss improved from 0.64734 to 0.64476, saving model to ./tmp/model5.h5\n",
      "\n",
      "Epoch 00006: val_loss improved from 0.64476 to 0.63363, saving model to ./tmp/model5.h5\n",
      "\n",
      "Epoch 00007: val_loss did not improve from 0.63363\n",
      "\n",
      "Epoch 00008: val_loss improved from 0.63363 to 0.62772, saving model to ./tmp/model5.h5\n",
      "\n",
      "Epoch 00009: val_loss improved from 0.62772 to 0.61861, saving model to ./tmp/model5.h5\n",
      "\n",
      "Epoch 00010: val_loss did not improve from 0.61861\n",
      "\n",
      "Epoch 00011: val_loss did not improve from 0.61861\n",
      "\n",
      "Epoch 00012: val_loss improved from 0.61861 to 0.59606, saving model to ./tmp/model5.h5\n",
      "\n",
      "Epoch 00013: val_loss improved from 0.59606 to 0.55417, saving model to ./tmp/model5.h5\n",
      "\n",
      "Epoch 00014: val_loss improved from 0.55417 to 0.51284, saving model to ./tmp/model5.h5\n",
      "\n",
      "Epoch 00015: val_loss improved from 0.51284 to 0.50613, saving model to ./tmp/model5.h5\n",
      "\n",
      "Epoch 00016: val_loss did not improve from 0.50613\n",
      "\n",
      "Epoch 00017: val_loss improved from 0.50613 to 0.49067, saving model to ./tmp/model5.h5\n",
      "\n",
      "Epoch 00018: val_loss improved from 0.49067 to 0.48253, saving model to ./tmp/model5.h5\n",
      "\n",
      "Epoch 00019: val_loss did not improve from 0.48253\n",
      "\n",
      "Epoch 00020: val_loss improved from 0.48253 to 0.45179, saving model to ./tmp/model5.h5\n",
      "\n",
      "Epoch 00021: val_loss did not improve from 0.45179\n",
      "\n",
      "Epoch 00022: val_loss improved from 0.45179 to 0.43143, saving model to ./tmp/model5.h5\n",
      "\n",
      "Epoch 00023: val_loss improved from 0.43143 to 0.40305, saving model to ./tmp/model5.h5\n",
      "\n",
      "Epoch 00024: val_loss improved from 0.40305 to 0.35793, saving model to ./tmp/model5.h5\n",
      "\n",
      "Epoch 00025: val_loss improved from 0.35793 to 0.33141, saving model to ./tmp/model5.h5\n",
      "\n",
      "Epoch 00026: val_loss improved from 0.33141 to 0.21902, saving model to ./tmp/model5.h5\n",
      "\n",
      "Epoch 00027: val_loss improved from 0.21902 to 0.17930, saving model to ./tmp/model5.h5\n",
      "\n",
      "Epoch 00028: val_loss did not improve from 0.17930\n",
      "\n",
      "Epoch 00029: val_loss improved from 0.17930 to 0.16338, saving model to ./tmp/model5.h5\n",
      "\n",
      "Epoch 00030: val_loss did not improve from 0.16338\n",
      "\n",
      "Epoch 00031: val_loss did not improve from 0.16338\n",
      "\n",
      "Epoch 00032: val_loss did not improve from 0.16338\n",
      "\n",
      "Epoch 00033: val_loss did not improve from 0.16338\n",
      "\n",
      "Epoch 00034: val_loss did not improve from 0.16338\n",
      "\n",
      "Epoch 00035: val_loss did not improve from 0.16338\n",
      "\n",
      "Epoch 00036: val_loss did not improve from 0.16338\n",
      "\n",
      "Epoch 00037: val_loss did not improve from 0.16338\n",
      "\n",
      "Epoch 00038: val_loss did not improve from 0.16338\n",
      "\n",
      "Epoch 00039: val_loss did not improve from 0.16338\n",
      "\n",
      "Epoch 00040: val_loss did not improve from 0.16338\n",
      "\n",
      "Epoch 00041: val_loss did not improve from 0.16338\n",
      "\n",
      "Epoch 00042: val_loss did not improve from 0.16338\n",
      "\n",
      "Epoch 00043: val_loss did not improve from 0.16338\n",
      "\n",
      "Epoch 00044: val_loss did not improve from 0.16338\n",
      "\n",
      "Epoch 00045: val_loss did not improve from 0.16338\n",
      "\n",
      "Epoch 00046: val_loss did not improve from 0.16338\n",
      "\n",
      "Epoch 00047: val_loss did not improve from 0.16338\n",
      "\n",
      "Epoch 00048: val_loss did not improve from 0.16338\n",
      "\n",
      "Epoch 00049: val_loss did not improve from 0.16338\n"
     ]
    }
   ],
   "source": [
    "f1_scores = []\n",
    "acc = []\n",
    "rp = []\n",
    "kfold = StratifiedKFold(n_splits=5, shuffle=False, \n",
    "#                         random_state=1234,\n",
    "                       )\n",
    "i=1\n",
    "for train_ids, test_ids in kfold.split(X, y):\n",
    "    print(i)\n",
    "    X_train, X_test, y_train, y_test = split_data(X[train_ids], X[test_ids], y[train_ids], y[test_ids], 'under')\n",
    "    print(len(X_train))\n",
    "    pred_eegnet = train_predict_eegnet(i)\n",
    "#     pred_shallow = train_predict_shallownet()\n",
    "\n",
    "#     f1_scores.append(f1_score(y_test.argmax(axis=1),pred_eegnet.argmax(axis=1), average='macro'))\n",
    "    pred_svm = train_predict_svm(i)\n",
    "\n",
    "    pred_knn = train_predict_knn(i)\n",
    "    d = d.append({\n",
    "#         'EEGNet':0,\n",
    "        'EEGNET':f1_score(y_test.argmax(axis=1),pred_eegnet.argmax(axis=1), average='macro'),\n",
    "#                   'ShallowConvNet':f1_score(y_test.argmax(axis=1),pred_shallow.argmax(axis=1), average='macro'),\n",
    "                  'SVM':f1_score(y_test.argmax(axis=1),pred_svm, average='macro'), \n",
    "                  'KNN':f1_score(y_test.argmax(axis=1),pred_knn, average='macro'),\n",
    "#                 'SVM':0, \n",
    "#                   'KNN':0,\n",
    "#         'ACC':0,\n",
    "                 'ACC':accuracy_score(y_true=y_test.argmax(axis=1),y_pred=pred_eegnet.argmax(axis=1))\n",
    "                 }, ignore_index=True)\n",
    "    write_report(i)\n",
    "    i+=1"
   ]
  },
  {
   "cell_type": "code",
   "execution_count": 34,
   "id": "f868f145",
   "metadata": {
    "execution": {
     "iopub.execute_input": "2022-08-01T08:19:07.070754Z",
     "iopub.status.busy": "2022-08-01T08:19:07.070011Z",
     "iopub.status.idle": "2022-08-01T08:19:07.077588Z",
     "shell.execute_reply": "2022-08-01T08:19:07.078640Z",
     "shell.execute_reply.started": "2022-08-01T04:37:21.202010Z"
    },
    "papermill": {
     "duration": 0.544548,
     "end_time": "2022-08-01T08:19:07.078893",
     "exception": false,
     "start_time": "2022-08-01T08:19:06.534345",
     "status": "completed"
    },
    "tags": []
   },
   "outputs": [
    {
     "name": "stdout",
     "output_type": "stream",
     "text": [
      "Lần 1: F3 F7 FC3 C3 C5 Fz F4 F8 FC4 FCz Cz C4 C6\n",
      " EEGNet\n",
      "              precision    recall  f1-score   support\n",
      "\n",
      "           0       0.57      0.12      0.20       347\n",
      "           1       0.90      0.99      0.94      2746\n",
      "\n",
      "   micro avg       0.89      0.89      0.89      3093\n",
      "   macro avg       0.73      0.56      0.57      3093\n",
      "weighted avg       0.86      0.89      0.86      3093\n",
      " samples avg       0.89      0.89      0.89      3093\n",
      "\n",
      " SVM\n",
      "              precision    recall  f1-score   support\n",
      "\n",
      "           0       0.57      0.56      0.56       347\n",
      "           1       0.94      0.95      0.95      2746\n",
      "\n",
      "    accuracy                           0.90      3093\n",
      "   macro avg       0.76      0.75      0.75      3093\n",
      "weighted avg       0.90      0.90      0.90      3093\n",
      "\n",
      "KNN\n",
      "              precision    recall  f1-score   support\n",
      "\n",
      "           0       0.37      0.50      0.43       347\n",
      "           1       0.93      0.89      0.91      2746\n",
      "\n",
      "    accuracy                           0.85      3093\n",
      "   macro avg       0.65      0.70      0.67      3093\n",
      "weighted avg       0.87      0.85      0.86      3093\n",
      "Lần 2: F3 F7 FC3 C3 C5 Fz F4 F8 FC4 FCz Cz C4 C6\n",
      " EEGNet\n",
      "              precision    recall  f1-score   support\n",
      "\n",
      "           0       0.50      0.62      0.55       348\n",
      "           1       0.95      0.92      0.94      2745\n",
      "\n",
      "   micro avg       0.89      0.89      0.89      3093\n",
      "   macro avg       0.72      0.77      0.74      3093\n",
      "weighted avg       0.90      0.89      0.89      3093\n",
      " samples avg       0.89      0.89      0.89      3093\n",
      "\n",
      " SVM\n",
      "              precision    recall  f1-score   support\n",
      "\n",
      "           0       0.47      0.68      0.55       348\n",
      "           1       0.96      0.90      0.93      2745\n",
      "\n",
      "    accuracy                           0.88      3093\n",
      "   macro avg       0.71      0.79      0.74      3093\n",
      "weighted avg       0.90      0.88      0.89      3093\n",
      "\n",
      "KNN\n",
      "              precision    recall  f1-score   support\n",
      "\n",
      "           0       0.38      0.50      0.43       348\n",
      "           1       0.93      0.89      0.91      2745\n",
      "\n",
      "    accuracy                           0.85      3093\n",
      "   macro avg       0.65      0.70      0.67      3093\n",
      "weighted avg       0.87      0.85      0.86      3093\n",
      "Lần 3: F3 F7 FC3 C3 C5 Fz F4 F8 FC4 FCz Cz C4 C6\n",
      " EEGNet\n",
      "              precision    recall  f1-score   support\n",
      "\n",
      "           0       0.69      0.47      0.56       348\n",
      "           1       0.94      0.97      0.95      2745\n",
      "\n",
      "   micro avg       0.92      0.92      0.92      3093\n",
      "   macro avg       0.81      0.72      0.76      3093\n",
      "weighted avg       0.91      0.92      0.91      3093\n",
      " samples avg       0.92      0.92      0.92      3093\n",
      "\n",
      " SVM\n",
      "              precision    recall  f1-score   support\n",
      "\n",
      "           0       0.52      0.78      0.62       348\n",
      "           1       0.97      0.91      0.94      2745\n",
      "\n",
      "    accuracy                           0.89      3093\n",
      "   macro avg       0.74      0.84      0.78      3093\n",
      "weighted avg       0.92      0.89      0.90      3093\n",
      "\n",
      "KNN\n",
      "              precision    recall  f1-score   support\n",
      "\n",
      "           0       0.31      0.70      0.43       348\n",
      "           1       0.95      0.80      0.87      2745\n",
      "\n",
      "    accuracy                           0.79      3093\n",
      "   macro avg       0.63      0.75      0.65      3093\n",
      "weighted avg       0.88      0.79      0.82      3093\n",
      "Lần 4: F3 F7 FC3 C3 C5 Fz F4 F8 FC4 FCz Cz C4 C6\n",
      " EEGNet\n",
      "              precision    recall  f1-score   support\n",
      "\n",
      "           0       0.54      0.49      0.52       348\n",
      "           1       0.94      0.95      0.94      2745\n",
      "\n",
      "   micro avg       0.90      0.90      0.90      3093\n",
      "   macro avg       0.74      0.72      0.73      3093\n",
      "weighted avg       0.89      0.90      0.89      3093\n",
      " samples avg       0.90      0.90      0.90      3093\n",
      "\n",
      " SVM\n",
      "              precision    recall  f1-score   support\n",
      "\n",
      "           0       0.51      0.64      0.57       348\n",
      "           1       0.95      0.92      0.94      2745\n",
      "\n",
      "    accuracy                           0.89      3093\n",
      "   macro avg       0.73      0.78      0.75      3093\n",
      "weighted avg       0.90      0.89      0.90      3093\n",
      "\n",
      "KNN\n",
      "              precision    recall  f1-score   support\n",
      "\n",
      "           0       0.35      0.53      0.42       348\n",
      "           1       0.94      0.87      0.90      2745\n",
      "\n",
      "    accuracy                           0.83      3093\n",
      "   macro avg       0.64      0.70      0.66      3093\n",
      "weighted avg       0.87      0.83      0.85      3093\n",
      "Lần 5: F3 F7 FC3 C3 C5 Fz F4 F8 FC4 FCz Cz C4 C6\n",
      " EEGNet\n",
      "              precision    recall  f1-score   support\n",
      "\n",
      "           0       0.55      0.23      0.32       347\n",
      "           1       0.91      0.98      0.94      2745\n",
      "\n",
      "   micro avg       0.89      0.89      0.89      3092\n",
      "   macro avg       0.73      0.60      0.63      3092\n",
      "weighted avg       0.87      0.89      0.87      3092\n",
      " samples avg       0.89      0.89      0.89      3092\n",
      "\n",
      " SVM\n",
      "              precision    recall  f1-score   support\n",
      "\n",
      "           0       0.51      0.72      0.60       347\n",
      "           1       0.96      0.91      0.94      2745\n",
      "\n",
      "    accuracy                           0.89      3092\n",
      "   macro avg       0.74      0.82      0.77      3092\n",
      "weighted avg       0.91      0.89      0.90      3092\n",
      "\n",
      "KNN\n",
      "              precision    recall  f1-score   support\n",
      "\n",
      "           0       0.34      0.57      0.42       347\n",
      "           1       0.94      0.86      0.90      2745\n",
      "\n",
      "    accuracy                           0.83      3092\n",
      "   macro avg       0.64      0.71      0.66      3092\n",
      "weighted avg       0.87      0.83      0.84      3092\n",
      "\n"
     ]
    }
   ],
   "source": [
    "f = open('readme.txt', 'r')\n",
    "print(f.read())\n",
    "f.close()"
   ]
  },
  {
   "cell_type": "code",
   "execution_count": 35,
   "id": "a08680c7",
   "metadata": {
    "execution": {
     "iopub.execute_input": "2022-08-01T08:19:08.139503Z",
     "iopub.status.busy": "2022-08-01T08:19:08.138770Z",
     "iopub.status.idle": "2022-08-01T08:19:08.142010Z",
     "shell.execute_reply": "2022-08-01T08:19:08.142809Z",
     "shell.execute_reply.started": "2022-08-01T04:37:21.203713Z"
    },
    "papermill": {
     "duration": 0.535055,
     "end_time": "2022-08-01T08:19:08.143007",
     "exception": false,
     "start_time": "2022-08-01T08:19:07.607952",
     "status": "completed"
    },
    "tags": []
   },
   "outputs": [],
   "source": [
    "# f = open (\"readme.txt\", 'w') \n",
    "# f.close ()"
   ]
  },
  {
   "cell_type": "code",
   "execution_count": 36,
   "id": "b425aafc",
   "metadata": {
    "execution": {
     "iopub.execute_input": "2022-08-01T08:19:09.219929Z",
     "iopub.status.busy": "2022-08-01T08:19:09.218865Z",
     "iopub.status.idle": "2022-08-01T08:19:09.249561Z",
     "shell.execute_reply": "2022-08-01T08:19:09.250082Z",
     "shell.execute_reply.started": "2022-08-01T04:37:21.205439Z"
    },
    "papermill": {
     "duration": 0.567179,
     "end_time": "2022-08-01T08:19:09.250279",
     "exception": false,
     "start_time": "2022-08-01T08:19:08.683100",
     "status": "completed"
    },
    "tags": []
   },
   "outputs": [
    {
     "data": {
      "text/html": [
       "<div>\n",
       "<style scoped>\n",
       "    .dataframe tbody tr th:only-of-type {\n",
       "        vertical-align: middle;\n",
       "    }\n",
       "\n",
       "    .dataframe tbody tr th {\n",
       "        vertical-align: top;\n",
       "    }\n",
       "\n",
       "    .dataframe thead th {\n",
       "        text-align: right;\n",
       "    }\n",
       "</style>\n",
       "<table border=\"1\" class=\"dataframe\">\n",
       "  <thead>\n",
       "    <tr style=\"text-align: right;\">\n",
       "      <th></th>\n",
       "      <th>EEGNET</th>\n",
       "      <th>SVM</th>\n",
       "      <th>KNN</th>\n",
       "      <th>ACC</th>\n",
       "    </tr>\n",
       "  </thead>\n",
       "  <tbody>\n",
       "    <tr>\n",
       "      <th>0</th>\n",
       "      <td>0.572417</td>\n",
       "      <td>0.754811</td>\n",
       "      <td>0.670425</td>\n",
       "      <td>0.891044</td>\n",
       "    </tr>\n",
       "    <tr>\n",
       "      <th>1</th>\n",
       "      <td>0.744390</td>\n",
       "      <td>0.741716</td>\n",
       "      <td>0.671480</td>\n",
       "      <td>0.886841</td>\n",
       "    </tr>\n",
       "    <tr>\n",
       "      <th>2</th>\n",
       "      <td>0.757568</td>\n",
       "      <td>0.780644</td>\n",
       "      <td>0.649673</td>\n",
       "      <td>0.916586</td>\n",
       "    </tr>\n",
       "    <tr>\n",
       "      <th>3</th>\n",
       "      <td>0.729344</td>\n",
       "      <td>0.752234</td>\n",
       "      <td>0.661782</td>\n",
       "      <td>0.896541</td>\n",
       "    </tr>\n",
       "    <tr>\n",
       "      <th>4</th>\n",
       "      <td>0.631650</td>\n",
       "      <td>0.767173</td>\n",
       "      <td>0.661418</td>\n",
       "      <td>0.892303</td>\n",
       "    </tr>\n",
       "  </tbody>\n",
       "</table>\n",
       "</div>"
      ],
      "text/plain": [
       "     EEGNET       SVM       KNN       ACC\n",
       "0  0.572417  0.754811  0.670425  0.891044\n",
       "1  0.744390  0.741716  0.671480  0.886841\n",
       "2  0.757568  0.780644  0.649673  0.916586\n",
       "3  0.729344  0.752234  0.661782  0.896541\n",
       "4  0.631650  0.767173  0.661418  0.892303"
      ]
     },
     "execution_count": 36,
     "metadata": {},
     "output_type": "execute_result"
    }
   ],
   "source": [
    "d"
   ]
  },
  {
   "cell_type": "code",
   "execution_count": null,
   "id": "d789d8e3",
   "metadata": {
    "papermill": {
     "duration": 0.532693,
     "end_time": "2022-08-01T08:19:10.318708",
     "exception": false,
     "start_time": "2022-08-01T08:19:09.786015",
     "status": "completed"
    },
    "tags": []
   },
   "outputs": [],
   "source": []
  }
 ],
 "metadata": {
  "kernelspec": {
   "display_name": "Python 3",
   "language": "python",
   "name": "python3"
  },
  "language_info": {
   "codemirror_mode": {
    "name": "ipython",
    "version": 3
   },
   "file_extension": ".py",
   "mimetype": "text/x-python",
   "name": "python",
   "nbconvert_exporter": "python",
   "pygments_lexer": "ipython3",
   "version": "3.7.12"
  },
  "papermill": {
   "default_parameters": {},
   "duration": 1329.035413,
   "end_time": "2022-08-01T08:19:14.101520",
   "environment_variables": {},
   "exception": null,
   "input_path": "__notebook__.ipynb",
   "output_path": "__notebook__.ipynb",
   "parameters": {},
   "start_time": "2022-08-01T07:57:05.066107",
   "version": "2.3.3"
  }
 },
 "nbformat": 4,
 "nbformat_minor": 5
}
